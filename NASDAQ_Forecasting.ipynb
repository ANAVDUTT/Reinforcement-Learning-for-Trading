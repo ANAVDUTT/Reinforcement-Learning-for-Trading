{
  "nbformat": 4,
  "nbformat_minor": 0,
  "metadata": {
    "kernelspec": {
      "display_name": "Python 3",
      "language": "python",
      "name": "python3"
    },
    "language_info": {
      "codemirror_mode": {
        "name": "ipython",
        "version": 3
      },
      "file_extension": ".py",
      "mimetype": "text/x-python",
      "name": "python",
      "nbconvert_exporter": "python",
      "pygments_lexer": "ipython3",
      "version": "3.7.6"
    },
    "papermill": {
      "duration": 1727.940343,
      "end_time": "2020-10-02T16:07:27.538517",
      "environment_variables": {},
      "exception": null,
      "input_path": "__notebook__.ipynb",
      "output_path": "__notebook__.ipynb",
      "parameters": {},
      "start_time": "2020-10-02T15:38:39.598174",
      "version": "2.1.0"
    },
    "colab": {
      "provenance": [],
      "collapsed_sections": [
        "js_eSM3yJ7nP",
        "PV7LAC1aJ7ng",
        "5wHzHl9lJ7nh",
        "ssAcIQX3J7nh",
        "56nabGbkJ7nk",
        "6STtOhX6J7nm",
        "b9HpRTwaJ7n-",
        "YrjHx2y6J7oD"
      ],
      "include_colab_link": true
    }
  },
  "cells": [
    {
      "cell_type": "markdown",
      "metadata": {
        "id": "view-in-github",
        "colab_type": "text"
      },
      "source": [
        "<a href=\"https://colab.research.google.com/github/ANAVDUTT/Time-Series-Forecasting-Project---Anav-Dutt-Senior-Seminar-Fall-2021/blob/main/NASDAQ_Forecasting.ipynb\" target=\"_parent\"><img src=\"https://colab.research.google.com/assets/colab-badge.svg\" alt=\"Open In Colab\"/></a>"
      ]
    },
    {
      "cell_type": "markdown",
      "metadata": {
        "papermill": {
          "duration": 0.119502,
          "end_time": "2020-10-02T15:38:45.284799",
          "exception": false,
          "start_time": "2020-10-02T15:38:45.165297",
          "status": "completed"
        },
        "tags": [],
        "id": "OsO7edrIJ7m4"
      },
      "source": [
        "***Welcome to this notebook!***\n",
        "\n",
        "Feel free to fork for your own learning and edit the code or use in your own submissions. If you found this notebook enriched and helps improving your learning in the slightest, please ***Upvote*** this notebook as an encouragement for me to continue writing notebooks! :)"
      ]
    },
    {
      "cell_type": "markdown",
      "metadata": {
        "papermill": {
          "duration": 0.110362,
          "end_time": "2020-10-02T15:38:45.513298",
          "exception": false,
          "start_time": "2020-10-02T15:38:45.402936",
          "status": "completed"
        },
        "tags": [],
        "id": "I9CciiRyJ7m_"
      },
      "source": [
        "# Table of Contents\n",
        "\n",
        "* [Introduction](#section-one)\n",
        "    - [First look](#subsection-one)\n",
        "* [Handling Missing Values](#section-two)\n",
        "* [Exploratory Data Analysis](#section-three)\n",
        "    - [Lag Plots](#subsection-two)\n",
        "    - [Time Resampling](#subsection-three)\n",
        "* [Time Series Decomposition & Statistical Tests](#section-four)\n",
        "    - [KPSS Test](#subsection-four)\n",
        "    - [ADF Test](#subsection-five)\n",
        "* [Feature Extraction](#section-five)\n",
        "* [Model Building](#section-six)\n",
        "    - [ARIMA](#subsection-six)\n",
        "    - [FB Prophet](#subsection-seven)\n",
        "    - [XG Boost](#subsection-eight)\n",
        "    - [LSTM](#subsection-nine)\n",
        "* [Model Selection](#section-seven)\n",
        "* [Next Steps](#section-eight)"
      ]
    },
    {
      "cell_type": "markdown",
      "metadata": {
        "papermill": {
          "duration": 0.110354,
          "end_time": "2020-10-02T15:38:45.734578",
          "exception": false,
          "start_time": "2020-10-02T15:38:45.624224",
          "status": "completed"
        },
        "tags": [],
        "id": "ldklLiJOJ7nC"
      },
      "source": [
        " <a id=\"section-one\"></a>\n",
        "# Introduction \n",
        "\n",
        "The first Bitcoin protocol and proof of concept was published in a Whitepaper in 2009 by a shadowy individual or group under the pseudonym Satoshi Nakamoto. Nakamoto, left the project in late 2010. Other developers took over and the Bitcoin community has since grown exponentially.\n",
        "\n",
        "Bitcoin emerged out of the 2008 global economic crisis when big banks were caught misusing borrowers' money, manipulating the system, and charging exorbitant fees. To address such issues, Bitcoin creators wanted to put the owners of bitcoins in-charge of the transactions, eliminate the middleman, cut high interest rates and transaction fees, and make transactions transparent. They created a distributed network system, where people could control their funds in a transparent way.\n",
        "\n",
        "However, there are issues with bitcoins such as hackers breaking into accounts, high volatility of bitcoins, and long transaction delays. Considering the volatility it's always challenging to predict the bitcoin price. \n",
        "\n",
        "In this notebook, we will be deep diving into the dataset, perform some EDA, feature engineering and will predict bitcoin price using Stochastic, Machine Learning and Deep Learning models. "
      ]
    },
    {
      "cell_type": "code",
      "metadata": {
        "colab": {
          "base_uri": "https://localhost:8080/"
        },
        "id": "cnFwp9xQE-DG",
        "outputId": "ac39e27e-c10a-44f6-ea81-584c0420da51"
      },
      "source": [
        "!pip install pmdarima"
      ],
      "execution_count": null,
      "outputs": [
        {
          "output_type": "stream",
          "name": "stdout",
          "text": [
            "Collecting pmdarima\n",
            "  Downloading pmdarima-1.8.4-cp37-cp37m-manylinux_2_17_x86_64.manylinux2014_x86_64.manylinux_2_24_x86_64.whl (1.4 MB)\n",
            "\u001b[?25l\r\u001b[K     |▎                               | 10 kB 28.1 MB/s eta 0:00:01\r\u001b[K     |▌                               | 20 kB 37.6 MB/s eta 0:00:01\r\u001b[K     |▊                               | 30 kB 27.5 MB/s eta 0:00:01\r\u001b[K     |█                               | 40 kB 20.9 MB/s eta 0:00:01\r\u001b[K     |█▏                              | 51 kB 12.0 MB/s eta 0:00:01\r\u001b[K     |█▍                              | 61 kB 13.4 MB/s eta 0:00:01\r\u001b[K     |█▋                              | 71 kB 14.3 MB/s eta 0:00:01\r\u001b[K     |██                              | 81 kB 16.0 MB/s eta 0:00:01\r\u001b[K     |██▏                             | 92 kB 10.9 MB/s eta 0:00:01\r\u001b[K     |██▍                             | 102 kB 11.9 MB/s eta 0:00:01\r\u001b[K     |██▋                             | 112 kB 11.9 MB/s eta 0:00:01\r\u001b[K     |██▉                             | 122 kB 11.9 MB/s eta 0:00:01\r\u001b[K     |███                             | 133 kB 11.9 MB/s eta 0:00:01\r\u001b[K     |███▎                            | 143 kB 11.9 MB/s eta 0:00:01\r\u001b[K     |███▌                            | 153 kB 11.9 MB/s eta 0:00:01\r\u001b[K     |███▉                            | 163 kB 11.9 MB/s eta 0:00:01\r\u001b[K     |████                            | 174 kB 11.9 MB/s eta 0:00:01\r\u001b[K     |████▎                           | 184 kB 11.9 MB/s eta 0:00:01\r\u001b[K     |████▌                           | 194 kB 11.9 MB/s eta 0:00:01\r\u001b[K     |████▊                           | 204 kB 11.9 MB/s eta 0:00:01\r\u001b[K     |█████                           | 215 kB 11.9 MB/s eta 0:00:01\r\u001b[K     |█████▏                          | 225 kB 11.9 MB/s eta 0:00:01\r\u001b[K     |█████▌                          | 235 kB 11.9 MB/s eta 0:00:01\r\u001b[K     |█████▊                          | 245 kB 11.9 MB/s eta 0:00:01\r\u001b[K     |██████                          | 256 kB 11.9 MB/s eta 0:00:01\r\u001b[K     |██████▏                         | 266 kB 11.9 MB/s eta 0:00:01\r\u001b[K     |██████▍                         | 276 kB 11.9 MB/s eta 0:00:01\r\u001b[K     |██████▋                         | 286 kB 11.9 MB/s eta 0:00:01\r\u001b[K     |██████▉                         | 296 kB 11.9 MB/s eta 0:00:01\r\u001b[K     |███████                         | 307 kB 11.9 MB/s eta 0:00:01\r\u001b[K     |███████▍                        | 317 kB 11.9 MB/s eta 0:00:01\r\u001b[K     |███████▋                        | 327 kB 11.9 MB/s eta 0:00:01\r\u001b[K     |███████▉                        | 337 kB 11.9 MB/s eta 0:00:01\r\u001b[K     |████████                        | 348 kB 11.9 MB/s eta 0:00:01\r\u001b[K     |████████▎                       | 358 kB 11.9 MB/s eta 0:00:01\r\u001b[K     |████████▌                       | 368 kB 11.9 MB/s eta 0:00:01\r\u001b[K     |████████▊                       | 378 kB 11.9 MB/s eta 0:00:01\r\u001b[K     |█████████                       | 389 kB 11.9 MB/s eta 0:00:01\r\u001b[K     |█████████▎                      | 399 kB 11.9 MB/s eta 0:00:01\r\u001b[K     |█████████▌                      | 409 kB 11.9 MB/s eta 0:00:01\r\u001b[K     |█████████▊                      | 419 kB 11.9 MB/s eta 0:00:01\r\u001b[K     |██████████                      | 430 kB 11.9 MB/s eta 0:00:01\r\u001b[K     |██████████▏                     | 440 kB 11.9 MB/s eta 0:00:01\r\u001b[K     |██████████▍                     | 450 kB 11.9 MB/s eta 0:00:01\r\u001b[K     |██████████▋                     | 460 kB 11.9 MB/s eta 0:00:01\r\u001b[K     |███████████                     | 471 kB 11.9 MB/s eta 0:00:01\r\u001b[K     |███████████▏                    | 481 kB 11.9 MB/s eta 0:00:01\r\u001b[K     |███████████▍                    | 491 kB 11.9 MB/s eta 0:00:01\r\u001b[K     |███████████▋                    | 501 kB 11.9 MB/s eta 0:00:01\r\u001b[K     |███████████▉                    | 512 kB 11.9 MB/s eta 0:00:01\r\u001b[K     |████████████                    | 522 kB 11.9 MB/s eta 0:00:01\r\u001b[K     |████████████▎                   | 532 kB 11.9 MB/s eta 0:00:01\r\u001b[K     |████████████▌                   | 542 kB 11.9 MB/s eta 0:00:01\r\u001b[K     |████████████▉                   | 552 kB 11.9 MB/s eta 0:00:01\r\u001b[K     |█████████████                   | 563 kB 11.9 MB/s eta 0:00:01\r\u001b[K     |█████████████▎                  | 573 kB 11.9 MB/s eta 0:00:01\r\u001b[K     |█████████████▌                  | 583 kB 11.9 MB/s eta 0:00:01\r\u001b[K     |█████████████▊                  | 593 kB 11.9 MB/s eta 0:00:01\r\u001b[K     |██████████████                  | 604 kB 11.9 MB/s eta 0:00:01\r\u001b[K     |██████████████▏                 | 614 kB 11.9 MB/s eta 0:00:01\r\u001b[K     |██████████████▍                 | 624 kB 11.9 MB/s eta 0:00:01\r\u001b[K     |██████████████▊                 | 634 kB 11.9 MB/s eta 0:00:01\r\u001b[K     |███████████████                 | 645 kB 11.9 MB/s eta 0:00:01\r\u001b[K     |███████████████▏                | 655 kB 11.9 MB/s eta 0:00:01\r\u001b[K     |███████████████▍                | 665 kB 11.9 MB/s eta 0:00:01\r\u001b[K     |███████████████▋                | 675 kB 11.9 MB/s eta 0:00:01\r\u001b[K     |███████████████▉                | 686 kB 11.9 MB/s eta 0:00:01\r\u001b[K     |████████████████                | 696 kB 11.9 MB/s eta 0:00:01\r\u001b[K     |████████████████▍               | 706 kB 11.9 MB/s eta 0:00:01\r\u001b[K     |████████████████▋               | 716 kB 11.9 MB/s eta 0:00:01\r\u001b[K     |████████████████▉               | 727 kB 11.9 MB/s eta 0:00:01\r\u001b[K     |█████████████████               | 737 kB 11.9 MB/s eta 0:00:01\r\u001b[K     |█████████████████▎              | 747 kB 11.9 MB/s eta 0:00:01\r\u001b[K     |█████████████████▌              | 757 kB 11.9 MB/s eta 0:00:01\r\u001b[K     |█████████████████▊              | 768 kB 11.9 MB/s eta 0:00:01\r\u001b[K     |██████████████████              | 778 kB 11.9 MB/s eta 0:00:01\r\u001b[K     |██████████████████▎             | 788 kB 11.9 MB/s eta 0:00:01\r\u001b[K     |██████████████████▌             | 798 kB 11.9 MB/s eta 0:00:01\r\u001b[K     |██████████████████▊             | 808 kB 11.9 MB/s eta 0:00:01\r\u001b[K     |███████████████████             | 819 kB 11.9 MB/s eta 0:00:01\r\u001b[K     |███████████████████▏            | 829 kB 11.9 MB/s eta 0:00:01\r\u001b[K     |███████████████████▍            | 839 kB 11.9 MB/s eta 0:00:01\r\u001b[K     |███████████████████▋            | 849 kB 11.9 MB/s eta 0:00:01\r\u001b[K     |███████████████████▉            | 860 kB 11.9 MB/s eta 0:00:01\r\u001b[K     |████████████████████▏           | 870 kB 11.9 MB/s eta 0:00:01\r\u001b[K     |████████████████████▍           | 880 kB 11.9 MB/s eta 0:00:01\r\u001b[K     |████████████████████▋           | 890 kB 11.9 MB/s eta 0:00:01\r\u001b[K     |████████████████████▉           | 901 kB 11.9 MB/s eta 0:00:01\r\u001b[K     |█████████████████████           | 911 kB 11.9 MB/s eta 0:00:01\r\u001b[K     |█████████████████████▎          | 921 kB 11.9 MB/s eta 0:00:01\r\u001b[K     |█████████████████████▌          | 931 kB 11.9 MB/s eta 0:00:01\r\u001b[K     |█████████████████████▉          | 942 kB 11.9 MB/s eta 0:00:01\r\u001b[K     |██████████████████████          | 952 kB 11.9 MB/s eta 0:00:01\r\u001b[K     |██████████████████████▎         | 962 kB 11.9 MB/s eta 0:00:01\r\u001b[K     |██████████████████████▌         | 972 kB 11.9 MB/s eta 0:00:01\r\u001b[K     |██████████████████████▊         | 983 kB 11.9 MB/s eta 0:00:01\r\u001b[K     |███████████████████████         | 993 kB 11.9 MB/s eta 0:00:01\r\u001b[K     |███████████████████████▏        | 1.0 MB 11.9 MB/s eta 0:00:01\r\u001b[K     |███████████████████████▍        | 1.0 MB 11.9 MB/s eta 0:00:01\r\u001b[K     |███████████████████████▊        | 1.0 MB 11.9 MB/s eta 0:00:01\r\u001b[K     |████████████████████████        | 1.0 MB 11.9 MB/s eta 0:00:01\r\u001b[K     |████████████████████████▏       | 1.0 MB 11.9 MB/s eta 0:00:01\r\u001b[K     |████████████████████████▍       | 1.1 MB 11.9 MB/s eta 0:00:01\r\u001b[K     |████████████████████████▋       | 1.1 MB 11.9 MB/s eta 0:00:01\r\u001b[K     |████████████████████████▉       | 1.1 MB 11.9 MB/s eta 0:00:01\r\u001b[K     |█████████████████████████       | 1.1 MB 11.9 MB/s eta 0:00:01\r\u001b[K     |█████████████████████████▎      | 1.1 MB 11.9 MB/s eta 0:00:01\r\u001b[K     |█████████████████████████▋      | 1.1 MB 11.9 MB/s eta 0:00:01\r\u001b[K     |█████████████████████████▉      | 1.1 MB 11.9 MB/s eta 0:00:01\r\u001b[K     |██████████████████████████      | 1.1 MB 11.9 MB/s eta 0:00:01\r\u001b[K     |██████████████████████████▎     | 1.1 MB 11.9 MB/s eta 0:00:01\r\u001b[K     |██████████████████████████▌     | 1.1 MB 11.9 MB/s eta 0:00:01\r\u001b[K     |██████████████████████████▊     | 1.2 MB 11.9 MB/s eta 0:00:01\r\u001b[K     |███████████████████████████     | 1.2 MB 11.9 MB/s eta 0:00:01\r\u001b[K     |███████████████████████████▎    | 1.2 MB 11.9 MB/s eta 0:00:01\r\u001b[K     |███████████████████████████▌    | 1.2 MB 11.9 MB/s eta 0:00:01\r\u001b[K     |███████████████████████████▊    | 1.2 MB 11.9 MB/s eta 0:00:01\r\u001b[K     |████████████████████████████    | 1.2 MB 11.9 MB/s eta 0:00:01\r\u001b[K     |████████████████████████████▏   | 1.2 MB 11.9 MB/s eta 0:00:01\r\u001b[K     |████████████████████████████▍   | 1.2 MB 11.9 MB/s eta 0:00:01\r\u001b[K     |████████████████████████████▋   | 1.2 MB 11.9 MB/s eta 0:00:01\r\u001b[K     |████████████████████████████▉   | 1.2 MB 11.9 MB/s eta 0:00:01\r\u001b[K     |█████████████████████████████▏  | 1.3 MB 11.9 MB/s eta 0:00:01\r\u001b[K     |█████████████████████████████▍  | 1.3 MB 11.9 MB/s eta 0:00:01\r\u001b[K     |█████████████████████████████▋  | 1.3 MB 11.9 MB/s eta 0:00:01\r\u001b[K     |█████████████████████████████▉  | 1.3 MB 11.9 MB/s eta 0:00:01\r\u001b[K     |██████████████████████████████  | 1.3 MB 11.9 MB/s eta 0:00:01\r\u001b[K     |██████████████████████████████▎ | 1.3 MB 11.9 MB/s eta 0:00:01\r\u001b[K     |██████████████████████████████▌ | 1.3 MB 11.9 MB/s eta 0:00:01\r\u001b[K     |██████████████████████████████▊ | 1.3 MB 11.9 MB/s eta 0:00:01\r\u001b[K     |███████████████████████████████ | 1.3 MB 11.9 MB/s eta 0:00:01\r\u001b[K     |███████████████████████████████▎| 1.4 MB 11.9 MB/s eta 0:00:01\r\u001b[K     |███████████████████████████████▌| 1.4 MB 11.9 MB/s eta 0:00:01\r\u001b[K     |███████████████████████████████▊| 1.4 MB 11.9 MB/s eta 0:00:01\r\u001b[K     |████████████████████████████████| 1.4 MB 11.9 MB/s eta 0:00:01\r\u001b[K     |████████████████████████████████| 1.4 MB 11.9 MB/s \n",
            "\u001b[?25hRequirement already satisfied: numpy>=1.19.3 in /usr/local/lib/python3.7/dist-packages (from pmdarima) (1.19.5)\n",
            "Requirement already satisfied: scipy>=1.3.2 in /usr/local/lib/python3.7/dist-packages (from pmdarima) (1.4.1)\n",
            "Collecting statsmodels!=0.12.0,>=0.11\n",
            "  Downloading statsmodels-0.13.1-cp37-cp37m-manylinux_2_17_x86_64.manylinux2014_x86_64.whl (9.8 MB)\n",
            "\u001b[K     |████████████████████████████████| 9.8 MB 62.0 MB/s \n",
            "\u001b[?25hRequirement already satisfied: pandas>=0.19 in /usr/local/lib/python3.7/dist-packages (from pmdarima) (1.1.5)\n",
            "Requirement already satisfied: setuptools!=50.0.0,>=38.6.0 in /usr/local/lib/python3.7/dist-packages (from pmdarima) (57.4.0)\n",
            "Requirement already satisfied: urllib3 in /usr/local/lib/python3.7/dist-packages (from pmdarima) (1.24.3)\n",
            "Requirement already satisfied: scikit-learn>=0.22 in /usr/local/lib/python3.7/dist-packages (from pmdarima) (1.0.1)\n",
            "Requirement already satisfied: Cython!=0.29.18,>=0.29 in /usr/local/lib/python3.7/dist-packages (from pmdarima) (0.29.24)\n",
            "Requirement already satisfied: joblib>=0.11 in /usr/local/lib/python3.7/dist-packages (from pmdarima) (1.1.0)\n",
            "Requirement already satisfied: pytz>=2017.2 in /usr/local/lib/python3.7/dist-packages (from pandas>=0.19->pmdarima) (2018.9)\n",
            "Requirement already satisfied: python-dateutil>=2.7.3 in /usr/local/lib/python3.7/dist-packages (from pandas>=0.19->pmdarima) (2.8.2)\n",
            "Requirement already satisfied: six>=1.5 in /usr/local/lib/python3.7/dist-packages (from python-dateutil>=2.7.3->pandas>=0.19->pmdarima) (1.15.0)\n",
            "Requirement already satisfied: threadpoolctl>=2.0.0 in /usr/local/lib/python3.7/dist-packages (from scikit-learn>=0.22->pmdarima) (3.0.0)\n",
            "Requirement already satisfied: patsy>=0.5.2 in /usr/local/lib/python3.7/dist-packages (from statsmodels!=0.12.0,>=0.11->pmdarima) (0.5.2)\n",
            "Installing collected packages: statsmodels, pmdarima\n",
            "  Attempting uninstall: statsmodels\n",
            "    Found existing installation: statsmodels 0.10.2\n",
            "    Uninstalling statsmodels-0.10.2:\n",
            "      Successfully uninstalled statsmodels-0.10.2\n",
            "Successfully installed pmdarima-1.8.4 statsmodels-0.13.1\n"
          ]
        }
      ]
    },
    {
      "cell_type": "code",
      "metadata": {
        "colab": {
          "base_uri": "https://localhost:8080/"
        },
        "id": "KlF-bvY2KIfg",
        "outputId": "6836cd63-4505-4d4e-a13d-a5d85065a7aa"
      },
      "source": [
        "from google.colab import drive\n",
        "drive.mount('/gdrive')\n",
        "%cd /gdrive"
      ],
      "execution_count": null,
      "outputs": [
        {
          "output_type": "stream",
          "name": "stdout",
          "text": [
            "Mounted at /gdrive\n",
            "/gdrive\n"
          ]
        }
      ]
    },
    {
      "cell_type": "code",
      "metadata": {
        "colab": {
          "base_uri": "https://localhost:8080/"
        },
        "id": "1HYdPKpRKVX-",
        "outputId": "c5b54bc5-dd7a-4ddd-98f7-21b56d3c9840"
      },
      "source": [
        "!pwd"
      ],
      "execution_count": null,
      "outputs": [
        {
          "output_type": "stream",
          "name": "stdout",
          "text": [
            "/gdrive\n"
          ]
        }
      ]
    },
    {
      "cell_type": "code",
      "metadata": {
        "colab": {
          "base_uri": "https://localhost:8080/"
        },
        "id": "Yy9FzRJXKVM7",
        "outputId": "0b51894e-cb5e-4390-f529-c5e52cc28134"
      },
      "source": [
        "!ls"
      ],
      "execution_count": null,
      "outputs": [
        {
          "output_type": "stream",
          "name": "stdout",
          "text": [
            "MyDrive  Shareddrives\n"
          ]
        }
      ]
    },
    {
      "cell_type": "code",
      "metadata": {
        "colab": {
          "base_uri": "https://localhost:8080/"
        },
        "id": "i37gkAlvKUNs",
        "outputId": "a6b89c08-6d4c-4719-986c-a4541b8b73ae"
      },
      "source": [
        "%cd ./MyDrive/Code/senior\\ seminar"
      ],
      "execution_count": null,
      "outputs": [
        {
          "output_type": "stream",
          "name": "stdout",
          "text": [
            "/gdrive/MyDrive/Code/senior seminar\n"
          ]
        }
      ]
    },
    {
      "cell_type": "code",
      "metadata": {
        "colab": {
          "base_uri": "https://localhost:8080/"
        },
        "id": "Uadoxj-jKmAl",
        "outputId": "13b3c23b-e0dc-438c-d16a-8d1af8bf99ae"
      },
      "source": [
        "!ls"
      ],
      "execution_count": null,
      "outputs": [
        {
          "output_type": "stream",
          "name": "stdout",
          "text": [
            " 10yrUSTreas.csv\n",
            "'bitcoin-price-prediction-arima-xgboost-lstm-fbprop (1).ipynb'\n",
            " BTC.csv\n",
            " BTC-USD.csv\n",
            "'Copy of Bitcoin Forecasting'\n",
            " NSDQ.csv\n",
            "'Project notes.gdoc'\n",
            " SP_500.csv\n",
            " TSLA.csv\n"
          ]
        }
      ]
    },
    {
      "cell_type": "code",
      "metadata": {
        "colab": {
          "base_uri": "https://localhost:8080/"
        },
        "id": "I7EthRkCKD2a",
        "outputId": "c675e931-605e-4c9e-8df9-210332d21138"
      },
      "source": [
        "with open('/gdrive/My Drive/foo.txt', 'w') as f:\n",
        "  f.write('Hello Google Drive!')\n",
        "!cat '/gdrive/My Drive/foo.txt'"
      ],
      "execution_count": null,
      "outputs": [
        {
          "output_type": "stream",
          "name": "stdout",
          "text": [
            "Hello Google Drive!"
          ]
        }
      ]
    },
    {
      "cell_type": "code",
      "metadata": {
        "execution": {
          "iopub.execute_input": "2020-10-02T15:38:46.212639Z",
          "iopub.status.busy": "2020-10-02T15:38:46.211820Z",
          "iopub.status.idle": "2020-10-02T15:38:48.949059Z",
          "shell.execute_reply": "2020-10-02T15:38:48.948249Z"
        },
        "papermill": {
          "duration": 2.858742,
          "end_time": "2020-10-02T15:38:48.949187",
          "exception": false,
          "start_time": "2020-10-02T15:38:46.090445",
          "status": "completed"
        },
        "tags": [],
        "id": "Hvcu8rU8J7nG"
      },
      "source": [
        "import pandas as pd\n",
        "import numpy as np\n",
        "import matplotlib.pyplot as plt\n",
        "from datetime import datetime\n",
        "import seaborn as sns\n",
        "import plotly.express as px\n",
        "from itertools import product\n",
        "import warnings\n",
        "import statsmodels.api as sm\n",
        "plt.style.use('seaborn-darkgrid')\n",
        "\n",
        "#matplotlib inline"
      ],
      "execution_count": null,
      "outputs": []
    },
    {
      "cell_type": "markdown",
      "metadata": {
        "papermill": {
          "duration": 0.112888,
          "end_time": "2020-10-02T15:38:49.173977",
          "exception": false,
          "start_time": "2020-10-02T15:38:49.061089",
          "status": "completed"
        },
        "tags": [],
        "id": "CdlXChLCJ7nH"
      },
      "source": [
        "<a id=\"subsection-one\"></a>\n",
        "# A first look at Bitcoin Prices\n",
        "\n",
        "Let’s check what the first 5 lines of our time-series data look like:"
      ]
    },
    {
      "cell_type": "code",
      "metadata": {
        "colab": {
          "base_uri": "https://localhost:8080/"
        },
        "id": "3-p0zVBLLdPj",
        "outputId": "0941b4f4-3eae-460c-aa4e-78a325e02528"
      },
      "source": [
        "!ls *.csv"
      ],
      "execution_count": null,
      "outputs": [
        {
          "output_type": "stream",
          "name": "stdout",
          "text": [
            "10yrUSTreas.csv  BTC.csv  BTC-USD.csv  NSDQ.csv  SP_500.csv  TSLA.csv\n"
          ]
        }
      ]
    },
    {
      "cell_type": "code",
      "metadata": {
        "execution": {
          "iopub.execute_input": "2020-10-02T15:38:49.406073Z",
          "iopub.status.busy": "2020-10-02T15:38:49.405284Z",
          "iopub.status.idle": "2020-10-02T15:38:54.628427Z",
          "shell.execute_reply": "2020-10-02T15:38:54.627606Z"
        },
        "papermill": {
          "duration": 5.342248,
          "end_time": "2020-10-02T15:38:54.628579",
          "exception": false,
          "start_time": "2020-10-02T15:38:49.286331",
          "status": "completed"
        },
        "tags": [],
        "colab": {
          "base_uri": "https://localhost:8080/",
          "height": 206
        },
        "id": "VvKaf_ijJ7nI",
        "outputId": "6fb1b05d-8be6-4b17-8326-d211fc032f85"
      },
      "source": [
        "# Reading the csv file\n",
        "#bitstamp = pd.read_csv(\"/kaggle/input/bitcoin-historical-data/bitstampUSD_1-min_data_2012-01-01_to_2020-09-14.csv\")\n",
        "bitstamp = pd.read_csv(\"NSDQ.csv\")\n",
        "bitstamp.head()"
      ],
      "execution_count": null,
      "outputs": [
        {
          "output_type": "execute_result",
          "data": {
            "text/html": [
              "<div>\n",
              "<style scoped>\n",
              "    .dataframe tbody tr th:only-of-type {\n",
              "        vertical-align: middle;\n",
              "    }\n",
              "\n",
              "    .dataframe tbody tr th {\n",
              "        vertical-align: top;\n",
              "    }\n",
              "\n",
              "    .dataframe thead th {\n",
              "        text-align: right;\n",
              "    }\n",
              "</style>\n",
              "<table border=\"1\" class=\"dataframe\">\n",
              "  <thead>\n",
              "    <tr style=\"text-align: right;\">\n",
              "      <th></th>\n",
              "      <th>Date</th>\n",
              "      <th>Open</th>\n",
              "      <th>High</th>\n",
              "      <th>Low</th>\n",
              "      <th>Close</th>\n",
              "      <th>Adj Close</th>\n",
              "      <th>Volume</th>\n",
              "    </tr>\n",
              "  </thead>\n",
              "  <tbody>\n",
              "    <tr>\n",
              "      <th>0</th>\n",
              "      <td>2014-07-14</td>\n",
              "      <td>4441.390137</td>\n",
              "      <td>4451.600098</td>\n",
              "      <td>4432.950195</td>\n",
              "      <td>4440.419922</td>\n",
              "      <td>4440.419922</td>\n",
              "      <td>1579660000</td>\n",
              "    </tr>\n",
              "    <tr>\n",
              "      <th>1</th>\n",
              "      <td>2014-07-15</td>\n",
              "      <td>4444.910156</td>\n",
              "      <td>4451.930176</td>\n",
              "      <td>4389.700195</td>\n",
              "      <td>4416.390137</td>\n",
              "      <td>4416.390137</td>\n",
              "      <td>1772030000</td>\n",
              "    </tr>\n",
              "    <tr>\n",
              "      <th>2</th>\n",
              "      <td>2014-07-16</td>\n",
              "      <td>4446.169922</td>\n",
              "      <td>4448.870117</td>\n",
              "      <td>4419.709961</td>\n",
              "      <td>4425.970215</td>\n",
              "      <td>4425.970215</td>\n",
              "      <td>2059340000</td>\n",
              "    </tr>\n",
              "    <tr>\n",
              "      <th>3</th>\n",
              "      <td>2014-07-17</td>\n",
              "      <td>4411.520020</td>\n",
              "      <td>4425.379883</td>\n",
              "      <td>4352.229980</td>\n",
              "      <td>4363.450195</td>\n",
              "      <td>4363.450195</td>\n",
              "      <td>2055240000</td>\n",
              "    </tr>\n",
              "    <tr>\n",
              "      <th>4</th>\n",
              "      <td>2014-07-18</td>\n",
              "      <td>4379.939941</td>\n",
              "      <td>4434.439941</td>\n",
              "      <td>4378.220215</td>\n",
              "      <td>4432.149902</td>\n",
              "      <td>4432.149902</td>\n",
              "      <td>1823580000</td>\n",
              "    </tr>\n",
              "  </tbody>\n",
              "</table>\n",
              "</div>"
            ],
            "text/plain": [
              "         Date         Open         High  ...        Close    Adj Close      Volume\n",
              "0  2014-07-14  4441.390137  4451.600098  ...  4440.419922  4440.419922  1579660000\n",
              "1  2014-07-15  4444.910156  4451.930176  ...  4416.390137  4416.390137  1772030000\n",
              "2  2014-07-16  4446.169922  4448.870117  ...  4425.970215  4425.970215  2059340000\n",
              "3  2014-07-17  4411.520020  4425.379883  ...  4363.450195  4363.450195  2055240000\n",
              "4  2014-07-18  4379.939941  4434.439941  ...  4432.149902  4432.149902  1823580000\n",
              "\n",
              "[5 rows x 7 columns]"
            ]
          },
          "metadata": {},
          "execution_count": 10
        }
      ]
    },
    {
      "cell_type": "markdown",
      "metadata": {
        "papermill": {
          "duration": 0.112033,
          "end_time": "2020-10-02T15:38:54.865849",
          "exception": false,
          "start_time": "2020-10-02T15:38:54.753816",
          "status": "completed"
        },
        "tags": [],
        "id": "4-Gc7Q8iJ7nK"
      },
      "source": [
        "Let us now look at the datatypes of the various components."
      ]
    },
    {
      "cell_type": "code",
      "metadata": {
        "execution": {
          "iopub.execute_input": "2020-10-02T15:38:55.107851Z",
          "iopub.status.busy": "2020-10-02T15:38:55.106862Z",
          "iopub.status.idle": "2020-10-02T15:38:55.110760Z",
          "shell.execute_reply": "2020-10-02T15:38:55.111723Z"
        },
        "papermill": {
          "duration": 0.134176,
          "end_time": "2020-10-02T15:38:55.111954",
          "exception": false,
          "start_time": "2020-10-02T15:38:54.977778",
          "status": "completed"
        },
        "tags": [],
        "colab": {
          "base_uri": "https://localhost:8080/"
        },
        "id": "LttMpW0JJ7nL",
        "outputId": "359add84-88cf-4d8e-c707-61af43d91215"
      },
      "source": [
        "bitstamp.info()"
      ],
      "execution_count": null,
      "outputs": [
        {
          "output_type": "stream",
          "name": "stdout",
          "text": [
            "<class 'pandas.core.frame.DataFrame'>\n",
            "RangeIndex: 1864 entries, 0 to 1863\n",
            "Data columns (total 7 columns):\n",
            " #   Column     Non-Null Count  Dtype  \n",
            "---  ------     --------------  -----  \n",
            " 0   Date       1864 non-null   object \n",
            " 1   Open       1864 non-null   float64\n",
            " 2   High       1864 non-null   float64\n",
            " 3   Low        1864 non-null   float64\n",
            " 4   Close      1864 non-null   float64\n",
            " 5   Adj Close  1864 non-null   float64\n",
            " 6   Volume     1864 non-null   int64  \n",
            "dtypes: float64(5), int64(1), object(1)\n",
            "memory usage: 102.1+ KB\n"
          ]
        }
      ]
    },
    {
      "cell_type": "markdown",
      "metadata": {
        "papermill": {
          "duration": 0.112588,
          "end_time": "2020-10-02T15:38:55.352207",
          "exception": false,
          "start_time": "2020-10-02T15:38:55.239619",
          "status": "completed"
        },
        "tags": [],
        "id": "oQws9ylAJ7nM"
      },
      "source": [
        "It appears that the Timestamp column is being treated as a integer rather than as dates. To fix this, we’ll use the fromtimestamp() function which converts the arguments to dates."
      ]
    },
    {
      "cell_type": "code",
      "metadata": {
        "id": "XVbLTHVQMGAx"
      },
      "source": [
        "bitstamp['Date'] = pd.to_datetime(bitstamp['Date'])"
      ],
      "execution_count": null,
      "outputs": []
    },
    {
      "cell_type": "code",
      "metadata": {
        "colab": {
          "base_uri": "https://localhost:8080/"
        },
        "id": "bDu-_FiQMY6u",
        "outputId": "51506473-a01d-4ace-bca9-31e2f7082126"
      },
      "source": [
        "bitstamp.info()"
      ],
      "execution_count": null,
      "outputs": [
        {
          "output_type": "stream",
          "name": "stdout",
          "text": [
            "<class 'pandas.core.frame.DataFrame'>\n",
            "RangeIndex: 1864 entries, 0 to 1863\n",
            "Data columns (total 7 columns):\n",
            " #   Column     Non-Null Count  Dtype         \n",
            "---  ------     --------------  -----         \n",
            " 0   Date       1864 non-null   datetime64[ns]\n",
            " 1   Open       1864 non-null   float64       \n",
            " 2   High       1864 non-null   float64       \n",
            " 3   Low        1864 non-null   float64       \n",
            " 4   Close      1864 non-null   float64       \n",
            " 5   Adj Close  1864 non-null   float64       \n",
            " 6   Volume     1864 non-null   int64         \n",
            "dtypes: datetime64[ns](1), float64(5), int64(1)\n",
            "memory usage: 102.1 KB\n"
          ]
        }
      ]
    },
    {
      "cell_type": "code",
      "metadata": {
        "execution": {
          "iopub.execute_input": "2020-10-02T15:38:55.620011Z",
          "iopub.status.busy": "2020-10-02T15:38:55.604413Z",
          "iopub.status.idle": "2020-10-02T15:39:03.407066Z",
          "shell.execute_reply": "2020-10-02T15:39:03.406418Z"
        },
        "papermill": {
          "duration": 7.940313,
          "end_time": "2020-10-02T15:39:03.407204",
          "exception": false,
          "start_time": "2020-10-02T15:38:55.466891",
          "status": "completed"
        },
        "tags": [],
        "id": "TJiln7OJJ7nN"
      },
      "source": [
        "# Converting the Timestamp column from string to datetime\n",
        "#bitstamp['Timestamp'] = [datetime.fromtimestamp(x) for x in bitstamp['Date']]"
      ],
      "execution_count": null,
      "outputs": []
    },
    {
      "cell_type": "code",
      "metadata": {
        "execution": {
          "iopub.execute_input": "2020-10-02T15:39:03.651208Z",
          "iopub.status.busy": "2020-10-02T15:39:03.650352Z",
          "iopub.status.idle": "2020-10-02T15:39:03.655429Z",
          "shell.execute_reply": "2020-10-02T15:39:03.654780Z"
        },
        "papermill": {
          "duration": 0.134999,
          "end_time": "2020-10-02T15:39:03.655574",
          "exception": false,
          "start_time": "2020-10-02T15:39:03.520575",
          "status": "completed"
        },
        "tags": [],
        "colab": {
          "base_uri": "https://localhost:8080/",
          "height": 206
        },
        "id": "NAIGUhkhJ7nO",
        "outputId": "5b70462b-497e-4217-b4ea-e7b714668c03"
      },
      "source": [
        "bitstamp.rename(columns = {'Date':'date',\n",
        "                           'Open':'open', \n",
        "                           'High':'high', \n",
        "                           'Low':'low', \n",
        "                           'Close':'close', \n",
        "                           'Adj Close':'adj_close', \n",
        "                           'Volume': 'volume'}, inplace = True)\n",
        "bitstamp.head()"
      ],
      "execution_count": null,
      "outputs": [
        {
          "output_type": "execute_result",
          "data": {
            "text/html": [
              "<div>\n",
              "<style scoped>\n",
              "    .dataframe tbody tr th:only-of-type {\n",
              "        vertical-align: middle;\n",
              "    }\n",
              "\n",
              "    .dataframe tbody tr th {\n",
              "        vertical-align: top;\n",
              "    }\n",
              "\n",
              "    .dataframe thead th {\n",
              "        text-align: right;\n",
              "    }\n",
              "</style>\n",
              "<table border=\"1\" class=\"dataframe\">\n",
              "  <thead>\n",
              "    <tr style=\"text-align: right;\">\n",
              "      <th></th>\n",
              "      <th>date</th>\n",
              "      <th>open</th>\n",
              "      <th>high</th>\n",
              "      <th>low</th>\n",
              "      <th>close</th>\n",
              "      <th>adj_close</th>\n",
              "      <th>volume</th>\n",
              "    </tr>\n",
              "  </thead>\n",
              "  <tbody>\n",
              "    <tr>\n",
              "      <th>0</th>\n",
              "      <td>2014-07-14</td>\n",
              "      <td>4441.390137</td>\n",
              "      <td>4451.600098</td>\n",
              "      <td>4432.950195</td>\n",
              "      <td>4440.419922</td>\n",
              "      <td>4440.419922</td>\n",
              "      <td>1579660000</td>\n",
              "    </tr>\n",
              "    <tr>\n",
              "      <th>1</th>\n",
              "      <td>2014-07-15</td>\n",
              "      <td>4444.910156</td>\n",
              "      <td>4451.930176</td>\n",
              "      <td>4389.700195</td>\n",
              "      <td>4416.390137</td>\n",
              "      <td>4416.390137</td>\n",
              "      <td>1772030000</td>\n",
              "    </tr>\n",
              "    <tr>\n",
              "      <th>2</th>\n",
              "      <td>2014-07-16</td>\n",
              "      <td>4446.169922</td>\n",
              "      <td>4448.870117</td>\n",
              "      <td>4419.709961</td>\n",
              "      <td>4425.970215</td>\n",
              "      <td>4425.970215</td>\n",
              "      <td>2059340000</td>\n",
              "    </tr>\n",
              "    <tr>\n",
              "      <th>3</th>\n",
              "      <td>2014-07-17</td>\n",
              "      <td>4411.520020</td>\n",
              "      <td>4425.379883</td>\n",
              "      <td>4352.229980</td>\n",
              "      <td>4363.450195</td>\n",
              "      <td>4363.450195</td>\n",
              "      <td>2055240000</td>\n",
              "    </tr>\n",
              "    <tr>\n",
              "      <th>4</th>\n",
              "      <td>2014-07-18</td>\n",
              "      <td>4379.939941</td>\n",
              "      <td>4434.439941</td>\n",
              "      <td>4378.220215</td>\n",
              "      <td>4432.149902</td>\n",
              "      <td>4432.149902</td>\n",
              "      <td>1823580000</td>\n",
              "    </tr>\n",
              "  </tbody>\n",
              "</table>\n",
              "</div>"
            ],
            "text/plain": [
              "        date         open         high  ...        close    adj_close      volume\n",
              "0 2014-07-14  4441.390137  4451.600098  ...  4440.419922  4440.419922  1579660000\n",
              "1 2014-07-15  4444.910156  4451.930176  ...  4416.390137  4416.390137  1772030000\n",
              "2 2014-07-16  4446.169922  4448.870117  ...  4425.970215  4425.970215  2059340000\n",
              "3 2014-07-17  4411.520020  4425.379883  ...  4363.450195  4363.450195  2055240000\n",
              "4 2014-07-18  4379.939941  4434.439941  ...  4432.149902  4432.149902  1823580000\n",
              "\n",
              "[5 rows x 7 columns]"
            ]
          },
          "metadata": {},
          "execution_count": 15
        }
      ]
    },
    {
      "cell_type": "code",
      "metadata": {
        "execution": {
          "iopub.execute_input": "2020-10-02T15:39:03.897954Z",
          "iopub.status.busy": "2020-10-02T15:39:03.896964Z",
          "iopub.status.idle": "2020-10-02T15:39:03.900699Z",
          "shell.execute_reply": "2020-10-02T15:39:03.901339Z"
        },
        "papermill": {
          "duration": 0.128993,
          "end_time": "2020-10-02T15:39:03.901523",
          "exception": false,
          "start_time": "2020-10-02T15:39:03.772530",
          "status": "completed"
        },
        "tags": [],
        "colab": {
          "base_uri": "https://localhost:8080/"
        },
        "id": "wBsrrk4sJ7nP",
        "outputId": "00c1488c-b78c-47ad-f993-5094d52a64d3"
      },
      "source": [
        "print('Dataset Shape: ',  bitstamp.shape)"
      ],
      "execution_count": null,
      "outputs": [
        {
          "output_type": "stream",
          "name": "stdout",
          "text": [
            "Dataset Shape:  (1864, 7)\n"
          ]
        }
      ]
    },
    {
      "cell_type": "markdown",
      "metadata": {
        "papermill": {
          "duration": 0.115717,
          "end_time": "2020-10-02T15:39:04.136758",
          "exception": false,
          "start_time": "2020-10-02T15:39:04.021041",
          "status": "completed"
        },
        "tags": [],
        "id": "js_eSM3yJ7nP"
      },
      "source": [
        "# About the Bitcoin Data¶\n",
        "\n",
        "Included here is historical bitcoin market data at 1-min intervals for select bitcoin exchanges where trading takes place. It consists time period of Jan 2012 to September 2020, with minute to minute updates of OHLC (Open, High, Low, Close), Volume in BTC and indicated currency, and weighted bitcoin price. \n",
        "\n",
        "Now that our data has been converted into the desired format, let’s take a look at its various columns for further analysis.\n",
        "\n",
        "* The **Open and Close** columns indicate the opening and closing price on a particular day.\n",
        "* The **High and Low** columns provide the highest and the lowest price on a particular day, respectively.\n",
        "* The **Volume** column tells us the total volume of traded on a particular day.\n",
        "* The **Weighted price** is a trading benchmark used by traders that gives the weighted price a security has traded at throughout the day, based on both volume and price. It is important because it provides traders with insight into both the trend and value of a security. To read more about how Weighted price is calculated, click [here](http://bitcointalk.org/index.php?topic=2777198.0). "
      ]
    },
    {
      "cell_type": "markdown",
      "metadata": {
        "papermill": {
          "duration": 0.116917,
          "end_time": "2020-10-02T15:39:04.372330",
          "exception": false,
          "start_time": "2020-10-02T15:39:04.255413",
          "status": "completed"
        },
        "tags": [],
        "id": "c5OHfCByJ7nQ"
      },
      "source": [
        "# Visualising the Time Series data"
      ]
    },
    {
      "cell_type": "code",
      "metadata": {
        "execution": {
          "iopub.execute_input": "2020-10-02T15:39:04.657383Z",
          "iopub.status.busy": "2020-10-02T15:39:04.656580Z",
          "iopub.status.idle": "2020-10-02T15:39:11.760081Z",
          "shell.execute_reply": "2020-10-02T15:39:11.760742Z"
        },
        "papermill": {
          "duration": 7.272714,
          "end_time": "2020-10-02T15:39:11.760918",
          "exception": false,
          "start_time": "2020-10-02T15:39:04.488204",
          "status": "completed"
        },
        "tags": [],
        "colab": {
          "base_uri": "https://localhost:8080/",
          "height": 443
        },
        "id": "l0uzbOG7J7nQ",
        "outputId": "f6a31fcf-424c-4f94-c640-b7931297445d"
      },
      "source": [
        "bitstamp.set_index(\"date\").adj_close.plot(figsize=(14,7), title=\"Adjusted Close\")\n"
      ],
      "execution_count": null,
      "outputs": [
        {
          "output_type": "execute_result",
          "data": {
            "text/plain": [
              "<matplotlib.axes._subplots.AxesSubplot at 0x7f1dc10baa90>"
            ]
          },
          "metadata": {},
          "execution_count": 17
        },
        {
          "output_type": "display_data",
          "data": {
            "image/png": "[encoded data removed]",
            "text/plain": [
              "<Figure size 1008x504 with 1 Axes>"
            ]
          },
          "metadata": {}
        }
      ]
    },
    {
      "cell_type": "code",
      "metadata": {
        "id": "t3Cl-1hBGAvm"
      },
      "source": [
        "#spstamp.set_index(\"date\").open.plot(figsize=(14,7), title=\"Open\")\n"
      ],
      "execution_count": null,
      "outputs": []
    },
    {
      "cell_type": "markdown",
      "metadata": {
        "papermill": {
          "duration": 0.142308,
          "end_time": "2020-10-02T15:39:12.035486",
          "exception": false,
          "start_time": "2020-10-02T15:39:11.893178",
          "status": "completed"
        },
        "tags": [],
        "id": "NFCOTXShJ7nR"
      },
      "source": [
        "<a id=\"section-two\"></a>\n",
        "# Handling Missing Values in Time-series Data\n",
        "\n",
        "It is very common for a time-series data to have missing data. The first step is to detect the count/percentage of missing values in every column of the dataset. This will give an idea about the distribution of missing values. Let's check this in our dataset:"
      ]
    },
    {
      "cell_type": "code",
      "metadata": {
        "execution": {
          "iopub.execute_input": "2020-10-02T15:39:12.309244Z",
          "iopub.status.busy": "2020-10-02T15:39:12.308291Z",
          "iopub.status.idle": "2020-10-02T15:39:12.448483Z",
          "shell.execute_reply": "2020-10-02T15:39:12.447710Z"
        },
        "papermill": {
          "duration": 0.275215,
          "end_time": "2020-10-02T15:39:12.448614",
          "exception": false,
          "start_time": "2020-10-02T15:39:12.173399",
          "status": "completed"
        },
        "tags": [],
        "id": "9TirwykZJ7nR",
        "colab": {
          "base_uri": "https://localhost:8080/",
          "height": 269
        },
        "outputId": "16645273-2ba1-4d30-e5e4-a75fb486bc8d"
      },
      "source": [
        "#calculating missing values in the dataset\n",
        "\n",
        "missing_values = bitstamp.isnull().sum()\n",
        "missing_per = (missing_values/bitstamp.shape[0])*100\n",
        "missing_table = pd.concat([missing_values,missing_per], axis=1, ignore_index=True) \n",
        "missing_table.rename(columns={0:'Total Missing Values',1:'Missing %'}, inplace=True)\n",
        "missing_table"
      ],
      "execution_count": null,
      "outputs": [
        {
          "output_type": "execute_result",
          "data": {
            "text/html": [
              "<div>\n",
              "<style scoped>\n",
              "    .dataframe tbody tr th:only-of-type {\n",
              "        vertical-align: middle;\n",
              "    }\n",
              "\n",
              "    .dataframe tbody tr th {\n",
              "        vertical-align: top;\n",
              "    }\n",
              "\n",
              "    .dataframe thead th {\n",
              "        text-align: right;\n",
              "    }\n",
              "</style>\n",
              "<table border=\"1\" class=\"dataframe\">\n",
              "  <thead>\n",
              "    <tr style=\"text-align: right;\">\n",
              "      <th></th>\n",
              "      <th>Total Missing Values</th>\n",
              "      <th>Missing %</th>\n",
              "    </tr>\n",
              "  </thead>\n",
              "  <tbody>\n",
              "    <tr>\n",
              "      <th>date</th>\n",
              "      <td>0</td>\n",
              "      <td>0.0</td>\n",
              "    </tr>\n",
              "    <tr>\n",
              "      <th>open</th>\n",
              "      <td>0</td>\n",
              "      <td>0.0</td>\n",
              "    </tr>\n",
              "    <tr>\n",
              "      <th>high</th>\n",
              "      <td>0</td>\n",
              "      <td>0.0</td>\n",
              "    </tr>\n",
              "    <tr>\n",
              "      <th>low</th>\n",
              "      <td>0</td>\n",
              "      <td>0.0</td>\n",
              "    </tr>\n",
              "    <tr>\n",
              "      <th>close</th>\n",
              "      <td>0</td>\n",
              "      <td>0.0</td>\n",
              "    </tr>\n",
              "    <tr>\n",
              "      <th>adj_close</th>\n",
              "      <td>0</td>\n",
              "      <td>0.0</td>\n",
              "    </tr>\n",
              "    <tr>\n",
              "      <th>volume</th>\n",
              "      <td>0</td>\n",
              "      <td>0.0</td>\n",
              "    </tr>\n",
              "  </tbody>\n",
              "</table>\n",
              "</div>"
            ],
            "text/plain": [
              "           Total Missing Values  Missing %\n",
              "date                          0        0.0\n",
              "open                          0        0.0\n",
              "high                          0        0.0\n",
              "low                           0        0.0\n",
              "close                         0        0.0\n",
              "adj_close                     0        0.0\n",
              "volume                        0        0.0"
            ]
          },
          "metadata": {},
          "execution_count": 19
        }
      ]
    },
    {
      "cell_type": "markdown",
      "metadata": {
        "papermill": {
          "duration": 0.117622,
          "end_time": "2020-10-02T15:39:12.684139",
          "exception": false,
          "start_time": "2020-10-02T15:39:12.566517",
          "status": "completed"
        },
        "tags": [],
        "id": "YhLefISYJ7nS"
      },
      "source": [
        "# Imputations Techniques for non Time Series Problems\n",
        "\n",
        "Imputation refers to replacing missing data with substituted values.There are a lot of ways in which the missing values can be imputed depending upon the nature of the problem and data. Dependng upon the nature of the problem, imputation techniques can be broadly they can be classified as follows:\n",
        "\n",
        "**Basic Imputation Techniques**\n",
        "* 'ffill' or 'pad' - Replace NaNs with last observed value\n",
        "* 'bfill' or 'backfill' - Replace NaNs with next observed value\n",
        "*  Linear interpolation method"
      ]
    },
    {
      "cell_type": "markdown",
      "metadata": {
        "papermill": {
          "duration": 0.117676,
          "end_time": "2020-10-02T15:39:12.919617",
          "exception": false,
          "start_time": "2020-10-02T15:39:12.801941",
          "status": "completed"
        },
        "tags": [],
        "id": "Zrmv768tJ7nS"
      },
      "source": [
        "![missing.JPG](attachment:missing.JPG)"
      ]
    },
    {
      "cell_type": "markdown",
      "metadata": {
        "papermill": {
          "duration": 0.119022,
          "end_time": "2020-10-02T15:39:13.157922",
          "exception": false,
          "start_time": "2020-10-02T15:39:13.038900",
          "status": "completed"
        },
        "tags": [],
        "id": "ido7mTWGJ7nT"
      },
      "source": [
        "Let's sense check above stated 3 techniques on a subset to compare the output:"
      ]
    },
    {
      "cell_type": "code",
      "metadata": {
        "execution": {
          "iopub.execute_input": "2020-10-02T15:39:13.402608Z",
          "iopub.status.busy": "2020-10-02T15:39:13.401746Z",
          "iopub.status.idle": "2020-10-02T15:39:14.321819Z",
          "shell.execute_reply": "2020-10-02T15:39:14.322405Z"
        },
        "papermill": {
          "duration": 1.045831,
          "end_time": "2020-10-02T15:39:14.322579",
          "exception": false,
          "start_time": "2020-10-02T15:39:13.276748",
          "status": "completed"
        },
        "tags": [],
        "id": "boTjBlnZJ7nT",
        "colab": {
          "base_uri": "https://localhost:8080/",
          "height": 1000
        },
        "outputId": "3ec7db16-c2bd-494e-da89-6d8b9fdcc3ea"
      },
      "source": [
        "#testing missing value methods on a subset\n",
        "\n",
        "pd.set_option('display.max_rows', 1500)\n",
        "\n",
        "a = bitstamp.set_index('date')\n",
        "\n",
        "a = a['2018-11-01 00:15:00':'2019-11-01 02:24:00']\n",
        "\n",
        "a['ffill'] = a['adj_close'].fillna(method='ffill') # Imputation using ffill/pad\n",
        "a['bfill'] = a['adj_close'].fillna(method='bfill') # Imputation using bfill/pad\n",
        "a['interp'] = a['adj_close'].interpolate()         # Imputation using interpolation\n",
        "\n",
        "a"
      ],
      "execution_count": null,
      "outputs": [
        {
          "output_type": "execute_result",
          "data": {
            "text/html": [
              "<div>\n",
              "<style scoped>\n",
              "    .dataframe tbody tr th:only-of-type {\n",
              "        vertical-align: middle;\n",
              "    }\n",
              "\n",
              "    .dataframe tbody tr th {\n",
              "        vertical-align: top;\n",
              "    }\n",
              "\n",
              "    .dataframe thead th {\n",
              "        text-align: right;\n",
              "    }\n",
              "</style>\n",
              "<table border=\"1\" class=\"dataframe\">\n",
              "  <thead>\n",
              "    <tr style=\"text-align: right;\">\n",
              "      <th></th>\n",
              "      <th>open</th>\n",
              "      <th>high</th>\n",
              "      <th>low</th>\n",
              "      <th>close</th>\n",
              "      <th>adj_close</th>\n",
              "      <th>volume</th>\n",
              "      <th>ffill</th>\n",
              "      <th>bfill</th>\n",
              "      <th>interp</th>\n",
              "    </tr>\n",
              "    <tr>\n",
              "      <th>date</th>\n",
              "      <th></th>\n",
              "      <th></th>\n",
              "      <th></th>\n",
              "      <th></th>\n",
              "      <th></th>\n",
              "      <th></th>\n",
              "      <th></th>\n",
              "      <th></th>\n",
              "      <th></th>\n",
              "    </tr>\n",
              "  </thead>\n",
              "  <tbody>\n",
              "    <tr>\n",
              "      <th>2018-11-02</th>\n",
              "      <td>7424.020020</td>\n",
              "      <td>7466.529785</td>\n",
              "      <td>7298.680176</td>\n",
              "      <td>7356.990234</td>\n",
              "      <td>7356.990234</td>\n",
              "      <td>2889910000</td>\n",
              "      <td>7356.990234</td>\n",
              "      <td>7356.990234</td>\n",
              "      <td>7356.990234</td>\n",
              "    </tr>\n",
              "    <tr>\n",
              "      <th>2018-11-05</th>\n",
              "      <td>7344.080078</td>\n",
              "      <td>7349.229980</td>\n",
              "      <td>7255.879883</td>\n",
              "      <td>7328.850098</td>\n",
              "      <td>7328.850098</td>\n",
              "      <td>2166470000</td>\n",
              "      <td>7328.850098</td>\n",
              "      <td>7328.850098</td>\n",
              "      <td>7328.850098</td>\n",
              "    </tr>\n",
              "    <tr>\n",
              "      <th>2018-11-06</th>\n",
              "      <td>7326.069824</td>\n",
              "      <td>7400.640137</td>\n",
              "      <td>7320.890137</td>\n",
              "      <td>7375.959961</td>\n",
              "      <td>7375.959961</td>\n",
              "      <td>2285680000</td>\n",
              "      <td>7375.959961</td>\n",
              "      <td>7375.959961</td>\n",
              "      <td>7375.959961</td>\n",
              "    </tr>\n",
              "    <tr>\n",
              "      <th>2018-11-07</th>\n",
              "      <td>7446.089844</td>\n",
              "      <td>7572.930176</td>\n",
              "      <td>7435.870117</td>\n",
              "      <td>7570.750000</td>\n",
              "      <td>7570.750000</td>\n",
              "      <td>2677530000</td>\n",
              "      <td>7570.750000</td>\n",
              "      <td>7570.750000</td>\n",
              "      <td>7570.750000</td>\n",
              "    </tr>\n",
              "    <tr>\n",
              "      <th>2018-11-08</th>\n",
              "      <td>7544.169922</td>\n",
              "      <td>7566.930176</td>\n",
              "      <td>7499.709961</td>\n",
              "      <td>7530.879883</td>\n",
              "      <td>7530.879883</td>\n",
              "      <td>2462430000</td>\n",
              "      <td>7530.879883</td>\n",
              "      <td>7530.879883</td>\n",
              "      <td>7530.879883</td>\n",
              "    </tr>\n",
              "    <tr>\n",
              "      <th>2018-11-09</th>\n",
              "      <td>7468.509766</td>\n",
              "      <td>7474.339844</td>\n",
              "      <td>7349.479980</td>\n",
              "      <td>7406.899902</td>\n",
              "      <td>7406.899902</td>\n",
              "      <td>2418490000</td>\n",
              "      <td>7406.899902</td>\n",
              "      <td>7406.899902</td>\n",
              "      <td>7406.899902</td>\n",
              "    </tr>\n",
              "    <tr>\n",
              "      <th>2018-11-12</th>\n",
              "      <td>7364.049805</td>\n",
              "      <td>7371.089844</td>\n",
              "      <td>7193.770020</td>\n",
              "      <td>7200.870117</td>\n",
              "      <td>7200.870117</td>\n",
              "      <td>2289070000</td>\n",
              "      <td>7200.870117</td>\n",
              "      <td>7200.870117</td>\n",
              "      <td>7200.870117</td>\n",
              "    </tr>\n",
              "    <tr>\n",
              "      <th>2018-11-13</th>\n",
              "      <td>7230.689941</td>\n",
              "      <td>7319.120117</td>\n",
              "      <td>7182.859863</td>\n",
              "      <td>7200.870117</td>\n",
              "      <td>7200.870117</td>\n",
              "      <td>2343940000</td>\n",
              "      <td>7200.870117</td>\n",
              "      <td>7200.870117</td>\n",
              "      <td>7200.870117</td>\n",
              "    </tr>\n",
              "    <tr>\n",
              "      <th>2018-11-14</th>\n",
              "      <td>7265.390137</td>\n",
              "      <td>7285.569824</td>\n",
              "      <td>7101.169922</td>\n",
              "      <td>7136.390137</td>\n",
              "      <td>7136.390137</td>\n",
              "      <td>2540220000</td>\n",
              "      <td>7136.390137</td>\n",
              "      <td>7136.390137</td>\n",
              "      <td>7136.390137</td>\n",
              "    </tr>\n",
              "    <tr>\n",
              "      <th>2018-11-15</th>\n",
              "      <td>7112.830078</td>\n",
              "      <td>7274.259766</td>\n",
              "      <td>7072.359863</td>\n",
              "      <td>7259.029785</td>\n",
              "      <td>7259.029785</td>\n",
              "      <td>2508720000</td>\n",
              "      <td>7259.029785</td>\n",
              "      <td>7259.029785</td>\n",
              "      <td>7259.029785</td>\n",
              "    </tr>\n",
              "    <tr>\n",
              "      <th>2018-11-16</th>\n",
              "      <td>7193.600098</td>\n",
              "      <td>7274.859863</td>\n",
              "      <td>7171.700195</td>\n",
              "      <td>7247.870117</td>\n",
              "      <td>7247.870117</td>\n",
              "      <td>2438260000</td>\n",
              "      <td>7247.870117</td>\n",
              "      <td>7247.870117</td>\n",
              "      <td>7247.870117</td>\n",
              "    </tr>\n",
              "    <tr>\n",
              "      <th>2018-11-19</th>\n",
              "      <td>7217.240234</td>\n",
              "      <td>7224.120117</td>\n",
              "      <td>7011.399902</td>\n",
              "      <td>7028.479980</td>\n",
              "      <td>7028.479980</td>\n",
              "      <td>2354020000</td>\n",
              "      <td>7028.479980</td>\n",
              "      <td>7028.479980</td>\n",
              "      <td>7028.479980</td>\n",
              "    </tr>\n",
              "    <tr>\n",
              "      <th>2018-11-20</th>\n",
              "      <td>6867.430176</td>\n",
              "      <td>6994.750000</td>\n",
              "      <td>6830.759766</td>\n",
              "      <td>6908.819824</td>\n",
              "      <td>6908.819824</td>\n",
              "      <td>2664950000</td>\n",
              "      <td>6908.819824</td>\n",
              "      <td>6908.819824</td>\n",
              "      <td>6908.819824</td>\n",
              "    </tr>\n",
              "    <tr>\n",
              "      <th>2018-11-21</th>\n",
              "      <td>6985.509766</td>\n",
              "      <td>7029.930176</td>\n",
              "      <td>6951.620117</td>\n",
              "      <td>6972.250000</td>\n",
              "      <td>6972.250000</td>\n",
              "      <td>1858050000</td>\n",
              "      <td>6972.250000</td>\n",
              "      <td>6972.250000</td>\n",
              "      <td>6972.250000</td>\n",
              "    </tr>\n",
              "    <tr>\n",
              "      <th>2018-11-23</th>\n",
              "      <td>6919.520020</td>\n",
              "      <td>6987.890137</td>\n",
              "      <td>6919.160156</td>\n",
              "      <td>6938.979980</td>\n",
              "      <td>6938.979980</td>\n",
              "      <td>958950000</td>\n",
              "      <td>6938.979980</td>\n",
              "      <td>6938.979980</td>\n",
              "      <td>6938.979980</td>\n",
              "    </tr>\n",
              "    <tr>\n",
              "      <th>2018-11-26</th>\n",
              "      <td>7026.500000</td>\n",
              "      <td>7083.930176</td>\n",
              "      <td>7003.120117</td>\n",
              "      <td>7081.850098</td>\n",
              "      <td>7081.850098</td>\n",
              "      <td>2011180000</td>\n",
              "      <td>7081.850098</td>\n",
              "      <td>7081.850098</td>\n",
              "      <td>7081.850098</td>\n",
              "    </tr>\n",
              "    <tr>\n",
              "      <th>2018-11-27</th>\n",
              "      <td>7041.229980</td>\n",
              "      <td>7105.140137</td>\n",
              "      <td>7014.359863</td>\n",
              "      <td>7082.700195</td>\n",
              "      <td>7082.700195</td>\n",
              "      <td>2067360000</td>\n",
              "      <td>7082.700195</td>\n",
              "      <td>7082.700195</td>\n",
              "      <td>7082.700195</td>\n",
              "    </tr>\n",
              "    <tr>\n",
              "      <th>2018-11-28</th>\n",
              "      <td>7135.080078</td>\n",
              "      <td>7292.709961</td>\n",
              "      <td>7090.979980</td>\n",
              "      <td>7291.589844</td>\n",
              "      <td>7291.589844</td>\n",
              "      <td>2390260000</td>\n",
              "      <td>7291.589844</td>\n",
              "      <td>7291.589844</td>\n",
              "      <td>7291.589844</td>\n",
              "    </tr>\n",
              "    <tr>\n",
              "      <th>2018-11-29</th>\n",
              "      <td>7267.370117</td>\n",
              "      <td>7319.959961</td>\n",
              "      <td>7217.689941</td>\n",
              "      <td>7273.080078</td>\n",
              "      <td>7273.080078</td>\n",
              "      <td>1983460000</td>\n",
              "      <td>7273.080078</td>\n",
              "      <td>7273.080078</td>\n",
              "      <td>7273.080078</td>\n",
              "    </tr>\n",
              "    <tr>\n",
              "      <th>2018-11-30</th>\n",
              "      <td>7279.299805</td>\n",
              "      <td>7332.790039</td>\n",
              "      <td>7255.680176</td>\n",
              "      <td>7330.540039</td>\n",
              "      <td>7330.540039</td>\n",
              "      <td>2542820000</td>\n",
              "      <td>7330.540039</td>\n",
              "      <td>7330.540039</td>\n",
              "      <td>7330.540039</td>\n",
              "    </tr>\n",
              "    <tr>\n",
              "      <th>2018-12-03</th>\n",
              "      <td>7486.129883</td>\n",
              "      <td>7486.509766</td>\n",
              "      <td>7392.220215</td>\n",
              "      <td>7441.509766</td>\n",
              "      <td>7441.509766</td>\n",
              "      <td>2621020000</td>\n",
              "      <td>7441.509766</td>\n",
              "      <td>7441.509766</td>\n",
              "      <td>7441.509766</td>\n",
              "    </tr>\n",
              "    <tr>\n",
              "      <th>2018-12-04</th>\n",
              "      <td>7407.950195</td>\n",
              "      <td>7421.109863</td>\n",
              "      <td>7150.109863</td>\n",
              "      <td>7158.430176</td>\n",
              "      <td>7158.430176</td>\n",
              "      <td>2635810000</td>\n",
              "      <td>7158.430176</td>\n",
              "      <td>7158.430176</td>\n",
              "      <td>7158.430176</td>\n",
              "    </tr>\n",
              "    <tr>\n",
              "      <th>2018-12-06</th>\n",
              "      <td>7017.049805</td>\n",
              "      <td>7189.520020</td>\n",
              "      <td>6984.339844</td>\n",
              "      <td>7188.259766</td>\n",
              "      <td>7188.259766</td>\n",
              "      <td>2833870000</td>\n",
              "      <td>7188.259766</td>\n",
              "      <td>7188.259766</td>\n",
              "      <td>7188.259766</td>\n",
              "    </tr>\n",
              "    <tr>\n",
              "      <th>2018-12-07</th>\n",
              "      <td>7163.490234</td>\n",
              "      <td>7205.370117</td>\n",
              "      <td>6945.270020</td>\n",
              "      <td>6969.250000</td>\n",
              "      <td>6969.250000</td>\n",
              "      <td>2475160000</td>\n",
              "      <td>6969.250000</td>\n",
              "      <td>6969.250000</td>\n",
              "      <td>6969.250000</td>\n",
              "    </tr>\n",
              "    <tr>\n",
              "      <th>2018-12-10</th>\n",
              "      <td>6959.629883</td>\n",
              "      <td>7047.620117</td>\n",
              "      <td>6878.990234</td>\n",
              "      <td>7020.520020</td>\n",
              "      <td>7020.520020</td>\n",
              "      <td>2367560000</td>\n",
              "      <td>7020.520020</td>\n",
              "      <td>7020.520020</td>\n",
              "      <td>7020.520020</td>\n",
              "    </tr>\n",
              "    <tr>\n",
              "      <th>2018-12-11</th>\n",
              "      <td>7121.660156</td>\n",
              "      <td>7129.830078</td>\n",
              "      <td>6983.009766</td>\n",
              "      <td>7031.830078</td>\n",
              "      <td>7031.830078</td>\n",
              "      <td>2246060000</td>\n",
              "      <td>7031.830078</td>\n",
              "      <td>7031.830078</td>\n",
              "      <td>7031.830078</td>\n",
              "    </tr>\n",
              "    <tr>\n",
              "      <th>2018-12-12</th>\n",
              "      <td>7127.000000</td>\n",
              "      <td>7197.290039</td>\n",
              "      <td>7096.560059</td>\n",
              "      <td>7098.310059</td>\n",
              "      <td>7098.310059</td>\n",
              "      <td>2412300000</td>\n",
              "      <td>7098.310059</td>\n",
              "      <td>7098.310059</td>\n",
              "      <td>7098.310059</td>\n",
              "    </tr>\n",
              "    <tr>\n",
              "      <th>2018-12-13</th>\n",
              "      <td>7135.279785</td>\n",
              "      <td>7154.640137</td>\n",
              "      <td>7034.819824</td>\n",
              "      <td>7070.330078</td>\n",
              "      <td>7070.330078</td>\n",
              "      <td>2143520000</td>\n",
              "      <td>7070.330078</td>\n",
              "      <td>7070.330078</td>\n",
              "      <td>7070.330078</td>\n",
              "    </tr>\n",
              "    <tr>\n",
              "      <th>2018-12-14</th>\n",
              "      <td>6986.370117</td>\n",
              "      <td>7027.169922</td>\n",
              "      <td>6898.990234</td>\n",
              "      <td>6910.660156</td>\n",
              "      <td>6910.660156</td>\n",
              "      <td>2200510000</td>\n",
              "      <td>6910.660156</td>\n",
              "      <td>6910.660156</td>\n",
              "      <td>6910.660156</td>\n",
              "    </tr>\n",
              "    <tr>\n",
              "      <th>2018-12-17</th>\n",
              "      <td>6886.459961</td>\n",
              "      <td>6931.810059</td>\n",
              "      <td>6710.009766</td>\n",
              "      <td>6753.729980</td>\n",
              "      <td>6753.729980</td>\n",
              "      <td>2665240000</td>\n",
              "      <td>6753.729980</td>\n",
              "      <td>6753.729980</td>\n",
              "      <td>6753.729980</td>\n",
              "    </tr>\n",
              "    <tr>\n",
              "      <th>2018-12-18</th>\n",
              "      <td>6809.819824</td>\n",
              "      <td>6847.270020</td>\n",
              "      <td>6733.709961</td>\n",
              "      <td>6783.910156</td>\n",
              "      <td>6783.910156</td>\n",
              "      <td>2595400000</td>\n",
              "      <td>6783.910156</td>\n",
              "      <td>6783.910156</td>\n",
              "      <td>6783.910156</td>\n",
              "    </tr>\n",
              "    <tr>\n",
              "      <th>2018-12-19</th>\n",
              "      <td>6777.589844</td>\n",
              "      <td>6868.859863</td>\n",
              "      <td>6586.500000</td>\n",
              "      <td>6636.830078</td>\n",
              "      <td>6636.830078</td>\n",
              "      <td>2899950000</td>\n",
              "      <td>6636.830078</td>\n",
              "      <td>6636.830078</td>\n",
              "      <td>6636.830078</td>\n",
              "    </tr>\n",
              "    <tr>\n",
              "      <th>2018-12-20</th>\n",
              "      <td>6607.759766</td>\n",
              "      <td>6666.200195</td>\n",
              "      <td>6447.910156</td>\n",
              "      <td>6528.410156</td>\n",
              "      <td>6528.410156</td>\n",
              "      <td>3258090000</td>\n",
              "      <td>6528.410156</td>\n",
              "      <td>6528.410156</td>\n",
              "      <td>6528.410156</td>\n",
              "    </tr>\n",
              "    <tr>\n",
              "      <th>2018-12-21</th>\n",
              "      <td>6573.490234</td>\n",
              "      <td>6586.680176</td>\n",
              "      <td>6304.629883</td>\n",
              "      <td>6332.990234</td>\n",
              "      <td>6332.990234</td>\n",
              "      <td>4534120000</td>\n",
              "      <td>6332.990234</td>\n",
              "      <td>6332.990234</td>\n",
              "      <td>6332.990234</td>\n",
              "    </tr>\n",
              "    <tr>\n",
              "      <th>2018-12-24</th>\n",
              "      <td>6278.490234</td>\n",
              "      <td>6355.180176</td>\n",
              "      <td>6190.169922</td>\n",
              "      <td>6192.919922</td>\n",
              "      <td>6192.919922</td>\n",
              "      <td>1647270000</td>\n",
              "      <td>6192.919922</td>\n",
              "      <td>6192.919922</td>\n",
              "      <td>6192.919922</td>\n",
              "    </tr>\n",
              "    <tr>\n",
              "      <th>2018-12-26</th>\n",
              "      <td>6257.859863</td>\n",
              "      <td>6555.529785</td>\n",
              "      <td>6214.339844</td>\n",
              "      <td>6554.359863</td>\n",
              "      <td>6554.359863</td>\n",
              "      <td>2558940000</td>\n",
              "      <td>6554.359863</td>\n",
              "      <td>6554.359863</td>\n",
              "      <td>6554.359863</td>\n",
              "    </tr>\n",
              "    <tr>\n",
              "      <th>2018-12-27</th>\n",
              "      <td>6457.189941</td>\n",
              "      <td>6583.009766</td>\n",
              "      <td>6336.970215</td>\n",
              "      <td>6579.490234</td>\n",
              "      <td>6579.490234</td>\n",
              "      <td>2415870000</td>\n",
              "      <td>6579.490234</td>\n",
              "      <td>6579.490234</td>\n",
              "      <td>6579.490234</td>\n",
              "    </tr>\n",
              "    <tr>\n",
              "      <th>2018-12-28</th>\n",
              "      <td>6616.790039</td>\n",
              "      <td>6684.180176</td>\n",
              "      <td>6529.220215</td>\n",
              "      <td>6584.520020</td>\n",
              "      <td>6584.520020</td>\n",
              "      <td>2199090000</td>\n",
              "      <td>6584.520020</td>\n",
              "      <td>6584.520020</td>\n",
              "      <td>6584.520020</td>\n",
              "    </tr>\n",
              "    <tr>\n",
              "      <th>2018-12-31</th>\n",
              "      <td>6649.520020</td>\n",
              "      <td>6659.959961</td>\n",
              "      <td>6570.060059</td>\n",
              "      <td>6635.279785</td>\n",
              "      <td>6635.279785</td>\n",
              "      <td>2098560000</td>\n",
              "      <td>6635.279785</td>\n",
              "      <td>6635.279785</td>\n",
              "      <td>6635.279785</td>\n",
              "    </tr>\n",
              "    <tr>\n",
              "      <th>2019-01-02</th>\n",
              "      <td>6506.910156</td>\n",
              "      <td>6693.709961</td>\n",
              "      <td>6506.879883</td>\n",
              "      <td>6665.939941</td>\n",
              "      <td>6665.939941</td>\n",
              "      <td>2261800000</td>\n",
              "      <td>6665.939941</td>\n",
              "      <td>6665.939941</td>\n",
              "      <td>6665.939941</td>\n",
              "    </tr>\n",
              "    <tr>\n",
              "      <th>2019-01-03</th>\n",
              "      <td>6584.770020</td>\n",
              "      <td>6600.209961</td>\n",
              "      <td>6457.129883</td>\n",
              "      <td>6463.500000</td>\n",
              "      <td>6463.500000</td>\n",
              "      <td>2607290000</td>\n",
              "      <td>6463.500000</td>\n",
              "      <td>6463.500000</td>\n",
              "      <td>6463.500000</td>\n",
              "    </tr>\n",
              "    <tr>\n",
              "      <th>2019-01-04</th>\n",
              "      <td>6567.140137</td>\n",
              "      <td>6760.689941</td>\n",
              "      <td>6554.240234</td>\n",
              "      <td>6738.859863</td>\n",
              "      <td>6738.859863</td>\n",
              "      <td>2579550000</td>\n",
              "      <td>6738.859863</td>\n",
              "      <td>6738.859863</td>\n",
              "      <td>6738.859863</td>\n",
              "    </tr>\n",
              "    <tr>\n",
              "      <th>2019-01-07</th>\n",
              "      <td>6757.529785</td>\n",
              "      <td>6855.600098</td>\n",
              "      <td>6741.399902</td>\n",
              "      <td>6823.470215</td>\n",
              "      <td>6823.470215</td>\n",
              "      <td>2507550000</td>\n",
              "      <td>6823.470215</td>\n",
              "      <td>6823.470215</td>\n",
              "      <td>6823.470215</td>\n",
              "    </tr>\n",
              "    <tr>\n",
              "      <th>2019-01-08</th>\n",
              "      <td>6893.439941</td>\n",
              "      <td>6909.580078</td>\n",
              "      <td>6795.859863</td>\n",
              "      <td>6897.000000</td>\n",
              "      <td>6897.000000</td>\n",
              "      <td>2380290000</td>\n",
              "      <td>6897.000000</td>\n",
              "      <td>6897.000000</td>\n",
              "      <td>6897.000000</td>\n",
              "    </tr>\n",
              "    <tr>\n",
              "      <th>2019-01-09</th>\n",
              "      <td>6923.060059</td>\n",
              "      <td>6985.220215</td>\n",
              "      <td>6899.560059</td>\n",
              "      <td>6957.080078</td>\n",
              "      <td>6957.080078</td>\n",
              "      <td>2422590000</td>\n",
              "      <td>6957.080078</td>\n",
              "      <td>6957.080078</td>\n",
              "      <td>6957.080078</td>\n",
              "    </tr>\n",
              "    <tr>\n",
              "      <th>2019-01-10</th>\n",
              "      <td>6908.649902</td>\n",
              "      <td>6991.370117</td>\n",
              "      <td>6877.080078</td>\n",
              "      <td>6986.069824</td>\n",
              "      <td>6986.069824</td>\n",
              "      <td>2179080000</td>\n",
              "      <td>6986.069824</td>\n",
              "      <td>6986.069824</td>\n",
              "      <td>6986.069824</td>\n",
              "    </tr>\n",
              "    <tr>\n",
              "      <th>2019-01-11</th>\n",
              "      <td>6947.459961</td>\n",
              "      <td>6975.649902</td>\n",
              "      <td>6933.600098</td>\n",
              "      <td>6971.479980</td>\n",
              "      <td>6971.479980</td>\n",
              "      <td>2066500000</td>\n",
              "      <td>6971.479980</td>\n",
              "      <td>6971.479980</td>\n",
              "      <td>6971.479980</td>\n",
              "    </tr>\n",
              "    <tr>\n",
              "      <th>2019-01-14</th>\n",
              "      <td>6908.029785</td>\n",
              "      <td>6936.220215</td>\n",
              "      <td>6887.479980</td>\n",
              "      <td>6905.919922</td>\n",
              "      <td>6905.919922</td>\n",
              "      <td>1942210000</td>\n",
              "      <td>6905.919922</td>\n",
              "      <td>6905.919922</td>\n",
              "      <td>6905.919922</td>\n",
              "    </tr>\n",
              "    <tr>\n",
              "      <th>2019-01-15</th>\n",
              "      <td>6931.390137</td>\n",
              "      <td>7025.850098</td>\n",
              "      <td>6928.120117</td>\n",
              "      <td>7023.830078</td>\n",
              "      <td>7023.830078</td>\n",
              "      <td>2038090000</td>\n",
              "      <td>7023.830078</td>\n",
              "      <td>7023.830078</td>\n",
              "      <td>7023.830078</td>\n",
              "    </tr>\n",
              "    <tr>\n",
              "      <th>2019-01-16</th>\n",
              "      <td>7033.750000</td>\n",
              "      <td>7079.629883</td>\n",
              "      <td>7028.120117</td>\n",
              "      <td>7034.689941</td>\n",
              "      <td>7034.689941</td>\n",
              "      <td>2149580000</td>\n",
              "      <td>7034.689941</td>\n",
              "      <td>7034.689941</td>\n",
              "      <td>7034.689941</td>\n",
              "    </tr>\n",
              "    <tr>\n",
              "      <th>2019-01-17</th>\n",
              "      <td>7010.129883</td>\n",
              "      <td>7113.950195</td>\n",
              "      <td>7003.620117</td>\n",
              "      <td>7084.459961</td>\n",
              "      <td>7084.459961</td>\n",
              "      <td>2128840000</td>\n",
              "      <td>7084.459961</td>\n",
              "      <td>7084.459961</td>\n",
              "      <td>7084.459961</td>\n",
              "    </tr>\n",
              "    <tr>\n",
              "      <th>2019-01-18</th>\n",
              "      <td>7134.100098</td>\n",
              "      <td>7185.379883</td>\n",
              "      <td>7096.620117</td>\n",
              "      <td>7157.229980</td>\n",
              "      <td>7157.229980</td>\n",
              "      <td>2451240000</td>\n",
              "      <td>7157.229980</td>\n",
              "      <td>7157.229980</td>\n",
              "      <td>7157.229980</td>\n",
              "    </tr>\n",
              "    <tr>\n",
              "      <th>2019-01-22</th>\n",
              "      <td>7109.569824</td>\n",
              "      <td>7110.160156</td>\n",
              "      <td>6979.810059</td>\n",
              "      <td>7020.359863</td>\n",
              "      <td>7020.359863</td>\n",
              "      <td>2380950000</td>\n",
              "      <td>7020.359863</td>\n",
              "      <td>7020.359863</td>\n",
              "      <td>7020.359863</td>\n",
              "    </tr>\n",
              "    <tr>\n",
              "      <th>2019-01-23</th>\n",
              "      <td>7061.649902</td>\n",
              "      <td>7084.850098</td>\n",
              "      <td>6953.229980</td>\n",
              "      <td>7025.770020</td>\n",
              "      <td>7025.770020</td>\n",
              "      <td>2274420000</td>\n",
              "      <td>7025.770020</td>\n",
              "      <td>7025.770020</td>\n",
              "      <td>7025.770020</td>\n",
              "    </tr>\n",
              "    <tr>\n",
              "      <th>2019-01-24</th>\n",
              "      <td>7042.250000</td>\n",
              "      <td>7078.959961</td>\n",
              "      <td>7029.950195</td>\n",
              "      <td>7073.459961</td>\n",
              "      <td>7073.459961</td>\n",
              "      <td>2400290000</td>\n",
              "      <td>7073.459961</td>\n",
              "      <td>7073.459961</td>\n",
              "      <td>7073.459961</td>\n",
              "    </tr>\n",
              "    <tr>\n",
              "      <th>2019-01-25</th>\n",
              "      <td>7128.180176</td>\n",
              "      <td>7174.560059</td>\n",
              "      <td>7111.089844</td>\n",
              "      <td>7164.859863</td>\n",
              "      <td>7164.859863</td>\n",
              "      <td>2440840000</td>\n",
              "      <td>7164.859863</td>\n",
              "      <td>7164.859863</td>\n",
              "      <td>7164.859863</td>\n",
              "    </tr>\n",
              "    <tr>\n",
              "      <th>2019-01-28</th>\n",
              "      <td>7075.009766</td>\n",
              "      <td>7086.299805</td>\n",
              "      <td>7034.250000</td>\n",
              "      <td>7085.680176</td>\n",
              "      <td>7085.680176</td>\n",
              "      <td>2435480000</td>\n",
              "      <td>7085.680176</td>\n",
              "      <td>7085.680176</td>\n",
              "      <td>7085.680176</td>\n",
              "    </tr>\n",
              "    <tr>\n",
              "      <th>2019-01-29</th>\n",
              "      <td>7087.490234</td>\n",
              "      <td>7092.290039</td>\n",
              "      <td>7011.470215</td>\n",
              "      <td>7028.290039</td>\n",
              "      <td>7028.290039</td>\n",
              "      <td>2089690000</td>\n",
              "      <td>7028.290039</td>\n",
              "      <td>7028.290039</td>\n",
              "      <td>7028.290039</td>\n",
              "    </tr>\n",
              "    <tr>\n",
              "      <th>2019-01-30</th>\n",
              "      <td>7094.790039</td>\n",
              "      <td>7201.310059</td>\n",
              "      <td>7065.569824</td>\n",
              "      <td>7183.080078</td>\n",
              "      <td>7183.080078</td>\n",
              "      <td>2544050000</td>\n",
              "      <td>7183.080078</td>\n",
              "      <td>7183.080078</td>\n",
              "      <td>7183.080078</td>\n",
              "    </tr>\n",
              "    <tr>\n",
              "      <th>2019-01-31</th>\n",
              "      <td>7208.169922</td>\n",
              "      <td>7303.120117</td>\n",
              "      <td>7205.950195</td>\n",
              "      <td>7281.740234</td>\n",
              "      <td>7281.740234</td>\n",
              "      <td>2918710000</td>\n",
              "      <td>7281.740234</td>\n",
              "      <td>7281.740234</td>\n",
              "      <td>7281.740234</td>\n",
              "    </tr>\n",
              "    <tr>\n",
              "      <th>2019-02-01</th>\n",
              "      <td>7256.370117</td>\n",
              "      <td>7299.939941</td>\n",
              "      <td>7243.410156</td>\n",
              "      <td>7263.870117</td>\n",
              "      <td>7263.870117</td>\n",
              "      <td>2383430000</td>\n",
              "      <td>7263.870117</td>\n",
              "      <td>7263.870117</td>\n",
              "      <td>7263.870117</td>\n",
              "    </tr>\n",
              "    <tr>\n",
              "      <th>2019-02-04</th>\n",
              "      <td>7266.279785</td>\n",
              "      <td>7348.229980</td>\n",
              "      <td>7261.069824</td>\n",
              "      <td>7347.540039</td>\n",
              "      <td>7347.540039</td>\n",
              "      <td>2099470000</td>\n",
              "      <td>7347.540039</td>\n",
              "      <td>7347.540039</td>\n",
              "      <td>7347.540039</td>\n",
              "    </tr>\n",
              "    <tr>\n",
              "      <th>2019-02-05</th>\n",
              "      <td>7356.339844</td>\n",
              "      <td>7408.680176</td>\n",
              "      <td>7355.359863</td>\n",
              "      <td>7402.080078</td>\n",
              "      <td>7402.080078</td>\n",
              "      <td>2265520000</td>\n",
              "      <td>7402.080078</td>\n",
              "      <td>7402.080078</td>\n",
              "      <td>7402.080078</td>\n",
              "    </tr>\n",
              "    <tr>\n",
              "      <th>2019-02-06</th>\n",
              "      <td>7400.439941</td>\n",
              "      <td>7410.770020</td>\n",
              "      <td>7346.720215</td>\n",
              "      <td>7375.279785</td>\n",
              "      <td>7375.279785</td>\n",
              "      <td>2167130000</td>\n",
              "      <td>7375.279785</td>\n",
              "      <td>7375.279785</td>\n",
              "      <td>7375.279785</td>\n",
              "    </tr>\n",
              "    <tr>\n",
              "      <th>2019-02-07</th>\n",
              "      <td>7316.500000</td>\n",
              "      <td>7336.740234</td>\n",
              "      <td>7235.049805</td>\n",
              "      <td>7288.350098</td>\n",
              "      <td>7288.350098</td>\n",
              "      <td>2295080000</td>\n",
              "      <td>7288.350098</td>\n",
              "      <td>7288.350098</td>\n",
              "      <td>7288.350098</td>\n",
              "    </tr>\n",
              "    <tr>\n",
              "      <th>2019-02-08</th>\n",
              "      <td>7232.299805</td>\n",
              "      <td>7299.439941</td>\n",
              "      <td>7225.140137</td>\n",
              "      <td>7298.200195</td>\n",
              "      <td>7298.200195</td>\n",
              "      <td>2086260000</td>\n",
              "      <td>7298.200195</td>\n",
              "      <td>7298.200195</td>\n",
              "      <td>7298.200195</td>\n",
              "    </tr>\n",
              "    <tr>\n",
              "      <th>2019-02-11</th>\n",
              "      <td>7327.370117</td>\n",
              "      <td>7343.560059</td>\n",
              "      <td>7290.029785</td>\n",
              "      <td>7307.899902</td>\n",
              "      <td>7307.899902</td>\n",
              "      <td>1897800000</td>\n",
              "      <td>7307.899902</td>\n",
              "      <td>7307.899902</td>\n",
              "      <td>7307.899902</td>\n",
              "    </tr>\n",
              "    <tr>\n",
              "      <th>2019-02-12</th>\n",
              "      <td>7358.850098</td>\n",
              "      <td>7419.430176</td>\n",
              "      <td>7349.799805</td>\n",
              "      <td>7414.620117</td>\n",
              "      <td>7414.620117</td>\n",
              "      <td>2124330000</td>\n",
              "      <td>7414.620117</td>\n",
              "      <td>7414.620117</td>\n",
              "      <td>7414.620117</td>\n",
              "    </tr>\n",
              "    <tr>\n",
              "      <th>2019-02-13</th>\n",
              "      <td>7437.459961</td>\n",
              "      <td>7461.660156</td>\n",
              "      <td>7413.839844</td>\n",
              "      <td>7420.379883</td>\n",
              "      <td>7420.379883</td>\n",
              "      <td>2093800000</td>\n",
              "      <td>7420.379883</td>\n",
              "      <td>7420.379883</td>\n",
              "      <td>7420.379883</td>\n",
              "    </tr>\n",
              "    <tr>\n",
              "      <th>2019-02-14</th>\n",
              "      <td>7390.250000</td>\n",
              "      <td>7454.419922</td>\n",
              "      <td>7375.709961</td>\n",
              "      <td>7426.950195</td>\n",
              "      <td>7426.950195</td>\n",
              "      <td>2103370000</td>\n",
              "      <td>7426.950195</td>\n",
              "      <td>7426.950195</td>\n",
              "      <td>7426.950195</td>\n",
              "    </tr>\n",
              "    <tr>\n",
              "      <th>2019-02-15</th>\n",
              "      <td>7468.569824</td>\n",
              "      <td>7477.279785</td>\n",
              "      <td>7440.259766</td>\n",
              "      <td>7472.410156</td>\n",
              "      <td>7472.410156</td>\n",
              "      <td>2257750000</td>\n",
              "      <td>7472.410156</td>\n",
              "      <td>7472.410156</td>\n",
              "      <td>7472.410156</td>\n",
              "    </tr>\n",
              "    <tr>\n",
              "      <th>2019-02-19</th>\n",
              "      <td>7450.750000</td>\n",
              "      <td>7507.790039</td>\n",
              "      <td>7450.270020</td>\n",
              "      <td>7486.770020</td>\n",
              "      <td>7486.770020</td>\n",
              "      <td>2120790000</td>\n",
              "      <td>7486.770020</td>\n",
              "      <td>7486.770020</td>\n",
              "      <td>7486.770020</td>\n",
              "    </tr>\n",
              "    <tr>\n",
              "      <th>2019-02-20</th>\n",
              "      <td>7490.310059</td>\n",
              "      <td>7513.700195</td>\n",
              "      <td>7455.250000</td>\n",
              "      <td>7489.069824</td>\n",
              "      <td>7489.069824</td>\n",
              "      <td>2181760000</td>\n",
              "      <td>7489.069824</td>\n",
              "      <td>7489.069824</td>\n",
              "      <td>7489.069824</td>\n",
              "    </tr>\n",
              "    <tr>\n",
              "      <th>2019-02-21</th>\n",
              "      <td>7475.410156</td>\n",
              "      <td>7485.750000</td>\n",
              "      <td>7430.890137</td>\n",
              "      <td>7459.709961</td>\n",
              "      <td>7459.709961</td>\n",
              "      <td>2119080000</td>\n",
              "      <td>7459.709961</td>\n",
              "      <td>7459.709961</td>\n",
              "      <td>7459.709961</td>\n",
              "    </tr>\n",
              "    <tr>\n",
              "      <th>2019-02-22</th>\n",
              "      <td>7481.629883</td>\n",
              "      <td>7527.540039</td>\n",
              "      <td>7479.009766</td>\n",
              "      <td>7527.540039</td>\n",
              "      <td>7527.540039</td>\n",
              "      <td>2417680000</td>\n",
              "      <td>7527.540039</td>\n",
              "      <td>7527.540039</td>\n",
              "      <td>7527.540039</td>\n",
              "    </tr>\n",
              "    <tr>\n",
              "      <th>2019-02-25</th>\n",
              "      <td>7585.299805</td>\n",
              "      <td>7602.689941</td>\n",
              "      <td>7551.609863</td>\n",
              "      <td>7554.459961</td>\n",
              "      <td>7554.459961</td>\n",
              "      <td>2363140000</td>\n",
              "      <td>7554.459961</td>\n",
              "      <td>7554.459961</td>\n",
              "      <td>7554.459961</td>\n",
              "    </tr>\n",
              "    <tr>\n",
              "      <th>2019-02-26</th>\n",
              "      <td>7535.290039</td>\n",
              "      <td>7573.220215</td>\n",
              "      <td>7524.310059</td>\n",
              "      <td>7549.299805</td>\n",
              "      <td>7549.299805</td>\n",
              "      <td>2257710000</td>\n",
              "      <td>7549.299805</td>\n",
              "      <td>7549.299805</td>\n",
              "      <td>7549.299805</td>\n",
              "    </tr>\n",
              "    <tr>\n",
              "      <th>2019-02-27</th>\n",
              "      <td>7526.419922</td>\n",
              "      <td>7562.290039</td>\n",
              "      <td>7485.390137</td>\n",
              "      <td>7554.509766</td>\n",
              "      <td>7554.509766</td>\n",
              "      <td>2423360000</td>\n",
              "      <td>7554.509766</td>\n",
              "      <td>7554.509766</td>\n",
              "      <td>7554.509766</td>\n",
              "    </tr>\n",
              "    <tr>\n",
              "      <th>2019-02-28</th>\n",
              "      <td>7533.310059</td>\n",
              "      <td>7561.899902</td>\n",
              "      <td>7516.479980</td>\n",
              "      <td>7532.529785</td>\n",
              "      <td>7532.529785</td>\n",
              "      <td>2647080000</td>\n",
              "      <td>7532.529785</td>\n",
              "      <td>7532.529785</td>\n",
              "      <td>7532.529785</td>\n",
              "    </tr>\n",
              "    <tr>\n",
              "      <th>2019-03-01</th>\n",
              "      <td>7587.450195</td>\n",
              "      <td>7603.040039</td>\n",
              "      <td>7540.750000</td>\n",
              "      <td>7595.350098</td>\n",
              "      <td>7595.350098</td>\n",
              "      <td>2463190000</td>\n",
              "      <td>7595.350098</td>\n",
              "      <td>7595.350098</td>\n",
              "      <td>7595.350098</td>\n",
              "    </tr>\n",
              "    <tr>\n",
              "      <th>2019-03-04</th>\n",
              "      <td>7636.620117</td>\n",
              "      <td>7643.660156</td>\n",
              "      <td>7501.560059</td>\n",
              "      <td>7577.569824</td>\n",
              "      <td>7577.569824</td>\n",
              "      <td>2569590000</td>\n",
              "      <td>7577.569824</td>\n",
              "      <td>7577.569824</td>\n",
              "      <td>7577.569824</td>\n",
              "    </tr>\n",
              "    <tr>\n",
              "      <th>2019-03-05</th>\n",
              "      <td>7582.290039</td>\n",
              "      <td>7598.660156</td>\n",
              "      <td>7543.540039</td>\n",
              "      <td>7576.359863</td>\n",
              "      <td>7576.359863</td>\n",
              "      <td>2142610000</td>\n",
              "      <td>7576.359863</td>\n",
              "      <td>7576.359863</td>\n",
              "      <td>7576.359863</td>\n",
              "    </tr>\n",
              "    <tr>\n",
              "      <th>2019-03-06</th>\n",
              "      <td>7575.379883</td>\n",
              "      <td>7579.020020</td>\n",
              "      <td>7499.870117</td>\n",
              "      <td>7505.919922</td>\n",
              "      <td>7505.919922</td>\n",
              "      <td>2242810000</td>\n",
              "      <td>7505.919922</td>\n",
              "      <td>7505.919922</td>\n",
              "      <td>7505.919922</td>\n",
              "    </tr>\n",
              "    <tr>\n",
              "      <th>2019-03-07</th>\n",
              "      <td>7483.790039</td>\n",
              "      <td>7489.080078</td>\n",
              "      <td>7397.189941</td>\n",
              "      <td>7421.459961</td>\n",
              "      <td>7421.459961</td>\n",
              "      <td>2440840000</td>\n",
              "      <td>7421.459961</td>\n",
              "      <td>7421.459961</td>\n",
              "      <td>7421.459961</td>\n",
              "    </tr>\n",
              "    <tr>\n",
              "      <th>2019-03-08</th>\n",
              "      <td>7334.350098</td>\n",
              "      <td>7411.520020</td>\n",
              "      <td>7332.919922</td>\n",
              "      <td>7408.140137</td>\n",
              "      <td>7408.140137</td>\n",
              "      <td>2245430000</td>\n",
              "      <td>7408.140137</td>\n",
              "      <td>7408.140137</td>\n",
              "      <td>7408.140137</td>\n",
              "    </tr>\n",
              "    <tr>\n",
              "      <th>2019-03-11</th>\n",
              "      <td>7442.560059</td>\n",
              "      <td>7558.229980</td>\n",
              "      <td>7442.399902</td>\n",
              "      <td>7558.060059</td>\n",
              "      <td>7558.060059</td>\n",
              "      <td>2226950000</td>\n",
              "      <td>7558.060059</td>\n",
              "      <td>7558.060059</td>\n",
              "      <td>7558.060059</td>\n",
              "    </tr>\n",
              "    <tr>\n",
              "      <th>2019-03-12</th>\n",
              "      <td>7571.850098</td>\n",
              "      <td>7611.129883</td>\n",
              "      <td>7560.459961</td>\n",
              "      <td>7591.029785</td>\n",
              "      <td>7591.029785</td>\n",
              "      <td>2161400000</td>\n",
              "      <td>7591.029785</td>\n",
              "      <td>7591.029785</td>\n",
              "      <td>7591.029785</td>\n",
              "    </tr>\n",
              "    <tr>\n",
              "      <th>2019-03-13</th>\n",
              "      <td>7621.379883</td>\n",
              "      <td>7677.069824</td>\n",
              "      <td>7619.459961</td>\n",
              "      <td>7643.410156</td>\n",
              "      <td>7643.410156</td>\n",
              "      <td>2366350000</td>\n",
              "      <td>7643.410156</td>\n",
              "      <td>7643.410156</td>\n",
              "      <td>7643.410156</td>\n",
              "    </tr>\n",
              "    <tr>\n",
              "      <th>2019-03-14</th>\n",
              "      <td>7644.790039</td>\n",
              "      <td>7653.100098</td>\n",
              "      <td>7627.020020</td>\n",
              "      <td>7630.910156</td>\n",
              "      <td>7630.910156</td>\n",
              "      <td>2176510000</td>\n",
              "      <td>7630.910156</td>\n",
              "      <td>7630.910156</td>\n",
              "      <td>7630.910156</td>\n",
              "    </tr>\n",
              "    <tr>\n",
              "      <th>2019-03-15</th>\n",
              "      <td>7658.410156</td>\n",
              "      <td>7714.959961</td>\n",
              "      <td>7652.040039</td>\n",
              "      <td>7688.529785</td>\n",
              "      <td>7688.529785</td>\n",
              "      <td>3447190000</td>\n",
              "      <td>7688.529785</td>\n",
              "      <td>7688.529785</td>\n",
              "      <td>7688.529785</td>\n",
              "    </tr>\n",
              "    <tr>\n",
              "      <th>2019-03-18</th>\n",
              "      <td>7696.379883</td>\n",
              "      <td>7737.669922</td>\n",
              "      <td>7677.740234</td>\n",
              "      <td>7714.479980</td>\n",
              "      <td>7714.479980</td>\n",
              "      <td>2274490000</td>\n",
              "      <td>7714.479980</td>\n",
              "      <td>7714.479980</td>\n",
              "      <td>7714.479980</td>\n",
              "    </tr>\n",
              "    <tr>\n",
              "      <th>2019-03-19</th>\n",
              "      <td>7747.399902</td>\n",
              "      <td>7767.890137</td>\n",
              "      <td>7699.149902</td>\n",
              "      <td>7723.950195</td>\n",
              "      <td>7723.950195</td>\n",
              "      <td>2433160000</td>\n",
              "      <td>7723.950195</td>\n",
              "      <td>7723.950195</td>\n",
              "      <td>7723.950195</td>\n",
              "    </tr>\n",
              "    <tr>\n",
              "      <th>2019-03-20</th>\n",
              "      <td>7721.950195</td>\n",
              "      <td>7779.240234</td>\n",
              "      <td>7674.040039</td>\n",
              "      <td>7728.970215</td>\n",
              "      <td>7728.970215</td>\n",
              "      <td>2424400000</td>\n",
              "      <td>7728.970215</td>\n",
              "      <td>7728.970215</td>\n",
              "      <td>7728.970215</td>\n",
              "    </tr>\n",
              "    <tr>\n",
              "      <th>2019-03-21</th>\n",
              "      <td>7705.430176</td>\n",
              "      <td>7850.109863</td>\n",
              "      <td>7705.430176</td>\n",
              "      <td>7838.959961</td>\n",
              "      <td>7838.959961</td>\n",
              "      <td>2483580000</td>\n",
              "      <td>7838.959961</td>\n",
              "      <td>7838.959961</td>\n",
              "      <td>7838.959961</td>\n",
              "    </tr>\n",
              "    <tr>\n",
              "      <th>2019-03-22</th>\n",
              "      <td>7800.250000</td>\n",
              "      <td>7817.830078</td>\n",
              "      <td>7642.569824</td>\n",
              "      <td>7642.669922</td>\n",
              "      <td>7642.669922</td>\n",
              "      <td>2490730000</td>\n",
              "      <td>7642.669922</td>\n",
              "      <td>7642.669922</td>\n",
              "      <td>7642.669922</td>\n",
              "    </tr>\n",
              "    <tr>\n",
              "      <th>2019-03-25</th>\n",
              "      <td>7618.979980</td>\n",
              "      <td>7662.379883</td>\n",
              "      <td>7579.290039</td>\n",
              "      <td>7637.540039</td>\n",
              "      <td>7637.540039</td>\n",
              "      <td>2130230000</td>\n",
              "      <td>7637.540039</td>\n",
              "      <td>7637.540039</td>\n",
              "      <td>7637.540039</td>\n",
              "    </tr>\n",
              "    <tr>\n",
              "      <th>2019-03-26</th>\n",
              "      <td>7700.000000</td>\n",
              "      <td>7738.169922</td>\n",
              "      <td>7649.209961</td>\n",
              "      <td>7691.520020</td>\n",
              "      <td>7691.520020</td>\n",
              "      <td>2068900000</td>\n",
              "      <td>7691.520020</td>\n",
              "      <td>7691.520020</td>\n",
              "      <td>7691.520020</td>\n",
              "    </tr>\n",
              "    <tr>\n",
              "      <th>2019-03-27</th>\n",
              "      <td>7702.049805</td>\n",
              "      <td>7712.839844</td>\n",
              "      <td>7582.089844</td>\n",
              "      <td>7643.379883</td>\n",
              "      <td>7643.379883</td>\n",
              "      <td>2221650000</td>\n",
              "      <td>7643.379883</td>\n",
              "      <td>7643.379883</td>\n",
              "      <td>7643.379883</td>\n",
              "    </tr>\n",
              "    <tr>\n",
              "      <th>2019-03-28</th>\n",
              "      <td>7660.069824</td>\n",
              "      <td>7689.160156</td>\n",
              "      <td>7619.819824</td>\n",
              "      <td>7669.169922</td>\n",
              "      <td>7669.169922</td>\n",
              "      <td>1902060000</td>\n",
              "      <td>7669.169922</td>\n",
              "      <td>7669.169922</td>\n",
              "      <td>7669.169922</td>\n",
              "    </tr>\n",
              "    <tr>\n",
              "      <th>2019-03-29</th>\n",
              "      <td>7726.709961</td>\n",
              "      <td>7733.620117</td>\n",
              "      <td>7688.509766</td>\n",
              "      <td>7729.319824</td>\n",
              "      <td>7729.319824</td>\n",
              "      <td>2233470000</td>\n",
              "      <td>7729.319824</td>\n",
              "      <td>7729.319824</td>\n",
              "      <td>7729.319824</td>\n",
              "    </tr>\n",
              "    <tr>\n",
              "      <th>2019-04-01</th>\n",
              "      <td>7800.240234</td>\n",
              "      <td>7831.450195</td>\n",
              "      <td>7777.089844</td>\n",
              "      <td>7828.910156</td>\n",
              "      <td>7828.910156</td>\n",
              "      <td>2198050000</td>\n",
              "      <td>7828.910156</td>\n",
              "      <td>7828.910156</td>\n",
              "      <td>7828.910156</td>\n",
              "    </tr>\n",
              "    <tr>\n",
              "      <th>2019-04-02</th>\n",
              "      <td>7824.609863</td>\n",
              "      <td>7854.919922</td>\n",
              "      <td>7811.279785</td>\n",
              "      <td>7848.689941</td>\n",
              "      <td>7848.689941</td>\n",
              "      <td>2110100000</td>\n",
              "      <td>7848.689941</td>\n",
              "      <td>7848.689941</td>\n",
              "      <td>7848.689941</td>\n",
              "    </tr>\n",
              "    <tr>\n",
              "      <th>2019-04-03</th>\n",
              "      <td>7891.180176</td>\n",
              "      <td>7938.259766</td>\n",
              "      <td>7870.899902</td>\n",
              "      <td>7895.549805</td>\n",
              "      <td>7895.549805</td>\n",
              "      <td>2487210000</td>\n",
              "      <td>7895.549805</td>\n",
              "      <td>7895.549805</td>\n",
              "      <td>7895.549805</td>\n",
              "    </tr>\n",
              "    <tr>\n",
              "      <th>2019-04-04</th>\n",
              "      <td>7894.259766</td>\n",
              "      <td>7917.649902</td>\n",
              "      <td>7844.959961</td>\n",
              "      <td>7891.779785</td>\n",
              "      <td>7891.779785</td>\n",
              "      <td>2094200000</td>\n",
              "      <td>7891.779785</td>\n",
              "      <td>7891.779785</td>\n",
              "      <td>7891.779785</td>\n",
              "    </tr>\n",
              "    <tr>\n",
              "      <th>2019-04-05</th>\n",
              "      <td>7914.509766</td>\n",
              "      <td>7940.450195</td>\n",
              "      <td>7909.140137</td>\n",
              "      <td>7938.689941</td>\n",
              "      <td>7938.689941</td>\n",
              "      <td>2148730000</td>\n",
              "      <td>7938.689941</td>\n",
              "      <td>7938.689941</td>\n",
              "      <td>7938.689941</td>\n",
              "    </tr>\n",
              "    <tr>\n",
              "      <th>2019-04-08</th>\n",
              "      <td>7924.890137</td>\n",
              "      <td>7955.899902</td>\n",
              "      <td>7891.850098</td>\n",
              "      <td>7953.879883</td>\n",
              "      <td>7953.879883</td>\n",
              "      <td>2069190000</td>\n",
              "      <td>7953.879883</td>\n",
              "      <td>7953.879883</td>\n",
              "      <td>7953.879883</td>\n",
              "    </tr>\n",
              "    <tr>\n",
              "      <th>2019-04-09</th>\n",
              "      <td>7924.770020</td>\n",
              "      <td>7945.549805</td>\n",
              "      <td>7897.609863</td>\n",
              "      <td>7909.279785</td>\n",
              "      <td>7909.279785</td>\n",
              "      <td>2067570000</td>\n",
              "      <td>7909.279785</td>\n",
              "      <td>7909.279785</td>\n",
              "      <td>7909.279785</td>\n",
              "    </tr>\n",
              "    <tr>\n",
              "      <th>2019-04-10</th>\n",
              "      <td>7922.729980</td>\n",
              "      <td>7965.330078</td>\n",
              "      <td>7916.899902</td>\n",
              "      <td>7964.240234</td>\n",
              "      <td>7964.240234</td>\n",
              "      <td>1998280000</td>\n",
              "      <td>7964.240234</td>\n",
              "      <td>7964.240234</td>\n",
              "      <td>7964.240234</td>\n",
              "    </tr>\n",
              "    <tr>\n",
              "      <th>2019-04-11</th>\n",
              "      <td>7975.200195</td>\n",
              "      <td>7975.200195</td>\n",
              "      <td>7933.410156</td>\n",
              "      <td>7947.359863</td>\n",
              "      <td>7947.359863</td>\n",
              "      <td>1956840000</td>\n",
              "      <td>7947.359863</td>\n",
              "      <td>7947.359863</td>\n",
              "      <td>7947.359863</td>\n",
              "    </tr>\n",
              "    <tr>\n",
              "      <th>2019-04-12</th>\n",
              "      <td>7984.149902</td>\n",
              "      <td>7992.089844</td>\n",
              "      <td>7952.609863</td>\n",
              "      <td>7984.160156</td>\n",
              "      <td>7984.160156</td>\n",
              "      <td>1955290000</td>\n",
              "      <td>7984.160156</td>\n",
              "      <td>7984.160156</td>\n",
              "      <td>7984.160156</td>\n",
              "    </tr>\n",
              "    <tr>\n",
              "      <th>2019-04-15</th>\n",
              "      <td>7987.160156</td>\n",
              "      <td>7993.330078</td>\n",
              "      <td>7933.569824</td>\n",
              "      <td>7976.009766</td>\n",
              "      <td>7976.009766</td>\n",
              "      <td>1816920000</td>\n",
              "      <td>7976.009766</td>\n",
              "      <td>7976.009766</td>\n",
              "      <td>7976.009766</td>\n",
              "    </tr>\n",
              "    <tr>\n",
              "      <th>2019-04-16</th>\n",
              "      <td>8000.569824</td>\n",
              "      <td>8017.560059</td>\n",
              "      <td>7978.810059</td>\n",
              "      <td>8000.229980</td>\n",
              "      <td>8000.229980</td>\n",
              "      <td>2095330000</td>\n",
              "      <td>8000.229980</td>\n",
              "      <td>8000.229980</td>\n",
              "      <td>8000.229980</td>\n",
              "    </tr>\n",
              "    <tr>\n",
              "      <th>2019-04-17</th>\n",
              "      <td>8044.970215</td>\n",
              "      <td>8052.399902</td>\n",
              "      <td>7973.379883</td>\n",
              "      <td>7996.080078</td>\n",
              "      <td>7996.080078</td>\n",
              "      <td>2290690000</td>\n",
              "      <td>7996.080078</td>\n",
              "      <td>7996.080078</td>\n",
              "      <td>7996.080078</td>\n",
              "    </tr>\n",
              "    <tr>\n",
              "      <th>2019-04-18</th>\n",
              "      <td>7998.450195</td>\n",
              "      <td>8002.310059</td>\n",
              "      <td>7950.970215</td>\n",
              "      <td>7998.060059</td>\n",
              "      <td>7998.060059</td>\n",
              "      <td>2089360000</td>\n",
              "      <td>7998.060059</td>\n",
              "      <td>7998.060059</td>\n",
              "      <td>7998.060059</td>\n",
              "    </tr>\n",
              "    <tr>\n",
              "      <th>2019-04-22</th>\n",
              "      <td>7969.370117</td>\n",
              "      <td>8017.149902</td>\n",
              "      <td>7965.899902</td>\n",
              "      <td>8015.270020</td>\n",
              "      <td>8015.270020</td>\n",
              "      <td>1776060000</td>\n",
              "      <td>8015.270020</td>\n",
              "      <td>8015.270020</td>\n",
              "      <td>8015.270020</td>\n",
              "    </tr>\n",
              "    <tr>\n",
              "      <th>2019-04-23</th>\n",
              "      <td>8026.750000</td>\n",
              "      <td>8128.870117</td>\n",
              "      <td>8023.810059</td>\n",
              "      <td>8120.819824</td>\n",
              "      <td>8120.819824</td>\n",
              "      <td>2075070000</td>\n",
              "      <td>8120.819824</td>\n",
              "      <td>8120.819824</td>\n",
              "      <td>8120.819824</td>\n",
              "    </tr>\n",
              "    <tr>\n",
              "      <th>2019-04-24</th>\n",
              "      <td>8122.879883</td>\n",
              "      <td>8139.549805</td>\n",
              "      <td>8101.700195</td>\n",
              "      <td>8102.009766</td>\n",
              "      <td>8102.009766</td>\n",
              "      <td>2022490000</td>\n",
              "      <td>8102.009766</td>\n",
              "      <td>8102.009766</td>\n",
              "      <td>8102.009766</td>\n",
              "    </tr>\n",
              "    <tr>\n",
              "      <th>2019-04-25</th>\n",
              "      <td>8150.850098</td>\n",
              "      <td>8151.839844</td>\n",
              "      <td>8075.410156</td>\n",
              "      <td>8118.680176</td>\n",
              "      <td>8118.680176</td>\n",
              "      <td>2063270000</td>\n",
              "      <td>8118.680176</td>\n",
              "      <td>8118.680176</td>\n",
              "      <td>8118.680176</td>\n",
              "    </tr>\n",
              "    <tr>\n",
              "      <th>2019-04-26</th>\n",
              "      <td>8100.279785</td>\n",
              "      <td>8146.419922</td>\n",
              "      <td>8060.890137</td>\n",
              "      <td>8146.399902</td>\n",
              "      <td>8146.399902</td>\n",
              "      <td>1971270000</td>\n",
              "      <td>8146.399902</td>\n",
              "      <td>8146.399902</td>\n",
              "      <td>8146.399902</td>\n",
              "    </tr>\n",
              "    <tr>\n",
              "      <th>2019-04-29</th>\n",
              "      <td>8147.649902</td>\n",
              "      <td>8176.080078</td>\n",
              "      <td>8136.410156</td>\n",
              "      <td>8161.850098</td>\n",
              "      <td>8161.850098</td>\n",
              "      <td>1761110000</td>\n",
              "      <td>8161.850098</td>\n",
              "      <td>8161.850098</td>\n",
              "      <td>8161.850098</td>\n",
              "    </tr>\n",
              "    <tr>\n",
              "      <th>2019-04-30</th>\n",
              "      <td>8104.910156</td>\n",
              "      <td>8124.609863</td>\n",
              "      <td>8050.549805</td>\n",
              "      <td>8095.390137</td>\n",
              "      <td>8095.390137</td>\n",
              "      <td>2115770000</td>\n",
              "      <td>8095.390137</td>\n",
              "      <td>8095.390137</td>\n",
              "      <td>8095.390137</td>\n",
              "    </tr>\n",
              "    <tr>\n",
              "      <th>2019-05-01</th>\n",
              "      <td>8132.930176</td>\n",
              "      <td>8146.000000</td>\n",
              "      <td>8048.229980</td>\n",
              "      <td>8049.640137</td>\n",
              "      <td>8049.640137</td>\n",
              "      <td>2247420000</td>\n",
              "      <td>8049.640137</td>\n",
              "      <td>8049.640137</td>\n",
              "      <td>8049.640137</td>\n",
              "    </tr>\n",
              "    <tr>\n",
              "      <th>2019-05-02</th>\n",
              "      <td>8046.479980</td>\n",
              "      <td>8094.060059</td>\n",
              "      <td>7976.770020</td>\n",
              "      <td>8036.770020</td>\n",
              "      <td>8036.770020</td>\n",
              "      <td>2158600000</td>\n",
              "      <td>8036.770020</td>\n",
              "      <td>8036.770020</td>\n",
              "      <td>8036.770020</td>\n",
              "    </tr>\n",
              "    <tr>\n",
              "      <th>2019-05-03</th>\n",
              "      <td>8092.879883</td>\n",
              "      <td>8164.709961</td>\n",
              "      <td>8084.799805</td>\n",
              "      <td>8164.000000</td>\n",
              "      <td>8164.000000</td>\n",
              "      <td>2046040000</td>\n",
              "      <td>8164.000000</td>\n",
              "      <td>8164.000000</td>\n",
              "      <td>8164.000000</td>\n",
              "    </tr>\n",
              "    <tr>\n",
              "      <th>2019-05-06</th>\n",
              "      <td>7981.850098</td>\n",
              "      <td>8135.540039</td>\n",
              "      <td>7981.850098</td>\n",
              "      <td>8123.290039</td>\n",
              "      <td>8123.290039</td>\n",
              "      <td>1966120000</td>\n",
              "      <td>8123.290039</td>\n",
              "      <td>8123.290039</td>\n",
              "      <td>8123.290039</td>\n",
              "    </tr>\n",
              "    <tr>\n",
              "      <th>2019-05-07</th>\n",
              "      <td>8043.520020</td>\n",
              "      <td>8070.970215</td>\n",
              "      <td>7899.020020</td>\n",
              "      <td>7963.759766</td>\n",
              "      <td>7963.759766</td>\n",
              "      <td>2376660000</td>\n",
              "      <td>7963.759766</td>\n",
              "      <td>7963.759766</td>\n",
              "      <td>7963.759766</td>\n",
              "    </tr>\n",
              "    <tr>\n",
              "      <th>2019-05-08</th>\n",
              "      <td>7946.240234</td>\n",
              "      <td>8004.490234</td>\n",
              "      <td>7923.350098</td>\n",
              "      <td>7943.319824</td>\n",
              "      <td>7943.319824</td>\n",
              "      <td>2175100000</td>\n",
              "      <td>7943.319824</td>\n",
              "      <td>7943.319824</td>\n",
              "      <td>7943.319824</td>\n",
              "    </tr>\n",
              "    <tr>\n",
              "      <th>2019-05-09</th>\n",
              "      <td>7853.209961</td>\n",
              "      <td>7929.779785</td>\n",
              "      <td>7796.160156</td>\n",
              "      <td>7910.589844</td>\n",
              "      <td>7910.589844</td>\n",
              "      <td>2520770000</td>\n",
              "      <td>7910.589844</td>\n",
              "      <td>7910.589844</td>\n",
              "      <td>7910.589844</td>\n",
              "    </tr>\n",
              "    <tr>\n",
              "      <th>2019-05-10</th>\n",
              "      <td>7881.310059</td>\n",
              "      <td>7949.339844</td>\n",
              "      <td>7759.339844</td>\n",
              "      <td>7916.939941</td>\n",
              "      <td>7916.939941</td>\n",
              "      <td>2387720000</td>\n",
              "      <td>7916.939941</td>\n",
              "      <td>7916.939941</td>\n",
              "      <td>7916.939941</td>\n",
              "    </tr>\n",
              "    <tr>\n",
              "      <th>2019-05-13</th>\n",
              "      <td>7720.069824</td>\n",
              "      <td>7760.830078</td>\n",
              "      <td>7627.220215</td>\n",
              "      <td>7647.020020</td>\n",
              "      <td>7647.020020</td>\n",
              "      <td>2478860000</td>\n",
              "      <td>7647.020020</td>\n",
              "      <td>7647.020020</td>\n",
              "      <td>7647.020020</td>\n",
              "    </tr>\n",
              "    <tr>\n",
              "      <th>2019-05-14</th>\n",
              "      <td>7689.660156</td>\n",
              "      <td>7776.200195</td>\n",
              "      <td>7665.299805</td>\n",
              "      <td>7734.490234</td>\n",
              "      <td>7734.490234</td>\n",
              "      <td>2084850000</td>\n",
              "      <td>7734.490234</td>\n",
              "      <td>7734.490234</td>\n",
              "      <td>7734.490234</td>\n",
              "    </tr>\n",
              "    <tr>\n",
              "      <th>2019-05-15</th>\n",
              "      <td>7682.799805</td>\n",
              "      <td>7838.720215</td>\n",
              "      <td>7682.240234</td>\n",
              "      <td>7822.149902</td>\n",
              "      <td>7822.149902</td>\n",
              "      <td>2001530000</td>\n",
              "      <td>7822.149902</td>\n",
              "      <td>7822.149902</td>\n",
              "      <td>7822.149902</td>\n",
              "    </tr>\n",
              "    <tr>\n",
              "      <th>2019-05-16</th>\n",
              "      <td>7832.580078</td>\n",
              "      <td>7946.229980</td>\n",
              "      <td>7826.669922</td>\n",
              "      <td>7898.049805</td>\n",
              "      <td>7898.049805</td>\n",
              "      <td>2163120000</td>\n",
              "      <td>7898.049805</td>\n",
              "      <td>7898.049805</td>\n",
              "      <td>7898.049805</td>\n",
              "    </tr>\n",
              "    <tr>\n",
              "      <th>2019-05-17</th>\n",
              "      <td>7829.029785</td>\n",
              "      <td>7918.709961</td>\n",
              "      <td>7810.350098</td>\n",
              "      <td>7816.279785</td>\n",
              "      <td>7816.279785</td>\n",
              "      <td>2134120000</td>\n",
              "      <td>7816.279785</td>\n",
              "      <td>7816.279785</td>\n",
              "      <td>7816.279785</td>\n",
              "    </tr>\n",
              "    <tr>\n",
              "      <th>2019-05-20</th>\n",
              "      <td>7714.060059</td>\n",
              "      <td>7747.270020</td>\n",
              "      <td>7678.350098</td>\n",
              "      <td>7702.379883</td>\n",
              "      <td>7702.379883</td>\n",
              "      <td>2122410000</td>\n",
              "      <td>7702.379883</td>\n",
              "      <td>7702.379883</td>\n",
              "      <td>7702.379883</td>\n",
              "    </tr>\n",
              "    <tr>\n",
              "      <th>2019-05-21</th>\n",
              "      <td>7765.569824</td>\n",
              "      <td>7804.439941</td>\n",
              "      <td>7752.919922</td>\n",
              "      <td>7785.720215</td>\n",
              "      <td>7785.720215</td>\n",
              "      <td>1993210000</td>\n",
              "      <td>7785.720215</td>\n",
              "      <td>7785.720215</td>\n",
              "      <td>7785.720215</td>\n",
              "    </tr>\n",
              "    <tr>\n",
              "      <th>2019-05-22</th>\n",
              "      <td>7749.799805</td>\n",
              "      <td>7786.330078</td>\n",
              "      <td>7738.350098</td>\n",
              "      <td>7750.839844</td>\n",
              "      <td>7750.839844</td>\n",
              "      <td>1881830000</td>\n",
              "      <td>7750.839844</td>\n",
              "      <td>7750.839844</td>\n",
              "      <td>7750.839844</td>\n",
              "    </tr>\n",
              "    <tr>\n",
              "      <th>2019-05-23</th>\n",
              "      <td>7660.720215</td>\n",
              "      <td>7665.149902</td>\n",
              "      <td>7585.319824</td>\n",
              "      <td>7628.279785</td>\n",
              "      <td>7628.279785</td>\n",
              "      <td>2243420000</td>\n",
              "      <td>7628.279785</td>\n",
              "      <td>7628.279785</td>\n",
              "      <td>7628.279785</td>\n",
              "    </tr>\n",
              "    <tr>\n",
              "      <th>2019-05-24</th>\n",
              "      <td>7675.569824</td>\n",
              "      <td>7694.149902</td>\n",
              "      <td>7631.250000</td>\n",
              "      <td>7637.009766</td>\n",
              "      <td>7637.009766</td>\n",
              "      <td>1682920000</td>\n",
              "      <td>7637.009766</td>\n",
              "      <td>7637.009766</td>\n",
              "      <td>7637.009766</td>\n",
              "    </tr>\n",
              "    <tr>\n",
              "      <th>2019-05-28</th>\n",
              "      <td>7655.660156</td>\n",
              "      <td>7693.740234</td>\n",
              "      <td>7603.759766</td>\n",
              "      <td>7607.350098</td>\n",
              "      <td>7607.350098</td>\n",
              "      <td>2352670000</td>\n",
              "      <td>7607.350098</td>\n",
              "      <td>7607.350098</td>\n",
              "      <td>7607.350098</td>\n",
              "    </tr>\n",
              "    <tr>\n",
              "      <th>2019-05-29</th>\n",
              "      <td>7553.020020</td>\n",
              "      <td>7581.109863</td>\n",
              "      <td>7503.939941</td>\n",
              "      <td>7547.310059</td>\n",
              "      <td>7547.310059</td>\n",
              "      <td>2278790000</td>\n",
              "      <td>7547.310059</td>\n",
              "      <td>7547.310059</td>\n",
              "      <td>7547.310059</td>\n",
              "    </tr>\n",
              "    <tr>\n",
              "      <th>2019-05-30</th>\n",
              "      <td>7565.459961</td>\n",
              "      <td>7595.899902</td>\n",
              "      <td>7527.660156</td>\n",
              "      <td>7567.720215</td>\n",
              "      <td>7567.720215</td>\n",
              "      <td>1872000000</td>\n",
              "      <td>7567.720215</td>\n",
              "      <td>7567.720215</td>\n",
              "      <td>7567.720215</td>\n",
              "    </tr>\n",
              "    <tr>\n",
              "      <th>2019-05-31</th>\n",
              "      <td>7470.950195</td>\n",
              "      <td>7506.859863</td>\n",
              "      <td>7448.229980</td>\n",
              "      <td>7453.149902</td>\n",
              "      <td>7453.149902</td>\n",
              "      <td>2236940000</td>\n",
              "      <td>7453.149902</td>\n",
              "      <td>7453.149902</td>\n",
              "      <td>7453.149902</td>\n",
              "    </tr>\n",
              "    <tr>\n",
              "      <th>2019-06-03</th>\n",
              "      <td>7441.209961</td>\n",
              "      <td>7457.660156</td>\n",
              "      <td>7292.220215</td>\n",
              "      <td>7333.020020</td>\n",
              "      <td>7333.020020</td>\n",
              "      <td>2576920000</td>\n",
              "      <td>7333.020020</td>\n",
              "      <td>7333.020020</td>\n",
              "      <td>7333.020020</td>\n",
              "    </tr>\n",
              "    <tr>\n",
              "      <th>2019-06-04</th>\n",
              "      <td>7413.939941</td>\n",
              "      <td>7529.500000</td>\n",
              "      <td>7385.020020</td>\n",
              "      <td>7527.120117</td>\n",
              "      <td>7527.120117</td>\n",
              "      <td>2369150000</td>\n",
              "      <td>7527.120117</td>\n",
              "      <td>7527.120117</td>\n",
              "      <td>7527.120117</td>\n",
              "    </tr>\n",
              "    <tr>\n",
              "      <th>2019-06-05</th>\n",
              "      <td>7585.680176</td>\n",
              "      <td>7589.470215</td>\n",
              "      <td>7498.169922</td>\n",
              "      <td>7575.479980</td>\n",
              "      <td>7575.479980</td>\n",
              "      <td>2115570000</td>\n",
              "      <td>7575.479980</td>\n",
              "      <td>7575.479980</td>\n",
              "      <td>7575.479980</td>\n",
              "    </tr>\n",
              "    <tr>\n",
              "      <th>2019-06-06</th>\n",
              "      <td>7582.240234</td>\n",
              "      <td>7634.120117</td>\n",
              "      <td>7546.220215</td>\n",
              "      <td>7615.549805</td>\n",
              "      <td>7615.549805</td>\n",
              "      <td>2070940000</td>\n",
              "      <td>7615.549805</td>\n",
              "      <td>7615.549805</td>\n",
              "      <td>7615.549805</td>\n",
              "    </tr>\n",
              "    <tr>\n",
              "      <th>2019-06-07</th>\n",
              "      <td>7652.970215</td>\n",
              "      <td>7767.020020</td>\n",
              "      <td>7647.910156</td>\n",
              "      <td>7742.100098</td>\n",
              "      <td>7742.100098</td>\n",
              "      <td>2066020000</td>\n",
              "      <td>7742.100098</td>\n",
              "      <td>7742.100098</td>\n",
              "      <td>7742.100098</td>\n",
              "    </tr>\n",
              "    <tr>\n",
              "      <th>2019-06-10</th>\n",
              "      <td>7798.870117</td>\n",
              "      <td>7895.439941</td>\n",
              "      <td>7795.759766</td>\n",
              "      <td>7823.169922</td>\n",
              "      <td>7823.169922</td>\n",
              "      <td>2049370000</td>\n",
              "      <td>7823.169922</td>\n",
              "      <td>7823.169922</td>\n",
              "      <td>7823.169922</td>\n",
              "    </tr>\n",
              "    <tr>\n",
              "      <th>2019-06-11</th>\n",
              "      <td>7901.040039</td>\n",
              "      <td>7909.990234</td>\n",
              "      <td>7798.629883</td>\n",
              "      <td>7822.569824</td>\n",
              "      <td>7822.569824</td>\n",
              "      <td>2114680000</td>\n",
              "      <td>7822.569824</td>\n",
              "      <td>7822.569824</td>\n",
              "      <td>7822.569824</td>\n",
              "    </tr>\n",
              "    <tr>\n",
              "      <th>2019-06-12</th>\n",
              "      <td>7803.129883</td>\n",
              "      <td>7819.160156</td>\n",
              "      <td>7773.970215</td>\n",
              "      <td>7792.720215</td>\n",
              "      <td>7792.720215</td>\n",
              "      <td>1952790000</td>\n",
              "      <td>7792.720215</td>\n",
              "      <td>7792.720215</td>\n",
              "      <td>7792.720215</td>\n",
              "    </tr>\n",
              "    <tr>\n",
              "      <th>2019-06-13</th>\n",
              "      <td>7822.560059</td>\n",
              "      <td>7848.359863</td>\n",
              "      <td>7813.600098</td>\n",
              "      <td>7837.129883</td>\n",
              "      <td>7837.129883</td>\n",
              "      <td>1838930000</td>\n",
              "      <td>7837.129883</td>\n",
              "      <td>7837.129883</td>\n",
              "      <td>7837.129883</td>\n",
              "    </tr>\n",
              "    <tr>\n",
              "      <th>2019-06-14</th>\n",
              "      <td>7807.189941</td>\n",
              "      <td>7819.209961</td>\n",
              "      <td>7778.120117</td>\n",
              "      <td>7796.660156</td>\n",
              "      <td>7796.660156</td>\n",
              "      <td>1804340000</td>\n",
              "      <td>7796.660156</td>\n",
              "      <td>7796.660156</td>\n",
              "      <td>7796.660156</td>\n",
              "    </tr>\n",
              "    <tr>\n",
              "      <th>2019-06-17</th>\n",
              "      <td>7819.430176</td>\n",
              "      <td>7865.979980</td>\n",
              "      <td>7812.609863</td>\n",
              "      <td>7845.020020</td>\n",
              "      <td>7845.020020</td>\n",
              "      <td>1935290000</td>\n",
              "      <td>7845.020020</td>\n",
              "      <td>7845.020020</td>\n",
              "      <td>7845.020020</td>\n",
              "    </tr>\n",
              "    <tr>\n",
              "      <th>2019-06-18</th>\n",
              "      <td>7920.979980</td>\n",
              "      <td>8005.209961</td>\n",
              "      <td>7911.669922</td>\n",
              "      <td>7953.879883</td>\n",
              "      <td>7953.879883</td>\n",
              "      <td>2244920000</td>\n",
              "      <td>7953.879883</td>\n",
              "      <td>7953.879883</td>\n",
              "      <td>7953.879883</td>\n",
              "    </tr>\n",
              "    <tr>\n",
              "      <th>2019-06-19</th>\n",
              "      <td>7970.259766</td>\n",
              "      <td>7998.589844</td>\n",
              "      <td>7930.379883</td>\n",
              "      <td>7987.319824</td>\n",
              "      <td>7987.319824</td>\n",
              "      <td>2014080000</td>\n",
              "      <td>7987.319824</td>\n",
              "      <td>7987.319824</td>\n",
              "      <td>7987.319824</td>\n",
              "    </tr>\n",
              "    <tr>\n",
              "      <th>2019-06-20</th>\n",
              "      <td>8087.450195</td>\n",
              "      <td>8088.879883</td>\n",
              "      <td>7996.870117</td>\n",
              "      <td>8051.339844</td>\n",
              "      <td>8051.339844</td>\n",
              "      <td>2053530000</td>\n",
              "      <td>8051.339844</td>\n",
              "      <td>8051.339844</td>\n",
              "      <td>8051.339844</td>\n",
              "    </tr>\n",
              "    <tr>\n",
              "      <th>2019-06-21</th>\n",
              "      <td>8028.689941</td>\n",
              "      <td>8073.020020</td>\n",
              "      <td>8011.200195</td>\n",
              "      <td>8031.709961</td>\n",
              "      <td>8031.709961</td>\n",
              "      <td>2894340000</td>\n",
              "      <td>8031.709961</td>\n",
              "      <td>8031.709961</td>\n",
              "      <td>8031.709961</td>\n",
              "    </tr>\n",
              "    <tr>\n",
              "      <th>2019-06-24</th>\n",
              "      <td>8040.580078</td>\n",
              "      <td>8047.560059</td>\n",
              "      <td>8004.629883</td>\n",
              "      <td>8005.700195</td>\n",
              "      <td>8005.700195</td>\n",
              "      <td>2070370000</td>\n",
              "      <td>8005.700195</td>\n",
              "      <td>8005.700195</td>\n",
              "      <td>8005.700195</td>\n",
              "    </tr>\n",
              "    <tr>\n",
              "      <th>2019-06-25</th>\n",
              "      <td>8005.270020</td>\n",
              "      <td>8007.310059</td>\n",
              "      <td>7879.149902</td>\n",
              "      <td>7884.720215</td>\n",
              "      <td>7884.720215</td>\n",
              "      <td>2127310000</td>\n",
              "      <td>7884.720215</td>\n",
              "      <td>7884.720215</td>\n",
              "      <td>7884.720215</td>\n",
              "    </tr>\n",
              "    <tr>\n",
              "      <th>2019-06-26</th>\n",
              "      <td>7933.919922</td>\n",
              "      <td>7974.279785</td>\n",
              "      <td>7903.069824</td>\n",
              "      <td>7909.970215</td>\n",
              "      <td>7909.970215</td>\n",
              "      <td>2104750000</td>\n",
              "      <td>7909.970215</td>\n",
              "      <td>7909.970215</td>\n",
              "      <td>7909.970215</td>\n",
              "    </tr>\n",
              "    <tr>\n",
              "      <th>2019-06-27</th>\n",
              "      <td>7939.359863</td>\n",
              "      <td>7976.580078</td>\n",
              "      <td>7935.470215</td>\n",
              "      <td>7967.759766</td>\n",
              "      <td>7967.759766</td>\n",
              "      <td>2023120000</td>\n",
              "      <td>7967.759766</td>\n",
              "      <td>7967.759766</td>\n",
              "      <td>7967.759766</td>\n",
              "    </tr>\n",
              "    <tr>\n",
              "      <th>2019-06-28</th>\n",
              "      <td>7988.759766</td>\n",
              "      <td>8010.149902</td>\n",
              "      <td>7961.459961</td>\n",
              "      <td>8006.240234</td>\n",
              "      <td>8006.240234</td>\n",
              "      <td>4078990000</td>\n",
              "      <td>8006.240234</td>\n",
              "      <td>8006.240234</td>\n",
              "      <td>8006.240234</td>\n",
              "    </tr>\n",
              "    <tr>\n",
              "      <th>2019-07-01</th>\n",
              "      <td>8145.850098</td>\n",
              "      <td>8150.450195</td>\n",
              "      <td>8059.290039</td>\n",
              "      <td>8091.160156</td>\n",
              "      <td>8091.160156</td>\n",
              "      <td>2208900000</td>\n",
              "      <td>8091.160156</td>\n",
              "      <td>8091.160156</td>\n",
              "      <td>8091.160156</td>\n",
              "    </tr>\n",
              "    <tr>\n",
              "      <th>2019-07-02</th>\n",
              "      <td>8086.649902</td>\n",
              "      <td>8109.370117</td>\n",
              "      <td>8063.109863</td>\n",
              "      <td>8109.089844</td>\n",
              "      <td>8109.089844</td>\n",
              "      <td>1946320000</td>\n",
              "      <td>8109.089844</td>\n",
              "      <td>8109.089844</td>\n",
              "      <td>8109.089844</td>\n",
              "    </tr>\n",
              "    <tr>\n",
              "      <th>2019-07-03</th>\n",
              "      <td>8129.569824</td>\n",
              "      <td>8170.229980</td>\n",
              "      <td>8122.339844</td>\n",
              "      <td>8170.229980</td>\n",
              "      <td>8170.229980</td>\n",
              "      <td>1548190000</td>\n",
              "      <td>8170.229980</td>\n",
              "      <td>8170.229980</td>\n",
              "      <td>8170.229980</td>\n",
              "    </tr>\n",
              "    <tr>\n",
              "      <th>2019-07-05</th>\n",
              "      <td>8123.279785</td>\n",
              "      <td>8171.970215</td>\n",
              "      <td>8093.660156</td>\n",
              "      <td>8161.790039</td>\n",
              "      <td>8161.790039</td>\n",
              "      <td>149410000</td>\n",
              "      <td>8161.790039</td>\n",
              "      <td>8161.790039</td>\n",
              "      <td>8161.790039</td>\n",
              "    </tr>\n",
              "    <tr>\n",
              "      <th>2019-07-08</th>\n",
              "      <td>8112.910156</td>\n",
              "      <td>8161.790039</td>\n",
              "      <td>8078.390137</td>\n",
              "      <td>8098.379883</td>\n",
              "      <td>8098.379883</td>\n",
              "      <td>177320000</td>\n",
              "      <td>8098.379883</td>\n",
              "      <td>8098.379883</td>\n",
              "      <td>8098.379883</td>\n",
              "    </tr>\n",
              "    <tr>\n",
              "      <th>2019-07-09</th>\n",
              "      <td>8061.410156</td>\n",
              "      <td>8146.979980</td>\n",
              "      <td>8061.319824</td>\n",
              "      <td>8141.729980</td>\n",
              "      <td>8141.729980</td>\n",
              "      <td>1866770000</td>\n",
              "      <td>8141.729980</td>\n",
              "      <td>8141.729980</td>\n",
              "      <td>8141.729980</td>\n",
              "    </tr>\n",
              "    <tr>\n",
              "      <th>2019-07-10</th>\n",
              "      <td>8183.189941</td>\n",
              "      <td>8228.599609</td>\n",
              "      <td>8160.560059</td>\n",
              "      <td>8202.530273</td>\n",
              "      <td>8202.530273</td>\n",
              "      <td>2060510000</td>\n",
              "      <td>8202.530273</td>\n",
              "      <td>8202.530273</td>\n",
              "      <td>8202.530273</td>\n",
              "    </tr>\n",
              "    <tr>\n",
              "      <th>2019-07-11</th>\n",
              "      <td>8219.280273</td>\n",
              "      <td>8226.179688</td>\n",
              "      <td>8171.629883</td>\n",
              "      <td>8196.040039</td>\n",
              "      <td>8196.040039</td>\n",
              "      <td>1966970000</td>\n",
              "      <td>8196.040039</td>\n",
              "      <td>8196.040039</td>\n",
              "      <td>8196.040039</td>\n",
              "    </tr>\n",
              "    <tr>\n",
              "      <th>2019-07-12</th>\n",
              "      <td>8209.200195</td>\n",
              "      <td>8245.660156</td>\n",
              "      <td>8201.519531</td>\n",
              "      <td>8244.139648</td>\n",
              "      <td>8244.139648</td>\n",
              "      <td>1824870000</td>\n",
              "      <td>8244.139648</td>\n",
              "      <td>8244.139648</td>\n",
              "      <td>8244.139648</td>\n",
              "    </tr>\n",
              "    <tr>\n",
              "      <th>2019-07-15</th>\n",
              "      <td>8263.179688</td>\n",
              "      <td>8264.780273</td>\n",
              "      <td>8236.269531</td>\n",
              "      <td>8258.190430</td>\n",
              "      <td>8258.190430</td>\n",
              "      <td>1783980000</td>\n",
              "      <td>8258.190430</td>\n",
              "      <td>8258.190430</td>\n",
              "      <td>8258.190430</td>\n",
              "    </tr>\n",
              "    <tr>\n",
              "      <th>2019-07-16</th>\n",
              "      <td>8251.660156</td>\n",
              "      <td>8259.750000</td>\n",
              "      <td>8204.230469</td>\n",
              "      <td>8222.799805</td>\n",
              "      <td>8222.799805</td>\n",
              "      <td>1933960000</td>\n",
              "      <td>8222.799805</td>\n",
              "      <td>8222.799805</td>\n",
              "      <td>8222.799805</td>\n",
              "    </tr>\n",
              "    <tr>\n",
              "      <th>2019-07-17</th>\n",
              "      <td>8224.000000</td>\n",
              "      <td>8230.669922</td>\n",
              "      <td>8184.660156</td>\n",
              "      <td>8185.209961</td>\n",
              "      <td>8185.209961</td>\n",
              "      <td>1846960000</td>\n",
              "      <td>8185.209961</td>\n",
              "      <td>8185.209961</td>\n",
              "      <td>8185.209961</td>\n",
              "    </tr>\n",
              "    <tr>\n",
              "      <th>2019-07-18</th>\n",
              "      <td>8151.759766</td>\n",
              "      <td>8215.580078</td>\n",
              "      <td>8135.120117</td>\n",
              "      <td>8207.240234</td>\n",
              "      <td>8207.240234</td>\n",
              "      <td>2016310000</td>\n",
              "      <td>8207.240234</td>\n",
              "      <td>8207.240234</td>\n",
              "      <td>8207.240234</td>\n",
              "    </tr>\n",
              "    <tr>\n",
              "      <th>2019-07-19</th>\n",
              "      <td>8241.339844</td>\n",
              "      <td>8245.780273</td>\n",
              "      <td>8144.629883</td>\n",
              "      <td>8146.490234</td>\n",
              "      <td>8146.490234</td>\n",
              "      <td>1878730000</td>\n",
              "      <td>8146.490234</td>\n",
              "      <td>8146.490234</td>\n",
              "      <td>8146.490234</td>\n",
              "    </tr>\n",
              "    <tr>\n",
              "      <th>2019-07-22</th>\n",
              "      <td>8171.990234</td>\n",
              "      <td>8218.419922</td>\n",
              "      <td>8171.540039</td>\n",
              "      <td>8204.139648</td>\n",
              "      <td>8204.139648</td>\n",
              "      <td>1845770000</td>\n",
              "      <td>8204.139648</td>\n",
              "      <td>8204.139648</td>\n",
              "      <td>8204.139648</td>\n",
              "    </tr>\n",
              "    <tr>\n",
              "      <th>2019-07-23</th>\n",
              "      <td>8242.500000</td>\n",
              "      <td>8251.830078</td>\n",
              "      <td>8193.889648</td>\n",
              "      <td>8251.400391</td>\n",
              "      <td>8251.400391</td>\n",
              "      <td>1832220000</td>\n",
              "      <td>8251.400391</td>\n",
              "      <td>8251.400391</td>\n",
              "      <td>8251.400391</td>\n",
              "    </tr>\n",
              "    <tr>\n",
              "      <th>2019-07-24</th>\n",
              "      <td>8227.360352</td>\n",
              "      <td>8321.809570</td>\n",
              "      <td>8226.500000</td>\n",
              "      <td>8321.500000</td>\n",
              "      <td>8321.500000</td>\n",
              "      <td>1947550000</td>\n",
              "      <td>8321.500000</td>\n",
              "      <td>8321.500000</td>\n",
              "      <td>8321.500000</td>\n",
              "    </tr>\n",
              "    <tr>\n",
              "      <th>2019-07-25</th>\n",
              "      <td>8294.679688</td>\n",
              "      <td>8295.950195</td>\n",
              "      <td>8233.400391</td>\n",
              "      <td>8238.540039</td>\n",
              "      <td>8238.540039</td>\n",
              "      <td>2023130000</td>\n",
              "      <td>8238.540039</td>\n",
              "      <td>8238.540039</td>\n",
              "      <td>8238.540039</td>\n",
              "    </tr>\n",
              "    <tr>\n",
              "      <th>2019-07-26</th>\n",
              "      <td>8294.299805</td>\n",
              "      <td>8339.639648</td>\n",
              "      <td>8291.120117</td>\n",
              "      <td>8330.209961</td>\n",
              "      <td>8330.209961</td>\n",
              "      <td>1954350000</td>\n",
              "      <td>8330.209961</td>\n",
              "      <td>8330.209961</td>\n",
              "      <td>8330.209961</td>\n",
              "    </tr>\n",
              "    <tr>\n",
              "      <th>2019-07-29</th>\n",
              "      <td>8325.099609</td>\n",
              "      <td>8325.280273</td>\n",
              "      <td>8247.370117</td>\n",
              "      <td>8293.330078</td>\n",
              "      <td>8293.330078</td>\n",
              "      <td>1874780000</td>\n",
              "      <td>8293.330078</td>\n",
              "      <td>8293.330078</td>\n",
              "      <td>8293.330078</td>\n",
              "    </tr>\n",
              "    <tr>\n",
              "      <th>2019-07-30</th>\n",
              "      <td>8231.769531</td>\n",
              "      <td>8295.459961</td>\n",
              "      <td>8228.019531</td>\n",
              "      <td>8273.610352</td>\n",
              "      <td>8273.610352</td>\n",
              "      <td>1884300000</td>\n",
              "      <td>8273.610352</td>\n",
              "      <td>8273.610352</td>\n",
              "      <td>8273.610352</td>\n",
              "    </tr>\n",
              "    <tr>\n",
              "      <th>2019-07-31</th>\n",
              "      <td>8290.799805</td>\n",
              "      <td>8299.830078</td>\n",
              "      <td>8110.020020</td>\n",
              "      <td>8175.419922</td>\n",
              "      <td>8175.419922</td>\n",
              "      <td>2667060000</td>\n",
              "      <td>8175.419922</td>\n",
              "      <td>8175.419922</td>\n",
              "      <td>8175.419922</td>\n",
              "    </tr>\n",
              "    <tr>\n",
              "      <th>2019-08-01</th>\n",
              "      <td>8190.560059</td>\n",
              "      <td>8311.040039</td>\n",
              "      <td>8080.520020</td>\n",
              "      <td>8111.120117</td>\n",
              "      <td>8111.120117</td>\n",
              "      <td>2792650000</td>\n",
              "      <td>8111.120117</td>\n",
              "      <td>8111.120117</td>\n",
              "      <td>8111.120117</td>\n",
              "    </tr>\n",
              "    <tr>\n",
              "      <th>2019-08-02</th>\n",
              "      <td>8056.419922</td>\n",
              "      <td>8068.799805</td>\n",
              "      <td>7953.669922</td>\n",
              "      <td>8004.069824</td>\n",
              "      <td>8004.069824</td>\n",
              "      <td>2252550000</td>\n",
              "      <td>8004.069824</td>\n",
              "      <td>8004.069824</td>\n",
              "      <td>8004.069824</td>\n",
              "    </tr>\n",
              "    <tr>\n",
              "      <th>2019-08-05</th>\n",
              "      <td>7823.330078</td>\n",
              "      <td>7836.450195</td>\n",
              "      <td>7662.899902</td>\n",
              "      <td>7726.040039</td>\n",
              "      <td>7726.040039</td>\n",
              "      <td>2636740000</td>\n",
              "      <td>7726.040039</td>\n",
              "      <td>7726.040039</td>\n",
              "      <td>7726.040039</td>\n",
              "    </tr>\n",
              "    <tr>\n",
              "      <th>2019-08-06</th>\n",
              "      <td>7804.509766</td>\n",
              "      <td>7845.009766</td>\n",
              "      <td>7739.569824</td>\n",
              "      <td>7833.270020</td>\n",
              "      <td>7833.270020</td>\n",
              "      <td>2201610000</td>\n",
              "      <td>7833.270020</td>\n",
              "      <td>7833.270020</td>\n",
              "      <td>7833.270020</td>\n",
              "    </tr>\n",
              "    <tr>\n",
              "      <th>2019-08-07</th>\n",
              "      <td>7747.270020</td>\n",
              "      <td>7881.379883</td>\n",
              "      <td>7702.419922</td>\n",
              "      <td>7862.830078</td>\n",
              "      <td>7862.830078</td>\n",
              "      <td>2453230000</td>\n",
              "      <td>7862.830078</td>\n",
              "      <td>7862.830078</td>\n",
              "      <td>7862.830078</td>\n",
              "    </tr>\n",
              "    <tr>\n",
              "      <th>2019-08-08</th>\n",
              "      <td>7921.589844</td>\n",
              "      <td>8041.120117</td>\n",
              "      <td>7896.149902</td>\n",
              "      <td>8039.160156</td>\n",
              "      <td>8039.160156</td>\n",
              "      <td>2415670000</td>\n",
              "      <td>8039.160156</td>\n",
              "      <td>8039.160156</td>\n",
              "      <td>8039.160156</td>\n",
              "    </tr>\n",
              "    <tr>\n",
              "      <th>2019-08-09</th>\n",
              "      <td>7997.189941</td>\n",
              "      <td>8020.560059</td>\n",
              "      <td>7910.350098</td>\n",
              "      <td>7959.140137</td>\n",
              "      <td>7959.140137</td>\n",
              "      <td>2224330000</td>\n",
              "      <td>7959.140137</td>\n",
              "      <td>7959.140137</td>\n",
              "      <td>7959.140137</td>\n",
              "    </tr>\n",
              "    <tr>\n",
              "      <th>2019-08-12</th>\n",
              "      <td>7907.490234</td>\n",
              "      <td>7924.990234</td>\n",
              "      <td>7833.790039</td>\n",
              "      <td>7863.410156</td>\n",
              "      <td>7863.410156</td>\n",
              "      <td>2056360000</td>\n",
              "      <td>7863.410156</td>\n",
              "      <td>7863.410156</td>\n",
              "      <td>7863.410156</td>\n",
              "    </tr>\n",
              "    <tr>\n",
              "      <th>2019-08-13</th>\n",
              "      <td>7852.370117</td>\n",
              "      <td>8065.240234</td>\n",
              "      <td>7851.580078</td>\n",
              "      <td>8016.359863</td>\n",
              "      <td>8016.359863</td>\n",
              "      <td>2346980000</td>\n",
              "      <td>8016.359863</td>\n",
              "      <td>8016.359863</td>\n",
              "      <td>8016.359863</td>\n",
              "    </tr>\n",
              "    <tr>\n",
              "      <th>2019-08-14</th>\n",
              "      <td>7877.330078</td>\n",
              "      <td>7900.279785</td>\n",
              "      <td>7762.870117</td>\n",
              "      <td>7773.939941</td>\n",
              "      <td>7773.939941</td>\n",
              "      <td>2522870000</td>\n",
              "      <td>7773.939941</td>\n",
              "      <td>7773.939941</td>\n",
              "      <td>7773.939941</td>\n",
              "    </tr>\n",
              "    <tr>\n",
              "      <th>2019-08-15</th>\n",
              "      <td>7790.200195</td>\n",
              "      <td>7805.930176</td>\n",
              "      <td>7716.549805</td>\n",
              "      <td>7766.620117</td>\n",
              "      <td>7766.620117</td>\n",
              "      <td>2182590000</td>\n",
              "      <td>7766.620117</td>\n",
              "      <td>7766.620117</td>\n",
              "      <td>7766.620117</td>\n",
              "    </tr>\n",
              "    <tr>\n",
              "      <th>2019-08-16</th>\n",
              "      <td>7828.350098</td>\n",
              "      <td>7907.520020</td>\n",
              "      <td>7828.350098</td>\n",
              "      <td>7895.990234</td>\n",
              "      <td>7895.990234</td>\n",
              "      <td>1995130000</td>\n",
              "      <td>7895.990234</td>\n",
              "      <td>7895.990234</td>\n",
              "      <td>7895.990234</td>\n",
              "    </tr>\n",
              "    <tr>\n",
              "      <th>2019-08-19</th>\n",
              "      <td>8006.180176</td>\n",
              "      <td>8026.750000</td>\n",
              "      <td>7895.990234</td>\n",
              "      <td>8002.810059</td>\n",
              "      <td>8002.810059</td>\n",
              "      <td>1934980000</td>\n",
              "      <td>8002.810059</td>\n",
              "      <td>8002.810059</td>\n",
              "      <td>8002.810059</td>\n",
              "    </tr>\n",
              "    <tr>\n",
              "      <th>2019-08-20</th>\n",
              "      <td>7989.359863</td>\n",
              "      <td>8010.580078</td>\n",
              "      <td>7948.089844</td>\n",
              "      <td>7948.560059</td>\n",
              "      <td>7948.560059</td>\n",
              "      <td>1747580000</td>\n",
              "      <td>7948.560059</td>\n",
              "      <td>7948.560059</td>\n",
              "      <td>7948.560059</td>\n",
              "    </tr>\n",
              "    <tr>\n",
              "      <th>2019-08-21</th>\n",
              "      <td>8017.069824</td>\n",
              "      <td>8036.939941</td>\n",
              "      <td>7998.500000</td>\n",
              "      <td>8020.209961</td>\n",
              "      <td>8020.209961</td>\n",
              "      <td>1716370000</td>\n",
              "      <td>8020.209961</td>\n",
              "      <td>8020.209961</td>\n",
              "      <td>8020.209961</td>\n",
              "    </tr>\n",
              "    <tr>\n",
              "      <th>2019-08-22</th>\n",
              "      <td>8038.790039</td>\n",
              "      <td>8048.580078</td>\n",
              "      <td>7937.120117</td>\n",
              "      <td>7991.390137</td>\n",
              "      <td>7991.390137</td>\n",
              "      <td>1777630000</td>\n",
              "      <td>7991.390137</td>\n",
              "      <td>7991.390137</td>\n",
              "      <td>7991.390137</td>\n",
              "    </tr>\n",
              "    <tr>\n",
              "      <th>2019-08-23</th>\n",
              "      <td>7943.649902</td>\n",
              "      <td>8005.339844</td>\n",
              "      <td>7730.770020</td>\n",
              "      <td>7751.770020</td>\n",
              "      <td>7751.770020</td>\n",
              "      <td>2207070000</td>\n",
              "      <td>7751.770020</td>\n",
              "      <td>7751.770020</td>\n",
              "      <td>7751.770020</td>\n",
              "    </tr>\n",
              "    <tr>\n",
              "      <th>2019-08-26</th>\n",
              "      <td>7829.580078</td>\n",
              "      <td>7856.040039</td>\n",
              "      <td>7789.049805</td>\n",
              "      <td>7853.740234</td>\n",
              "      <td>7853.740234</td>\n",
              "      <td>1688860000</td>\n",
              "      <td>7853.740234</td>\n",
              "      <td>7853.740234</td>\n",
              "      <td>7853.740234</td>\n",
              "    </tr>\n",
              "    <tr>\n",
              "      <th>2019-08-27</th>\n",
              "      <td>7908.779785</td>\n",
              "      <td>7916.830078</td>\n",
              "      <td>7795.180176</td>\n",
              "      <td>7826.950195</td>\n",
              "      <td>7826.950195</td>\n",
              "      <td>1913760000</td>\n",
              "      <td>7826.950195</td>\n",
              "      <td>7826.950195</td>\n",
              "      <td>7826.950195</td>\n",
              "    </tr>\n",
              "    <tr>\n",
              "      <th>2019-08-28</th>\n",
              "      <td>7798.350098</td>\n",
              "      <td>7866.870117</td>\n",
              "      <td>7766.669922</td>\n",
              "      <td>7856.879883</td>\n",
              "      <td>7856.879883</td>\n",
              "      <td>1656930000</td>\n",
              "      <td>7856.879883</td>\n",
              "      <td>7856.879883</td>\n",
              "      <td>7856.879883</td>\n",
              "    </tr>\n",
              "    <tr>\n",
              "      <th>2019-08-29</th>\n",
              "      <td>7945.779785</td>\n",
              "      <td>7992.290039</td>\n",
              "      <td>7925.830078</td>\n",
              "      <td>7973.390137</td>\n",
              "      <td>7973.390137</td>\n",
              "      <td>1700840000</td>\n",
              "      <td>7973.390137</td>\n",
              "      <td>7973.390137</td>\n",
              "      <td>7973.390137</td>\n",
              "    </tr>\n",
              "    <tr>\n",
              "      <th>2019-08-30</th>\n",
              "      <td>8015.160156</td>\n",
              "      <td>8017.910156</td>\n",
              "      <td>7914.740234</td>\n",
              "      <td>7962.879883</td>\n",
              "      <td>7962.879883</td>\n",
              "      <td>1665840000</td>\n",
              "      <td>7962.879883</td>\n",
              "      <td>7962.879883</td>\n",
              "      <td>7962.879883</td>\n",
              "    </tr>\n",
              "    <tr>\n",
              "      <th>2019-09-03</th>\n",
              "      <td>7906.439941</td>\n",
              "      <td>7940.370117</td>\n",
              "      <td>7847.319824</td>\n",
              "      <td>7874.160156</td>\n",
              "      <td>7874.160156</td>\n",
              "      <td>1936210000</td>\n",
              "      <td>7874.160156</td>\n",
              "      <td>7874.160156</td>\n",
              "      <td>7874.160156</td>\n",
              "    </tr>\n",
              "    <tr>\n",
              "      <th>2019-09-04</th>\n",
              "      <td>7949.810059</td>\n",
              "      <td>7981.410156</td>\n",
              "      <td>7928.939941</td>\n",
              "      <td>7976.879883</td>\n",
              "      <td>7976.879883</td>\n",
              "      <td>1891300000</td>\n",
              "      <td>7976.879883</td>\n",
              "      <td>7976.879883</td>\n",
              "      <td>7976.879883</td>\n",
              "    </tr>\n",
              "    <tr>\n",
              "      <th>2019-09-05</th>\n",
              "      <td>8061.290039</td>\n",
              "      <td>8134.419922</td>\n",
              "      <td>8061.290039</td>\n",
              "      <td>8116.830078</td>\n",
              "      <td>8116.830078</td>\n",
              "      <td>2096300000</td>\n",
              "      <td>8116.830078</td>\n",
              "      <td>8116.830078</td>\n",
              "      <td>8116.830078</td>\n",
              "    </tr>\n",
              "    <tr>\n",
              "      <th>2019-09-06</th>\n",
              "      <td>8125.580078</td>\n",
              "      <td>8134.390137</td>\n",
              "      <td>8098.520020</td>\n",
              "      <td>8103.069824</td>\n",
              "      <td>8103.069824</td>\n",
              "      <td>1876380000</td>\n",
              "      <td>8103.069824</td>\n",
              "      <td>8103.069824</td>\n",
              "      <td>8103.069824</td>\n",
              "    </tr>\n",
              "    <tr>\n",
              "      <th>2019-09-09</th>\n",
              "      <td>8130.910156</td>\n",
              "      <td>8131.660156</td>\n",
              "      <td>8052.339844</td>\n",
              "      <td>8087.439941</td>\n",
              "      <td>8087.439941</td>\n",
              "      <td>2172240000</td>\n",
              "      <td>8087.439941</td>\n",
              "      <td>8087.439941</td>\n",
              "      <td>8087.439941</td>\n",
              "    </tr>\n",
              "    <tr>\n",
              "      <th>2019-09-10</th>\n",
              "      <td>8049.979980</td>\n",
              "      <td>8086.529785</td>\n",
              "      <td>8001.680176</td>\n",
              "      <td>8084.160156</td>\n",
              "      <td>8084.160156</td>\n",
              "      <td>2362860000</td>\n",
              "      <td>8084.160156</td>\n",
              "      <td>8084.160156</td>\n",
              "      <td>8084.160156</td>\n",
              "    </tr>\n",
              "    <tr>\n",
              "      <th>2019-09-11</th>\n",
              "      <td>8091.680176</td>\n",
              "      <td>8169.680176</td>\n",
              "      <td>8081.560059</td>\n",
              "      <td>8169.680176</td>\n",
              "      <td>8169.680176</td>\n",
              "      <td>2310440000</td>\n",
              "      <td>8169.680176</td>\n",
              "      <td>8169.680176</td>\n",
              "      <td>8169.680176</td>\n",
              "    </tr>\n",
              "    <tr>\n",
              "      <th>2019-09-12</th>\n",
              "      <td>8206.580078</td>\n",
              "      <td>8243.799805</td>\n",
              "      <td>8176.729980</td>\n",
              "      <td>8194.469727</td>\n",
              "      <td>8194.469727</td>\n",
              "      <td>2159260000</td>\n",
              "      <td>8194.469727</td>\n",
              "      <td>8194.469727</td>\n",
              "      <td>8194.469727</td>\n",
              "    </tr>\n",
              "    <tr>\n",
              "      <th>2019-09-13</th>\n",
              "      <td>8190.569824</td>\n",
              "      <td>8210.200195</td>\n",
              "      <td>8165.470215</td>\n",
              "      <td>8176.709961</td>\n",
              "      <td>8176.709961</td>\n",
              "      <td>1976770000</td>\n",
              "      <td>8176.709961</td>\n",
              "      <td>8176.709961</td>\n",
              "      <td>8176.709961</td>\n",
              "    </tr>\n",
              "    <tr>\n",
              "      <th>2019-09-16</th>\n",
              "      <td>8121.640137</td>\n",
              "      <td>8165.330078</td>\n",
              "      <td>8121.250000</td>\n",
              "      <td>8153.540039</td>\n",
              "      <td>8153.540039</td>\n",
              "      <td>1869220000</td>\n",
              "      <td>8153.540039</td>\n",
              "      <td>8153.540039</td>\n",
              "      <td>8153.540039</td>\n",
              "    </tr>\n",
              "    <tr>\n",
              "      <th>2019-09-17</th>\n",
              "      <td>8148.649902</td>\n",
              "      <td>8188.229980</td>\n",
              "      <td>8139.819824</td>\n",
              "      <td>8186.020020</td>\n",
              "      <td>8186.020020</td>\n",
              "      <td>1850340000</td>\n",
              "      <td>8186.020020</td>\n",
              "      <td>8186.020020</td>\n",
              "      <td>8186.020020</td>\n",
              "    </tr>\n",
              "    <tr>\n",
              "      <th>2019-09-18</th>\n",
              "      <td>8174.620117</td>\n",
              "      <td>8179.870117</td>\n",
              "      <td>8086.220215</td>\n",
              "      <td>8177.390137</td>\n",
              "      <td>8177.390137</td>\n",
              "      <td>2034880000</td>\n",
              "      <td>8177.390137</td>\n",
              "      <td>8177.390137</td>\n",
              "      <td>8177.390137</td>\n",
              "    </tr>\n",
              "    <tr>\n",
              "      <th>2019-09-19</th>\n",
              "      <td>8193.589844</td>\n",
              "      <td>8237.429688</td>\n",
              "      <td>8174.319824</td>\n",
              "      <td>8182.879883</td>\n",
              "      <td>8182.879883</td>\n",
              "      <td>1792700000</td>\n",
              "      <td>8182.879883</td>\n",
              "      <td>8182.879883</td>\n",
              "      <td>8182.879883</td>\n",
              "    </tr>\n",
              "    <tr>\n",
              "      <th>2019-09-20</th>\n",
              "      <td>8184.879883</td>\n",
              "      <td>8202.820313</td>\n",
              "      <td>8086.160156</td>\n",
              "      <td>8117.669922</td>\n",
              "      <td>8117.669922</td>\n",
              "      <td>3359380000</td>\n",
              "      <td>8117.669922</td>\n",
              "      <td>8117.669922</td>\n",
              "      <td>8117.669922</td>\n",
              "    </tr>\n",
              "    <tr>\n",
              "      <th>2019-09-23</th>\n",
              "      <td>8106.490234</td>\n",
              "      <td>8135.810059</td>\n",
              "      <td>8085.339844</td>\n",
              "      <td>8112.459961</td>\n",
              "      <td>8112.459961</td>\n",
              "      <td>1780160000</td>\n",
              "      <td>8112.459961</td>\n",
              "      <td>8112.459961</td>\n",
              "      <td>8112.459961</td>\n",
              "    </tr>\n",
              "    <tr>\n",
              "      <th>2019-09-24</th>\n",
              "      <td>8147.229980</td>\n",
              "      <td>8158.830078</td>\n",
              "      <td>7969.649902</td>\n",
              "      <td>7993.629883</td>\n",
              "      <td>7993.629883</td>\n",
              "      <td>2302600000</td>\n",
              "      <td>7993.629883</td>\n",
              "      <td>7993.629883</td>\n",
              "      <td>7993.629883</td>\n",
              "    </tr>\n",
              "    <tr>\n",
              "      <th>2019-09-25</th>\n",
              "      <td>7990.660156</td>\n",
              "      <td>8095.000000</td>\n",
              "      <td>7935.569824</td>\n",
              "      <td>8077.379883</td>\n",
              "      <td>8077.379883</td>\n",
              "      <td>2015270000</td>\n",
              "      <td>8077.379883</td>\n",
              "      <td>8077.379883</td>\n",
              "      <td>8077.379883</td>\n",
              "    </tr>\n",
              "    <tr>\n",
              "      <th>2019-09-26</th>\n",
              "      <td>8070.120117</td>\n",
              "      <td>8072.109863</td>\n",
              "      <td>7991.020020</td>\n",
              "      <td>8030.660156</td>\n",
              "      <td>8030.660156</td>\n",
              "      <td>1832800000</td>\n",
              "      <td>8030.660156</td>\n",
              "      <td>8030.660156</td>\n",
              "      <td>8030.660156</td>\n",
              "    </tr>\n",
              "    <tr>\n",
              "      <th>2019-09-27</th>\n",
              "      <td>8047.109863</td>\n",
              "      <td>8051.830078</td>\n",
              "      <td>7890.279785</td>\n",
              "      <td>7939.629883</td>\n",
              "      <td>7939.629883</td>\n",
              "      <td>2037720000</td>\n",
              "      <td>7939.629883</td>\n",
              "      <td>7939.629883</td>\n",
              "      <td>7939.629883</td>\n",
              "    </tr>\n",
              "    <tr>\n",
              "      <th>2019-09-30</th>\n",
              "      <td>7964.089844</td>\n",
              "      <td>8012.160156</td>\n",
              "      <td>7949.629883</td>\n",
              "      <td>7999.339844</td>\n",
              "      <td>7999.339844</td>\n",
              "      <td>1805820000</td>\n",
              "      <td>7999.339844</td>\n",
              "      <td>7999.339844</td>\n",
              "      <td>7999.339844</td>\n",
              "    </tr>\n",
              "    <tr>\n",
              "      <th>2019-10-01</th>\n",
              "      <td>8026.830078</td>\n",
              "      <td>8062.500000</td>\n",
              "      <td>7906.290039</td>\n",
              "      <td>7908.680176</td>\n",
              "      <td>7908.680176</td>\n",
              "      <td>2243650000</td>\n",
              "      <td>7908.680176</td>\n",
              "      <td>7908.680176</td>\n",
              "      <td>7908.680176</td>\n",
              "    </tr>\n",
              "    <tr>\n",
              "      <th>2019-10-02</th>\n",
              "      <td>7851.129883</td>\n",
              "      <td>7852.700195</td>\n",
              "      <td>7744.959961</td>\n",
              "      <td>7785.250000</td>\n",
              "      <td>7785.250000</td>\n",
              "      <td>2495160000</td>\n",
              "      <td>7785.250000</td>\n",
              "      <td>7785.250000</td>\n",
              "      <td>7785.250000</td>\n",
              "    </tr>\n",
              "    <tr>\n",
              "      <th>2019-10-03</th>\n",
              "      <td>7787.020020</td>\n",
              "      <td>7872.259766</td>\n",
              "      <td>7700.000000</td>\n",
              "      <td>7872.259766</td>\n",
              "      <td>7872.259766</td>\n",
              "      <td>2141490000</td>\n",
              "      <td>7872.259766</td>\n",
              "      <td>7872.259766</td>\n",
              "      <td>7872.259766</td>\n",
              "    </tr>\n",
              "    <tr>\n",
              "      <th>2019-10-04</th>\n",
              "      <td>7908.439941</td>\n",
              "      <td>7986.620117</td>\n",
              "      <td>7899.390137</td>\n",
              "      <td>7982.470215</td>\n",
              "      <td>7982.470215</td>\n",
              "      <td>1736890000</td>\n",
              "      <td>7982.470215</td>\n",
              "      <td>7982.470215</td>\n",
              "      <td>7982.470215</td>\n",
              "    </tr>\n",
              "    <tr>\n",
              "      <th>2019-10-07</th>\n",
              "      <td>7956.410156</td>\n",
              "      <td>8013.310059</td>\n",
              "      <td>7942.080078</td>\n",
              "      <td>7956.290039</td>\n",
              "      <td>7956.290039</td>\n",
              "      <td>1739450000</td>\n",
              "      <td>7956.290039</td>\n",
              "      <td>7956.290039</td>\n",
              "      <td>7956.290039</td>\n",
              "    </tr>\n",
              "    <tr>\n",
              "      <th>2019-10-08</th>\n",
              "      <td>7898.270020</td>\n",
              "      <td>7921.879883</td>\n",
              "      <td>7823.729980</td>\n",
              "      <td>7823.779785</td>\n",
              "      <td>7823.779785</td>\n",
              "      <td>1933580000</td>\n",
              "      <td>7823.779785</td>\n",
              "      <td>7823.779785</td>\n",
              "      <td>7823.779785</td>\n",
              "    </tr>\n",
              "    <tr>\n",
              "      <th>2019-10-09</th>\n",
              "      <td>7895.959961</td>\n",
              "      <td>7930.919922</td>\n",
              "      <td>7873.520020</td>\n",
              "      <td>7903.740234</td>\n",
              "      <td>7903.740234</td>\n",
              "      <td>1553900000</td>\n",
              "      <td>7903.740234</td>\n",
              "      <td>7903.740234</td>\n",
              "      <td>7903.740234</td>\n",
              "    </tr>\n",
              "    <tr>\n",
              "      <th>2019-10-10</th>\n",
              "      <td>7904.560059</td>\n",
              "      <td>7982.839844</td>\n",
              "      <td>7899.810059</td>\n",
              "      <td>7950.779785</td>\n",
              "      <td>7950.779785</td>\n",
              "      <td>1778740000</td>\n",
              "      <td>7950.779785</td>\n",
              "      <td>7950.779785</td>\n",
              "      <td>7950.779785</td>\n",
              "    </tr>\n",
              "    <tr>\n",
              "      <th>2019-10-11</th>\n",
              "      <td>8047.339844</td>\n",
              "      <td>8115.799805</td>\n",
              "      <td>8046.799805</td>\n",
              "      <td>8057.040039</td>\n",
              "      <td>8057.040039</td>\n",
              "      <td>2176080000</td>\n",
              "      <td>8057.040039</td>\n",
              "      <td>8057.040039</td>\n",
              "      <td>8057.040039</td>\n",
              "    </tr>\n",
              "    <tr>\n",
              "      <th>2019-10-14</th>\n",
              "      <td>8044.350098</td>\n",
              "      <td>8069.850098</td>\n",
              "      <td>8036.410156</td>\n",
              "      <td>8048.649902</td>\n",
              "      <td>8048.649902</td>\n",
              "      <td>1419730000</td>\n",
              "      <td>8048.649902</td>\n",
              "      <td>8048.649902</td>\n",
              "      <td>8048.649902</td>\n",
              "    </tr>\n",
              "    <tr>\n",
              "      <th>2019-10-15</th>\n",
              "      <td>8074.850098</td>\n",
              "      <td>8166.180176</td>\n",
              "      <td>8071.810059</td>\n",
              "      <td>8148.709961</td>\n",
              "      <td>8148.709961</td>\n",
              "      <td>1836650000</td>\n",
              "      <td>8148.709961</td>\n",
              "      <td>8148.709961</td>\n",
              "      <td>8148.709961</td>\n",
              "    </tr>\n",
              "    <tr>\n",
              "      <th>2019-10-16</th>\n",
              "      <td>8119.810059</td>\n",
              "      <td>8146.149902</td>\n",
              "      <td>8103.379883</td>\n",
              "      <td>8124.180176</td>\n",
              "      <td>8124.180176</td>\n",
              "      <td>1886720000</td>\n",
              "      <td>8124.180176</td>\n",
              "      <td>8124.180176</td>\n",
              "      <td>8124.180176</td>\n",
              "    </tr>\n",
              "    <tr>\n",
              "      <th>2019-10-17</th>\n",
              "      <td>8176.910156</td>\n",
              "      <td>8183.640137</td>\n",
              "      <td>8131.250000</td>\n",
              "      <td>8156.850098</td>\n",
              "      <td>8156.850098</td>\n",
              "      <td>1861570000</td>\n",
              "      <td>8156.850098</td>\n",
              "      <td>8156.850098</td>\n",
              "      <td>8156.850098</td>\n",
              "    </tr>\n",
              "    <tr>\n",
              "      <th>2019-10-18</th>\n",
              "      <td>8149.850098</td>\n",
              "      <td>8157.359863</td>\n",
              "      <td>8045.370117</td>\n",
              "      <td>8089.540039</td>\n",
              "      <td>8089.540039</td>\n",
              "      <td>2012930000</td>\n",
              "      <td>8089.540039</td>\n",
              "      <td>8089.540039</td>\n",
              "      <td>8089.540039</td>\n",
              "    </tr>\n",
              "    <tr>\n",
              "      <th>2019-10-21</th>\n",
              "      <td>8137.419922</td>\n",
              "      <td>8164.140137</td>\n",
              "      <td>8117.259766</td>\n",
              "      <td>8162.990234</td>\n",
              "      <td>8162.990234</td>\n",
              "      <td>1752860000</td>\n",
              "      <td>8162.990234</td>\n",
              "      <td>8162.990234</td>\n",
              "      <td>8162.990234</td>\n",
              "    </tr>\n",
              "    <tr>\n",
              "      <th>2019-10-22</th>\n",
              "      <td>8188.120117</td>\n",
              "      <td>8194.620117</td>\n",
              "      <td>8101.979980</td>\n",
              "      <td>8104.299805</td>\n",
              "      <td>8104.299805</td>\n",
              "      <td>1847200000</td>\n",
              "      <td>8104.299805</td>\n",
              "      <td>8104.299805</td>\n",
              "      <td>8104.299805</td>\n",
              "    </tr>\n",
              "    <tr>\n",
              "      <th>2019-10-23</th>\n",
              "      <td>8090.240234</td>\n",
              "      <td>8122.879883</td>\n",
              "      <td>8078.350098</td>\n",
              "      <td>8119.790039</td>\n",
              "      <td>8119.790039</td>\n",
              "      <td>1805030000</td>\n",
              "      <td>8119.790039</td>\n",
              "      <td>8119.790039</td>\n",
              "      <td>8119.790039</td>\n",
              "    </tr>\n",
              "    <tr>\n",
              "      <th>2019-10-24</th>\n",
              "      <td>8180.040039</td>\n",
              "      <td>8187.839844</td>\n",
              "      <td>8137.660156</td>\n",
              "      <td>8185.799805</td>\n",
              "      <td>8185.799805</td>\n",
              "      <td>1882490000</td>\n",
              "      <td>8185.799805</td>\n",
              "      <td>8185.799805</td>\n",
              "      <td>8185.799805</td>\n",
              "    </tr>\n",
              "    <tr>\n",
              "      <th>2019-10-25</th>\n",
              "      <td>8150.589844</td>\n",
              "      <td>8249.969727</td>\n",
              "      <td>8150.589844</td>\n",
              "      <td>8243.120117</td>\n",
              "      <td>8243.120117</td>\n",
              "      <td>1894740000</td>\n",
              "      <td>8243.120117</td>\n",
              "      <td>8243.120117</td>\n",
              "      <td>8243.120117</td>\n",
              "    </tr>\n",
              "    <tr>\n",
              "      <th>2019-10-28</th>\n",
              "      <td>8285.769531</td>\n",
              "      <td>8335.559570</td>\n",
              "      <td>8285.269531</td>\n",
              "      <td>8325.990234</td>\n",
              "      <td>8325.990234</td>\n",
              "      <td>1956280000</td>\n",
              "      <td>8325.990234</td>\n",
              "      <td>8325.990234</td>\n",
              "      <td>8325.990234</td>\n",
              "    </tr>\n",
              "    <tr>\n",
              "      <th>2019-10-29</th>\n",
              "      <td>8313.349609</td>\n",
              "      <td>8319.290039</td>\n",
              "      <td>8275.139648</td>\n",
              "      <td>8276.849609</td>\n",
              "      <td>8276.849609</td>\n",
              "      <td>1834530000</td>\n",
              "      <td>8276.849609</td>\n",
              "      <td>8276.849609</td>\n",
              "      <td>8276.849609</td>\n",
              "    </tr>\n",
              "    <tr>\n",
              "      <th>2019-10-30</th>\n",
              "      <td>8284.280273</td>\n",
              "      <td>8315.500000</td>\n",
              "      <td>8241.700195</td>\n",
              "      <td>8303.980469</td>\n",
              "      <td>8303.980469</td>\n",
              "      <td>1928420000</td>\n",
              "      <td>8303.980469</td>\n",
              "      <td>8303.980469</td>\n",
              "      <td>8303.980469</td>\n",
              "    </tr>\n",
              "    <tr>\n",
              "      <th>2019-10-31</th>\n",
              "      <td>8314.379883</td>\n",
              "      <td>8321.799805</td>\n",
              "      <td>8248.809570</td>\n",
              "      <td>8292.360352</td>\n",
              "      <td>8292.360352</td>\n",
              "      <td>2258270000</td>\n",
              "      <td>8292.360352</td>\n",
              "      <td>8292.360352</td>\n",
              "      <td>8292.360352</td>\n",
              "    </tr>\n",
              "    <tr>\n",
              "      <th>2019-11-01</th>\n",
              "      <td>8335.049805</td>\n",
              "      <td>8386.750000</td>\n",
              "      <td>8326.559570</td>\n",
              "      <td>8386.400391</td>\n",
              "      <td>8386.400391</td>\n",
              "      <td>2057310000</td>\n",
              "      <td>8386.400391</td>\n",
              "      <td>8386.400391</td>\n",
              "      <td>8386.400391</td>\n",
              "    </tr>\n",
              "  </tbody>\n",
              "</table>\n",
              "</div>"
            ],
            "text/plain": [
              "                   open         high  ...        bfill       interp\n",
              "date                                  ...                          \n",
              "2018-11-02  7424.020020  7466.529785  ...  7356.990234  7356.990234\n",
              "2018-11-05  7344.080078  7349.229980  ...  7328.850098  7328.850098\n",
              "2018-11-06  7326.069824  7400.640137  ...  7375.959961  7375.959961\n",
              "2018-11-07  7446.089844  7572.930176  ...  7570.750000  7570.750000\n",
              "2018-11-08  7544.169922  7566.930176  ...  7530.879883  7530.879883\n",
              "2018-11-09  7468.509766  7474.339844  ...  7406.899902  7406.899902\n",
              "2018-11-12  7364.049805  7371.089844  ...  7200.870117  7200.870117\n",
              "2018-11-13  7230.689941  7319.120117  ...  7200.870117  7200.870117\n",
              "2018-11-14  7265.390137  7285.569824  ...  7136.390137  7136.390137\n",
              "2018-11-15  7112.830078  7274.259766  ...  7259.029785  7259.029785\n",
              "2018-11-16  7193.600098  7274.859863  ...  7247.870117  7247.870117\n",
              "2018-11-19  7217.240234  7224.120117  ...  7028.479980  7028.479980\n",
              "2018-11-20  6867.430176  6994.750000  ...  6908.819824  6908.819824\n",
              "2018-11-21  6985.509766  7029.930176  ...  6972.250000  6972.250000\n",
              "2018-11-23  6919.520020  6987.890137  ...  6938.979980  6938.979980\n",
              "2018-11-26  7026.500000  7083.930176  ...  7081.850098  7081.850098\n",
              "2018-11-27  7041.229980  7105.140137  ...  7082.700195  7082.700195\n",
              "2018-11-28  7135.080078  7292.709961  ...  7291.589844  7291.589844\n",
              "2018-11-29  7267.370117  7319.959961  ...  7273.080078  7273.080078\n",
              "2018-11-30  7279.299805  7332.790039  ...  7330.540039  7330.540039\n",
              "2018-12-03  7486.129883  7486.509766  ...  7441.509766  7441.509766\n",
              "2018-12-04  7407.950195  7421.109863  ...  7158.430176  7158.430176\n",
              "2018-12-06  7017.049805  7189.520020  ...  7188.259766  7188.259766\n",
              "2018-12-07  7163.490234  7205.370117  ...  6969.250000  6969.250000\n",
              "2018-12-10  6959.629883  7047.620117  ...  7020.520020  7020.520020\n",
              "2018-12-11  7121.660156  7129.830078  ...  7031.830078  7031.830078\n",
              "2018-12-12  7127.000000  7197.290039  ...  7098.310059  7098.310059\n",
              "2018-12-13  7135.279785  7154.640137  ...  7070.330078  7070.330078\n",
              "2018-12-14  6986.370117  7027.169922  ...  6910.660156  6910.660156\n",
              "2018-12-17  6886.459961  6931.810059  ...  6753.729980  6753.729980\n",
              "2018-12-18  6809.819824  6847.270020  ...  6783.910156  6783.910156\n",
              "2018-12-19  6777.589844  6868.859863  ...  6636.830078  6636.830078\n",
              "2018-12-20  6607.759766  6666.200195  ...  6528.410156  6528.410156\n",
              "2018-12-21  6573.490234  6586.680176  ...  6332.990234  6332.990234\n",
              "2018-12-24  6278.490234  6355.180176  ...  6192.919922  6192.919922\n",
              "2018-12-26  6257.859863  6555.529785  ...  6554.359863  6554.359863\n",
              "2018-12-27  6457.189941  6583.009766  ...  6579.490234  6579.490234\n",
              "2018-12-28  6616.790039  6684.180176  ...  6584.520020  6584.520020\n",
              "2018-12-31  6649.520020  6659.959961  ...  6635.279785  6635.279785\n",
              "2019-01-02  6506.910156  6693.709961  ...  6665.939941  6665.939941\n",
              "2019-01-03  6584.770020  6600.209961  ...  6463.500000  6463.500000\n",
              "2019-01-04  6567.140137  6760.689941  ...  6738.859863  6738.859863\n",
              "2019-01-07  6757.529785  6855.600098  ...  6823.470215  6823.470215\n",
              "2019-01-08  6893.439941  6909.580078  ...  6897.000000  6897.000000\n",
              "2019-01-09  6923.060059  6985.220215  ...  6957.080078  6957.080078\n",
              "2019-01-10  6908.649902  6991.370117  ...  6986.069824  6986.069824\n",
              "2019-01-11  6947.459961  6975.649902  ...  6971.479980  6971.479980\n",
              "2019-01-14  6908.029785  6936.220215  ...  6905.919922  6905.919922\n",
              "2019-01-15  6931.390137  7025.850098  ...  7023.830078  7023.830078\n",
              "2019-01-16  7033.750000  7079.629883  ...  7034.689941  7034.689941\n",
              "2019-01-17  7010.129883  7113.950195  ...  7084.459961  7084.459961\n",
              "2019-01-18  7134.100098  7185.379883  ...  7157.229980  7157.229980\n",
              "2019-01-22  7109.569824  7110.160156  ...  7020.359863  7020.359863\n",
              "2019-01-23  7061.649902  7084.850098  ...  7025.770020  7025.770020\n",
              "2019-01-24  7042.250000  7078.959961  ...  7073.459961  7073.459961\n",
              "2019-01-25  7128.180176  7174.560059  ...  7164.859863  7164.859863\n",
              "2019-01-28  7075.009766  7086.299805  ...  7085.680176  7085.680176\n",
              "2019-01-29  7087.490234  7092.290039  ...  7028.290039  7028.290039\n",
              "2019-01-30  7094.790039  7201.310059  ...  7183.080078  7183.080078\n",
              "2019-01-31  7208.169922  7303.120117  ...  7281.740234  7281.740234\n",
              "2019-02-01  7256.370117  7299.939941  ...  7263.870117  7263.870117\n",
              "2019-02-04  7266.279785  7348.229980  ...  7347.540039  7347.540039\n",
              "2019-02-05  7356.339844  7408.680176  ...  7402.080078  7402.080078\n",
              "2019-02-06  7400.439941  7410.770020  ...  7375.279785  7375.279785\n",
              "2019-02-07  7316.500000  7336.740234  ...  7288.350098  7288.350098\n",
              "2019-02-08  7232.299805  7299.439941  ...  7298.200195  7298.200195\n",
              "2019-02-11  7327.370117  7343.560059  ...  7307.899902  7307.899902\n",
              "2019-02-12  7358.850098  7419.430176  ...  7414.620117  7414.620117\n",
              "2019-02-13  7437.459961  7461.660156  ...  7420.379883  7420.379883\n",
              "2019-02-14  7390.250000  7454.419922  ...  7426.950195  7426.950195\n",
              "2019-02-15  7468.569824  7477.279785  ...  7472.410156  7472.410156\n",
              "2019-02-19  7450.750000  7507.790039  ...  7486.770020  7486.770020\n",
              "2019-02-20  7490.310059  7513.700195  ...  7489.069824  7489.069824\n",
              "2019-02-21  7475.410156  7485.750000  ...  7459.709961  7459.709961\n",
              "2019-02-22  7481.629883  7527.540039  ...  7527.540039  7527.540039\n",
              "2019-02-25  7585.299805  7602.689941  ...  7554.459961  7554.459961\n",
              "2019-02-26  7535.290039  7573.220215  ...  7549.299805  7549.299805\n",
              "2019-02-27  7526.419922  7562.290039  ...  7554.509766  7554.509766\n",
              "2019-02-28  7533.310059  7561.899902  ...  7532.529785  7532.529785\n",
              "2019-03-01  7587.450195  7603.040039  ...  7595.350098  7595.350098\n",
              "2019-03-04  7636.620117  7643.660156  ...  7577.569824  7577.569824\n",
              "2019-03-05  7582.290039  7598.660156  ...  7576.359863  7576.359863\n",
              "2019-03-06  7575.379883  7579.020020  ...  7505.919922  7505.919922\n",
              "2019-03-07  7483.790039  7489.080078  ...  7421.459961  7421.459961\n",
              "2019-03-08  7334.350098  7411.520020  ...  7408.140137  7408.140137\n",
              "2019-03-11  7442.560059  7558.229980  ...  7558.060059  7558.060059\n",
              "2019-03-12  7571.850098  7611.129883  ...  7591.029785  7591.029785\n",
              "2019-03-13  7621.379883  7677.069824  ...  7643.410156  7643.410156\n",
              "2019-03-14  7644.790039  7653.100098  ...  7630.910156  7630.910156\n",
              "2019-03-15  7658.410156  7714.959961  ...  7688.529785  7688.529785\n",
              "2019-03-18  7696.379883  7737.669922  ...  7714.479980  7714.479980\n",
              "2019-03-19  7747.399902  7767.890137  ...  7723.950195  7723.950195\n",
              "2019-03-20  7721.950195  7779.240234  ...  7728.970215  7728.970215\n",
              "2019-03-21  7705.430176  7850.109863  ...  7838.959961  7838.959961\n",
              "2019-03-22  7800.250000  7817.830078  ...  7642.669922  7642.669922\n",
              "2019-03-25  7618.979980  7662.379883  ...  7637.540039  7637.540039\n",
              "2019-03-26  7700.000000  7738.169922  ...  7691.520020  7691.520020\n",
              "2019-03-27  7702.049805  7712.839844  ...  7643.379883  7643.379883\n",
              "2019-03-28  7660.069824  7689.160156  ...  7669.169922  7669.169922\n",
              "2019-03-29  7726.709961  7733.620117  ...  7729.319824  7729.319824\n",
              "2019-04-01  7800.240234  7831.450195  ...  7828.910156  7828.910156\n",
              "2019-04-02  7824.609863  7854.919922  ...  7848.689941  7848.689941\n",
              "2019-04-03  7891.180176  7938.259766  ...  7895.549805  7895.549805\n",
              "2019-04-04  7894.259766  7917.649902  ...  7891.779785  7891.779785\n",
              "2019-04-05  7914.509766  7940.450195  ...  7938.689941  7938.689941\n",
              "2019-04-08  7924.890137  7955.899902  ...  7953.879883  7953.879883\n",
              "2019-04-09  7924.770020  7945.549805  ...  7909.279785  7909.279785\n",
              "2019-04-10  7922.729980  7965.330078  ...  7964.240234  7964.240234\n",
              "2019-04-11  7975.200195  7975.200195  ...  7947.359863  7947.359863\n",
              "2019-04-12  7984.149902  7992.089844  ...  7984.160156  7984.160156\n",
              "2019-04-15  7987.160156  7993.330078  ...  7976.009766  7976.009766\n",
              "2019-04-16  8000.569824  8017.560059  ...  8000.229980  8000.229980\n",
              "2019-04-17  8044.970215  8052.399902  ...  7996.080078  7996.080078\n",
              "2019-04-18  7998.450195  8002.310059  ...  7998.060059  7998.060059\n",
              "2019-04-22  7969.370117  8017.149902  ...  8015.270020  8015.270020\n",
              "2019-04-23  8026.750000  8128.870117  ...  8120.819824  8120.819824\n",
              "2019-04-24  8122.879883  8139.549805  ...  8102.009766  8102.009766\n",
              "2019-04-25  8150.850098  8151.839844  ...  8118.680176  8118.680176\n",
              "2019-04-26  8100.279785  8146.419922  ...  8146.399902  8146.399902\n",
              "2019-04-29  8147.649902  8176.080078  ...  8161.850098  8161.850098\n",
              "2019-04-30  8104.910156  8124.609863  ...  8095.390137  8095.390137\n",
              "2019-05-01  8132.930176  8146.000000  ...  8049.640137  8049.640137\n",
              "2019-05-02  8046.479980  8094.060059  ...  8036.770020  8036.770020\n",
              "2019-05-03  8092.879883  8164.709961  ...  8164.000000  8164.000000\n",
              "2019-05-06  7981.850098  8135.540039  ...  8123.290039  8123.290039\n",
              "2019-05-07  8043.520020  8070.970215  ...  7963.759766  7963.759766\n",
              "2019-05-08  7946.240234  8004.490234  ...  7943.319824  7943.319824\n",
              "2019-05-09  7853.209961  7929.779785  ...  7910.589844  7910.589844\n",
              "2019-05-10  7881.310059  7949.339844  ...  7916.939941  7916.939941\n",
              "2019-05-13  7720.069824  7760.830078  ...  7647.020020  7647.020020\n",
              "2019-05-14  7689.660156  7776.200195  ...  7734.490234  7734.490234\n",
              "2019-05-15  7682.799805  7838.720215  ...  7822.149902  7822.149902\n",
              "2019-05-16  7832.580078  7946.229980  ...  7898.049805  7898.049805\n",
              "2019-05-17  7829.029785  7918.709961  ...  7816.279785  7816.279785\n",
              "2019-05-20  7714.060059  7747.270020  ...  7702.379883  7702.379883\n",
              "2019-05-21  7765.569824  7804.439941  ...  7785.720215  7785.720215\n",
              "2019-05-22  7749.799805  7786.330078  ...  7750.839844  7750.839844\n",
              "2019-05-23  7660.720215  7665.149902  ...  7628.279785  7628.279785\n",
              "2019-05-24  7675.569824  7694.149902  ...  7637.009766  7637.009766\n",
              "2019-05-28  7655.660156  7693.740234  ...  7607.350098  7607.350098\n",
              "2019-05-29  7553.020020  7581.109863  ...  7547.310059  7547.310059\n",
              "2019-05-30  7565.459961  7595.899902  ...  7567.720215  7567.720215\n",
              "2019-05-31  7470.950195  7506.859863  ...  7453.149902  7453.149902\n",
              "2019-06-03  7441.209961  7457.660156  ...  7333.020020  7333.020020\n",
              "2019-06-04  7413.939941  7529.500000  ...  7527.120117  7527.120117\n",
              "2019-06-05  7585.680176  7589.470215  ...  7575.479980  7575.479980\n",
              "2019-06-06  7582.240234  7634.120117  ...  7615.549805  7615.549805\n",
              "2019-06-07  7652.970215  7767.020020  ...  7742.100098  7742.100098\n",
              "2019-06-10  7798.870117  7895.439941  ...  7823.169922  7823.169922\n",
              "2019-06-11  7901.040039  7909.990234  ...  7822.569824  7822.569824\n",
              "2019-06-12  7803.129883  7819.160156  ...  7792.720215  7792.720215\n",
              "2019-06-13  7822.560059  7848.359863  ...  7837.129883  7837.129883\n",
              "2019-06-14  7807.189941  7819.209961  ...  7796.660156  7796.660156\n",
              "2019-06-17  7819.430176  7865.979980  ...  7845.020020  7845.020020\n",
              "2019-06-18  7920.979980  8005.209961  ...  7953.879883  7953.879883\n",
              "2019-06-19  7970.259766  7998.589844  ...  7987.319824  7987.319824\n",
              "2019-06-20  8087.450195  8088.879883  ...  8051.339844  8051.339844\n",
              "2019-06-21  8028.689941  8073.020020  ...  8031.709961  8031.709961\n",
              "2019-06-24  8040.580078  8047.560059  ...  8005.700195  8005.700195\n",
              "2019-06-25  8005.270020  8007.310059  ...  7884.720215  7884.720215\n",
              "2019-06-26  7933.919922  7974.279785  ...  7909.970215  7909.970215\n",
              "2019-06-27  7939.359863  7976.580078  ...  7967.759766  7967.759766\n",
              "2019-06-28  7988.759766  8010.149902  ...  8006.240234  8006.240234\n",
              "2019-07-01  8145.850098  8150.450195  ...  8091.160156  8091.160156\n",
              "2019-07-02  8086.649902  8109.370117  ...  8109.089844  8109.089844\n",
              "2019-07-03  8129.569824  8170.229980  ...  8170.229980  8170.229980\n",
              "2019-07-05  8123.279785  8171.970215  ...  8161.790039  8161.790039\n",
              "2019-07-08  8112.910156  8161.790039  ...  8098.379883  8098.379883\n",
              "2019-07-09  8061.410156  8146.979980  ...  8141.729980  8141.729980\n",
              "2019-07-10  8183.189941  8228.599609  ...  8202.530273  8202.530273\n",
              "2019-07-11  8219.280273  8226.179688  ...  8196.040039  8196.040039\n",
              "2019-07-12  8209.200195  8245.660156  ...  8244.139648  8244.139648\n",
              "2019-07-15  8263.179688  8264.780273  ...  8258.190430  8258.190430\n",
              "2019-07-16  8251.660156  8259.750000  ...  8222.799805  8222.799805\n",
              "2019-07-17  8224.000000  8230.669922  ...  8185.209961  8185.209961\n",
              "2019-07-18  8151.759766  8215.580078  ...  8207.240234  8207.240234\n",
              "2019-07-19  8241.339844  8245.780273  ...  8146.490234  8146.490234\n",
              "2019-07-22  8171.990234  8218.419922  ...  8204.139648  8204.139648\n",
              "2019-07-23  8242.500000  8251.830078  ...  8251.400391  8251.400391\n",
              "2019-07-24  8227.360352  8321.809570  ...  8321.500000  8321.500000\n",
              "2019-07-25  8294.679688  8295.950195  ...  8238.540039  8238.540039\n",
              "2019-07-26  8294.299805  8339.639648  ...  8330.209961  8330.209961\n",
              "2019-07-29  8325.099609  8325.280273  ...  8293.330078  8293.330078\n",
              "2019-07-30  8231.769531  8295.459961  ...  8273.610352  8273.610352\n",
              "2019-07-31  8290.799805  8299.830078  ...  8175.419922  8175.419922\n",
              "2019-08-01  8190.560059  8311.040039  ...  8111.120117  8111.120117\n",
              "2019-08-02  8056.419922  8068.799805  ...  8004.069824  8004.069824\n",
              "2019-08-05  7823.330078  7836.450195  ...  7726.040039  7726.040039\n",
              "2019-08-06  7804.509766  7845.009766  ...  7833.270020  7833.270020\n",
              "2019-08-07  7747.270020  7881.379883  ...  7862.830078  7862.830078\n",
              "2019-08-08  7921.589844  8041.120117  ...  8039.160156  8039.160156\n",
              "2019-08-09  7997.189941  8020.560059  ...  7959.140137  7959.140137\n",
              "2019-08-12  7907.490234  7924.990234  ...  7863.410156  7863.410156\n",
              "2019-08-13  7852.370117  8065.240234  ...  8016.359863  8016.359863\n",
              "2019-08-14  7877.330078  7900.279785  ...  7773.939941  7773.939941\n",
              "2019-08-15  7790.200195  7805.930176  ...  7766.620117  7766.620117\n",
              "2019-08-16  7828.350098  7907.520020  ...  7895.990234  7895.990234\n",
              "2019-08-19  8006.180176  8026.750000  ...  8002.810059  8002.810059\n",
              "2019-08-20  7989.359863  8010.580078  ...  7948.560059  7948.560059\n",
              "2019-08-21  8017.069824  8036.939941  ...  8020.209961  8020.209961\n",
              "2019-08-22  8038.790039  8048.580078  ...  7991.390137  7991.390137\n",
              "2019-08-23  7943.649902  8005.339844  ...  7751.770020  7751.770020\n",
              "2019-08-26  7829.580078  7856.040039  ...  7853.740234  7853.740234\n",
              "2019-08-27  7908.779785  7916.830078  ...  7826.950195  7826.950195\n",
              "2019-08-28  7798.350098  7866.870117  ...  7856.879883  7856.879883\n",
              "2019-08-29  7945.779785  7992.290039  ...  7973.390137  7973.390137\n",
              "2019-08-30  8015.160156  8017.910156  ...  7962.879883  7962.879883\n",
              "2019-09-03  7906.439941  7940.370117  ...  7874.160156  7874.160156\n",
              "2019-09-04  7949.810059  7981.410156  ...  7976.879883  7976.879883\n",
              "2019-09-05  8061.290039  8134.419922  ...  8116.830078  8116.830078\n",
              "2019-09-06  8125.580078  8134.390137  ...  8103.069824  8103.069824\n",
              "2019-09-09  8130.910156  8131.660156  ...  8087.439941  8087.439941\n",
              "2019-09-10  8049.979980  8086.529785  ...  8084.160156  8084.160156\n",
              "2019-09-11  8091.680176  8169.680176  ...  8169.680176  8169.680176\n",
              "2019-09-12  8206.580078  8243.799805  ...  8194.469727  8194.469727\n",
              "2019-09-13  8190.569824  8210.200195  ...  8176.709961  8176.709961\n",
              "2019-09-16  8121.640137  8165.330078  ...  8153.540039  8153.540039\n",
              "2019-09-17  8148.649902  8188.229980  ...  8186.020020  8186.020020\n",
              "2019-09-18  8174.620117  8179.870117  ...  8177.390137  8177.390137\n",
              "2019-09-19  8193.589844  8237.429688  ...  8182.879883  8182.879883\n",
              "2019-09-20  8184.879883  8202.820313  ...  8117.669922  8117.669922\n",
              "2019-09-23  8106.490234  8135.810059  ...  8112.459961  8112.459961\n",
              "2019-09-24  8147.229980  8158.830078  ...  7993.629883  7993.629883\n",
              "2019-09-25  7990.660156  8095.000000  ...  8077.379883  8077.379883\n",
              "2019-09-26  8070.120117  8072.109863  ...  8030.660156  8030.660156\n",
              "2019-09-27  8047.109863  8051.830078  ...  7939.629883  7939.629883\n",
              "2019-09-30  7964.089844  8012.160156  ...  7999.339844  7999.339844\n",
              "2019-10-01  8026.830078  8062.500000  ...  7908.680176  7908.680176\n",
              "2019-10-02  7851.129883  7852.700195  ...  7785.250000  7785.250000\n",
              "2019-10-03  7787.020020  7872.259766  ...  7872.259766  7872.259766\n",
              "2019-10-04  7908.439941  7986.620117  ...  7982.470215  7982.470215\n",
              "2019-10-07  7956.410156  8013.310059  ...  7956.290039  7956.290039\n",
              "2019-10-08  7898.270020  7921.879883  ...  7823.779785  7823.779785\n",
              "2019-10-09  7895.959961  7930.919922  ...  7903.740234  7903.740234\n",
              "2019-10-10  7904.560059  7982.839844  ...  7950.779785  7950.779785\n",
              "2019-10-11  8047.339844  8115.799805  ...  8057.040039  8057.040039\n",
              "2019-10-14  8044.350098  8069.850098  ...  8048.649902  8048.649902\n",
              "2019-10-15  8074.850098  8166.180176  ...  8148.709961  8148.709961\n",
              "2019-10-16  8119.810059  8146.149902  ...  8124.180176  8124.180176\n",
              "2019-10-17  8176.910156  8183.640137  ...  8156.850098  8156.850098\n",
              "2019-10-18  8149.850098  8157.359863  ...  8089.540039  8089.540039\n",
              "2019-10-21  8137.419922  8164.140137  ...  8162.990234  8162.990234\n",
              "2019-10-22  8188.120117  8194.620117  ...  8104.299805  8104.299805\n",
              "2019-10-23  8090.240234  8122.879883  ...  8119.790039  8119.790039\n",
              "2019-10-24  8180.040039  8187.839844  ...  8185.799805  8185.799805\n",
              "2019-10-25  8150.589844  8249.969727  ...  8243.120117  8243.120117\n",
              "2019-10-28  8285.769531  8335.559570  ...  8325.990234  8325.990234\n",
              "2019-10-29  8313.349609  8319.290039  ...  8276.849609  8276.849609\n",
              "2019-10-30  8284.280273  8315.500000  ...  8303.980469  8303.980469\n",
              "2019-10-31  8314.379883  8321.799805  ...  8292.360352  8292.360352\n",
              "2019-11-01  8335.049805  8386.750000  ...  8386.400391  8386.400391\n",
              "\n",
              "[251 rows x 9 columns]"
            ]
          },
          "metadata": {},
          "execution_count": 20
        }
      ]
    },
    {
      "cell_type": "markdown",
      "metadata": {
        "papermill": {
          "duration": 0.121829,
          "end_time": "2020-10-02T15:39:14.566989",
          "exception": false,
          "start_time": "2020-10-02T15:39:14.445160",
          "status": "completed"
        },
        "tags": [],
        "id": "GliyE7GmJ7nU"
      },
      "source": [
        "**Imputation using Linear Interpolation method**\n",
        "\n",
        "Time series data has a lot of variations against time. Hence, imputing using backfill and forward fill isn't the best possible solution to address the missing value problem. A more apt alternative would be to use interpolation methods, where the values are filled with incrementing or decrementing values.\n",
        "\n",
        "[Linear interpolation](https://www.lexjansen.com/nesug/nesug01/ps/ps8026.pdf) is an imputation technique that assumes a linear relationship between data points and utilises non-missing values from adjacent data points to compute a value for a missing data point.\n",
        "\n",
        "Refer to the official documentation for a complete list of interpolation strategies [here](https://pandas.pydata.org/pandas-docs/stable/reference/api/pandas.DataFrame.interpolate.html)\n",
        "\n",
        "In our dataset, we will be performing Linear interpolation on the missing value columns."
      ]
    },
    {
      "cell_type": "code",
      "metadata": {
        "execution": {
          "iopub.execute_input": "2020-10-02T15:39:14.821314Z",
          "iopub.status.busy": "2020-10-02T15:39:14.820242Z",
          "iopub.status.idle": "2020-10-02T15:39:14.823920Z",
          "shell.execute_reply": "2020-10-02T15:39:14.823289Z"
        },
        "papermill": {
          "duration": 0.135138,
          "end_time": "2020-10-02T15:39:14.824050",
          "exception": false,
          "start_time": "2020-10-02T15:39:14.688912",
          "status": "completed"
        },
        "tags": [],
        "id": "dvb7MDMHJ7nV"
      },
      "source": [
        "def fill_missing(df):\n",
        "    ### function to impute missing values using interpolation ###\n",
        "    df['open'] = df['open'].interpolate()\n",
        "    df['close'] = df['close'].interpolate()\n",
        "    df['adj_close'] = df['adj_close'].interpolate()\n",
        "\n",
        "\n",
        "    df['high'] = df['high'].interpolate()\n",
        "    df['low'] = df['low'].interpolate()\n",
        "\n",
        "    print(df.head())\n",
        "    print(df.isnull().sum())"
      ],
      "execution_count": null,
      "outputs": []
    },
    {
      "cell_type": "code",
      "metadata": {
        "execution": {
          "iopub.execute_input": "2020-10-02T15:39:15.074398Z",
          "iopub.status.busy": "2020-10-02T15:39:15.073241Z",
          "iopub.status.idle": "2020-10-02T15:39:21.793546Z",
          "shell.execute_reply": "2020-10-02T15:39:21.792547Z"
        },
        "papermill": {
          "duration": 6.847096,
          "end_time": "2020-10-02T15:39:21.793738",
          "exception": false,
          "start_time": "2020-10-02T15:39:14.946642",
          "status": "completed"
        },
        "tags": [],
        "id": "MkDFx_z0J7nV",
        "colab": {
          "base_uri": "https://localhost:8080/"
        },
        "outputId": "46af5c37-5710-438a-8407-a82e8644867b"
      },
      "source": [
        "fill_missing(bitstamp)"
      ],
      "execution_count": null,
      "outputs": [
        {
          "output_type": "stream",
          "name": "stdout",
          "text": [
            "        date         open         high  ...        close    adj_close      volume\n",
            "0 2014-07-14  4441.390137  4451.600098  ...  4440.419922  4440.419922  1579660000\n",
            "1 2014-07-15  4444.910156  4451.930176  ...  4416.390137  4416.390137  1772030000\n",
            "2 2014-07-16  4446.169922  4448.870117  ...  4425.970215  4425.970215  2059340000\n",
            "3 2014-07-17  4411.520020  4425.379883  ...  4363.450195  4363.450195  2055240000\n",
            "4 2014-07-18  4379.939941  4434.439941  ...  4432.149902  4432.149902  1823580000\n",
            "\n",
            "[5 rows x 7 columns]\n",
            "date         0\n",
            "open         0\n",
            "high         0\n",
            "low          0\n",
            "close        0\n",
            "adj_close    0\n",
            "volume       0\n",
            "dtype: int64\n"
          ]
        }
      ]
    },
    {
      "cell_type": "markdown",
      "metadata": {
        "papermill": {
          "duration": 0.131272,
          "end_time": "2020-10-02T15:39:22.062950",
          "exception": false,
          "start_time": "2020-10-02T15:39:21.931678",
          "status": "completed"
        },
        "tags": [],
        "id": "8RVsn5RSJ7nW"
      },
      "source": [
        "No Null values in the final output. Now we will move to **Exploratory Data Analysis**.\n",
        "\n",
        "First, we will create a copy of the dataset as in the next step we will be setting index as our Timestamp column. Its main advatange is to be able to query the datset fast and also helps in quering and filtering the dataset. Also, a lot of plots require our dataset to be indexed."
      ]
    },
    {
      "cell_type": "code",
      "metadata": {
        "execution": {
          "iopub.execute_input": "2020-10-02T15:39:22.315100Z",
          "iopub.status.busy": "2020-10-02T15:39:22.314308Z",
          "iopub.status.idle": "2020-10-02T15:39:22.420382Z",
          "shell.execute_reply": "2020-10-02T15:39:22.419660Z"
        },
        "papermill": {
          "duration": 0.233922,
          "end_time": "2020-10-02T15:39:22.420528",
          "exception": false,
          "start_time": "2020-10-02T15:39:22.186606",
          "status": "completed"
        },
        "tags": [],
        "id": "Js9LVD1pJ7nW"
      },
      "source": [
        "#created a copy \n",
        "bitstamp_non_indexed = bitstamp.copy()"
      ],
      "execution_count": null,
      "outputs": []
    },
    {
      "cell_type": "code",
      "metadata": {
        "execution": {
          "iopub.execute_input": "2020-10-02T15:39:22.671400Z",
          "iopub.status.busy": "2020-10-02T15:39:22.670645Z",
          "iopub.status.idle": "2020-10-02T15:39:22.860782Z",
          "shell.execute_reply": "2020-10-02T15:39:22.860151Z"
        },
        "papermill": {
          "duration": 0.317805,
          "end_time": "2020-10-02T15:39:22.860968",
          "exception": false,
          "start_time": "2020-10-02T15:39:22.543163",
          "status": "completed"
        },
        "tags": [],
        "id": "4KLS-I8WJ7nW",
        "colab": {
          "base_uri": "https://localhost:8080/",
          "height": 238
        },
        "outputId": "b155a57b-c70e-4993-b84b-c1eeca20ab56"
      },
      "source": [
        "bitstamp = bitstamp.set_index('date')\n",
        "bitstamp.head()"
      ],
      "execution_count": null,
      "outputs": [
        {
          "output_type": "execute_result",
          "data": {
            "text/html": [
              "<div>\n",
              "<style scoped>\n",
              "    .dataframe tbody tr th:only-of-type {\n",
              "        vertical-align: middle;\n",
              "    }\n",
              "\n",
              "    .dataframe tbody tr th {\n",
              "        vertical-align: top;\n",
              "    }\n",
              "\n",
              "    .dataframe thead th {\n",
              "        text-align: right;\n",
              "    }\n",
              "</style>\n",
              "<table border=\"1\" class=\"dataframe\">\n",
              "  <thead>\n",
              "    <tr style=\"text-align: right;\">\n",
              "      <th></th>\n",
              "      <th>open</th>\n",
              "      <th>high</th>\n",
              "      <th>low</th>\n",
              "      <th>close</th>\n",
              "      <th>adj_close</th>\n",
              "      <th>volume</th>\n",
              "    </tr>\n",
              "    <tr>\n",
              "      <th>date</th>\n",
              "      <th></th>\n",
              "      <th></th>\n",
              "      <th></th>\n",
              "      <th></th>\n",
              "      <th></th>\n",
              "      <th></th>\n",
              "    </tr>\n",
              "  </thead>\n",
              "  <tbody>\n",
              "    <tr>\n",
              "      <th>2014-07-14</th>\n",
              "      <td>4441.390137</td>\n",
              "      <td>4451.600098</td>\n",
              "      <td>4432.950195</td>\n",
              "      <td>4440.419922</td>\n",
              "      <td>4440.419922</td>\n",
              "      <td>1579660000</td>\n",
              "    </tr>\n",
              "    <tr>\n",
              "      <th>2014-07-15</th>\n",
              "      <td>4444.910156</td>\n",
              "      <td>4451.930176</td>\n",
              "      <td>4389.700195</td>\n",
              "      <td>4416.390137</td>\n",
              "      <td>4416.390137</td>\n",
              "      <td>1772030000</td>\n",
              "    </tr>\n",
              "    <tr>\n",
              "      <th>2014-07-16</th>\n",
              "      <td>4446.169922</td>\n",
              "      <td>4448.870117</td>\n",
              "      <td>4419.709961</td>\n",
              "      <td>4425.970215</td>\n",
              "      <td>4425.970215</td>\n",
              "      <td>2059340000</td>\n",
              "    </tr>\n",
              "    <tr>\n",
              "      <th>2014-07-17</th>\n",
              "      <td>4411.520020</td>\n",
              "      <td>4425.379883</td>\n",
              "      <td>4352.229980</td>\n",
              "      <td>4363.450195</td>\n",
              "      <td>4363.450195</td>\n",
              "      <td>2055240000</td>\n",
              "    </tr>\n",
              "    <tr>\n",
              "      <th>2014-07-18</th>\n",
              "      <td>4379.939941</td>\n",
              "      <td>4434.439941</td>\n",
              "      <td>4378.220215</td>\n",
              "      <td>4432.149902</td>\n",
              "      <td>4432.149902</td>\n",
              "      <td>1823580000</td>\n",
              "    </tr>\n",
              "  </tbody>\n",
              "</table>\n",
              "</div>"
            ],
            "text/plain": [
              "                   open         high  ...    adj_close      volume\n",
              "date                                  ...                         \n",
              "2014-07-14  4441.390137  4451.600098  ...  4440.419922  1579660000\n",
              "2014-07-15  4444.910156  4451.930176  ...  4416.390137  1772030000\n",
              "2014-07-16  4446.169922  4448.870117  ...  4425.970215  2059340000\n",
              "2014-07-17  4411.520020  4425.379883  ...  4363.450195  2055240000\n",
              "2014-07-18  4379.939941  4434.439941  ...  4432.149902  1823580000\n",
              "\n",
              "[5 rows x 6 columns]"
            ]
          },
          "metadata": {},
          "execution_count": 24
        }
      ]
    },
    {
      "cell_type": "markdown",
      "metadata": {
        "papermill": {
          "duration": 0.122453,
          "end_time": "2020-10-02T15:39:23.107586",
          "exception": false,
          "start_time": "2020-10-02T15:39:22.985133",
          "status": "completed"
        },
        "tags": [],
        "id": "2LxulHWtJ7nX"
      },
      "source": [
        "<a id=\"section-three\"></a>\n",
        "\n",
        "# Exploratory Data Analysis\n",
        "\n",
        "**Visualizing the weighted price using markers**\n",
        "\n",
        "When working with time-series data, a lot can be revealed through visualizing it.\n",
        "It is possible to add markers in the plot to help emphasize the specific observations or specific events in the time series."
      ]
    },
    {
      "cell_type": "code",
      "metadata": {
        "execution": {
          "iopub.execute_input": "2020-10-02T15:39:23.362170Z",
          "iopub.status.busy": "2020-10-02T15:39:23.361387Z",
          "iopub.status.idle": "2020-10-02T15:39:29.740711Z",
          "shell.execute_reply": "2020-10-02T15:39:29.739963Z"
        },
        "papermill": {
          "duration": 6.509473,
          "end_time": "2020-10-02T15:39:29.740863",
          "exception": false,
          "start_time": "2020-10-02T15:39:23.231390",
          "status": "completed"
        },
        "tags": [],
        "id": "ioBJI9jzJ7nX",
        "colab": {
          "base_uri": "https://localhost:8080/",
          "height": 443
        },
        "outputId": "b15f36ab-0dca-4ff9-c306-843422508cb3"
      },
      "source": [
        "ax = bitstamp['adj_close'].plot(title='Bitcoin Prices', grid=True, figsize=(14,7))\n",
        "ax.set_xlabel('Year')\n",
        "ax.set_ylabel('adj_close')\n",
        "\n",
        "ax.axvspan('2018-12-01','2019-01-31',color='red', alpha=0.3)\n",
        "ax.axhspan(17500,20000, color='green',alpha=0.3)"
      ],
      "execution_count": null,
      "outputs": [
        {
          "output_type": "execute_result",
          "data": {
            "text/plain": [
              "<matplotlib.patches.Polygon at 0x7f1dc07aeb90>"
            ]
          },
          "metadata": {},
          "execution_count": 25
        },
        {
          "output_type": "display_data",
          "data": {
            "image/png": "[encoded data removed]",
            "text/plain": [
              "<Figure size 1008x504 with 1 Axes>"
            ]
          },
          "metadata": {}
        }
      ]
    },
    {
      "cell_type": "code",
      "metadata": {
        "execution": {
          "iopub.execute_input": "2020-10-02T15:39:30.002165Z",
          "iopub.status.busy": "2020-10-02T15:39:30.001069Z",
          "iopub.status.idle": "2020-10-02T15:39:37.861406Z",
          "shell.execute_reply": "2020-10-02T15:39:37.860633Z"
        },
        "papermill": {
          "duration": 7.995018,
          "end_time": "2020-10-02T15:39:37.861559",
          "exception": false,
          "start_time": "2020-10-02T15:39:29.866541",
          "status": "completed"
        },
        "tags": [],
        "id": "6hVL8wrcJ7nX",
        "colab": {
          "base_uri": "https://localhost:8080/",
          "height": 401
        },
        "outputId": "cfa20ee4-ba16-44f0-bd35-5409d09f4c4c"
      },
      "source": [
        "#Zooming in\n",
        "\n",
        "ax = bitstamp.loc['2017-10':'2019-03','adj_close'].plot(marker='o', linestyle='-',figsize=(15,6), title=\"Oct-17 to March-19 Trend\", grid=True)\n",
        "ax.set_xlabel('Month')\n",
        "ax.set_ylabel('adj_close')"
      ],
      "execution_count": null,
      "outputs": [
        {
          "output_type": "execute_result",
          "data": {
            "text/plain": [
              "Text(0, 0.5, 'adj_close')"
            ]
          },
          "metadata": {},
          "execution_count": 26
        },
        {
          "output_type": "display_data",
          "data": {
            "image/png": "[encoded data removed]",
            "text/plain": [
              "<Figure size 1080x432 with 1 Axes>"
            ]
          },
          "metadata": {}
        }
      ]
    },
    {
      "cell_type": "markdown",
      "metadata": {
        "papermill": {
          "duration": 0.13152,
          "end_time": "2020-10-02T15:39:38.136087",
          "exception": false,
          "start_time": "2020-10-02T15:39:38.004567",
          "status": "completed"
        },
        "tags": [],
        "id": "4zOIrPJFJ7nX"
      },
      "source": [
        "There has been a increase in Bitcoin's weighted price except a slump in late 2018 and early 2019. Also, we can  observe a spike in weighted price in December 2017. We shall use Pandas to investigate it further in the coming sections."
      ]
    },
    {
      "cell_type": "markdown",
      "metadata": {
        "papermill": {
          "duration": 0.12746,
          "end_time": "2020-10-02T15:39:38.391372",
          "exception": false,
          "start_time": "2020-10-02T15:39:38.263912",
          "status": "completed"
        },
        "tags": [],
        "id": "1YwWXPi1J7nY"
      },
      "source": [
        "# Visualising using KDEs\n",
        "\n",
        "Summarizing the data with Density plots to see where the mass of the data is located."
      ]
    },
    {
      "cell_type": "code",
      "metadata": {
        "execution": {
          "iopub.execute_input": "2020-10-02T15:39:38.660653Z",
          "iopub.status.busy": "2020-10-02T15:39:38.657703Z",
          "iopub.status.idle": "2020-10-02T15:39:39.742486Z",
          "shell.execute_reply": "2020-10-02T15:39:39.741861Z"
        },
        "papermill": {
          "duration": 1.223178,
          "end_time": "2020-10-02T15:39:39.742620",
          "exception": false,
          "start_time": "2020-10-02T15:39:38.519442",
          "status": "completed"
        },
        "tags": [],
        "id": "nZK6A2F8J7nY",
        "colab": {
          "base_uri": "https://localhost:8080/",
          "height": 293
        },
        "outputId": "0616b39b-cdda-4d00-9f6c-6f3e9ddb1977"
      },
      "source": [
        "sns.kdeplot(bitstamp['adj_close'], shade=True)"
      ],
      "execution_count": null,
      "outputs": [
        {
          "output_type": "execute_result",
          "data": {
            "text/plain": [
              "<matplotlib.axes._subplots.AxesSubplot at 0x7f1db675ac90>"
            ]
          },
          "metadata": {},
          "execution_count": 27
        },
        {
          "output_type": "display_data",
          "data": {
            "image/png": "[encoded data removed]",
            "text/plain": [
              "<Figure size 432x288 with 1 Axes>"
            ]
          },
          "metadata": {}
        }
      ]
    },
    {
      "cell_type": "markdown",
      "metadata": {
        "papermill": {
          "duration": 0.130422,
          "end_time": "2020-10-02T15:39:40.003239",
          "exception": false,
          "start_time": "2020-10-02T15:39:39.872817",
          "status": "completed"
        },
        "tags": [],
        "id": "PGgMx40RJ7nY"
      },
      "source": [
        "So there is a downward trend in stock prices from Dec-17 onwards till March 2019. We will investigate it further by investigation and with some findings during that period."
      ]
    },
    {
      "cell_type": "markdown",
      "metadata": {
        "papermill": {
          "duration": 0.12916,
          "end_time": "2020-10-02T15:39:40.262815",
          "exception": false,
          "start_time": "2020-10-02T15:39:40.133655",
          "status": "completed"
        },
        "tags": [],
        "id": "8nvWXknXJ7nZ"
      },
      "source": [
        "<a id=\"subsection-two\"></a>\n",
        "\n",
        "# Visualizing using Lag Plots\n",
        "\n",
        "Lag plot are used to observe the autocorrelation. These are crucial when we try to correct the trend and stationarity and we have to use smoothing functions. Lag plot helps us to understand the data better."
      ]
    },
    {
      "cell_type": "code",
      "metadata": {
        "execution": {
          "iopub.execute_input": "2020-10-02T15:39:40.542607Z",
          "iopub.status.busy": "2020-10-02T15:39:40.540414Z",
          "iopub.status.idle": "2020-10-02T15:40:59.342405Z",
          "shell.execute_reply": "2020-10-02T15:40:59.343033Z"
        },
        "papermill": {
          "duration": 78.95152,
          "end_time": "2020-10-02T15:40:59.343192",
          "exception": false,
          "start_time": "2020-10-02T15:39:40.391672",
          "status": "completed"
        },
        "tags": [],
        "id": "yqGN-xF0J7nZ",
        "colab": {
          "base_uri": "https://localhost:8080/",
          "height": 584
        },
        "outputId": "3ae44b66-3d3f-4a65-d57b-8f5caa9a692a"
      },
      "source": [
        "plt.figure(figsize=(15,12))\n",
        "plt.suptitle('Lag Plots', fontsize=22)\n",
        "\n",
        "plt.subplot(3,3,1)\n",
        "pd.plotting.lag_plot(bitstamp['adj_close'], lag=1) #minute lag\n",
        "plt.title('1-Minute Lag')\n",
        "\n",
        "plt.subplot(3,3,2)\n",
        "pd.plotting.lag_plot(bitstamp['adj_close'], lag=60) #hourley lag\n",
        "plt.title('1-Hour Lag')\n",
        "\n",
        "plt.subplot(3,3,3)\n",
        "pd.plotting.lag_plot(bitstamp['adj_close'], lag=1440) #Daily lag\n",
        "plt.title('Daily Lag')\n",
        "\n",
        "plt.subplot(3,3,4)\n",
        "pd.plotting.lag_plot(bitstamp['adj_close'], lag=10080) #weekly lag\n",
        "plt.title('Weekly Lag')\n",
        "\n",
        "plt.subplot(3,3,5)\n",
        "pd.plotting.lag_plot(bitstamp['adj_close'], lag=43200) #month lag\n",
        "plt.title('1-Month Lag')\n",
        "\n",
        "plt.legend()\n",
        "plt.show()"
      ],
      "execution_count": null,
      "outputs": [
        {
          "output_type": "stream",
          "name": "stderr",
          "text": [
            "No handles with labels found to put in legend.\n"
          ]
        },
        {
          "output_type": "display_data",
          "data": {
            "image/png": "[encoded data removed]",
            "text/plain": [
              "<Figure size 1080x864 with 5 Axes>"
            ]
          },
          "metadata": {}
        }
      ]
    },
    {
      "cell_type": "markdown",
      "metadata": {
        "papermill": {
          "duration": 0.130338,
          "end_time": "2020-10-02T15:40:59.605418",
          "exception": false,
          "start_time": "2020-10-02T15:40:59.475080",
          "status": "completed"
        },
        "tags": [],
        "id": "dpBDeK05J7na"
      },
      "source": [
        "We can see that there is a positive correlation for minute, hour and daily lag plots. We observe absolutely no correlation for month lag plots.\n",
        "\n",
        "It makes sense to re-sample our data atmost at the Daily level, thereby preserving the autocorrelation as well. "
      ]
    },
    {
      "cell_type": "markdown",
      "metadata": {
        "papermill": {
          "duration": 0.129726,
          "end_time": "2020-10-02T15:40:59.865825",
          "exception": false,
          "start_time": "2020-10-02T15:40:59.736099",
          "status": "completed"
        },
        "tags": [],
        "id": "uQC8a9zHJ7na"
      },
      "source": [
        "<a id=\"subsection-three\"></a>\n",
        "\n",
        "# Time resampling\n",
        "\n",
        "Examining stock price data for every single day isn’t of much use to financial institutions, who are more interested in spotting market trends. To make it easier, we use a process called time resampling to aggregate data into a defined time period, such as by month or by quarter. Institutions can then see an overview of stock prices and make decisions according to these trends.\n",
        "\n",
        "The pandas library has a .resample() function which resamples such time series data. The resample method in pandas is similar to its groupby method as it is essentially grouping according to a certain time span. The resample() function looks like this:"
      ]
    },
    {
      "cell_type": "code",
      "metadata": {
        "execution": {
          "iopub.execute_input": "2020-10-02T15:41:00.132090Z",
          "iopub.status.busy": "2020-10-02T15:41:00.131293Z",
          "iopub.status.idle": "2020-10-02T15:41:00.252493Z",
          "shell.execute_reply": "2020-10-02T15:41:00.251713Z"
        },
        "papermill": {
          "duration": 0.256412,
          "end_time": "2020-10-02T15:41:00.252618",
          "exception": false,
          "start_time": "2020-10-02T15:40:59.996206",
          "status": "completed"
        },
        "tags": [],
        "id": "-KDK5HKBJ7nb",
        "colab": {
          "base_uri": "https://localhost:8080/",
          "height": 206
        },
        "outputId": "7b273e6c-23e3-43f3-d1fe-238ec6972ce6"
      },
      "source": [
        "hourly_data = bitstamp.resample('1H').mean()\n",
        "hourly_data = hourly_data.reset_index()\n",
        "\n",
        "hourly_data.head()"
      ],
      "execution_count": null,
      "outputs": [
        {
          "output_type": "execute_result",
          "data": {
            "text/html": [
              "<div>\n",
              "<style scoped>\n",
              "    .dataframe tbody tr th:only-of-type {\n",
              "        vertical-align: middle;\n",
              "    }\n",
              "\n",
              "    .dataframe tbody tr th {\n",
              "        vertical-align: top;\n",
              "    }\n",
              "\n",
              "    .dataframe thead th {\n",
              "        text-align: right;\n",
              "    }\n",
              "</style>\n",
              "<table border=\"1\" class=\"dataframe\">\n",
              "  <thead>\n",
              "    <tr style=\"text-align: right;\">\n",
              "      <th></th>\n",
              "      <th>date</th>\n",
              "      <th>open</th>\n",
              "      <th>high</th>\n",
              "      <th>low</th>\n",
              "      <th>close</th>\n",
              "      <th>adj_close</th>\n",
              "      <th>volume</th>\n",
              "    </tr>\n",
              "  </thead>\n",
              "  <tbody>\n",
              "    <tr>\n",
              "      <th>0</th>\n",
              "      <td>2014-07-14 00:00:00</td>\n",
              "      <td>4441.390137</td>\n",
              "      <td>4451.600098</td>\n",
              "      <td>4432.950195</td>\n",
              "      <td>4440.419922</td>\n",
              "      <td>4440.419922</td>\n",
              "      <td>1.579660e+09</td>\n",
              "    </tr>\n",
              "    <tr>\n",
              "      <th>1</th>\n",
              "      <td>2014-07-14 01:00:00</td>\n",
              "      <td>NaN</td>\n",
              "      <td>NaN</td>\n",
              "      <td>NaN</td>\n",
              "      <td>NaN</td>\n",
              "      <td>NaN</td>\n",
              "      <td>NaN</td>\n",
              "    </tr>\n",
              "    <tr>\n",
              "      <th>2</th>\n",
              "      <td>2014-07-14 02:00:00</td>\n",
              "      <td>NaN</td>\n",
              "      <td>NaN</td>\n",
              "      <td>NaN</td>\n",
              "      <td>NaN</td>\n",
              "      <td>NaN</td>\n",
              "      <td>NaN</td>\n",
              "    </tr>\n",
              "    <tr>\n",
              "      <th>3</th>\n",
              "      <td>2014-07-14 03:00:00</td>\n",
              "      <td>NaN</td>\n",
              "      <td>NaN</td>\n",
              "      <td>NaN</td>\n",
              "      <td>NaN</td>\n",
              "      <td>NaN</td>\n",
              "      <td>NaN</td>\n",
              "    </tr>\n",
              "    <tr>\n",
              "      <th>4</th>\n",
              "      <td>2014-07-14 04:00:00</td>\n",
              "      <td>NaN</td>\n",
              "      <td>NaN</td>\n",
              "      <td>NaN</td>\n",
              "      <td>NaN</td>\n",
              "      <td>NaN</td>\n",
              "      <td>NaN</td>\n",
              "    </tr>\n",
              "  </tbody>\n",
              "</table>\n",
              "</div>"
            ],
            "text/plain": [
              "                 date         open  ...    adj_close        volume\n",
              "0 2014-07-14 00:00:00  4441.390137  ...  4440.419922  1.579660e+09\n",
              "1 2014-07-14 01:00:00          NaN  ...          NaN           NaN\n",
              "2 2014-07-14 02:00:00          NaN  ...          NaN           NaN\n",
              "3 2014-07-14 03:00:00          NaN  ...          NaN           NaN\n",
              "4 2014-07-14 04:00:00          NaN  ...          NaN           NaN\n",
              "\n",
              "[5 rows x 7 columns]"
            ]
          },
          "metadata": {},
          "execution_count": 29
        }
      ]
    },
    {
      "cell_type": "markdown",
      "metadata": {
        "papermill": {
          "duration": 0.130643,
          "end_time": "2020-10-02T15:41:00.516275",
          "exception": false,
          "start_time": "2020-10-02T15:41:00.385632",
          "status": "completed"
        },
        "tags": [],
        "id": "LoMUL4J-J7nb"
      },
      "source": [
        "**To summarize what happened above:**\n",
        "\n",
        "* data.resample() is used to resample the stock data.\n",
        "* The ‘1H’ stands for hourly frequency, and denotes the offset values by which we want to resample the data.\n",
        "* mean() indicates that we want the average stock price during this period.\n",
        "\n",
        "The offset values list can be found in the pandas [documentation](https://pandas.pydata.org/pandas-docs/stable/user_guide/timeseries.html#offset-aliases)."
      ]
    },
    {
      "cell_type": "code",
      "metadata": {
        "execution": {
          "iopub.execute_input": "2020-10-02T15:41:00.817073Z",
          "iopub.status.busy": "2020-10-02T15:41:00.816296Z",
          "iopub.status.idle": "2020-10-02T15:41:00.901230Z",
          "shell.execute_reply": "2020-10-02T15:41:00.900553Z"
        },
        "papermill": {
          "duration": 0.24249,
          "end_time": "2020-10-02T15:41:00.901353",
          "exception": false,
          "start_time": "2020-10-02T15:41:00.658863",
          "status": "completed"
        },
        "tags": [],
        "id": "kONfCiPFJ7nb"
      },
      "source": [
        "bitstamp_daily = bitstamp.resample(\"24H\").mean() #daily resampling"
      ],
      "execution_count": null,
      "outputs": []
    },
    {
      "cell_type": "markdown",
      "metadata": {
        "papermill": {
          "duration": 0.136629,
          "end_time": "2020-10-02T15:41:01.170770",
          "exception": false,
          "start_time": "2020-10-02T15:41:01.034141",
          "status": "completed"
        },
        "tags": [],
        "id": "tATkCFpqJ7nb"
      },
      "source": [
        "# Plotting using Plotly\n",
        "\n",
        "Plotly allows us to make interactve charts which are pretty useful in financial analysis. \n",
        "\n",
        "* The **range-sliders** can be used to zoom-in and zoom-out.\n",
        "* The **range-selectors** can be used to select the range."
      ]
    },
    {
      "cell_type": "code",
      "metadata": {
        "execution": {
          "iopub.execute_input": "2020-10-02T15:41:01.448085Z",
          "iopub.status.busy": "2020-10-02T15:41:01.447276Z",
          "iopub.status.idle": "2020-10-02T15:41:02.916265Z",
          "shell.execute_reply": "2020-10-02T15:41:02.916865Z"
        },
        "papermill": {
          "duration": 1.61396,
          "end_time": "2020-10-02T15:41:02.917022",
          "exception": false,
          "start_time": "2020-10-02T15:41:01.303062",
          "status": "completed"
        },
        "tags": [],
        "id": "ZjFwIUOVJ7nc",
        "colab": {
          "base_uri": "https://localhost:8080/",
          "height": 542
        },
        "outputId": "97477f05-3b82-41f4-a7d5-6b9f298fb636"
      },
      "source": [
        "import plotly.express as px\n",
        "\n",
        "bitstamp_daily.reset_index(inplace=True)\n",
        "fig = px.line(bitstamp_daily, x='date', y='adj_close', title='Adj Close with Range Slider and Selectors')\n",
        "fig.update_layout(hovermode=\"x\")\n",
        "\n",
        "fig.update_xaxes(\n",
        "    rangeslider_visible=True,\n",
        "    rangeselector=dict(\n",
        "        buttons=list([\n",
        "            dict(count=1, label=\"1m\", step=\"month\", stepmode=\"backward\"),\n",
        "            dict(count=6, label=\"6m\", step=\"month\", stepmode=\"backward\"),\n",
        "            dict(count=1, label=\"1y\", step=\"year\", stepmode=\"backward\"),\n",
        "            dict(count=2, label=\"2y\", step=\"year\", stepmode=\"backward\"),\n",
        "            dict(step=\"all\")\n",
        "            \n",
        "        ])\n",
        "    )\n",
        ")\n",
        "fig.show()"
      ],
      "execution_count": null,
      "outputs": [
        {
          "output_type": "display_data",
          "data": {
            "text/html": [
              "<html>\n",
              "<head><meta charset=\"utf-8\" /></head>\n",
              "<body>\n",
              "    <div>\n",
              "            <script src=\"https://cdnjs.cloudflare.com/ajax/libs/mathjax/2.7.5/MathJax.js?config=TeX-AMS-MML_SVG\"></script><script type=\"text/javascript\">if (window.MathJax) {MathJax.Hub.Config({SVG: {font: \"STIX-Web\"}});}</script>\n",
              "                <script type=\"text/javascript\">window.PlotlyConfig = {MathJaxConfig: 'local'};</script>\n",
              "        <script src=\"https://cdn.plot.ly/plotly-latest.min.js\"></script>    \n",
              "            <div id=\"76c37b5a-8abb-459e-966d-d7b807327b89\" class=\"plotly-graph-div\" style=\"height:525px; width:100%;\"></div>\n",
              "            <script type=\"text/javascript\">\n",
              "                \n",
              "                    window.PLOTLYENV=window.PLOTLYENV || {};\n",
              "                    \n",
              "                if (document.getElementById(\"76c37b5a-8abb-459e-966d-d7b807327b89\")) {\n",
              "                    Plotly.newPlot(\n",
              "                        '76c37b5a-8abb-459e-966d-d7b807327b89',\n",
              "                        [{\"hoverlabel\": {\"namelength\": 0}, \"hovertemplate\": \"date=%{x}<br>adj_close=%{y}\", \"legendgroup\": \"\", \"line\": {\"color\": \"#636efa\", \"dash\": \"solid\"}, \"mode\": \"lines\", \"name\": \"\", \"showlegend\": false, \"type\": \"scattergl\", \"x\": [\"2014-07-14T00:00:00\", \"2014-07-15T00:00:00\", \"2014-07-16T00:00:00\", \"2014-07-17T00:00:00\", \"2014-07-18T00:00:00\", \"2014-07-19T00:00:00\", \"2014-07-20T00:00:00\", \"2014-07-21T00:00:00\", \"2014-07-22T00:00:00\", \"2014-07-23T00:00:00\", \"2014-07-24T00:00:00\", \"2014-07-25T00:00:00\", \"2014-07-26T00:00:00\", \"2014-07-27T00:00:00\", \"2014-07-28T00:00:00\", \"2014-07-29T00:00:00\", \"2014-07-30T00:00:00\", \"2014-07-31T00:00:00\", \"2014-08-01T00:00:00\", \"2014-08-02T00:00:00\", \"2014-08-03T00:00:00\", \"2014-08-04T00:00:00\", \"2014-08-05T00:00:00\", \"2014-08-06T00:00:00\", \"2014-08-07T00:00:00\", \"2014-08-08T00:00:00\", \"2014-08-09T00:00:00\", \"2014-08-10T00:00:00\", \"2014-08-11T00:00:00\", \"2014-08-12T00:00:00\", \"2014-08-13T00:00:00\", \"2014-08-14T00:00:00\", \"2014-08-15T00:00:00\", \"2014-08-16T00:00:00\", \"2014-08-17T00:00:00\", \"2014-08-18T00:00:00\", \"2014-08-19T00:00:00\", \"2014-08-20T00:00:00\", \"2014-08-21T00:00:00\", \"2014-08-22T00:00:00\", \"2014-08-23T00:00:00\", \"2014-08-24T00:00:00\", \"2014-08-25T00:00:00\", \"2014-08-26T00:00:00\", \"2014-08-27T00:00:00\", \"2014-08-28T00:00:00\", \"2014-08-29T00:00:00\", \"2014-08-30T00:00:00\", \"2014-08-31T00:00:00\", \"2014-09-01T00:00:00\", \"2014-09-02T00:00:00\", \"2014-09-03T00:00:00\", \"2014-09-04T00:00:00\", \"2014-09-05T00:00:00\", \"2014-09-06T00:00:00\", \"2014-09-07T00:00:00\", \"2014-09-08T00:00:00\", \"2014-09-09T00:00:00\", \"2014-09-10T00:00:00\", \"2014-09-11T00:00:00\", \"2014-09-12T00:00:00\", \"2014-09-13T00:00:00\", \"2014-09-14T00:00:00\", \"2014-09-15T00:00:00\", \"2014-09-16T00:00:00\", \"2014-09-17T00:00:00\", \"2014-09-18T00:00:00\", \"2014-09-19T00:00:00\", \"2014-09-20T00:00:00\", \"2014-09-21T00:00:00\", \"2014-09-22T00:00:00\", \"2014-09-23T00:00:00\", \"2014-09-24T00:00:00\", \"2014-09-25T00:00:00\", \"2014-09-26T00:00:00\", \"2014-09-27T00:00:00\", \"2014-09-28T00:00:00\", \"2014-09-29T00:00:00\", \"2014-09-30T00:00:00\", \"2014-10-01T00:00:00\", \"2014-10-02T00:00:00\", \"2014-10-03T00:00:00\", \"2014-10-04T00:00:00\", \"2014-10-05T00:00:00\", \"2014-10-06T00:00:00\", \"2014-10-07T00:00:00\", \"2014-10-08T00:00:00\", \"2014-10-09T00:00:00\", \"2014-10-10T00:00:00\", \"2014-10-11T00:00:00\", \"2014-10-12T00:00:00\", \"2014-10-13T00:00:00\", \"2014-10-14T00:00:00\", \"2014-10-15T00:00:00\", \"2014-10-16T00:00:00\", \"2014-10-17T00:00:00\", \"2014-10-18T00:00:00\", \"2014-10-19T00:00:00\", \"2014-10-20T00:00:00\", \"2014-10-21T00:00:00\", \"2014-10-22T00:00:00\", \"2014-10-23T00:00:00\", \"2014-10-24T00:00:00\", \"2014-10-25T00:00:00\", \"2014-10-26T00:00:00\", \"2014-10-27T00:00:00\", \"2014-10-28T00:00:00\", \"2014-10-29T00:00:00\", \"2014-10-30T00:00:00\", \"2014-10-31T00:00:00\", \"2014-11-01T00:00:00\", \"2014-11-02T00:00:00\", \"2014-11-03T00:00:00\", \"2014-11-04T00:00:00\", \"2014-11-05T00:00:00\", \"2014-11-06T00:00:00\", \"2014-11-07T00:00:00\", \"2014-11-08T00:00:00\", \"2014-11-09T00:00:00\", \"2014-11-10T00:00:00\", \"2014-11-11T00:00:00\", \"2014-11-12T00:00:00\", \"2014-11-13T00:00:00\", \"2014-11-14T00:00:00\", \"2014-11-15T00:00:00\", \"2014-11-16T00:00:00\", \"2014-11-17T00:00:00\", \"2014-11-18T00:00:00\", \"2014-11-19T00:00:00\", \"2014-11-20T00:00:00\", \"2014-11-21T00:00:00\", \"2014-11-22T00:00:00\", \"2014-11-23T00:00:00\", \"2014-11-24T00:00:00\", \"2014-11-25T00:00:00\", \"2014-11-26T00:00:00\", \"2014-11-27T00:00:00\", \"2014-11-28T00:00:00\", \"2014-11-29T00:00:00\", \"2014-11-30T00:00:00\", \"2014-12-01T00:00:00\", \"2014-12-02T00:00:00\", \"2014-12-03T00:00:00\", \"2014-12-04T00:00:00\", \"2014-12-05T00:00:00\", \"2014-12-06T00:00:00\", \"2014-12-07T00:00:00\", \"2014-12-08T00:00:00\", \"2014-12-09T00:00:00\", \"2014-12-10T00:00:00\", \"2014-12-11T00:00:00\", \"2014-12-12T00:00:00\", \"2014-12-13T00:00:00\", \"2014-12-14T00:00:00\", \"2014-12-15T00:00:00\", \"2014-12-16T00:00:00\", \"2014-12-17T00:00:00\", \"2014-12-18T00:00:00\", \"2014-12-19T00:00:00\", \"2014-12-20T00:00:00\", \"2014-12-21T00:00:00\", \"2014-12-22T00:00:00\", \"2014-12-23T00:00:00\", \"2014-12-24T00:00:00\", \"2014-12-25T00:00:00\", \"2014-12-26T00:00:00\", \"2014-12-27T00:00:00\", \"2014-12-28T00:00:00\", \"2014-12-29T00:00:00\", \"2014-12-30T00:00:00\", \"2014-12-31T00:00:00\", \"2015-01-01T00:00:00\", \"2015-01-02T00:00:00\", \"2015-01-03T00:00:00\", \"2015-01-04T00:00:00\", \"2015-01-05T00:00:00\", \"2015-01-06T00:00:00\", \"2015-01-07T00:00:00\", \"2015-01-08T00:00:00\", \"2015-01-09T00:00:00\", \"2015-01-10T00:00:00\", \"2015-01-11T00:00:00\", \"2015-01-12T00:00:00\", \"2015-01-13T00:00:00\", \"2015-01-14T00:00:00\", \"2015-01-15T00:00:00\", \"2015-01-16T00:00:00\", \"2015-01-17T00:00:00\", \"2015-01-18T00:00:00\", \"2015-01-19T00:00:00\", \"2015-01-20T00:00:00\", \"2015-01-21T00:00:00\", \"2015-01-22T00:00:00\", \"2015-01-23T00:00:00\", \"2015-01-24T00:00:00\", \"2015-01-25T00:00:00\", \"2015-01-26T00:00:00\", \"2015-01-27T00:00:00\", \"2015-01-28T00:00:00\", \"2015-01-29T00:00:00\", \"2015-01-30T00:00:00\", \"2015-01-31T00:00:00\", \"2015-02-01T00:00:00\", \"2015-02-02T00:00:00\", \"2015-02-03T00:00:00\", \"2015-02-04T00:00:00\", \"2015-02-05T00:00:00\", \"2015-02-06T00:00:00\", \"2015-02-07T00:00:00\", \"2015-02-08T00:00:00\", \"2015-02-09T00:00:00\", \"2015-02-10T00:00:00\", \"2015-02-11T00:00:00\", \"2015-02-12T00:00:00\", \"2015-02-13T00:00:00\", \"2015-02-14T00:00:00\", \"2015-02-15T00:00:00\", \"2015-02-16T00:00:00\", \"2015-02-17T00:00:00\", \"2015-02-18T00:00:00\", \"2015-02-19T00:00:00\", \"2015-02-20T00:00:00\", \"2015-02-21T00:00:00\", \"2015-02-22T00:00:00\", \"2015-02-23T00:00:00\", \"2015-02-24T00:00:00\", \"2015-02-25T00:00:00\", \"2015-02-26T00:00:00\", \"2015-02-27T00:00:00\", \"2015-02-28T00:00:00\", \"2015-03-01T00:00:00\", \"2015-03-02T00:00:00\", \"2015-03-03T00:00:00\", \"2015-03-04T00:00:00\", \"2015-03-05T00:00:00\", \"2015-03-06T00:00:00\", \"2015-03-07T00:00:00\", \"2015-03-08T00:00:00\", \"2015-03-09T00:00:00\", \"2015-03-10T00:00:00\", \"2015-03-11T00:00:00\", \"2015-03-12T00:00:00\", \"2015-03-13T00:00:00\", \"2015-03-14T00:00:00\", \"2015-03-15T00:00:00\", \"2015-03-16T00:00:00\", \"2015-03-17T00:00:00\", \"2015-03-18T00:00:00\", \"2015-03-19T00:00:00\", \"2015-03-20T00:00:00\", \"2015-03-21T00:00:00\", \"2015-03-22T00:00:00\", \"2015-03-23T00:00:00\", \"2015-03-24T00:00:00\", \"2015-03-25T00:00:00\", \"2015-03-26T00:00:00\", \"2015-03-27T00:00:00\", \"2015-03-28T00:00:00\", \"2015-03-29T00:00:00\", \"2015-03-30T00:00:00\", \"2015-03-31T00:00:00\", \"2015-04-01T00:00:00\", \"2015-04-02T00:00:00\", \"2015-04-03T00:00:00\", \"2015-04-04T00:00:00\", \"2015-04-05T00:00:00\", \"2015-04-06T00:00:00\", \"2015-04-07T00:00:00\", \"2015-04-08T00:00:00\", \"2015-04-09T00:00:00\", \"2015-04-10T00:00:00\", \"2015-04-11T00:00:00\", \"2015-04-12T00:00:00\", \"2015-04-13T00:00:00\", \"2015-04-14T00:00:00\", \"2015-04-15T00:00:00\", \"2015-04-16T00:00:00\", \"2015-04-17T00:00:00\", \"2015-04-18T00:00:00\", \"2015-04-19T00:00:00\", \"2015-04-20T00:00:00\", \"2015-04-21T00:00:00\", \"2015-04-22T00:00:00\", \"2015-04-23T00:00:00\", \"2015-04-24T00:00:00\", \"2015-04-25T00:00:00\", \"2015-04-26T00:00:00\", \"2015-04-27T00:00:00\", \"2015-04-28T00:00:00\", \"2015-04-29T00:00:00\", \"2015-04-30T00:00:00\", \"2015-05-01T00:00:00\", \"2015-05-02T00:00:00\", \"2015-05-03T00:00:00\", \"2015-05-04T00:00:00\", \"2015-05-05T00:00:00\", \"2015-05-06T00:00:00\", \"2015-05-07T00:00:00\", \"2015-05-08T00:00:00\", \"2015-05-09T00:00:00\", \"2015-05-10T00:00:00\", \"2015-05-11T00:00:00\", \"2015-05-12T00:00:00\", \"2015-05-13T00:00:00\", \"2015-05-14T00:00:00\", \"2015-05-15T00:00:00\", \"2015-05-16T00:00:00\", \"2015-05-17T00:00:00\", \"2015-05-18T00:00:00\", \"2015-05-19T00:00:00\", \"2015-05-20T00:00:00\", \"2015-05-21T00:00:00\", \"2015-05-22T00:00:00\", \"2015-05-23T00:00:00\", \"2015-05-24T00:00:00\", \"2015-05-25T00:00:00\", \"2015-05-26T00:00:00\", \"2015-05-27T00:00:00\", \"2015-05-28T00:00:00\", \"2015-05-29T00:00:00\", \"2015-05-30T00:00:00\", \"2015-05-31T00:00:00\", \"2015-06-01T00:00:00\", \"2015-06-02T00:00:00\", \"2015-06-03T00:00:00\", \"2015-06-04T00:00:00\", \"2015-06-05T00:00:00\", \"2015-06-06T00:00:00\", \"2015-06-07T00:00:00\", \"2015-06-08T00:00:00\", \"2015-06-09T00:00:00\", \"2015-06-10T00:00:00\", \"2015-06-11T00:00:00\", \"2015-06-12T00:00:00\", \"2015-06-13T00:00:00\", \"2015-06-14T00:00:00\", \"2015-06-15T00:00:00\", \"2015-06-16T00:00:00\", \"2015-06-17T00:00:00\", \"2015-06-18T00:00:00\", \"2015-06-19T00:00:00\", \"2015-06-20T00:00:00\", \"2015-06-21T00:00:00\", \"2015-06-22T00:00:00\", \"2015-06-23T00:00:00\", \"2015-06-24T00:00:00\", \"2015-06-25T00:00:00\", \"2015-06-26T00:00:00\", \"2015-06-27T00:00:00\", \"2015-06-28T00:00:00\", \"2015-06-29T00:00:00\", \"2015-06-30T00:00:00\", \"2015-07-01T00:00:00\", \"2015-07-02T00:00:00\", \"2015-07-03T00:00:00\", \"2015-07-04T00:00:00\", \"2015-07-05T00:00:00\", \"2015-07-06T00:00:00\", \"2015-07-07T00:00:00\", \"2015-07-08T00:00:00\", \"2015-07-09T00:00:00\", \"2015-07-10T00:00:00\", \"2015-07-11T00:00:00\", \"2015-07-12T00:00:00\", \"2015-07-13T00:00:00\", \"2015-07-14T00:00:00\", \"2015-07-15T00:00:00\", \"2015-07-16T00:00:00\", \"2015-07-17T00:00:00\", \"2015-07-18T00:00:00\", \"2015-07-19T00:00:00\", \"2015-07-20T00:00:00\", \"2015-07-21T00:00:00\", \"2015-07-22T00:00:00\", \"2015-07-23T00:00:00\", \"2015-07-24T00:00:00\", \"2015-07-25T00:00:00\", \"2015-07-26T00:00:00\", \"2015-07-27T00:00:00\", \"2015-07-28T00:00:00\", \"2015-07-29T00:00:00\", \"2015-07-30T00:00:00\", \"2015-07-31T00:00:00\", \"2015-08-01T00:00:00\", \"2015-08-02T00:00:00\", \"2015-08-03T00:00:00\", \"2015-08-04T00:00:00\", \"2015-08-05T00:00:00\", \"2015-08-06T00:00:00\", \"2015-08-07T00:00:00\", \"2015-08-08T00:00:00\", \"2015-08-09T00:00:00\", \"2015-08-10T00:00:00\", \"2015-08-11T00:00:00\", \"2015-08-12T00:00:00\", \"2015-08-13T00:00:00\", \"2015-08-14T00:00:00\", \"2015-08-15T00:00:00\", \"2015-08-16T00:00:00\", \"2015-08-17T00:00:00\", \"2015-08-18T00:00:00\", \"2015-08-19T00:00:00\", \"2015-08-20T00:00:00\", \"2015-08-21T00:00:00\", \"2015-08-22T00:00:00\", \"2015-08-23T00:00:00\", \"2015-08-24T00:00:00\", \"2015-08-25T00:00:00\", \"2015-08-26T00:00:00\", \"2015-08-27T00:00:00\", \"2015-08-28T00:00:00\", \"2015-08-29T00:00:00\", \"2015-08-30T00:00:00\", \"2015-08-31T00:00:00\", \"2015-09-01T00:00:00\", \"2015-09-02T00:00:00\", \"2015-09-03T00:00:00\", \"2015-09-04T00:00:00\", \"2015-09-05T00:00:00\", \"2015-09-06T00:00:00\", \"2015-09-07T00:00:00\", \"2015-09-08T00:00:00\", \"2015-09-09T00:00:00\", \"2015-09-10T00:00:00\", \"2015-09-11T00:00:00\", \"2015-09-12T00:00:00\", \"2015-09-13T00:00:00\", \"2015-09-14T00:00:00\", \"2015-09-15T00:00:00\", \"2015-09-16T00:00:00\", \"2015-09-17T00:00:00\", \"2015-09-18T00:00:00\", \"2015-09-19T00:00:00\", \"2015-09-20T00:00:00\", \"2015-09-21T00:00:00\", \"2015-09-22T00:00:00\", \"2015-09-23T00:00:00\", \"2015-09-24T00:00:00\", \"2015-09-25T00:00:00\", \"2015-09-26T00:00:00\", \"2015-09-27T00:00:00\", \"2015-09-28T00:00:00\", \"2015-09-29T00:00:00\", \"2015-09-30T00:00:00\", \"2015-10-01T00:00:00\", \"2015-10-02T00:00:00\", \"2015-10-03T00:00:00\", \"2015-10-04T00:00:00\", \"2015-10-05T00:00:00\", \"2015-10-06T00:00:00\", \"2015-10-07T00:00:00\", \"2015-10-08T00:00:00\", \"2015-10-09T00:00:00\", \"2015-10-10T00:00:00\", \"2015-10-11T00:00:00\", \"2015-10-12T00:00:00\", \"2015-10-13T00:00:00\", \"2015-10-14T00:00:00\", \"2015-10-15T00:00:00\", \"2015-10-16T00:00:00\", \"2015-10-17T00:00:00\", \"2015-10-18T00:00:00\", \"2015-10-19T00:00:00\", \"2015-10-20T00:00:00\", \"2015-10-21T00:00:00\", \"2015-10-22T00:00:00\", \"2015-10-23T00:00:00\", \"2015-10-24T00:00:00\", \"2015-10-25T00:00:00\", \"2015-10-26T00:00:00\", \"2015-10-27T00:00:00\", \"2015-10-28T00:00:00\", \"2015-10-29T00:00:00\", \"2015-10-30T00:00:00\", \"2015-10-31T00:00:00\", \"2015-11-01T00:00:00\", \"2015-11-02T00:00:00\", \"2015-11-03T00:00:00\", \"2015-11-04T00:00:00\", \"2015-11-05T00:00:00\", \"2015-11-06T00:00:00\", \"2015-11-07T00:00:00\", \"2015-11-08T00:00:00\", \"2015-11-09T00:00:00\", \"2015-11-10T00:00:00\", \"2015-11-11T00:00:00\", \"2015-11-12T00:00:00\", \"2015-11-13T00:00:00\", \"2015-11-14T00:00:00\", \"2015-11-15T00:00:00\", \"2015-11-16T00:00:00\", \"2015-11-17T00:00:00\", \"2015-11-18T00:00:00\", \"2015-11-19T00:00:00\", \"2015-11-20T00:00:00\", \"2015-11-21T00:00:00\", \"2015-11-22T00:00:00\", \"2015-11-23T00:00:00\", \"2015-11-24T00:00:00\", \"2015-11-25T00:00:00\", \"2015-11-26T00:00:00\", \"2015-11-27T00:00:00\", \"2015-11-28T00:00:00\", \"2015-11-29T00:00:00\", \"2015-11-30T00:00:00\", \"2015-12-01T00:00:00\", \"2015-12-02T00:00:00\", \"2015-12-03T00:00:00\", \"2015-12-04T00:00:00\", \"2015-12-05T00:00:00\", \"2015-12-06T00:00:00\", \"2015-12-07T00:00:00\", \"2015-12-08T00:00:00\", \"2015-12-09T00:00:00\", \"2015-12-10T00:00:00\", \"2015-12-11T00:00:00\", \"2015-12-12T00:00:00\", \"2015-12-13T00:00:00\", \"2015-12-14T00:00:00\", \"2015-12-15T00:00:00\", \"2015-12-16T00:00:00\", \"2015-12-17T00:00:00\", \"2015-12-18T00:00:00\", \"2015-12-19T00:00:00\", \"2015-12-20T00:00:00\", \"2015-12-21T00:00:00\", \"2015-12-22T00:00:00\", \"2015-12-23T00:00:00\", \"2015-12-24T00:00:00\", \"2015-12-25T00:00:00\", \"2015-12-26T00:00:00\", \"2015-12-27T00:00:00\", \"2015-12-28T00:00:00\", \"2015-12-29T00:00:00\", \"2015-12-30T00:00:00\", \"2015-12-31T00:00:00\", \"2016-01-01T00:00:00\", \"2016-01-02T00:00:00\", \"2016-01-03T00:00:00\", \"2016-01-04T00:00:00\", \"2016-01-05T00:00:00\", \"2016-01-06T00:00:00\", \"2016-01-07T00:00:00\", \"2016-01-08T00:00:00\", \"2016-01-09T00:00:00\", \"2016-01-10T00:00:00\", \"2016-01-11T00:00:00\", \"2016-01-12T00:00:00\", \"2016-01-13T00:00:00\", \"2016-01-14T00:00:00\", \"2016-01-15T00:00:00\", \"2016-01-16T00:00:00\", \"2016-01-17T00:00:00\", \"2016-01-18T00:00:00\", \"2016-01-19T00:00:00\", \"2016-01-20T00:00:00\", \"2016-01-21T00:00:00\", \"2016-01-22T00:00:00\", \"2016-01-23T00:00:00\", \"2016-01-24T00:00:00\", \"2016-01-25T00:00:00\", \"2016-01-26T00:00:00\", \"2016-01-27T00:00:00\", \"2016-01-28T00:00:00\", \"2016-01-29T00:00:00\", \"2016-01-30T00:00:00\", \"2016-01-31T00:00:00\", \"2016-02-01T00:00:00\", \"2016-02-02T00:00:00\", \"2016-02-03T00:00:00\", \"2016-02-04T00:00:00\", \"2016-02-05T00:00:00\", \"2016-02-06T00:00:00\", \"2016-02-07T00:00:00\", \"2016-02-08T00:00:00\", \"2016-02-09T00:00:00\", \"2016-02-10T00:00:00\", \"2016-02-11T00:00:00\", \"2016-02-12T00:00:00\", \"2016-02-13T00:00:00\", \"2016-02-14T00:00:00\", \"2016-02-15T00:00:00\", \"2016-02-16T00:00:00\", \"2016-02-17T00:00:00\", \"2016-02-18T00:00:00\", \"2016-02-19T00:00:00\", \"2016-02-20T00:00:00\", \"2016-02-21T00:00:00\", \"2016-02-22T00:00:00\", \"2016-02-23T00:00:00\", \"2016-02-24T00:00:00\", \"2016-02-25T00:00:00\", \"2016-02-26T00:00:00\", \"2016-02-27T00:00:00\", \"2016-02-28T00:00:00\", \"2016-02-29T00:00:00\", \"2016-03-01T00:00:00\", \"2016-03-02T00:00:00\", \"2016-03-03T00:00:00\", \"2016-03-04T00:00:00\", \"2016-03-05T00:00:00\", \"2016-03-06T00:00:00\", \"2016-03-07T00:00:00\", \"2016-03-08T00:00:00\", \"2016-03-09T00:00:00\", \"2016-03-10T00:00:00\", \"2016-03-11T00:00:00\", \"2016-03-12T00:00:00\", \"2016-03-13T00:00:00\", \"2016-03-14T00:00:00\", \"2016-03-15T00:00:00\", \"2016-03-16T00:00:00\", \"2016-03-17T00:00:00\", \"2016-03-18T00:00:00\", \"2016-03-19T00:00:00\", \"2016-03-20T00:00:00\", \"2016-03-21T00:00:00\", \"2016-03-22T00:00:00\", \"2016-03-23T00:00:00\", \"2016-03-24T00:00:00\", \"2016-03-25T00:00:00\", \"2016-03-26T00:00:00\", \"2016-03-27T00:00:00\", \"2016-03-28T00:00:00\", \"2016-03-29T00:00:00\", \"2016-03-30T00:00:00\", \"2016-03-31T00:00:00\", \"2016-04-01T00:00:00\", \"2016-04-02T00:00:00\", \"2016-04-03T00:00:00\", \"2016-04-04T00:00:00\", \"2016-04-05T00:00:00\", \"2016-04-06T00:00:00\", \"2016-04-07T00:00:00\", \"2016-04-08T00:00:00\", \"2016-04-09T00:00:00\", \"2016-04-10T00:00:00\", \"2016-04-11T00:00:00\", \"2016-04-12T00:00:00\", \"2016-04-13T00:00:00\", \"2016-04-14T00:00:00\", \"2016-04-15T00:00:00\", \"2016-04-16T00:00:00\", \"2016-04-17T00:00:00\", \"2016-04-18T00:00:00\", \"2016-04-19T00:00:00\", \"2016-04-20T00:00:00\", \"2016-04-21T00:00:00\", \"2016-04-22T00:00:00\", \"2016-04-23T00:00:00\", \"2016-04-24T00:00:00\", \"2016-04-25T00:00:00\", \"2016-04-26T00:00:00\", \"2016-04-27T00:00:00\", \"2016-04-28T00:00:00\", \"2016-04-29T00:00:00\", \"2016-04-30T00:00:00\", \"2016-05-01T00:00:00\", \"2016-05-02T00:00:00\", \"2016-05-03T00:00:00\", \"2016-05-04T00:00:00\", \"2016-05-05T00:00:00\", \"2016-05-06T00:00:00\", \"2016-05-07T00:00:00\", \"2016-05-08T00:00:00\", \"2016-05-09T00:00:00\", \"2016-05-10T00:00:00\", \"2016-05-11T00:00:00\", \"2016-05-12T00:00:00\", \"2016-05-13T00:00:00\", \"2016-05-14T00:00:00\", \"2016-05-15T00:00:00\", \"2016-05-16T00:00:00\", \"2016-05-17T00:00:00\", \"2016-05-18T00:00:00\", \"2016-05-19T00:00:00\", \"2016-05-20T00:00:00\", \"2016-05-21T00:00:00\", \"2016-05-22T00:00:00\", \"2016-05-23T00:00:00\", \"2016-05-24T00:00:00\", \"2016-05-25T00:00:00\", \"2016-05-26T00:00:00\", \"2016-05-27T00:00:00\", \"2016-05-28T00:00:00\", \"2016-05-29T00:00:00\", \"2016-05-30T00:00:00\", \"2016-05-31T00:00:00\", \"2016-06-01T00:00:00\", \"2016-06-02T00:00:00\", \"2016-06-03T00:00:00\", \"2016-06-04T00:00:00\", \"2016-06-05T00:00:00\", \"2016-06-06T00:00:00\", \"2016-06-07T00:00:00\", \"2016-06-08T00:00:00\", \"2016-06-09T00:00:00\", \"2016-06-10T00:00:00\", \"2016-06-11T00:00:00\", \"2016-06-12T00:00:00\", \"2016-06-13T00:00:00\", \"2016-06-14T00:00:00\", \"2016-06-15T00:00:00\", \"2016-06-16T00:00:00\", \"2016-06-17T00:00:00\", \"2016-06-18T00:00:00\", \"2016-06-19T00:00:00\", \"2016-06-20T00:00:00\", \"2016-06-21T00:00:00\", \"2016-06-22T00:00:00\", \"2016-06-23T00:00:00\", \"2016-06-24T00:00:00\", \"2016-06-25T00:00:00\", \"2016-06-26T00:00:00\", \"2016-06-27T00:00:00\", \"2016-06-28T00:00:00\", \"2016-06-29T00:00:00\", \"2016-06-30T00:00:00\", \"2016-07-01T00:00:00\", \"2016-07-02T00:00:00\", \"2016-07-03T00:00:00\", \"2016-07-04T00:00:00\", \"2016-07-05T00:00:00\", \"2016-07-06T00:00:00\", \"2016-07-07T00:00:00\", \"2016-07-08T00:00:00\", \"2016-07-09T00:00:00\", \"2016-07-10T00:00:00\", \"2016-07-11T00:00:00\", \"2016-07-12T00:00:00\", \"2016-07-13T00:00:00\", \"2016-07-14T00:00:00\", \"2016-07-15T00:00:00\", \"2016-07-16T00:00:00\", \"2016-07-17T00:00:00\", \"2016-07-18T00:00:00\", \"2016-07-19T00:00:00\", \"2016-07-20T00:00:00\", \"2016-07-21T00:00:00\", \"2016-07-22T00:00:00\", \"2016-07-23T00:00:00\", \"2016-07-24T00:00:00\", \"2016-07-25T00:00:00\", \"2016-07-26T00:00:00\", \"2016-07-27T00:00:00\", \"2016-07-28T00:00:00\", \"2016-07-29T00:00:00\", \"2016-07-30T00:00:00\", \"2016-07-31T00:00:00\", \"2016-08-01T00:00:00\", \"2016-08-02T00:00:00\", \"2016-08-03T00:00:00\", \"2016-08-04T00:00:00\", \"2016-08-05T00:00:00\", \"2016-08-06T00:00:00\", \"2016-08-07T00:00:00\", \"2016-08-08T00:00:00\", \"2016-08-09T00:00:00\", \"2016-08-10T00:00:00\", \"2016-08-11T00:00:00\", \"2016-08-12T00:00:00\", \"2016-08-13T00:00:00\", \"2016-08-14T00:00:00\", \"2016-08-15T00:00:00\", \"2016-08-16T00:00:00\", \"2016-08-17T00:00:00\", \"2016-08-18T00:00:00\", \"2016-08-19T00:00:00\", \"2016-08-20T00:00:00\", \"2016-08-21T00:00:00\", \"2016-08-22T00:00:00\", \"2016-08-23T00:00:00\", \"2016-08-24T00:00:00\", \"2016-08-25T00:00:00\", \"2016-08-26T00:00:00\", \"2016-08-27T00:00:00\", \"2016-08-28T00:00:00\", \"2016-08-29T00:00:00\", \"2016-08-30T00:00:00\", \"2016-08-31T00:00:00\", \"2016-09-01T00:00:00\", \"2016-09-02T00:00:00\", \"2016-09-03T00:00:00\", \"2016-09-04T00:00:00\", \"2016-09-05T00:00:00\", \"2016-09-06T00:00:00\", \"2016-09-07T00:00:00\", \"2016-09-08T00:00:00\", \"2016-09-09T00:00:00\", \"2016-09-10T00:00:00\", \"2016-09-11T00:00:00\", \"2016-09-12T00:00:00\", \"2016-09-13T00:00:00\", \"2016-09-14T00:00:00\", \"2016-09-15T00:00:00\", \"2016-09-16T00:00:00\", \"2016-09-17T00:00:00\", \"2016-09-18T00:00:00\", \"2016-09-19T00:00:00\", \"2016-09-20T00:00:00\", \"2016-09-21T00:00:00\", \"2016-09-22T00:00:00\", \"2016-09-23T00:00:00\", \"2016-09-24T00:00:00\", \"2016-09-25T00:00:00\", \"2016-09-26T00:00:00\", \"2016-09-27T00:00:00\", \"2016-09-28T00:00:00\", \"2016-09-29T00:00:00\", \"2016-09-30T00:00:00\", \"2016-10-01T00:00:00\", \"2016-10-02T00:00:00\", \"2016-10-03T00:00:00\", \"2016-10-04T00:00:00\", \"2016-10-05T00:00:00\", \"2016-10-06T00:00:00\", \"2016-10-07T00:00:00\", \"2016-10-08T00:00:00\", \"2016-10-09T00:00:00\", \"2016-10-10T00:00:00\", \"2016-10-11T00:00:00\", \"2016-10-12T00:00:00\", \"2016-10-13T00:00:00\", \"2016-10-14T00:00:00\", \"2016-10-15T00:00:00\", \"2016-10-16T00:00:00\", \"2016-10-17T00:00:00\", \"2016-10-18T00:00:00\", \"2016-10-19T00:00:00\", \"2016-10-20T00:00:00\", \"2016-10-21T00:00:00\", \"2016-10-22T00:00:00\", \"2016-10-23T00:00:00\", \"2016-10-24T00:00:00\", \"2016-10-25T00:00:00\", \"2016-10-26T00:00:00\", \"2016-10-27T00:00:00\", \"2016-10-28T00:00:00\", \"2016-10-29T00:00:00\", \"2016-10-30T00:00:00\", \"2016-10-31T00:00:00\", \"2016-11-01T00:00:00\", \"2016-11-02T00:00:00\", \"2016-11-03T00:00:00\", \"2016-11-04T00:00:00\", \"2016-11-05T00:00:00\", \"2016-11-06T00:00:00\", \"2016-11-07T00:00:00\", \"2016-11-08T00:00:00\", \"2016-11-09T00:00:00\", \"2016-11-10T00:00:00\", \"2016-11-11T00:00:00\", \"2016-11-12T00:00:00\", \"2016-11-13T00:00:00\", \"2016-11-14T00:00:00\", \"2016-11-15T00:00:00\", \"2016-11-16T00:00:00\", \"2016-11-17T00:00:00\", \"2016-11-18T00:00:00\", \"2016-11-19T00:00:00\", \"2016-11-20T00:00:00\", \"2016-11-21T00:00:00\", \"2016-11-22T00:00:00\", \"2016-11-23T00:00:00\", \"2016-11-24T00:00:00\", \"2016-11-25T00:00:00\", \"2016-11-26T00:00:00\", \"2016-11-27T00:00:00\", \"2016-11-28T00:00:00\", \"2016-11-29T00:00:00\", \"2016-11-30T00:00:00\", \"2016-12-01T00:00:00\", \"2016-12-02T00:00:00\", \"2016-12-03T00:00:00\", \"2016-12-04T00:00:00\", \"2016-12-05T00:00:00\", \"2016-12-06T00:00:00\", \"2016-12-07T00:00:00\", \"2016-12-08T00:00:00\", \"2016-12-09T00:00:00\", \"2016-12-10T00:00:00\", \"2016-12-11T00:00:00\", \"2016-12-12T00:00:00\", \"2016-12-13T00:00:00\", \"2016-12-14T00:00:00\", \"2016-12-15T00:00:00\", \"2016-12-16T00:00:00\", \"2016-12-17T00:00:00\", \"2016-12-18T00:00:00\", \"2016-12-19T00:00:00\", \"2016-12-20T00:00:00\", \"2016-12-21T00:00:00\", \"2016-12-22T00:00:00\", \"2016-12-23T00:00:00\", \"2016-12-24T00:00:00\", \"2016-12-25T00:00:00\", \"2016-12-26T00:00:00\", \"2016-12-27T00:00:00\", \"2016-12-28T00:00:00\", \"2016-12-29T00:00:00\", \"2016-12-30T00:00:00\", \"2016-12-31T00:00:00\", \"2017-01-01T00:00:00\", \"2017-01-02T00:00:00\", \"2017-01-03T00:00:00\", \"2017-01-04T00:00:00\", \"2017-01-05T00:00:00\", \"2017-01-06T00:00:00\", \"2017-01-07T00:00:00\", \"2017-01-08T00:00:00\", \"2017-01-09T00:00:00\", \"2017-01-10T00:00:00\", \"2017-01-11T00:00:00\", \"2017-01-12T00:00:00\", \"2017-01-13T00:00:00\", \"2017-01-14T00:00:00\", \"2017-01-15T00:00:00\", \"2017-01-16T00:00:00\", \"2017-01-17T00:00:00\", \"2017-01-18T00:00:00\", \"2017-01-19T00:00:00\", \"2017-01-20T00:00:00\", \"2017-01-21T00:00:00\", \"2017-01-22T00:00:00\", \"2017-01-23T00:00:00\", \"2017-01-24T00:00:00\", \"2017-01-25T00:00:00\", \"2017-01-26T00:00:00\", \"2017-01-27T00:00:00\", \"2017-01-28T00:00:00\", \"2017-01-29T00:00:00\", \"2017-01-30T00:00:00\", \"2017-01-31T00:00:00\", \"2017-02-01T00:00:00\", \"2017-02-02T00:00:00\", \"2017-02-03T00:00:00\", \"2017-02-04T00:00:00\", \"2017-02-05T00:00:00\", \"2017-02-06T00:00:00\", \"2017-02-07T00:00:00\", \"2017-02-08T00:00:00\", \"2017-02-09T00:00:00\", \"2017-02-10T00:00:00\", \"2017-02-11T00:00:00\", \"2017-02-12T00:00:00\", \"2017-02-13T00:00:00\", \"2017-02-14T00:00:00\", \"2017-02-15T00:00:00\", \"2017-02-16T00:00:00\", \"2017-02-17T00:00:00\", \"2017-02-18T00:00:00\", \"2017-02-19T00:00:00\", \"2017-02-20T00:00:00\", \"2017-02-21T00:00:00\", \"2017-02-22T00:00:00\", \"2017-02-23T00:00:00\", \"2017-02-24T00:00:00\", \"2017-02-25T00:00:00\", \"2017-02-26T00:00:00\", \"2017-02-27T00:00:00\", \"2017-02-28T00:00:00\", \"2017-03-01T00:00:00\", \"2017-03-02T00:00:00\", \"2017-03-03T00:00:00\", \"2017-03-04T00:00:00\", \"2017-03-05T00:00:00\", \"2017-03-06T00:00:00\", \"2017-03-07T00:00:00\", \"2017-03-08T00:00:00\", \"2017-03-09T00:00:00\", \"2017-03-10T00:00:00\", \"2017-03-11T00:00:00\", \"2017-03-12T00:00:00\", \"2017-03-13T00:00:00\", \"2017-03-14T00:00:00\", \"2017-03-15T00:00:00\", \"2017-03-16T00:00:00\", \"2017-03-17T00:00:00\", \"2017-03-18T00:00:00\", \"2017-03-19T00:00:00\", \"2017-03-20T00:00:00\", \"2017-03-21T00:00:00\", \"2017-03-22T00:00:00\", \"2017-03-23T00:00:00\", \"2017-03-24T00:00:00\", \"2017-03-25T00:00:00\", \"2017-03-26T00:00:00\", \"2017-03-27T00:00:00\", \"2017-03-28T00:00:00\", \"2017-03-29T00:00:00\", \"2017-03-30T00:00:00\", \"2017-03-31T00:00:00\", \"2017-04-01T00:00:00\", \"2017-04-02T00:00:00\", \"2017-04-03T00:00:00\", \"2017-04-04T00:00:00\", \"2017-04-05T00:00:00\", \"2017-04-06T00:00:00\", \"2017-04-07T00:00:00\", \"2017-04-08T00:00:00\", \"2017-04-09T00:00:00\", \"2017-04-10T00:00:00\", \"2017-04-11T00:00:00\", \"2017-04-12T00:00:00\", \"2017-04-13T00:00:00\", \"2017-04-14T00:00:00\", \"2017-04-15T00:00:00\", \"2017-04-16T00:00:00\", \"2017-04-17T00:00:00\", \"2017-04-18T00:00:00\", \"2017-04-19T00:00:00\", \"2017-04-20T00:00:00\", \"2017-04-21T00:00:00\", \"2017-04-22T00:00:00\", \"2017-04-23T00:00:00\", \"2017-04-24T00:00:00\", \"2017-04-25T00:00:00\", \"2017-04-26T00:00:00\", \"2017-04-27T00:00:00\", \"2017-04-28T00:00:00\", \"2017-04-29T00:00:00\", \"2017-04-30T00:00:00\", \"2017-05-01T00:00:00\", \"2017-05-02T00:00:00\", \"2017-05-03T00:00:00\", \"2017-05-04T00:00:00\", \"2017-05-05T00:00:00\", \"2017-05-06T00:00:00\", \"2017-05-07T00:00:00\", \"2017-05-08T00:00:00\", \"2017-05-09T00:00:00\", \"2017-05-10T00:00:00\", \"2017-05-11T00:00:00\", \"2017-05-12T00:00:00\", \"2017-05-13T00:00:00\", \"2017-05-14T00:00:00\", \"2017-05-15T00:00:00\", \"2017-05-16T00:00:00\", \"2017-05-17T00:00:00\", \"2017-05-18T00:00:00\", \"2017-05-19T00:00:00\", \"2017-05-20T00:00:00\", \"2017-05-21T00:00:00\", \"2017-05-22T00:00:00\", \"2017-05-23T00:00:00\", \"2017-05-24T00:00:00\", \"2017-05-25T00:00:00\", \"2017-05-26T00:00:00\", \"2017-05-27T00:00:00\", \"2017-05-28T00:00:00\", \"2017-05-29T00:00:00\", \"2017-05-30T00:00:00\", \"2017-05-31T00:00:00\", \"2017-06-01T00:00:00\", \"2017-06-02T00:00:00\", \"2017-06-03T00:00:00\", \"2017-06-04T00:00:00\", \"2017-06-05T00:00:00\", \"2017-06-06T00:00:00\", \"2017-06-07T00:00:00\", \"2017-06-08T00:00:00\", \"2017-06-09T00:00:00\", \"2017-06-10T00:00:00\", \"2017-06-11T00:00:00\", \"2017-06-12T00:00:00\", \"2017-06-13T00:00:00\", \"2017-06-14T00:00:00\", \"2017-06-15T00:00:00\", \"2017-06-16T00:00:00\", \"2017-06-17T00:00:00\", \"2017-06-18T00:00:00\", \"2017-06-19T00:00:00\", \"2017-06-20T00:00:00\", \"2017-06-21T00:00:00\", \"2017-06-22T00:00:00\", \"2017-06-23T00:00:00\", \"2017-06-24T00:00:00\", \"2017-06-25T00:00:00\", \"2017-06-26T00:00:00\", \"2017-06-27T00:00:00\", \"2017-06-28T00:00:00\", \"2017-06-29T00:00:00\", \"2017-06-30T00:00:00\", \"2017-07-01T00:00:00\", \"2017-07-02T00:00:00\", \"2017-07-03T00:00:00\", \"2017-07-04T00:00:00\", \"2017-07-05T00:00:00\", \"2017-07-06T00:00:00\", \"2017-07-07T00:00:00\", \"2017-07-08T00:00:00\", \"2017-07-09T00:00:00\", \"2017-07-10T00:00:00\", \"2017-07-11T00:00:00\", \"2017-07-12T00:00:00\", \"2017-07-13T00:00:00\", \"2017-07-14T00:00:00\", \"2017-07-15T00:00:00\", \"2017-07-16T00:00:00\", \"2017-07-17T00:00:00\", \"2017-07-18T00:00:00\", \"2017-07-19T00:00:00\", \"2017-07-20T00:00:00\", \"2017-07-21T00:00:00\", \"2017-07-22T00:00:00\", \"2017-07-23T00:00:00\", \"2017-07-24T00:00:00\", \"2017-07-25T00:00:00\", \"2017-07-26T00:00:00\", \"2017-07-27T00:00:00\", \"2017-07-28T00:00:00\", \"2017-07-29T00:00:00\", \"2017-07-30T00:00:00\", \"2017-07-31T00:00:00\", \"2017-08-01T00:00:00\", \"2017-08-02T00:00:00\", \"2017-08-03T00:00:00\", \"2017-08-04T00:00:00\", \"2017-08-05T00:00:00\", \"2017-08-06T00:00:00\", \"2017-08-07T00:00:00\", \"2017-08-08T00:00:00\", \"2017-08-09T00:00:00\", \"2017-08-10T00:00:00\", \"2017-08-11T00:00:00\", \"2017-08-12T00:00:00\", \"2017-08-13T00:00:00\", \"2017-08-14T00:00:00\", \"2017-08-15T00:00:00\", \"2017-08-16T00:00:00\", \"2017-08-17T00:00:00\", \"2017-08-18T00:00:00\", \"2017-08-19T00:00:00\", \"2017-08-20T00:00:00\", \"2017-08-21T00:00:00\", \"2017-08-22T00:00:00\", \"2017-08-23T00:00:00\", \"2017-08-24T00:00:00\", \"2017-08-25T00:00:00\", \"2017-08-26T00:00:00\", \"2017-08-27T00:00:00\", \"2017-08-28T00:00:00\", \"2017-08-29T00:00:00\", \"2017-08-30T00:00:00\", \"2017-08-31T00:00:00\", \"2017-09-01T00:00:00\", \"2017-09-02T00:00:00\", \"2017-09-03T00:00:00\", \"2017-09-04T00:00:00\", \"2017-09-05T00:00:00\", \"2017-09-06T00:00:00\", \"2017-09-07T00:00:00\", \"2017-09-08T00:00:00\", \"2017-09-09T00:00:00\", \"2017-09-10T00:00:00\", \"2017-09-11T00:00:00\", \"2017-09-12T00:00:00\", \"2017-09-13T00:00:00\", \"2017-09-14T00:00:00\", \"2017-09-15T00:00:00\", \"2017-09-16T00:00:00\", \"2017-09-17T00:00:00\", \"2017-09-18T00:00:00\", \"2017-09-19T00:00:00\", \"2017-09-20T00:00:00\", \"2017-09-21T00:00:00\", \"2017-09-22T00:00:00\", \"2017-09-23T00:00:00\", \"2017-09-24T00:00:00\", \"2017-09-25T00:00:00\", \"2017-09-26T00:00:00\", \"2017-09-27T00:00:00\", \"2017-09-28T00:00:00\", \"2017-09-29T00:00:00\", \"2017-09-30T00:00:00\", \"2017-10-01T00:00:00\", \"2017-10-02T00:00:00\", \"2017-10-03T00:00:00\", \"2017-10-04T00:00:00\", \"2017-10-05T00:00:00\", \"2017-10-06T00:00:00\", \"2017-10-07T00:00:00\", \"2017-10-08T00:00:00\", \"2017-10-09T00:00:00\", \"2017-10-10T00:00:00\", \"2017-10-11T00:00:00\", \"2017-10-12T00:00:00\", \"2017-10-13T00:00:00\", \"2017-10-14T00:00:00\", \"2017-10-15T00:00:00\", \"2017-10-16T00:00:00\", \"2017-10-17T00:00:00\", \"2017-10-18T00:00:00\", \"2017-10-19T00:00:00\", \"2017-10-20T00:00:00\", \"2017-10-21T00:00:00\", \"2017-10-22T00:00:00\", \"2017-10-23T00:00:00\", \"2017-10-24T00:00:00\", \"2017-10-25T00:00:00\", \"2017-10-26T00:00:00\", \"2017-10-27T00:00:00\", \"2017-10-28T00:00:00\", \"2017-10-29T00:00:00\", \"2017-10-30T00:00:00\", \"2017-10-31T00:00:00\", \"2017-11-01T00:00:00\", \"2017-11-02T00:00:00\", \"2017-11-03T00:00:00\", \"2017-11-04T00:00:00\", \"2017-11-05T00:00:00\", \"2017-11-06T00:00:00\", \"2017-11-07T00:00:00\", \"2017-11-08T00:00:00\", \"2017-11-09T00:00:00\", \"2017-11-10T00:00:00\", \"2017-11-11T00:00:00\", \"2017-11-12T00:00:00\", \"2017-11-13T00:00:00\", \"2017-11-14T00:00:00\", \"2017-11-15T00:00:00\", \"2017-11-16T00:00:00\", \"2017-11-17T00:00:00\", \"2017-11-18T00:00:00\", \"2017-11-19T00:00:00\", \"2017-11-20T00:00:00\", \"2017-11-21T00:00:00\", \"2017-11-22T00:00:00\", \"2017-11-23T00:00:00\", \"2017-11-24T00:00:00\", \"2017-11-25T00:00:00\", \"2017-11-26T00:00:00\", \"2017-11-27T00:00:00\", \"2017-11-28T00:00:00\", \"2017-11-29T00:00:00\", \"2017-11-30T00:00:00\", \"2017-12-01T00:00:00\", \"2017-12-02T00:00:00\", \"2017-12-03T00:00:00\", \"2017-12-04T00:00:00\", \"2017-12-05T00:00:00\", \"2017-12-06T00:00:00\", \"2017-12-07T00:00:00\", \"2017-12-08T00:00:00\", \"2017-12-09T00:00:00\", \"2017-12-10T00:00:00\", \"2017-12-11T00:00:00\", \"2017-12-12T00:00:00\", \"2017-12-13T00:00:00\", \"2017-12-14T00:00:00\", \"2017-12-15T00:00:00\", \"2017-12-16T00:00:00\", \"2017-12-17T00:00:00\", \"2017-12-18T00:00:00\", \"2017-12-19T00:00:00\", \"2017-12-20T00:00:00\", \"2017-12-21T00:00:00\", \"2017-12-22T00:00:00\", \"2017-12-23T00:00:00\", \"2017-12-24T00:00:00\", \"2017-12-25T00:00:00\", \"2017-12-26T00:00:00\", \"2017-12-27T00:00:00\", \"2017-12-28T00:00:00\", \"2017-12-29T00:00:00\", \"2017-12-30T00:00:00\", \"2017-12-31T00:00:00\", \"2018-01-01T00:00:00\", \"2018-01-02T00:00:00\", \"2018-01-03T00:00:00\", \"2018-01-04T00:00:00\", \"2018-01-05T00:00:00\", \"2018-01-06T00:00:00\", \"2018-01-07T00:00:00\", \"2018-01-08T00:00:00\", \"2018-01-09T00:00:00\", \"2018-01-10T00:00:00\", \"2018-01-11T00:00:00\", \"2018-01-12T00:00:00\", \"2018-01-13T00:00:00\", \"2018-01-14T00:00:00\", \"2018-01-15T00:00:00\", \"2018-01-16T00:00:00\", \"2018-01-17T00:00:00\", \"2018-01-18T00:00:00\", \"2018-01-19T00:00:00\", \"2018-01-20T00:00:00\", \"2018-01-21T00:00:00\", \"2018-01-22T00:00:00\", \"2018-01-23T00:00:00\", \"2018-01-24T00:00:00\", \"2018-01-25T00:00:00\", \"2018-01-26T00:00:00\", \"2018-01-27T00:00:00\", \"2018-01-28T00:00:00\", \"2018-01-29T00:00:00\", \"2018-01-30T00:00:00\", \"2018-01-31T00:00:00\", \"2018-02-01T00:00:00\", \"2018-02-02T00:00:00\", \"2018-02-03T00:00:00\", \"2018-02-04T00:00:00\", \"2018-02-05T00:00:00\", \"2018-02-06T00:00:00\", \"2018-02-07T00:00:00\", \"2018-02-08T00:00:00\", \"2018-02-09T00:00:00\", \"2018-02-10T00:00:00\", \"2018-02-11T00:00:00\", \"2018-02-12T00:00:00\", \"2018-02-13T00:00:00\", \"2018-02-14T00:00:00\", \"2018-02-15T00:00:00\", \"2018-02-16T00:00:00\", \"2018-02-17T00:00:00\", \"2018-02-18T00:00:00\", \"2018-02-19T00:00:00\", \"2018-02-20T00:00:00\", \"2018-02-21T00:00:00\", \"2018-02-22T00:00:00\", \"2018-02-23T00:00:00\", \"2018-02-24T00:00:00\", \"2018-02-25T00:00:00\", \"2018-02-26T00:00:00\", \"2018-02-27T00:00:00\", \"2018-02-28T00:00:00\", \"2018-03-01T00:00:00\", \"2018-03-02T00:00:00\", \"2018-03-03T00:00:00\", \"2018-03-04T00:00:00\", \"2018-03-05T00:00:00\", \"2018-03-06T00:00:00\", \"2018-03-07T00:00:00\", \"2018-03-08T00:00:00\", \"2018-03-09T00:00:00\", \"2018-03-10T00:00:00\", \"2018-03-11T00:00:00\", \"2018-03-12T00:00:00\", \"2018-03-13T00:00:00\", \"2018-03-14T00:00:00\", \"2018-03-15T00:00:00\", \"2018-03-16T00:00:00\", \"2018-03-17T00:00:00\", \"2018-03-18T00:00:00\", \"2018-03-19T00:00:00\", \"2018-03-20T00:00:00\", \"2018-03-21T00:00:00\", \"2018-03-22T00:00:00\", \"2018-03-23T00:00:00\", \"2018-03-24T00:00:00\", \"2018-03-25T00:00:00\", \"2018-03-26T00:00:00\", \"2018-03-27T00:00:00\", \"2018-03-28T00:00:00\", \"2018-03-29T00:00:00\", \"2018-03-30T00:00:00\", \"2018-03-31T00:00:00\", \"2018-04-01T00:00:00\", \"2018-04-02T00:00:00\", \"2018-04-03T00:00:00\", \"2018-04-04T00:00:00\", \"2018-04-05T00:00:00\", \"2018-04-06T00:00:00\", \"2018-04-07T00:00:00\", \"2018-04-08T00:00:00\", \"2018-04-09T00:00:00\", \"2018-04-10T00:00:00\", \"2018-04-11T00:00:00\", \"2018-04-12T00:00:00\", \"2018-04-13T00:00:00\", \"2018-04-14T00:00:00\", \"2018-04-15T00:00:00\", \"2018-04-16T00:00:00\", \"2018-04-17T00:00:00\", \"2018-04-18T00:00:00\", \"2018-04-19T00:00:00\", \"2018-04-20T00:00:00\", \"2018-04-21T00:00:00\", \"2018-04-22T00:00:00\", \"2018-04-23T00:00:00\", \"2018-04-24T00:00:00\", \"2018-04-25T00:00:00\", \"2018-04-26T00:00:00\", \"2018-04-27T00:00:00\", \"2018-04-28T00:00:00\", \"2018-04-29T00:00:00\", \"2018-04-30T00:00:00\", \"2018-05-01T00:00:00\", \"2018-05-02T00:00:00\", \"2018-05-03T00:00:00\", \"2018-05-04T00:00:00\", \"2018-05-05T00:00:00\", \"2018-05-06T00:00:00\", \"2018-05-07T00:00:00\", \"2018-05-08T00:00:00\", \"2018-05-09T00:00:00\", \"2018-05-10T00:00:00\", \"2018-05-11T00:00:00\", \"2018-05-12T00:00:00\", \"2018-05-13T00:00:00\", \"2018-05-14T00:00:00\", \"2018-05-15T00:00:00\", \"2018-05-16T00:00:00\", \"2018-05-17T00:00:00\", \"2018-05-18T00:00:00\", \"2018-05-19T00:00:00\", \"2018-05-20T00:00:00\", \"2018-05-21T00:00:00\", \"2018-05-22T00:00:00\", \"2018-05-23T00:00:00\", \"2018-05-24T00:00:00\", \"2018-05-25T00:00:00\", \"2018-05-26T00:00:00\", \"2018-05-27T00:00:00\", \"2018-05-28T00:00:00\", \"2018-05-29T00:00:00\", \"2018-05-30T00:00:00\", \"2018-05-31T00:00:00\", \"2018-06-01T00:00:00\", \"2018-06-02T00:00:00\", \"2018-06-03T00:00:00\", \"2018-06-04T00:00:00\", \"2018-06-05T00:00:00\", \"2018-06-06T00:00:00\", \"2018-06-07T00:00:00\", \"2018-06-08T00:00:00\", \"2018-06-09T00:00:00\", \"2018-06-10T00:00:00\", \"2018-06-11T00:00:00\", \"2018-06-12T00:00:00\", \"2018-06-13T00:00:00\", \"2018-06-14T00:00:00\", \"2018-06-15T00:00:00\", \"2018-06-16T00:00:00\", \"2018-06-17T00:00:00\", \"2018-06-18T00:00:00\", \"2018-06-19T00:00:00\", \"2018-06-20T00:00:00\", \"2018-06-21T00:00:00\", \"2018-06-22T00:00:00\", \"2018-06-23T00:00:00\", \"2018-06-24T00:00:00\", \"2018-06-25T00:00:00\", \"2018-06-26T00:00:00\", \"2018-06-27T00:00:00\", \"2018-06-28T00:00:00\", \"2018-06-29T00:00:00\", \"2018-06-30T00:00:00\", \"2018-07-01T00:00:00\", \"2018-07-02T00:00:00\", \"2018-07-03T00:00:00\", \"2018-07-04T00:00:00\", \"2018-07-05T00:00:00\", \"2018-07-06T00:00:00\", \"2018-07-07T00:00:00\", \"2018-07-08T00:00:00\", \"2018-07-09T00:00:00\", \"2018-07-10T00:00:00\", \"2018-07-11T00:00:00\", \"2018-07-12T00:00:00\", \"2018-07-13T00:00:00\", \"2018-07-14T00:00:00\", \"2018-07-15T00:00:00\", \"2018-07-16T00:00:00\", \"2018-07-17T00:00:00\", \"2018-07-18T00:00:00\", \"2018-07-19T00:00:00\", \"2018-07-20T00:00:00\", \"2018-07-21T00:00:00\", \"2018-07-22T00:00:00\", \"2018-07-23T00:00:00\", \"2018-07-24T00:00:00\", \"2018-07-25T00:00:00\", \"2018-07-26T00:00:00\", \"2018-07-27T00:00:00\", \"2018-07-28T00:00:00\", \"2018-07-29T00:00:00\", \"2018-07-30T00:00:00\", \"2018-07-31T00:00:00\", \"2018-08-01T00:00:00\", \"2018-08-02T00:00:00\", \"2018-08-03T00:00:00\", \"2018-08-04T00:00:00\", \"2018-08-05T00:00:00\", \"2018-08-06T00:00:00\", \"2018-08-07T00:00:00\", \"2018-08-08T00:00:00\", \"2018-08-09T00:00:00\", \"2018-08-10T00:00:00\", \"2018-08-11T00:00:00\", \"2018-08-12T00:00:00\", \"2018-08-13T00:00:00\", \"2018-08-14T00:00:00\", \"2018-08-15T00:00:00\", \"2018-08-16T00:00:00\", \"2018-08-17T00:00:00\", \"2018-08-18T00:00:00\", \"2018-08-19T00:00:00\", \"2018-08-20T00:00:00\", \"2018-08-21T00:00:00\", \"2018-08-22T00:00:00\", \"2018-08-23T00:00:00\", \"2018-08-24T00:00:00\", \"2018-08-25T00:00:00\", \"2018-08-26T00:00:00\", \"2018-08-27T00:00:00\", \"2018-08-28T00:00:00\", \"2018-08-29T00:00:00\", \"2018-08-30T00:00:00\", \"2018-08-31T00:00:00\", \"2018-09-01T00:00:00\", \"2018-09-02T00:00:00\", \"2018-09-03T00:00:00\", \"2018-09-04T00:00:00\", \"2018-09-05T00:00:00\", \"2018-09-06T00:00:00\", \"2018-09-07T00:00:00\", \"2018-09-08T00:00:00\", \"2018-09-09T00:00:00\", \"2018-09-10T00:00:00\", \"2018-09-11T00:00:00\", \"2018-09-12T00:00:00\", \"2018-09-13T00:00:00\", \"2018-09-14T00:00:00\", \"2018-09-15T00:00:00\", \"2018-09-16T00:00:00\", \"2018-09-17T00:00:00\", \"2018-09-18T00:00:00\", \"2018-09-19T00:00:00\", \"2018-09-20T00:00:00\", \"2018-09-21T00:00:00\", \"2018-09-22T00:00:00\", \"2018-09-23T00:00:00\", \"2018-09-24T00:00:00\", \"2018-09-25T00:00:00\", \"2018-09-26T00:00:00\", \"2018-09-27T00:00:00\", \"2018-09-28T00:00:00\", \"2018-09-29T00:00:00\", \"2018-09-30T00:00:00\", \"2018-10-01T00:00:00\", \"2018-10-02T00:00:00\", \"2018-10-03T00:00:00\", \"2018-10-04T00:00:00\", \"2018-10-05T00:00:00\", \"2018-10-06T00:00:00\", \"2018-10-07T00:00:00\", \"2018-10-08T00:00:00\", \"2018-10-09T00:00:00\", \"2018-10-10T00:00:00\", \"2018-10-11T00:00:00\", \"2018-10-12T00:00:00\", \"2018-10-13T00:00:00\", \"2018-10-14T00:00:00\", \"2018-10-15T00:00:00\", \"2018-10-16T00:00:00\", \"2018-10-17T00:00:00\", \"2018-10-18T00:00:00\", \"2018-10-19T00:00:00\", \"2018-10-20T00:00:00\", \"2018-10-21T00:00:00\", \"2018-10-22T00:00:00\", \"2018-10-23T00:00:00\", \"2018-10-24T00:00:00\", \"2018-10-25T00:00:00\", \"2018-10-26T00:00:00\", \"2018-10-27T00:00:00\", \"2018-10-28T00:00:00\", \"2018-10-29T00:00:00\", \"2018-10-30T00:00:00\", \"2018-10-31T00:00:00\", \"2018-11-01T00:00:00\", \"2018-11-02T00:00:00\", \"2018-11-03T00:00:00\", \"2018-11-04T00:00:00\", \"2018-11-05T00:00:00\", \"2018-11-06T00:00:00\", \"2018-11-07T00:00:00\", \"2018-11-08T00:00:00\", \"2018-11-09T00:00:00\", \"2018-11-10T00:00:00\", \"2018-11-11T00:00:00\", \"2018-11-12T00:00:00\", \"2018-11-13T00:00:00\", \"2018-11-14T00:00:00\", \"2018-11-15T00:00:00\", \"2018-11-16T00:00:00\", \"2018-11-17T00:00:00\", \"2018-11-18T00:00:00\", \"2018-11-19T00:00:00\", \"2018-11-20T00:00:00\", \"2018-11-21T00:00:00\", \"2018-11-22T00:00:00\", \"2018-11-23T00:00:00\", \"2018-11-24T00:00:00\", \"2018-11-25T00:00:00\", \"2018-11-26T00:00:00\", \"2018-11-27T00:00:00\", \"2018-11-28T00:00:00\", \"2018-11-29T00:00:00\", \"2018-11-30T00:00:00\", \"2018-12-01T00:00:00\", \"2018-12-02T00:00:00\", \"2018-12-03T00:00:00\", \"2018-12-04T00:00:00\", \"2018-12-05T00:00:00\", \"2018-12-06T00:00:00\", \"2018-12-07T00:00:00\", \"2018-12-08T00:00:00\", \"2018-12-09T00:00:00\", \"2018-12-10T00:00:00\", \"2018-12-11T00:00:00\", \"2018-12-12T00:00:00\", \"2018-12-13T00:00:00\", \"2018-12-14T00:00:00\", \"2018-12-15T00:00:00\", \"2018-12-16T00:00:00\", \"2018-12-17T00:00:00\", \"2018-12-18T00:00:00\", \"2018-12-19T00:00:00\", \"2018-12-20T00:00:00\", \"2018-12-21T00:00:00\", \"2018-12-22T00:00:00\", \"2018-12-23T00:00:00\", \"2018-12-24T00:00:00\", \"2018-12-25T00:00:00\", \"2018-12-26T00:00:00\", \"2018-12-27T00:00:00\", \"2018-12-28T00:00:00\", \"2018-12-29T00:00:00\", \"2018-12-30T00:00:00\", \"2018-12-31T00:00:00\", \"2019-01-01T00:00:00\", \"2019-01-02T00:00:00\", \"2019-01-03T00:00:00\", \"2019-01-04T00:00:00\", \"2019-01-05T00:00:00\", \"2019-01-06T00:00:00\", \"2019-01-07T00:00:00\", \"2019-01-08T00:00:00\", \"2019-01-09T00:00:00\", \"2019-01-10T00:00:00\", \"2019-01-11T00:00:00\", \"2019-01-12T00:00:00\", \"2019-01-13T00:00:00\", \"2019-01-14T00:00:00\", \"2019-01-15T00:00:00\", \"2019-01-16T00:00:00\", \"2019-01-17T00:00:00\", \"2019-01-18T00:00:00\", \"2019-01-19T00:00:00\", \"2019-01-20T00:00:00\", \"2019-01-21T00:00:00\", \"2019-01-22T00:00:00\", \"2019-01-23T00:00:00\", \"2019-01-24T00:00:00\", \"2019-01-25T00:00:00\", \"2019-01-26T00:00:00\", \"2019-01-27T00:00:00\", \"2019-01-28T00:00:00\", \"2019-01-29T00:00:00\", \"2019-01-30T00:00:00\", \"2019-01-31T00:00:00\", \"2019-02-01T00:00:00\", \"2019-02-02T00:00:00\", \"2019-02-03T00:00:00\", \"2019-02-04T00:00:00\", \"2019-02-05T00:00:00\", \"2019-02-06T00:00:00\", \"2019-02-07T00:00:00\", \"2019-02-08T00:00:00\", \"2019-02-09T00:00:00\", \"2019-02-10T00:00:00\", \"2019-02-11T00:00:00\", \"2019-02-12T00:00:00\", \"2019-02-13T00:00:00\", \"2019-02-14T00:00:00\", \"2019-02-15T00:00:00\", \"2019-02-16T00:00:00\", \"2019-02-17T00:00:00\", \"2019-02-18T00:00:00\", \"2019-02-19T00:00:00\", \"2019-02-20T00:00:00\", \"2019-02-21T00:00:00\", \"2019-02-22T00:00:00\", \"2019-02-23T00:00:00\", \"2019-02-24T00:00:00\", \"2019-02-25T00:00:00\", \"2019-02-26T00:00:00\", \"2019-02-27T00:00:00\", \"2019-02-28T00:00:00\", \"2019-03-01T00:00:00\", \"2019-03-02T00:00:00\", \"2019-03-03T00:00:00\", \"2019-03-04T00:00:00\", \"2019-03-05T00:00:00\", \"2019-03-06T00:00:00\", \"2019-03-07T00:00:00\", \"2019-03-08T00:00:00\", \"2019-03-09T00:00:00\", \"2019-03-10T00:00:00\", \"2019-03-11T00:00:00\", \"2019-03-12T00:00:00\", \"2019-03-13T00:00:00\", \"2019-03-14T00:00:00\", \"2019-03-15T00:00:00\", \"2019-03-16T00:00:00\", \"2019-03-17T00:00:00\", \"2019-03-18T00:00:00\", \"2019-03-19T00:00:00\", \"2019-03-20T00:00:00\", \"2019-03-21T00:00:00\", \"2019-03-22T00:00:00\", \"2019-03-23T00:00:00\", \"2019-03-24T00:00:00\", \"2019-03-25T00:00:00\", \"2019-03-26T00:00:00\", \"2019-03-27T00:00:00\", \"2019-03-28T00:00:00\", \"2019-03-29T00:00:00\", \"2019-03-30T00:00:00\", \"2019-03-31T00:00:00\", \"2019-04-01T00:00:00\", \"2019-04-02T00:00:00\", \"2019-04-03T00:00:00\", \"2019-04-04T00:00:00\", \"2019-04-05T00:00:00\", \"2019-04-06T00:00:00\", \"2019-04-07T00:00:00\", \"2019-04-08T00:00:00\", \"2019-04-09T00:00:00\", \"2019-04-10T00:00:00\", \"2019-04-11T00:00:00\", \"2019-04-12T00:00:00\", \"2019-04-13T00:00:00\", \"2019-04-14T00:00:00\", \"2019-04-15T00:00:00\", \"2019-04-16T00:00:00\", \"2019-04-17T00:00:00\", \"2019-04-18T00:00:00\", \"2019-04-19T00:00:00\", \"2019-04-20T00:00:00\", \"2019-04-21T00:00:00\", \"2019-04-22T00:00:00\", \"2019-04-23T00:00:00\", \"2019-04-24T00:00:00\", \"2019-04-25T00:00:00\", \"2019-04-26T00:00:00\", \"2019-04-27T00:00:00\", \"2019-04-28T00:00:00\", \"2019-04-29T00:00:00\", \"2019-04-30T00:00:00\", \"2019-05-01T00:00:00\", \"2019-05-02T00:00:00\", \"2019-05-03T00:00:00\", \"2019-05-04T00:00:00\", \"2019-05-05T00:00:00\", \"2019-05-06T00:00:00\", \"2019-05-07T00:00:00\", \"2019-05-08T00:00:00\", \"2019-05-09T00:00:00\", \"2019-05-10T00:00:00\", \"2019-05-11T00:00:00\", \"2019-05-12T00:00:00\", \"2019-05-13T00:00:00\", \"2019-05-14T00:00:00\", \"2019-05-15T00:00:00\", \"2019-05-16T00:00:00\", \"2019-05-17T00:00:00\", \"2019-05-18T00:00:00\", \"2019-05-19T00:00:00\", \"2019-05-20T00:00:00\", \"2019-05-21T00:00:00\", \"2019-05-22T00:00:00\", \"2019-05-23T00:00:00\", \"2019-05-24T00:00:00\", \"2019-05-25T00:00:00\", \"2019-05-26T00:00:00\", \"2019-05-27T00:00:00\", \"2019-05-28T00:00:00\", \"2019-05-29T00:00:00\", \"2019-05-30T00:00:00\", \"2019-05-31T00:00:00\", \"2019-06-01T00:00:00\", \"2019-06-02T00:00:00\", \"2019-06-03T00:00:00\", \"2019-06-04T00:00:00\", \"2019-06-05T00:00:00\", \"2019-06-06T00:00:00\", \"2019-06-07T00:00:00\", \"2019-06-08T00:00:00\", \"2019-06-09T00:00:00\", \"2019-06-10T00:00:00\", \"2019-06-11T00:00:00\", \"2019-06-12T00:00:00\", \"2019-06-13T00:00:00\", \"2019-06-14T00:00:00\", \"2019-06-15T00:00:00\", \"2019-06-16T00:00:00\", \"2019-06-17T00:00:00\", \"2019-06-18T00:00:00\", \"2019-06-19T00:00:00\", \"2019-06-20T00:00:00\", \"2019-06-21T00:00:00\", \"2019-06-22T00:00:00\", \"2019-06-23T00:00:00\", \"2019-06-24T00:00:00\", \"2019-06-25T00:00:00\", \"2019-06-26T00:00:00\", \"2019-06-27T00:00:00\", \"2019-06-28T00:00:00\", \"2019-06-29T00:00:00\", \"2019-06-30T00:00:00\", \"2019-07-01T00:00:00\", \"2019-07-02T00:00:00\", \"2019-07-03T00:00:00\", \"2019-07-04T00:00:00\", \"2019-07-05T00:00:00\", \"2019-07-06T00:00:00\", \"2019-07-07T00:00:00\", \"2019-07-08T00:00:00\", \"2019-07-09T00:00:00\", \"2019-07-10T00:00:00\", \"2019-07-11T00:00:00\", \"2019-07-12T00:00:00\", \"2019-07-13T00:00:00\", \"2019-07-14T00:00:00\", \"2019-07-15T00:00:00\", \"2019-07-16T00:00:00\", \"2019-07-17T00:00:00\", \"2019-07-18T00:00:00\", \"2019-07-19T00:00:00\", \"2019-07-20T00:00:00\", \"2019-07-21T00:00:00\", \"2019-07-22T00:00:00\", \"2019-07-23T00:00:00\", \"2019-07-24T00:00:00\", \"2019-07-25T00:00:00\", \"2019-07-26T00:00:00\", \"2019-07-27T00:00:00\", \"2019-07-28T00:00:00\", \"2019-07-29T00:00:00\", \"2019-07-30T00:00:00\", \"2019-07-31T00:00:00\", \"2019-08-01T00:00:00\", \"2019-08-02T00:00:00\", \"2019-08-03T00:00:00\", \"2019-08-04T00:00:00\", \"2019-08-05T00:00:00\", \"2019-08-06T00:00:00\", \"2019-08-07T00:00:00\", \"2019-08-08T00:00:00\", \"2019-08-09T00:00:00\", \"2019-08-10T00:00:00\", \"2019-08-11T00:00:00\", \"2019-08-12T00:00:00\", \"2019-08-13T00:00:00\", \"2019-08-14T00:00:00\", \"2019-08-15T00:00:00\", \"2019-08-16T00:00:00\", \"2019-08-17T00:00:00\", \"2019-08-18T00:00:00\", \"2019-08-19T00:00:00\", \"2019-08-20T00:00:00\", \"2019-08-21T00:00:00\", \"2019-08-22T00:00:00\", \"2019-08-23T00:00:00\", \"2019-08-24T00:00:00\", \"2019-08-25T00:00:00\", \"2019-08-26T00:00:00\", \"2019-08-27T00:00:00\", \"2019-08-28T00:00:00\", \"2019-08-29T00:00:00\", \"2019-08-30T00:00:00\", \"2019-08-31T00:00:00\", \"2019-09-01T00:00:00\", \"2019-09-02T00:00:00\", \"2019-09-03T00:00:00\", \"2019-09-04T00:00:00\", \"2019-09-05T00:00:00\", \"2019-09-06T00:00:00\", \"2019-09-07T00:00:00\", \"2019-09-08T00:00:00\", \"2019-09-09T00:00:00\", \"2019-09-10T00:00:00\", \"2019-09-11T00:00:00\", \"2019-09-12T00:00:00\", \"2019-09-13T00:00:00\", \"2019-09-14T00:00:00\", \"2019-09-15T00:00:00\", \"2019-09-16T00:00:00\", \"2019-09-17T00:00:00\", \"2019-09-18T00:00:00\", \"2019-09-19T00:00:00\", \"2019-09-20T00:00:00\", \"2019-09-21T00:00:00\", \"2019-09-22T00:00:00\", \"2019-09-23T00:00:00\", \"2019-09-24T00:00:00\", \"2019-09-25T00:00:00\", \"2019-09-26T00:00:00\", \"2019-09-27T00:00:00\", \"2019-09-28T00:00:00\", \"2019-09-29T00:00:00\", \"2019-09-30T00:00:00\", \"2019-10-01T00:00:00\", \"2019-10-02T00:00:00\", \"2019-10-03T00:00:00\", \"2019-10-04T00:00:00\", \"2019-10-05T00:00:00\", \"2019-10-06T00:00:00\", \"2019-10-07T00:00:00\", \"2019-10-08T00:00:00\", \"2019-10-09T00:00:00\", \"2019-10-10T00:00:00\", \"2019-10-11T00:00:00\", \"2019-10-12T00:00:00\", \"2019-10-13T00:00:00\", \"2019-10-14T00:00:00\", \"2019-10-15T00:00:00\", \"2019-10-16T00:00:00\", \"2019-10-17T00:00:00\", \"2019-10-18T00:00:00\", \"2019-10-19T00:00:00\", \"2019-10-20T00:00:00\", \"2019-10-21T00:00:00\", \"2019-10-22T00:00:00\", \"2019-10-23T00:00:00\", \"2019-10-24T00:00:00\", \"2019-10-25T00:00:00\", \"2019-10-26T00:00:00\", \"2019-10-27T00:00:00\", \"2019-10-28T00:00:00\", \"2019-10-29T00:00:00\", \"2019-10-30T00:00:00\", \"2019-10-31T00:00:00\", \"2019-11-01T00:00:00\", \"2019-11-02T00:00:00\", \"2019-11-03T00:00:00\", \"2019-11-04T00:00:00\", \"2019-11-05T00:00:00\", \"2019-11-06T00:00:00\", \"2019-11-07T00:00:00\", \"2019-11-08T00:00:00\", \"2019-11-09T00:00:00\", \"2019-11-10T00:00:00\", \"2019-11-11T00:00:00\", \"2019-11-12T00:00:00\", \"2019-11-13T00:00:00\", \"2019-11-14T00:00:00\", \"2019-11-15T00:00:00\", \"2019-11-16T00:00:00\", \"2019-11-17T00:00:00\", \"2019-11-18T00:00:00\", \"2019-11-19T00:00:00\", \"2019-11-20T00:00:00\", \"2019-11-21T00:00:00\", \"2019-11-22T00:00:00\", \"2019-11-23T00:00:00\", \"2019-11-24T00:00:00\", \"2019-11-25T00:00:00\", \"2019-11-26T00:00:00\", \"2019-11-27T00:00:00\", \"2019-11-28T00:00:00\", \"2019-11-29T00:00:00\", \"2019-11-30T00:00:00\", \"2019-12-01T00:00:00\", \"2019-12-02T00:00:00\", \"2019-12-03T00:00:00\", \"2019-12-04T00:00:00\", \"2019-12-05T00:00:00\", \"2019-12-06T00:00:00\", \"2019-12-07T00:00:00\", \"2019-12-08T00:00:00\", \"2019-12-09T00:00:00\", \"2019-12-10T00:00:00\", \"2019-12-11T00:00:00\", \"2019-12-12T00:00:00\", \"2019-12-13T00:00:00\", \"2019-12-14T00:00:00\", \"2019-12-15T00:00:00\", \"2019-12-16T00:00:00\", \"2019-12-17T00:00:00\", \"2019-12-18T00:00:00\", \"2019-12-19T00:00:00\", \"2019-12-20T00:00:00\", \"2019-12-21T00:00:00\", \"2019-12-22T00:00:00\", \"2019-12-23T00:00:00\", \"2019-12-24T00:00:00\", \"2019-12-25T00:00:00\", \"2019-12-26T00:00:00\", \"2019-12-27T00:00:00\", \"2019-12-28T00:00:00\", \"2019-12-29T00:00:00\", \"2019-12-30T00:00:00\", \"2019-12-31T00:00:00\", \"2020-01-01T00:00:00\", \"2020-01-02T00:00:00\", \"2020-01-03T00:00:00\", \"2020-01-04T00:00:00\", \"2020-01-05T00:00:00\", \"2020-01-06T00:00:00\", \"2020-01-07T00:00:00\", \"2020-01-08T00:00:00\", \"2020-01-09T00:00:00\", \"2020-01-10T00:00:00\", \"2020-01-11T00:00:00\", \"2020-01-12T00:00:00\", \"2020-01-13T00:00:00\", \"2020-01-14T00:00:00\", \"2020-01-15T00:00:00\", \"2020-01-16T00:00:00\", \"2020-01-17T00:00:00\", \"2020-01-18T00:00:00\", \"2020-01-19T00:00:00\", \"2020-01-20T00:00:00\", \"2020-01-21T00:00:00\", \"2020-01-22T00:00:00\", \"2020-01-23T00:00:00\", \"2020-01-24T00:00:00\", \"2020-01-25T00:00:00\", \"2020-01-26T00:00:00\", \"2020-01-27T00:00:00\", \"2020-01-28T00:00:00\", \"2020-01-29T00:00:00\", \"2020-01-30T00:00:00\", \"2020-01-31T00:00:00\", \"2020-02-01T00:00:00\", \"2020-02-02T00:00:00\", \"2020-02-03T00:00:00\", \"2020-02-04T00:00:00\", \"2020-02-05T00:00:00\", \"2020-02-06T00:00:00\", \"2020-02-07T00:00:00\", \"2020-02-08T00:00:00\", \"2020-02-09T00:00:00\", \"2020-02-10T00:00:00\", \"2020-02-11T00:00:00\", \"2020-02-12T00:00:00\", \"2020-02-13T00:00:00\", \"2020-02-14T00:00:00\", \"2020-02-15T00:00:00\", \"2020-02-16T00:00:00\", \"2020-02-17T00:00:00\", \"2020-02-18T00:00:00\", \"2020-02-19T00:00:00\", \"2020-02-20T00:00:00\", \"2020-02-21T00:00:00\", \"2020-02-22T00:00:00\", \"2020-02-23T00:00:00\", \"2020-02-24T00:00:00\", \"2020-02-25T00:00:00\", \"2020-02-26T00:00:00\", \"2020-02-27T00:00:00\", \"2020-02-28T00:00:00\", \"2020-02-29T00:00:00\", \"2020-03-01T00:00:00\", \"2020-03-02T00:00:00\", \"2020-03-03T00:00:00\", \"2020-03-04T00:00:00\", \"2020-03-05T00:00:00\", \"2020-03-06T00:00:00\", \"2020-03-07T00:00:00\", \"2020-03-08T00:00:00\", \"2020-03-09T00:00:00\", \"2020-03-10T00:00:00\", \"2020-03-11T00:00:00\", \"2020-03-12T00:00:00\", \"2020-03-13T00:00:00\", \"2020-03-14T00:00:00\", \"2020-03-15T00:00:00\", \"2020-03-16T00:00:00\", \"2020-03-17T00:00:00\", \"2020-03-18T00:00:00\", \"2020-03-19T00:00:00\", \"2020-03-20T00:00:00\", \"2020-03-21T00:00:00\", \"2020-03-22T00:00:00\", \"2020-03-23T00:00:00\", \"2020-03-24T00:00:00\", \"2020-03-25T00:00:00\", \"2020-03-26T00:00:00\", \"2020-03-27T00:00:00\", \"2020-03-28T00:00:00\", \"2020-03-29T00:00:00\", \"2020-03-30T00:00:00\", \"2020-03-31T00:00:00\", \"2020-04-01T00:00:00\", \"2020-04-02T00:00:00\", \"2020-04-03T00:00:00\", \"2020-04-04T00:00:00\", \"2020-04-05T00:00:00\", \"2020-04-06T00:00:00\", \"2020-04-07T00:00:00\", \"2020-04-08T00:00:00\", \"2020-04-09T00:00:00\", \"2020-04-10T00:00:00\", \"2020-04-11T00:00:00\", \"2020-04-12T00:00:00\", \"2020-04-13T00:00:00\", \"2020-04-14T00:00:00\", \"2020-04-15T00:00:00\", \"2020-04-16T00:00:00\", \"2020-04-17T00:00:00\", \"2020-04-18T00:00:00\", \"2020-04-19T00:00:00\", \"2020-04-20T00:00:00\", \"2020-04-21T00:00:00\", \"2020-04-22T00:00:00\", \"2020-04-23T00:00:00\", \"2020-04-24T00:00:00\", \"2020-04-25T00:00:00\", \"2020-04-26T00:00:00\", \"2020-04-27T00:00:00\", \"2020-04-28T00:00:00\", \"2020-04-29T00:00:00\", \"2020-04-30T00:00:00\", \"2020-05-01T00:00:00\", \"2020-05-02T00:00:00\", \"2020-05-03T00:00:00\", \"2020-05-04T00:00:00\", \"2020-05-05T00:00:00\", \"2020-05-06T00:00:00\", \"2020-05-07T00:00:00\", \"2020-05-08T00:00:00\", \"2020-05-09T00:00:00\", \"2020-05-10T00:00:00\", \"2020-05-11T00:00:00\", \"2020-05-12T00:00:00\", \"2020-05-13T00:00:00\", \"2020-05-14T00:00:00\", \"2020-05-15T00:00:00\", \"2020-05-16T00:00:00\", \"2020-05-17T00:00:00\", \"2020-05-18T00:00:00\", \"2020-05-19T00:00:00\", \"2020-05-20T00:00:00\", \"2020-05-21T00:00:00\", \"2020-05-22T00:00:00\", \"2020-05-23T00:00:00\", \"2020-05-24T00:00:00\", \"2020-05-25T00:00:00\", \"2020-05-26T00:00:00\", \"2020-05-27T00:00:00\", \"2020-05-28T00:00:00\", \"2020-05-29T00:00:00\", \"2020-05-30T00:00:00\", \"2020-05-31T00:00:00\", \"2020-06-01T00:00:00\", \"2020-06-02T00:00:00\", \"2020-06-03T00:00:00\", \"2020-06-04T00:00:00\", \"2020-06-05T00:00:00\", \"2020-06-06T00:00:00\", \"2020-06-07T00:00:00\", \"2020-06-08T00:00:00\", \"2020-06-09T00:00:00\", \"2020-06-10T00:00:00\", \"2020-06-11T00:00:00\", \"2020-06-12T00:00:00\", \"2020-06-13T00:00:00\", \"2020-06-14T00:00:00\", \"2020-06-15T00:00:00\", \"2020-06-16T00:00:00\", \"2020-06-17T00:00:00\", \"2020-06-18T00:00:00\", \"2020-06-19T00:00:00\", \"2020-06-20T00:00:00\", \"2020-06-21T00:00:00\", \"2020-06-22T00:00:00\", \"2020-06-23T00:00:00\", \"2020-06-24T00:00:00\", \"2020-06-25T00:00:00\", \"2020-06-26T00:00:00\", \"2020-06-27T00:00:00\", \"2020-06-28T00:00:00\", \"2020-06-29T00:00:00\", \"2020-06-30T00:00:00\", \"2020-07-01T00:00:00\", \"2020-07-02T00:00:00\", \"2020-07-03T00:00:00\", \"2020-07-04T00:00:00\", \"2020-07-05T00:00:00\", \"2020-07-06T00:00:00\", \"2020-07-07T00:00:00\", \"2020-07-08T00:00:00\", \"2020-07-09T00:00:00\", \"2020-07-10T00:00:00\", \"2020-07-11T00:00:00\", \"2020-07-12T00:00:00\", \"2020-07-13T00:00:00\", \"2020-07-14T00:00:00\", \"2020-07-15T00:00:00\", \"2020-07-16T00:00:00\", \"2020-07-17T00:00:00\", \"2020-07-18T00:00:00\", \"2020-07-19T00:00:00\", \"2020-07-20T00:00:00\", \"2020-07-21T00:00:00\", \"2020-07-22T00:00:00\", \"2020-07-23T00:00:00\", \"2020-07-24T00:00:00\", \"2020-07-25T00:00:00\", \"2020-07-26T00:00:00\", \"2020-07-27T00:00:00\", \"2020-07-28T00:00:00\", \"2020-07-29T00:00:00\", \"2020-07-30T00:00:00\", \"2020-07-31T00:00:00\", \"2020-08-01T00:00:00\", \"2020-08-02T00:00:00\", \"2020-08-03T00:00:00\", \"2020-08-04T00:00:00\", \"2020-08-05T00:00:00\", \"2020-08-06T00:00:00\", \"2020-08-07T00:00:00\", \"2020-08-08T00:00:00\", \"2020-08-09T00:00:00\", \"2020-08-10T00:00:00\", \"2020-08-11T00:00:00\", \"2020-08-12T00:00:00\", \"2020-08-13T00:00:00\", \"2020-08-14T00:00:00\", \"2020-08-15T00:00:00\", \"2020-08-16T00:00:00\", \"2020-08-17T00:00:00\", \"2020-08-18T00:00:00\", \"2020-08-19T00:00:00\", \"2020-08-20T00:00:00\", \"2020-08-21T00:00:00\", \"2020-08-22T00:00:00\", \"2020-08-23T00:00:00\", \"2020-08-24T00:00:00\", \"2020-08-25T00:00:00\", \"2020-08-26T00:00:00\", \"2020-08-27T00:00:00\", \"2020-08-28T00:00:00\", \"2020-08-29T00:00:00\", \"2020-08-30T00:00:00\", \"2020-08-31T00:00:00\", \"2020-09-01T00:00:00\", \"2020-09-02T00:00:00\", \"2020-09-03T00:00:00\", \"2020-09-04T00:00:00\", \"2020-09-05T00:00:00\", \"2020-09-06T00:00:00\", \"2020-09-07T00:00:00\", \"2020-09-08T00:00:00\", \"2020-09-09T00:00:00\", \"2020-09-10T00:00:00\", \"2020-09-11T00:00:00\", \"2020-09-12T00:00:00\", \"2020-09-13T00:00:00\", \"2020-09-14T00:00:00\", \"2020-09-15T00:00:00\", \"2020-09-16T00:00:00\", \"2020-09-17T00:00:00\", \"2020-09-18T00:00:00\", \"2020-09-19T00:00:00\", \"2020-09-20T00:00:00\", \"2020-09-21T00:00:00\", \"2020-09-22T00:00:00\", \"2020-09-23T00:00:00\", \"2020-09-24T00:00:00\", \"2020-09-25T00:00:00\", \"2020-09-26T00:00:00\", \"2020-09-27T00:00:00\", \"2020-09-28T00:00:00\", \"2020-09-29T00:00:00\", \"2020-09-30T00:00:00\", \"2020-10-01T00:00:00\", \"2020-10-02T00:00:00\", \"2020-10-03T00:00:00\", \"2020-10-04T00:00:00\", \"2020-10-05T00:00:00\", \"2020-10-06T00:00:00\", \"2020-10-07T00:00:00\", \"2020-10-08T00:00:00\", \"2020-10-09T00:00:00\", \"2020-10-10T00:00:00\", \"2020-10-11T00:00:00\", \"2020-10-12T00:00:00\", \"2020-10-13T00:00:00\", \"2020-10-14T00:00:00\", \"2020-10-15T00:00:00\", \"2020-10-16T00:00:00\", \"2020-10-17T00:00:00\", \"2020-10-18T00:00:00\", \"2020-10-19T00:00:00\", \"2020-10-20T00:00:00\", \"2020-10-21T00:00:00\", \"2020-10-22T00:00:00\", \"2020-10-23T00:00:00\", \"2020-10-24T00:00:00\", \"2020-10-25T00:00:00\", \"2020-10-26T00:00:00\", \"2020-10-27T00:00:00\", \"2020-10-28T00:00:00\", \"2020-10-29T00:00:00\", \"2020-10-30T00:00:00\", \"2020-10-31T00:00:00\", \"2020-11-01T00:00:00\", \"2020-11-02T00:00:00\", \"2020-11-03T00:00:00\", \"2020-11-04T00:00:00\", \"2020-11-05T00:00:00\", \"2020-11-06T00:00:00\", \"2020-11-07T00:00:00\", \"2020-11-08T00:00:00\", \"2020-11-09T00:00:00\", \"2020-11-10T00:00:00\", \"2020-11-11T00:00:00\", \"2020-11-12T00:00:00\", \"2020-11-13T00:00:00\", \"2020-11-14T00:00:00\", \"2020-11-15T00:00:00\", \"2020-11-16T00:00:00\", \"2020-11-17T00:00:00\", \"2020-11-18T00:00:00\", \"2020-11-19T00:00:00\", \"2020-11-20T00:00:00\", \"2020-11-21T00:00:00\", \"2020-11-22T00:00:00\", \"2020-11-23T00:00:00\", \"2020-11-24T00:00:00\", \"2020-11-25T00:00:00\", \"2020-11-26T00:00:00\", \"2020-11-27T00:00:00\", \"2020-11-28T00:00:00\", \"2020-11-29T00:00:00\", \"2020-11-30T00:00:00\", \"2020-12-01T00:00:00\", \"2020-12-02T00:00:00\", \"2020-12-03T00:00:00\", \"2020-12-04T00:00:00\", \"2020-12-05T00:00:00\", \"2020-12-06T00:00:00\", \"2020-12-07T00:00:00\", \"2020-12-08T00:00:00\", \"2020-12-09T00:00:00\", \"2020-12-10T00:00:00\", \"2020-12-11T00:00:00\", \"2020-12-12T00:00:00\", \"2020-12-13T00:00:00\", \"2020-12-14T00:00:00\", \"2020-12-15T00:00:00\", \"2020-12-16T00:00:00\", \"2020-12-17T00:00:00\", \"2020-12-18T00:00:00\", \"2020-12-19T00:00:00\", \"2020-12-20T00:00:00\", \"2020-12-21T00:00:00\", \"2020-12-22T00:00:00\", \"2020-12-23T00:00:00\", \"2020-12-24T00:00:00\", \"2020-12-25T00:00:00\", \"2020-12-26T00:00:00\", \"2020-12-27T00:00:00\", \"2020-12-28T00:00:00\", \"2020-12-29T00:00:00\", \"2020-12-30T00:00:00\", \"2020-12-31T00:00:00\", \"2021-01-01T00:00:00\", \"2021-01-02T00:00:00\", \"2021-01-03T00:00:00\", \"2021-01-04T00:00:00\", \"2021-01-05T00:00:00\", \"2021-01-06T00:00:00\", \"2021-01-07T00:00:00\", \"2021-01-08T00:00:00\", \"2021-01-09T00:00:00\", \"2021-01-10T00:00:00\", \"2021-01-11T00:00:00\", \"2021-01-12T00:00:00\", \"2021-01-13T00:00:00\", \"2021-01-14T00:00:00\", \"2021-01-15T00:00:00\", \"2021-01-16T00:00:00\", \"2021-01-17T00:00:00\", \"2021-01-18T00:00:00\", \"2021-01-19T00:00:00\", \"2021-01-20T00:00:00\", \"2021-01-21T00:00:00\", \"2021-01-22T00:00:00\", \"2021-01-23T00:00:00\", \"2021-01-24T00:00:00\", \"2021-01-25T00:00:00\", \"2021-01-26T00:00:00\", \"2021-01-27T00:00:00\", \"2021-01-28T00:00:00\", \"2021-01-29T00:00:00\", \"2021-01-30T00:00:00\", \"2021-01-31T00:00:00\", \"2021-02-01T00:00:00\", \"2021-02-02T00:00:00\", \"2021-02-03T00:00:00\", \"2021-02-04T00:00:00\", \"2021-02-05T00:00:00\", \"2021-02-06T00:00:00\", \"2021-02-07T00:00:00\", \"2021-02-08T00:00:00\", \"2021-02-09T00:00:00\", \"2021-02-10T00:00:00\", \"2021-02-11T00:00:00\", \"2021-02-12T00:00:00\", \"2021-02-13T00:00:00\", \"2021-02-14T00:00:00\", \"2021-02-15T00:00:00\", \"2021-02-16T00:00:00\", \"2021-02-17T00:00:00\", \"2021-02-18T00:00:00\", \"2021-02-19T00:00:00\", \"2021-02-20T00:00:00\", \"2021-02-21T00:00:00\", \"2021-02-22T00:00:00\", \"2021-02-23T00:00:00\", \"2021-02-24T00:00:00\", \"2021-02-25T00:00:00\", \"2021-02-26T00:00:00\", \"2021-02-27T00:00:00\", \"2021-02-28T00:00:00\", \"2021-03-01T00:00:00\", \"2021-03-02T00:00:00\", \"2021-03-03T00:00:00\", \"2021-03-04T00:00:00\", \"2021-03-05T00:00:00\", \"2021-03-06T00:00:00\", \"2021-03-07T00:00:00\", \"2021-03-08T00:00:00\", \"2021-03-09T00:00:00\", \"2021-03-10T00:00:00\", \"2021-03-11T00:00:00\", \"2021-03-12T00:00:00\", \"2021-03-13T00:00:00\", \"2021-03-14T00:00:00\", \"2021-03-15T00:00:00\", \"2021-03-16T00:00:00\", \"2021-03-17T00:00:00\", \"2021-03-18T00:00:00\", \"2021-03-19T00:00:00\", \"2021-03-20T00:00:00\", \"2021-03-21T00:00:00\", \"2021-03-22T00:00:00\", \"2021-03-23T00:00:00\", \"2021-03-24T00:00:00\", \"2021-03-25T00:00:00\", \"2021-03-26T00:00:00\", \"2021-03-27T00:00:00\", \"2021-03-28T00:00:00\", \"2021-03-29T00:00:00\", \"2021-03-30T00:00:00\", \"2021-03-31T00:00:00\", \"2021-04-01T00:00:00\", \"2021-04-02T00:00:00\", \"2021-04-03T00:00:00\", \"2021-04-04T00:00:00\", \"2021-04-05T00:00:00\", \"2021-04-06T00:00:00\", \"2021-04-07T00:00:00\", \"2021-04-08T00:00:00\", \"2021-04-09T00:00:00\", \"2021-04-10T00:00:00\", \"2021-04-11T00:00:00\", \"2021-04-12T00:00:00\", \"2021-04-13T00:00:00\", \"2021-04-14T00:00:00\", \"2021-04-15T00:00:00\", \"2021-04-16T00:00:00\", \"2021-04-17T00:00:00\", \"2021-04-18T00:00:00\", \"2021-04-19T00:00:00\", \"2021-04-20T00:00:00\", \"2021-04-21T00:00:00\", \"2021-04-22T00:00:00\", \"2021-04-23T00:00:00\", \"2021-04-24T00:00:00\", \"2021-04-25T00:00:00\", \"2021-04-26T00:00:00\", \"2021-04-27T00:00:00\", \"2021-04-28T00:00:00\", \"2021-04-29T00:00:00\", \"2021-04-30T00:00:00\", \"2021-05-01T00:00:00\", \"2021-05-02T00:00:00\", \"2021-05-03T00:00:00\", \"2021-05-04T00:00:00\", \"2021-05-05T00:00:00\", \"2021-05-06T00:00:00\", \"2021-05-07T00:00:00\", \"2021-05-08T00:00:00\", \"2021-05-09T00:00:00\", \"2021-05-10T00:00:00\", \"2021-05-11T00:00:00\", \"2021-05-12T00:00:00\", \"2021-05-13T00:00:00\", \"2021-05-14T00:00:00\", \"2021-05-15T00:00:00\", \"2021-05-16T00:00:00\", \"2021-05-17T00:00:00\", \"2021-05-18T00:00:00\", \"2021-05-19T00:00:00\", \"2021-05-20T00:00:00\", \"2021-05-21T00:00:00\", \"2021-05-22T00:00:00\", \"2021-05-23T00:00:00\", \"2021-05-24T00:00:00\", \"2021-05-25T00:00:00\", \"2021-05-26T00:00:00\", \"2021-05-27T00:00:00\", \"2021-05-28T00:00:00\", \"2021-05-29T00:00:00\", \"2021-05-30T00:00:00\", \"2021-05-31T00:00:00\", \"2021-06-01T00:00:00\", \"2021-06-02T00:00:00\", \"2021-06-03T00:00:00\", \"2021-06-04T00:00:00\", \"2021-06-05T00:00:00\", \"2021-06-06T00:00:00\", \"2021-06-07T00:00:00\", \"2021-06-08T00:00:00\", \"2021-06-09T00:00:00\", \"2021-06-10T00:00:00\", \"2021-06-11T00:00:00\", \"2021-06-12T00:00:00\", \"2021-06-13T00:00:00\", \"2021-06-14T00:00:00\", \"2021-06-15T00:00:00\", \"2021-06-16T00:00:00\", \"2021-06-17T00:00:00\", \"2021-06-18T00:00:00\", \"2021-06-19T00:00:00\", \"2021-06-20T00:00:00\", \"2021-06-21T00:00:00\", \"2021-06-22T00:00:00\", \"2021-06-23T00:00:00\", \"2021-06-24T00:00:00\", \"2021-06-25T00:00:00\", \"2021-06-26T00:00:00\", \"2021-06-27T00:00:00\", \"2021-06-28T00:00:00\", \"2021-06-29T00:00:00\", \"2021-06-30T00:00:00\", \"2021-07-01T00:00:00\", \"2021-07-02T00:00:00\", \"2021-07-03T00:00:00\", \"2021-07-04T00:00:00\", \"2021-07-05T00:00:00\", \"2021-07-06T00:00:00\", \"2021-07-07T00:00:00\", \"2021-07-08T00:00:00\", \"2021-07-09T00:00:00\", \"2021-07-10T00:00:00\", \"2021-07-11T00:00:00\", \"2021-07-12T00:00:00\", \"2021-07-13T00:00:00\", \"2021-07-14T00:00:00\", \"2021-07-15T00:00:00\", \"2021-07-16T00:00:00\", \"2021-07-17T00:00:00\", \"2021-07-18T00:00:00\", \"2021-07-19T00:00:00\", \"2021-07-20T00:00:00\", \"2021-07-21T00:00:00\", \"2021-07-22T00:00:00\", \"2021-07-23T00:00:00\", \"2021-07-24T00:00:00\", \"2021-07-25T00:00:00\", \"2021-07-26T00:00:00\", \"2021-07-27T00:00:00\", \"2021-07-28T00:00:00\", \"2021-07-29T00:00:00\", \"2021-07-30T00:00:00\", \"2021-07-31T00:00:00\", \"2021-08-01T00:00:00\", \"2021-08-02T00:00:00\", \"2021-08-03T00:00:00\", \"2021-08-04T00:00:00\", \"2021-08-05T00:00:00\", \"2021-08-06T00:00:00\", \"2021-08-07T00:00:00\", \"2021-08-08T00:00:00\", \"2021-08-09T00:00:00\", \"2021-08-10T00:00:00\", \"2021-08-11T00:00:00\", \"2021-08-12T00:00:00\", \"2021-08-13T00:00:00\", \"2021-08-14T00:00:00\", \"2021-08-15T00:00:00\", \"2021-08-16T00:00:00\", \"2021-08-17T00:00:00\", \"2021-08-18T00:00:00\", \"2021-08-19T00:00:00\", \"2021-08-20T00:00:00\", \"2021-08-21T00:00:00\", \"2021-08-22T00:00:00\", \"2021-08-23T00:00:00\", \"2021-08-24T00:00:00\", \"2021-08-25T00:00:00\", \"2021-08-26T00:00:00\", \"2021-08-27T00:00:00\", \"2021-08-28T00:00:00\", \"2021-08-29T00:00:00\", \"2021-08-30T00:00:00\", \"2021-08-31T00:00:00\", \"2021-09-01T00:00:00\", \"2021-09-02T00:00:00\", \"2021-09-03T00:00:00\", \"2021-09-04T00:00:00\", \"2021-09-05T00:00:00\", \"2021-09-06T00:00:00\", \"2021-09-07T00:00:00\", \"2021-09-08T00:00:00\", \"2021-09-09T00:00:00\", \"2021-09-10T00:00:00\", \"2021-09-11T00:00:00\", \"2021-09-12T00:00:00\", \"2021-09-13T00:00:00\", \"2021-09-14T00:00:00\", \"2021-09-15T00:00:00\", \"2021-09-16T00:00:00\", \"2021-09-17T00:00:00\", \"2021-09-18T00:00:00\", \"2021-09-19T00:00:00\", \"2021-09-20T00:00:00\", \"2021-09-21T00:00:00\", \"2021-09-22T00:00:00\", \"2021-09-23T00:00:00\", \"2021-09-24T00:00:00\", \"2021-09-25T00:00:00\", \"2021-09-26T00:00:00\", \"2021-09-27T00:00:00\", \"2021-09-28T00:00:00\", \"2021-09-29T00:00:00\", \"2021-09-30T00:00:00\", \"2021-10-01T00:00:00\", \"2021-10-02T00:00:00\", \"2021-10-03T00:00:00\", \"2021-10-04T00:00:00\", \"2021-10-05T00:00:00\", \"2021-10-06T00:00:00\", \"2021-10-07T00:00:00\", \"2021-10-08T00:00:00\", \"2021-10-09T00:00:00\", \"2021-10-10T00:00:00\", \"2021-10-11T00:00:00\", \"2021-10-12T00:00:00\", \"2021-10-13T00:00:00\", \"2021-10-14T00:00:00\", \"2021-10-15T00:00:00\", \"2021-10-16T00:00:00\", \"2021-10-17T00:00:00\", \"2021-10-18T00:00:00\", \"2021-10-19T00:00:00\", \"2021-10-20T00:00:00\", \"2021-10-21T00:00:00\", \"2021-10-22T00:00:00\", \"2021-10-23T00:00:00\", \"2021-10-24T00:00:00\", \"2021-10-25T00:00:00\", \"2021-10-26T00:00:00\", \"2021-10-27T00:00:00\", \"2021-10-28T00:00:00\", \"2021-10-29T00:00:00\", \"2021-10-30T00:00:00\", \"2021-10-31T00:00:00\", \"2021-11-01T00:00:00\", \"2021-11-02T00:00:00\", \"2021-11-03T00:00:00\", \"2021-11-04T00:00:00\", \"2021-11-05T00:00:00\", \"2021-11-06T00:00:00\", \"2021-11-07T00:00:00\", \"2021-11-08T00:00:00\", \"2021-11-09T00:00:00\", \"2021-11-10T00:00:00\", \"2021-11-11T00:00:00\", \"2021-11-12T00:00:00\", \"2021-11-13T00:00:00\", \"2021-11-14T00:00:00\", \"2021-11-15T00:00:00\", \"2021-11-16T00:00:00\", \"2021-11-17T00:00:00\", \"2021-11-18T00:00:00\", \"2021-11-19T00:00:00\", \"2021-11-20T00:00:00\", \"2021-11-21T00:00:00\", \"2021-11-22T00:00:00\", \"2021-11-23T00:00:00\", \"2021-11-24T00:00:00\", \"2021-11-25T00:00:00\", \"2021-11-26T00:00:00\", \"2021-11-27T00:00:00\", \"2021-11-28T00:00:00\", \"2021-11-29T00:00:00\", \"2021-11-30T00:00:00\", \"2021-12-01T00:00:00\", \"2021-12-02T00:00:00\", \"2021-12-03T00:00:00\"], \"xaxis\": \"x\", \"y\": [4440.419922, 4416.390136999999, 4425.970215, 4363.450195, 4432.149902, null, null, 4424.700195, 4456.02002, 4473.700195, 4472.109863000001, 4449.560059, null, null, 4444.910156, 4442.700195, 4462.899902, 4369.77002, 4352.640136999999, null, null, 4383.890136999999, 4352.839844, 4355.049805, 4334.970215, 4370.899902, null, null, 4401.330078, 4389.25, 4434.129883, 4453.0, 4464.930176, null, null, 4508.310059, 4527.509765999999, 4526.47998, 4532.100098, 4538.549805, null, null, 4557.350098, 4570.640136999999, 4569.620117, 4557.700195, 4580.27002, null, null, null, 4598.189941, 4572.560059, 4562.290039, 4582.899902, null, null, 4592.290039, 4552.290039, 4586.52002, 4591.810059, 4567.600098, null, null, 4518.899902, 4552.759765999999, 4562.189941, 4593.430176, 4579.790039, null, null, 4527.689941, 4508.689941, 4555.220215, 4466.75, 4512.189941, null, null, 4505.850098, 4493.390136999999, 4422.089844, 4430.200195, 4475.620117, null, null, 4454.799805, 4385.200195, 4468.589844, 4378.339844, 4276.240234000001, null, null, 4213.660156, 4227.169922, 4215.319824, 4217.390136999999, 4258.439941, null, null, 4316.069824, 4419.47998, 4382.850098, 4452.790039, 4483.720215, null, null, 4485.930176, 4564.290039, 4549.22998, 4566.140136999999, 4630.740234000001, null, null, 4638.910156, 4623.640136999999, 4620.720215, 4638.470215, 4632.529785, null, null, 4651.620117, 4660.560059, 4675.140136999999, 4680.140136999999, 4688.540039, null, null, 4671.0, 4702.439941, 4675.709961, 4701.870117, 4712.970215, null, null, 4754.890136999999, 4758.25, 4787.319824, null, 4791.629883, null, null, 4727.350098, 4755.810059, 4774.470215, 4769.439941, 4780.759765999999, null, null, 4740.689941, 4766.470215, 4684.02002, 4708.160156, 4653.600098, null, null, 4605.160156, 4547.830078, 4644.310059, 4748.399902, 4765.379883, null, null, 4781.419922, 4765.419922, 4773.470215, null, 4806.859863000001, null, null, 4806.910156, 4777.439941, 4736.049805, null, 4726.810059, null, null, 4652.569824, 4592.740234000001, 4650.470215, 4736.189941, 4704.069824, null, null, 4664.709961, 4661.5, 4639.319824, 4570.819824, 4634.379883, null, null, null, 4654.850098, 4667.419922, 4750.399902, 4757.879883, null, null, 4771.759765999999, 4681.5, 4637.990234000001, 4683.410156, 4635.240234000001, null, null, 4676.689941, 4727.740234000001, 4716.700195, 4765.100098, 4744.399902, null, null, 4726.009765999999, 4787.640136999999, 4801.180176, 4857.609863000001, 4893.839844, null, null, null, 4899.27002, 4906.359863000001, 4924.700195, 4955.970215, null, null, 4960.970215, 4968.120117, 4967.140136999999, 4987.890136999999, 4963.529785, null, null, 5008.100098, 4979.899902, 4967.140136999999, 4982.810059, 4927.370117, null, null, 4942.439941, 4859.790039, 4849.939941, 4893.290039, 4871.759765999999, null, null, 4929.509765999999, 4937.430176, 4982.830078, 4992.379883, 5026.419922, null, null, 5010.970215, 4994.72998, 4876.52002, 4863.359863000001, 4891.220215, null, null, 4947.439941, 4900.879883, 4880.22998, 4886.939941, null, null, null, 4917.319824, 4910.22998, 4950.819824, 4974.560059, 4995.97998, null, null, 4988.25, 4977.290039, 5011.02002, 5007.790039, 4931.810059, null, null, 4994.600098, 5014.100098, 5035.169922, 5056.060059, 5092.080078, null, null, 5060.25, 5055.419922, 5023.640136999999, 4941.419922, 5005.390136999999, null, null, 5016.930176, 4939.330078, 4919.640136999999, 4945.540039, 5003.549805, null, null, 4993.569824, 4976.189941, 4981.689941, 5050.799805, 5048.290039, null, null, 5078.439941, 5070.029785, 5071.740234000001, 5090.790039, 5089.359863000001, null, null, null, 5032.75, 5106.589844, 5097.97998, 5070.029785, null, null, 5082.930176, 5076.52002, 5099.22998, 5059.120117, 5068.459961, null, null, 5021.629883, 5013.870117, 5076.689941, 5082.509765999999, 5051.100098, null, null, 5029.970215, 5055.549805, 5064.879883, 5132.950195, 5117.0, null, null, 5153.970215, 5160.089844, 5122.410156, 5112.189941, 5080.509765999999, null, null, 4958.470215, 4986.870117, 5013.120117, 5009.209961, null, null, null, 4991.939941, 4997.459961, 4909.759765999999, 4922.399902, 4997.700195, null, null, 5071.509765999999, 5104.890136999999, 5098.939941, 5163.180176, 5210.140136999999, null, null, 5218.859863000001, 5208.120117, 5171.77002, 5146.410156, 5088.629883, null, null, 5039.779785, 5089.209961, 5111.72998, 5128.779785, 5128.279785, null, null, 5115.379883, 5105.549805, 5139.939941, 5056.439941, 5043.540039, null, null, 5101.799805, 5036.790039, 5044.390136999999, 5033.560059, 5048.240234000001, null, null, 5091.700195, 5059.350098, 5019.049805, 4877.490234000001, 4706.040039, null, null, 4526.25, 4506.490234000001, 4697.540039, 4812.709961, 4828.319824, null, null, 4776.509765999999, 4636.100098, 4749.97998, 4733.5, 4683.919922, null, null, null, 4811.930176, 4756.529785, 4796.25, 4822.339844, null, null, 4805.759765999999, 4860.52002, 4889.240234000001, 4893.950195, 4827.22998, null, null, 4828.950195, 4756.720215, 4752.740234000001, 4734.47998, 4686.5, null, null, 4543.970215, 4517.319824, 4620.160156, 4627.080078, 4707.779785, null, null, 4781.259765999999, 4748.359863000001, 4791.149902, 4810.790039, 4830.470215, null, null, 4838.640136999999, 4796.609863000001, 4782.850098, 4870.100098, 4886.689941, null, null, 4905.470215, 4880.970215, 4840.120117, 4920.049805, 5031.859863000001, null, null, 5034.700195, 5030.149902, 5095.689941, 5074.27002, 5053.75, null, null, 5127.149902, 5145.129883, 5142.47998, 5127.740234000001, 5147.120117, null, null, 5095.299805, 5083.240234000001, 5067.02002, 5005.080078, 4927.879883, null, null, 4984.620117, 4986.02002, 5075.200195, 5073.640136999999, 5104.919922, null, null, 5102.47998, 5102.810059, 5116.140136999999, null, 5127.52002, null, null, 5108.669922, 5156.310059, 5123.220215, 5037.529785, 5142.27002, null, null, 5101.810059, 5098.240234000001, 5022.870117, 5045.169922, 4933.470215, null, null, 4952.22998, 4995.359863000001, 5071.129883, 5002.549805, 4923.080078, null, null, 4968.919922, 5001.109863000001, 5045.930176, 5048.490234000001, null, null, null, 5040.990234000001, 5107.939941, 5065.850098, 5007.410156, null, null, null, 4903.089844, 4891.430176, 4835.759765999999, 4689.430176, 4643.629883, null, null, 4637.990234000001, 4685.919922, 4526.060059, 4615.0, 4488.419922, null, null, null, 4476.950195, 4471.689941, 4472.060059, 4591.180176, null, null, 4518.490234000001, 4567.669922, 4468.169922, 4506.680176, 4613.950195, null, null, 4620.370117, 4516.950195, 4504.240234000001, 4509.560059, 4363.140136999999, null, null, 4283.75, 4268.759765999999, 4283.589844, 4266.839844, 4337.509765999999, null, null, null, 4435.959961, 4534.060059, 4487.540039, 4504.430176, null, null, 4570.609863000001, 4503.580078, 4542.609863000001, 4582.200195, 4590.470215, null, null, 4557.950195, 4689.600098, 4703.419922, 4707.419922, 4717.02002, null, null, 4708.25, 4648.819824, 4674.379883, 4662.160156, 4748.470215, null, null, 4750.279785, 4728.669922, 4763.970215, 4774.990234000001, 4795.649902, null, null, 4808.870117, 4821.660156, 4768.859863000001, 4773.5, null, null, null, 4766.790039, 4846.620117, 4869.290039, 4869.850098, 4914.540039, null, null, 4891.799805, 4843.930176, 4920.720215, 4848.370117, 4850.689941, null, null, 4833.399902, 4872.089844, 4947.419922, 4945.890136999999, 4938.220215, null, null, 4960.02002, 4940.330078, 4948.129883, 4945.890136999999, 4906.22998, null, null, 4895.790039, 4888.279785, 4863.140136999999, 4805.290039, 4775.359863000001, null, null, 4817.589844, 4763.220215, 4725.640136999999, 4717.089844, 4736.160156, null, null, 4750.209961, 4809.879883, 4760.689941, 4737.330078, 4717.680176, null, null, 4775.459961, 4715.72998, 4739.120117, 4712.529785, 4769.560059, null, null, 4765.779785, 4861.060059, 4894.890136999999, 4901.77002, 4933.5, null, null, null, 4948.049805, 4952.25, 4971.359863000001, 4942.52002, null, null, 4968.709961, 4961.75, 4974.640136999999, 4958.620117, 4894.549805, null, null, 4848.439941, 4843.549805, 4834.930176, 4844.919922, 4800.339844, null, null, 4837.209961, 4843.759765999999, 4833.319824, 4910.040039, 4707.97998, null, null, 4594.439941, 4691.870117, 4779.25, 4842.669922, 4862.569824, null, null, null, 4822.899902, 4859.160156, 4876.810059, 4956.759765999999, null, null, 4988.640136999999, 5022.819824, 5005.72998, 5034.060059, 5029.589844, null, null, 5055.779785, 5036.370117, 5089.930176, 5073.899902, 5100.160156, null, null, 5097.629883, 5110.049805, 5139.810059, 5154.97998, 5162.129883, null, null, 5184.200195, 5137.72998, 5159.740234000001, 5166.25, 5221.120117, null, null, 5213.140136999999, 5225.47998, 5204.580078, 5228.399902, 5232.890136999999, null, null, 5262.02002, 5227.109863000001, 5228.660156, 5240.149902, 5238.379883, null, null, 5244.600098, 5260.080078, 5217.689941, 5212.200195, 5218.919922, null, null, 5232.330078, 5222.990234000001, 5213.220215, 5227.209961, 5249.899902, null, null, null, 5275.910156, 5283.930176, 5259.47998, 5125.910156, null, null, 5211.890136999999, 5155.25, 5173.77002, 5249.689941, 5244.569824, null, null, 5235.029785, 5241.350098, 5295.180176, 5339.52002, 5305.75, null, null, 5257.490234000001, 5305.709961, 5318.549805, 5269.149902, 5312.0, null, null, 5300.870117, 5289.660156, 5316.02002, 5306.850098, 5292.399902, null, null, 5328.669922, 5246.790039, 5239.02002, 5213.330078, 5214.160156, null, null, 5199.819824, 5243.839844, 5246.410156, 5241.830078, 5257.399902, null, null, 5309.830078, 5283.399902, 5250.27002, 5215.970215, 5190.100098, null, null, 5189.140136999999, 5153.580078, 5105.569824, 5058.410156, 5046.370117, null, null, 5166.169922, 5193.490234000001, 5251.069824, 5208.799805, 5237.109863000001, null, null, 5218.399902, 5275.620117, 5294.580078, 5333.970215, 5321.509765999999, null, null, 5368.859863000001, 5386.350098, 5380.680176, null, 5398.919922, null, null, 5368.810059, 5379.919922, 5323.680176, 5251.109863000001, 5255.649902, null, null, 5308.890136999999, 5333.0, 5393.759765999999, 5417.359863000001, 5444.5, null, null, 5412.540039, 5463.830078, 5436.669922, 5456.850098, 5437.160156, null, null, 5457.439941, 5483.939941, 5471.430176, 5447.419922, 5462.689941, null, null, null, 5487.439941, 5438.560059, 5432.089844, 5383.120117, null, null, null, 5429.080078, 5477.0, 5487.939941, 5521.060059, null, null, 5531.819824, 5551.819824, 5563.649902, 5547.490234000001, 5574.120117, null, null, null, 5538.72998, 5555.649902, 5540.080078, 5555.330078, null, null, 5552.939941, 5600.959961, 5656.339844, 5655.180176, 5660.779785, null, null, 5613.709961, 5614.790039, 5642.649902, 5636.200195, 5666.77002, null, null, 5663.549805, 5674.220215, 5682.450195, 5715.180176, 5734.129883, null, null, 5763.959961, 5782.569824, 5819.439941, 5814.899902, 5838.580078, null, null, null, 5865.950195, 5860.629883, 5835.509765999999, 5845.310059, null, null, 5861.899902, 5825.439941, 5904.029785, 5861.220215, 5870.75, null, null, 5849.180176, 5833.930176, 5837.549805, 5838.810059, 5861.72998, null, null, 5875.779785, 5856.819824, 5900.049805, 5900.759765999999, 5901.0, null, null, 5901.529785, 5793.830078, 5821.640136999999, 5817.689941, 5828.740234000001, null, null, 5840.370117, 5875.140136999999, 5897.549805, 5914.339844, 5911.740234000001, null, null, 5894.680176, 5898.609863000001, 5864.47998, 5878.950195, 5877.810059, null, null, 5880.930176, 5866.77002, 5836.160156, 5805.149902, null, null, null, 5856.790039, 5849.470215, 5863.029785, 5916.779785, 5910.52002, null, null, 5983.819824, 6025.490234000001, 6025.22998, 6048.939941, 6047.609863000001, null, null, 6091.600098, 6095.370117, 6072.549805, 6075.339844, 6100.759765999999, null, null, 6102.660156, 6120.589844, 6129.140136999999, 6115.959961, 6121.22998, null, null, 6149.669922, 6169.870117, 6011.240234000001, 6055.129883, 6083.700195, null, null, 6133.620117, 6138.709961, 6163.02002, 6205.259765999999, 6210.189941, null, null, null, 6203.189941, 6198.52002, 6246.830078, 6305.799805, null, null, 6295.680176, 6275.060059, 6297.379883, 6321.759765999999, 6207.919922, null, null, 6175.459961, 6220.370117, 6194.890136999999, 6165.5, 6151.759765999999, null, null, 6239.009765999999, 6188.029785, 6233.950195, 6236.689941, 6265.25, null, null, 6247.149902, 6146.620117, 6234.410156, 6144.350098, 6140.419922, null, null, 6110.060059, null, 6150.859863000001, 6089.459961, 6153.080078, null, null, 6176.390136999999, 6193.299805, 6261.169922, 6274.439941, 6312.470215, null, null, 6314.430176, 6344.310059, 6385.040039, 6390.0, 6387.75, null, null, 6410.810059, 6412.169922, 6422.75, 6382.189941, 6374.680176, null, null, 6348.120117, 6362.939941, 6362.649902, 6340.339844, 6351.560059, null, null, 6383.77002, 6370.459961, 6352.330078, 6216.870117, 6256.560059, null, null, 6340.22998, 6333.009765999999, 6345.109863000001, 6221.910156, 6216.529785, null, null, 6213.129883, 6297.47998, 6278.410156, 6271.330078, 6265.640136999999, null, null, 6283.02002, 6301.890136999999, 6368.310059, 6428.660156, 6435.330078, null, null, null, 6375.569824, 6393.310059, 6397.870117, 6360.189941, null, null, 6432.259765999999, 6454.279785, 6460.189941, 6429.080078, 6448.470215, null, null, 6454.640136999999, 6461.319824, 6456.040039, 6422.689941, 6426.919922, null, null, 6370.589844, 6380.160156, 6453.259765999999, 6453.450195, 6495.959961, null, null, 6516.720215, 6531.709961, 6534.629883, 6585.359863000001, 6590.180176, null, null, 6579.72998, 6587.25, 6603.549805, 6591.509765999999, 6605.799805, null, null, 6624.0, 6623.660156, 6624.220215, 6605.069824, 6629.049805, null, null, 6586.830078, 6598.430176, 6563.890136999999, 6556.77002, 6701.259765999999, null, null, 6698.959961, 6727.669922, 6716.529785, 6714.939941, 6764.439941, null, null, 6786.439941, 6767.779785, 6789.120117, 6750.049805, 6750.939941, null, null, 6757.600098000001, 6737.870117, 6706.209961, 6793.290039, 6782.790039, null, null, 6790.709961, 6862.47998, 6867.359863, null, 6889.160156, null, null, 6878.52002, 6912.359863, 6824.390137, 6873.970215, 6847.589844, null, null, 6775.370117, 6762.209961, 6776.379883, 6812.839844, 6840.080078, null, null, 6875.080078, 6862.319823999999, 6875.799805, 6856.529785, 6936.580078, null, null, 6994.759765999999, 6963.850098000001, 6960.959961, 6965.359863, 6959.959961, null, null, null, 6936.25, 6939.339844, 6950.160156, 6903.390137, null, null, null, 7006.899901999999, 7065.529785, 7077.910156, 7136.560059, null, null, 7157.390137, 7163.580078, 7153.569823999999, 7211.779785, 7261.060059, null, null, null, 7223.689941, 7298.279785, 7296.049805, 7336.379883, null, null, 7408.029785, 7460.290039, 7415.060059, 7411.160156, 7505.77002, null, null, 7466.509765999999, 7402.47998, 7411.47998, 7385.859863, 7240.950195, null, null, 6967.529785, 7115.879883, 7051.97998, 6777.160156, 6874.490234000001, null, null, 6981.959961, 7013.509765999999, 7143.620117, 7256.430176000001, 7239.470215, null, null, null, 7234.310059, 7218.22998, 7210.089844, 7337.390137, null, null, 7421.459961, 7330.350098000001, 7273.009765999999, 7180.560059, 7257.870117, null, null, 7330.709961, 7372.009765999999, 7396.649901999999, 7427.950195, 7560.810059, null, null, 7588.319823999999, 7511.009765999999, 7496.810059, 7481.740234000001, 7481.990234000001, null, null, 7344.240234000001, 7364.299805, 7345.290039, 7166.680176000001, 6992.669922, null, null, 7220.540039, 7008.810059, 6949.22998, 7063.450195, null, null, null, 6870.120117, 6941.279785, 7042.109863, 7076.549805, 6915.109863, null, null, 6950.339844, 7094.299805, 7069.029785, 7140.25, 7106.649901999999, null, null, 7156.279785, 7281.100098000001, 7295.240234000001, 7238.060059, 7146.129883, null, null, 7128.600098000001, 7007.350098000001, 7003.740234000001, 7118.680176000001, 7119.799805, null, null, 7066.27002, 7130.700195, 7100.899901999999, 7088.149901999999, 7209.620117, null, null, 7265.209961, 7266.899901999999, 7339.910156, 7404.970215, 7402.879883, null, null, 7411.319823999999, 7351.629883, 7398.299805, 7382.470215, 7354.339844, null, null, 7394.040039, 7378.459961, 7425.959961, 7424.430176000001, 7433.850098000001, null, null, null, 7396.589844, 7462.450195, 7442.120117, 7554.330078, null, null, 7606.459961, 7637.859863, 7689.240234000001, 7635.069823999999, 7645.509765999999, null, null, 7659.930176000001, 7703.790039, 7695.700195, 7761.040039, 7746.379883, null, null, 7747.029785, 7725.589844, 7781.509765999999, 7712.950195, 7692.819823999999, null, null, 7532.009765999999, 7561.629883, 7445.080078, 7503.680176000001, 7510.299805, null, null, 7567.689941, 7502.669922, null, 7586.430176000001, 7688.390137, null, null, 7756.200195, 7759.200195, 7716.609863, 7823.919922, 7825.97998, null, null, 7805.720215, 7855.120117, 7854.439941, 7825.299805, 7820.200195, null, null, 7841.870117, 7840.77002, 7932.240234000001, 7852.180176000001, 7737.419922, null, null, 7630.0, 7671.790039, 7707.290039, 7802.689941, 7812.009765999999, null, null, 7859.680176000001, 7883.660156, 7888.330078, 7891.779785, 7839.109863, null, null, 7819.709961, 7870.890137, 7774.120117, 7806.52002, 7816.330078, null, null, 7821.009765999999, 7859.169922, 7889.100098000001, 7878.459961, 7945.97998, null, null, 8017.899901999999, 8030.040039, 8109.689941, 8088.359863, 8109.540039, null, null, null, 8091.25, 7995.169922, 7922.72998, 7902.540039, null, null, 7924.160156, 7972.470215, 7954.22998, 8013.709961, 8010.040039, null, null, 7895.790039, 7956.109863, 7950.040039, 8028.22998, 7986.959961, null, null, 7993.25, 8007.470215, 7990.370117, 8041.970215, 8046.350098000001, null, null, 8037.299805, 7999.549805, 8025.089844, 7879.509765999999, 7788.450195, null, null, 7735.950195, 7738.02002, 7422.049805, 7329.060059, 7496.890137, null, null, 7430.740234000001, 7645.490234000001, 7642.700195, 7485.140137, 7449.029785, null, null, 7468.629883, 7437.540039, 7108.399901999999, 7318.339844, 7167.209961, null, null, 7050.290039, 7161.649901999999, 7305.899901999999, 7434.060059, 7356.990234000001, null, null, 7328.850098000001, 7375.959961, 7570.75, 7530.879883, 7406.899901999999, null, null, 7200.870117, 7200.870117, 7136.390137, 7259.029785, 7247.870117, null, null, 7028.47998, 6908.819823999999, 6972.25, null, 6938.97998, null, null, 7081.850098000001, 7082.700195, 7291.589844, 7273.080078, 7330.540039, null, null, 7441.509765999999, 7158.430176000001, null, 7188.259765999999, 6969.25, null, null, 7020.52002, 7031.830078, 7098.310059, 7070.330078, 6910.660156, null, null, 6753.72998, 6783.910156, 6636.830078, 6528.410156, 6332.990234000001, null, null, 6192.919922, null, 6554.359863000001, 6579.490234000001, 6584.52002, null, null, 6635.279785, null, 6665.939941, 6463.5, 6738.859863, null, null, 6823.470215, 6897.0, 6957.080078, 6986.069823999999, 6971.47998, null, null, 6905.919922, 7023.830078, 7034.689941, 7084.459961, 7157.22998, null, null, null, 7020.359863, 7025.77002, 7073.459961, 7164.859863, null, null, 7085.680176000001, 7028.290039, 7183.080078, 7281.740234000001, 7263.870117, null, null, 7347.540039, 7402.080078, 7375.279785, 7288.350098000001, 7298.200195, null, null, 7307.899901999999, 7414.620117, 7420.379883, 7426.950195, 7472.410156, null, null, null, 7486.77002, 7489.069823999999, 7459.709961, 7527.540039, null, null, 7554.459961, 7549.299805, 7554.509765999999, 7532.529785, 7595.350098000001, null, null, 7577.569823999999, 7576.359863, 7505.919922, 7421.459961, 7408.140137, null, null, 7558.060059, 7591.029785, 7643.410156, 7630.910156, 7688.529785, null, null, 7714.47998, 7723.950195, 7728.970215, 7838.959961, 7642.669922, null, null, 7637.540039, 7691.52002, 7643.379883, 7669.169922, 7729.319823999999, null, null, 7828.910156, 7848.689941, 7895.549805, 7891.779785, 7938.689941, null, null, 7953.879883, 7909.279785, 7964.240234000001, 7947.359863, 7984.160156, null, null, 7976.009765999999, 8000.22998, 7996.080078, 7998.060059, null, null, null, 8015.27002, 8120.819823999999, 8102.009765999999, 8118.680176000001, 8146.399901999999, null, null, 8161.850098000001, 8095.390137, 8049.640137, 8036.77002, 8164.0, null, null, 8123.290039, 7963.759765999999, 7943.319823999999, 7910.589844, 7916.939941, null, null, 7647.02002, 7734.490234000001, 7822.149901999999, 7898.049805, 7816.279785, null, null, 7702.379883, 7785.720215, 7750.839844, 7628.279785, 7637.009765999999, null, null, null, 7607.350098000001, 7547.310059, 7567.720215, 7453.149901999999, null, null, 7333.02002, 7527.120117, 7575.47998, 7615.549805, 7742.100098000001, null, null, 7823.169922, 7822.569823999999, 7792.720215, 7837.129883, 7796.660156, null, null, 7845.02002, 7953.879883, 7987.319823999999, 8051.339844, 8031.709961, null, null, 8005.700195, 7884.720215, 7909.970215, 7967.759765999999, 8006.240234000001, null, null, 8091.160156, 8109.089844, 8170.22998, null, 8161.790039, null, null, 8098.379883, 8141.72998, 8202.530273, 8196.040039, 8244.139648, null, null, 8258.19043, 8222.799805, 8185.209961, 8207.240234, 8146.490234000001, null, null, 8204.139648, 8251.400391, 8321.5, 8238.540039, 8330.209961, null, null, 8293.330078, 8273.610352, 8175.419922, 8111.120117, 8004.069823999999, null, null, 7726.040039, 7833.27002, 7862.830078, 8039.160156, 7959.140137, null, null, 7863.410156, 8016.359863, 7773.939941, 7766.620117, 7895.990234000001, null, null, 8002.810059, 7948.560059, 8020.209961, 7991.390137, 7751.77002, null, null, 7853.740234000001, 7826.950195, 7856.879883, 7973.390137, 7962.879883, null, null, null, 7874.160156, 7976.879883, 8116.830078, 8103.069823999999, null, null, 8087.439941, 8084.160156, 8169.680176000001, 8194.469727, 8176.709961, null, null, 8153.540039, 8186.02002, 8177.390137, 8182.879883, 8117.669922, null, null, 8112.459961, 7993.629883, 8077.379883, 8030.660156, 7939.629883, null, null, 7999.339844, 7908.680176000001, 7785.25, 7872.259765999999, 7982.470215, null, null, 7956.290039, 7823.779785, 7903.740234000001, 7950.779785, 8057.040039, null, null, 8048.649901999999, 8148.709961, 8124.180176000001, 8156.850098000001, 8089.540039, null, null, 8162.990234000001, 8104.299805, 8119.790039, 8185.799805, 8243.120117, null, null, 8325.990234, 8276.849609, 8303.980469, 8292.360352, 8386.400391, null, null, 8433.200195, 8434.679688, 8410.629883, 8434.519531, 8475.30957, null, null, 8464.280273, 8486.089844, 8482.099609, 8479.019531, 8540.830078, null, null, 8549.94043, 8570.660156, 8526.730469, 8506.209961, 8519.879883, null, null, 8632.490234, 8647.929688, 8705.179688, null, 8665.469727, null, null, 8567.990234, 8520.639648, 8566.669922, 8570.700195, 8656.530273, null, null, 8621.830078, 8616.179688, 8654.049805, 8717.320313, 8734.879883, null, null, 8814.230469, 8823.360352, 8827.740234, 8887.219727, 8924.959961, null, null, 8945.650391, 8952.879883, null, 9022.389648, 9006.620117, null, null, 8945.990234, 8972.599609, null, 9092.19043, 9020.769531, null, null, 9071.469727, 9068.580078, 9129.240234, 9203.429688, 9178.860352, null, null, 9273.929688, 9251.330078, 9258.700195, 9357.129883, 9388.94043, null, null, null, 9370.80957, 9383.769531, 9402.480469, 9314.910156, null, null, 9139.30957, 9269.679688, 9275.160156, 9298.929688, 9150.94043, null, null, 9273.400391, 9467.969727, 9508.679688, 9572.150391, 9520.509766, null, null, 9628.389648, 9638.94043, 9725.959961, 9711.969727, 9731.179688, null, null, null, 9732.740234, 9817.179688, 9750.969727, 9576.589844, null, null, 9221.280273, 8965.610352, 8980.780273, 8566.480469, 8567.370117, null, null, 8952.169922, 8684.089844, 9018.089844, 8738.589844, 8575.620117, null, null, 7950.680176000001, 8344.25, 7952.049805, 7201.799805, 7874.879883, null, null, 6904.589844, 7334.779785, 6989.839844, 7150.580078, 6879.52002, null, null, 6860.669922, 7417.859863, 7384.299805, 7797.540039, 7502.379883, null, null, 7774.149901999999, 7700.100098000001, 7360.580078, 7487.310059, 7373.080078, null, null, 7913.240234000001, 7887.259765999999, 8090.899901999999, 8153.580078, null, null, null, 8192.419922, 8515.740234, 8393.179688, 8532.360352, 8650.139648, null, null, 8560.730469, 8263.230469, 8495.379883, 8494.75, 8634.519531, null, null, 8730.160156, 8607.730469, 8914.709961, 8889.549805, 8604.950195, null, null, 8710.709961, 8809.120117, 8854.389648, 8979.660156, 9121.320313, null, null, 9192.339844, 9002.549805, 8863.169922, 8943.719727, 9014.55957, null, null, 9234.830078, 9185.099609, 9375.780273, 9284.879883, 9324.589844, null, null, null, 9340.219727, 9412.360352, 9368.990234, 9489.870117, null, null, 9552.049805, 9608.379883, 9682.910156, 9615.80957, 9814.080078, null, null, 9924.75, 9953.75, 10020.349609, 9492.730469, 9588.80957, null, null, 9726.019531, 9895.870117, 9910.530273, 9943.049805, 9946.120117, null, null, 10056.480469, 10131.370117, 9909.169922, 10017.0, 9757.219727, null, null, 9874.150391, 10058.769531, 10154.629883, 10207.629883, null, null, null, 10433.650391, 10343.889648, 10492.5, 10547.75, 10617.44043, null, null, 10390.839844, 10488.580078, 10550.490234, 10473.830078, 10503.19043, null, null, 10767.089844, 10680.360352, 10706.129883, 10461.419922, 10363.179688, null, null, 10536.269531, 10402.089844, 10542.94043, 10587.80957, 10745.269531, null, null, 10902.799805, 10941.169922, 10998.400391, 11108.070313, 11010.980469, null, null, 10968.360352, 10782.820313, 11012.240234, 11042.5, 11019.299805, null, null, 11129.730469, 11210.839844, 11146.459961, 11264.950195, 11311.799805, null, null, 11379.719727, 11466.469727, 11665.05957, 11625.339844, 11695.629883, null, null, 11775.459961, 11939.669922, 12056.44043, 11458.099609, 11313.129883, null, null, null, 10847.69043, 11141.55957, 10919.589844, 10853.549805, null, null, 11056.650391, 11190.320313, 11050.469727, 10910.280273, 10793.280273, null, null, 10778.799805, 10963.639648, 10632.990234, 10672.269531, 10913.55957, null, null, 11117.530273, 11085.25, 11167.509766, 11326.509766, 11075.019531, null, null, 11332.490234, 11154.599609, 11364.599609, 11420.980469, 11579.94043, null, null, 11876.259766, 11863.900391, 11768.730469, 11713.870117, 11671.55957, null, null, 11478.879883, 11516.490234, 11484.69043, 11506.009766, 11548.280273, null, null, 11358.94043, 11431.349609, 11004.870117, 11185.589844, 10911.589844, null, null, 10957.610352, 11160.570313, 11590.780273, 11890.929688, 11895.230469, null, null, 11713.780273, 11553.860352, 11786.429688, 11709.589844, 11829.290039, null, null, 11924.129883, 11899.339844, 11801.599609, 11904.709961, 11854.969727, null, null, 11880.629883, 12036.790039, 12094.400391, null, 12205.849609, null, null, 12198.740234, 12355.110352, 12349.370117, 12377.179688, 12464.230469, null, null, 12519.950195, 12582.769531, 12338.950195, 12405.80957, 12377.870117, null, null, 12440.040039, 12595.05957, 12658.19043, 12764.75, 12755.639648, null, null, 12742.519531, 12807.919922, 12771.110352, 12804.730469, null, null, null, 12899.419922, 12850.219727, 12870.0, 12888.280273, null, null, null, 12698.450195, 12818.959961, 12740.790039, 13067.480469, 13201.980469, null, null, 13036.429688, 13072.429688, 13128.950195, 13112.639648, 12998.5, null, null, null, 13197.179688, 13457.25, 13530.910156, 13543.05957, null, null, 13635.990234, 13626.05957, 13270.599609, 13337.160156, 13070.69043, null, null, 13403.389648, 13612.780272999998, 13610.540038999998, 13777.740234, 13856.299805, null, null, 13987.639647999998, 14007.700195, 13972.530272999998, 14025.769531, 14095.469727000002, null, null, null, 14047.5, 13965.490234, 13865.360352000002, 13874.459961000002, null, null, 13533.049805, 13465.200195, 13597.969727000002, 13119.429688, 13192.349609, null, null, 13588.830078, 13358.790039, 12997.75, 12723.469727, 12920.150391, null, null, 12609.160156, 13073.820313, 13068.830078, 13398.669922, 13319.860352, null, null, 13459.709961000002, 13471.570313, 13525.200195, 13116.169922, 13215.240234, null, null, 13377.540039, 13227.700195, 12961.889648, 12977.679688, 13138.730469, null, null, 13059.650391, 13045.389648, 13246.870117, 13480.110352000002, null, null, null, 13705.589844, 13698.379883000001, 13688.839844, 13829.30957, 13900.19043, null, null, 13850.0, 13996.099609, 13857.839844, 14038.759766, 14052.339844, null, null, 13914.769531, 13786.269531, 13950.219727000002, 13818.410156, 14016.80957, null, null, 14138.780272999998, 14090.219727000002, 14051.030272999998, 14082.549805, 13962.679688, null, null, 13895.120116999999, 13633.5, 13582.419922, 13632.839844, 13752.240234, null, null, 13401.860352, 13389.429688, 13031.679688, 13124.990234, 13429.980469, null, null, 13379.049805, 13303.639648, 13299.740234, 13535.740234, 13470.990234, null, null, 13661.169922, 13657.169922, 13738.0, 13736.280272999998, 13748.740234, null, null, null, 13736.480469, 13756.330078, 13614.509766, 13814.490234, null, null, 13881.719727000002, 13924.910156, 13911.75, 14020.330078, 14069.419922, null, null, 14174.139647999998, 14072.860352000002, 14039.679688, 14161.349609, 14030.379883000001, null, null, 14141.480469, 14253.269531, 14271.730469, 14369.709961000002, 14360.389647999998, null, null, 14500.509766, 14528.330078, 14503.950195, 14522.379883000001, 14639.330078, null, null, null, 14663.639647999998, 14665.05957, 14559.780272999998, 14701.919922, null, null, 14733.240234, 14677.650391, 14644.950195, 14543.129883000001, 14427.240234, null, null, 14274.980469, 14498.879883000001, 14631.950195, 14684.599609, 14836.990234, null, null, 14840.709961000002, 14660.580078, 14762.580078, 14778.259766, 14672.679688, null, null, 14681.070313, 14761.290038999998, 14780.530272999998, 14895.120116999999, 14835.759766, null, null, 14860.179688, 14788.089844, 14765.139647999998, 14816.259766, 14822.900391, null, null, 14793.759766, 14656.179688, 14525.910156, 14541.790038999998, 14714.660156, null, null, 14942.650391, 15019.799805, 15041.860352000002, 14945.80957, 15129.5, null, null, 15265.889647999998, 15259.240234, 15309.379883000001, 15331.179688, 15363.519531, null, null, null, 15374.330078, 15286.639647999998, 15248.25, 15115.490234, null, null, 15105.580078, 15037.759766, 15161.530272999998, 15181.919922, 15043.969727000002, null, null, 14713.900391, 14746.400391, 14896.849609, 15052.240234, 15047.700195, null, null, 14969.969727000002, 14546.679688, 14512.44043, 14448.580078, 14566.700195, null, null, 14255.480469, 14433.830078, 14501.910156, 14654.019531, 14579.540038999998, null, null, 14486.200195, 14465.919922, 14571.639647999998, 14823.429688, 14897.339844, null, null, 15021.80957, 15129.089844, 15121.679688, 15215.700195, 15090.200195, null, null, 15226.709961000002, 15235.709961000002, 15235.839844, 15448.120116999999, 15498.389647999998, null, null, 15595.919922, 15649.599609, 15811.580078, 15940.30957, 15971.589844, null, null, 15982.360352000002, 15886.540038999998, 15622.709961000002, 15704.280272999998, 15860.959961000002, null, null, 15853.849609, 15973.860352000002, 15921.570313, 15993.709961000002, 16057.44043, null, null, 15854.759766, 15775.139647999998, 15845.230469, null, 15491.660156, null, null, 15782.830078, 15537.69043, 15254.049805, 15381.320313, 15085.469727000002], \"yaxis\": \"y\"}],\n",
              "                        {\"hovermode\": \"x\", \"legend\": {\"tracegroupgap\": 0}, \"template\": {\"data\": {\"bar\": [{\"error_x\": {\"color\": \"#2a3f5f\"}, \"error_y\": {\"color\": \"#2a3f5f\"}, \"marker\": {\"line\": {\"color\": \"#E5ECF6\", \"width\": 0.5}}, \"type\": \"bar\"}], \"barpolar\": [{\"marker\": {\"line\": {\"color\": \"#E5ECF6\", \"width\": 0.5}}, \"type\": \"barpolar\"}], \"carpet\": [{\"aaxis\": {\"endlinecolor\": \"#2a3f5f\", \"gridcolor\": \"white\", \"linecolor\": \"white\", \"minorgridcolor\": \"white\", \"startlinecolor\": \"#2a3f5f\"}, \"baxis\": {\"endlinecolor\": \"#2a3f5f\", \"gridcolor\": \"white\", \"linecolor\": \"white\", \"minorgridcolor\": \"white\", \"startlinecolor\": \"#2a3f5f\"}, \"type\": \"carpet\"}], \"choropleth\": [{\"colorbar\": {\"outlinewidth\": 0, \"ticks\": \"\"}, \"type\": \"choropleth\"}], \"contour\": [{\"colorbar\": {\"outlinewidth\": 0, \"ticks\": \"\"}, \"colorscale\": [[0.0, \"#0d0887\"], [0.1111111111111111, \"#46039f\"], [0.2222222222222222, \"#7201a8\"], [0.3333333333333333, \"#9c179e\"], [0.4444444444444444, \"#bd3786\"], [0.5555555555555556, \"#d8576b\"], [0.6666666666666666, \"#ed7953\"], [0.7777777777777778, \"#fb9f3a\"], [0.8888888888888888, \"#fdca26\"], [1.0, \"#f0f921\"]], \"type\": \"contour\"}], \"contourcarpet\": [{\"colorbar\": {\"outlinewidth\": 0, \"ticks\": \"\"}, \"type\": \"contourcarpet\"}], \"heatmap\": [{\"colorbar\": {\"outlinewidth\": 0, \"ticks\": \"\"}, \"colorscale\": [[0.0, \"#0d0887\"], [0.1111111111111111, \"#46039f\"], [0.2222222222222222, \"#7201a8\"], [0.3333333333333333, \"#9c179e\"], [0.4444444444444444, \"#bd3786\"], [0.5555555555555556, \"#d8576b\"], [0.6666666666666666, \"#ed7953\"], [0.7777777777777778, \"#fb9f3a\"], [0.8888888888888888, \"#fdca26\"], [1.0, \"#f0f921\"]], \"type\": \"heatmap\"}], \"heatmapgl\": [{\"colorbar\": {\"outlinewidth\": 0, \"ticks\": \"\"}, \"colorscale\": [[0.0, \"#0d0887\"], [0.1111111111111111, \"#46039f\"], [0.2222222222222222, \"#7201a8\"], [0.3333333333333333, \"#9c179e\"], [0.4444444444444444, \"#bd3786\"], [0.5555555555555556, \"#d8576b\"], [0.6666666666666666, \"#ed7953\"], [0.7777777777777778, \"#fb9f3a\"], [0.8888888888888888, \"#fdca26\"], [1.0, \"#f0f921\"]], \"type\": \"heatmapgl\"}], \"histogram\": [{\"marker\": {\"colorbar\": {\"outlinewidth\": 0, \"ticks\": \"\"}}, \"type\": \"histogram\"}], \"histogram2d\": [{\"colorbar\": {\"outlinewidth\": 0, \"ticks\": \"\"}, \"colorscale\": [[0.0, \"#0d0887\"], [0.1111111111111111, \"#46039f\"], [0.2222222222222222, \"#7201a8\"], [0.3333333333333333, \"#9c179e\"], [0.4444444444444444, \"#bd3786\"], [0.5555555555555556, \"#d8576b\"], [0.6666666666666666, \"#ed7953\"], [0.7777777777777778, \"#fb9f3a\"], [0.8888888888888888, \"#fdca26\"], [1.0, \"#f0f921\"]], \"type\": \"histogram2d\"}], \"histogram2dcontour\": [{\"colorbar\": {\"outlinewidth\": 0, \"ticks\": \"\"}, \"colorscale\": [[0.0, \"#0d0887\"], [0.1111111111111111, \"#46039f\"], [0.2222222222222222, \"#7201a8\"], [0.3333333333333333, \"#9c179e\"], [0.4444444444444444, \"#bd3786\"], [0.5555555555555556, \"#d8576b\"], [0.6666666666666666, \"#ed7953\"], [0.7777777777777778, \"#fb9f3a\"], [0.8888888888888888, \"#fdca26\"], [1.0, \"#f0f921\"]], \"type\": \"histogram2dcontour\"}], \"mesh3d\": [{\"colorbar\": {\"outlinewidth\": 0, \"ticks\": \"\"}, \"type\": \"mesh3d\"}], \"parcoords\": [{\"line\": {\"colorbar\": {\"outlinewidth\": 0, \"ticks\": \"\"}}, \"type\": \"parcoords\"}], \"pie\": [{\"automargin\": true, \"type\": \"pie\"}], \"scatter\": [{\"marker\": {\"colorbar\": {\"outlinewidth\": 0, \"ticks\": \"\"}}, \"type\": \"scatter\"}], \"scatter3d\": [{\"line\": {\"colorbar\": {\"outlinewidth\": 0, \"ticks\": \"\"}}, \"marker\": {\"colorbar\": {\"outlinewidth\": 0, \"ticks\": \"\"}}, \"type\": \"scatter3d\"}], \"scattercarpet\": [{\"marker\": {\"colorbar\": {\"outlinewidth\": 0, \"ticks\": \"\"}}, \"type\": \"scattercarpet\"}], \"scattergeo\": [{\"marker\": {\"colorbar\": {\"outlinewidth\": 0, \"ticks\": \"\"}}, \"type\": \"scattergeo\"}], \"scattergl\": [{\"marker\": {\"colorbar\": {\"outlinewidth\": 0, \"ticks\": \"\"}}, \"type\": \"scattergl\"}], \"scattermapbox\": [{\"marker\": {\"colorbar\": {\"outlinewidth\": 0, \"ticks\": \"\"}}, \"type\": \"scattermapbox\"}], \"scatterpolar\": [{\"marker\": {\"colorbar\": {\"outlinewidth\": 0, \"ticks\": \"\"}}, \"type\": \"scatterpolar\"}], \"scatterpolargl\": [{\"marker\": {\"colorbar\": {\"outlinewidth\": 0, \"ticks\": \"\"}}, \"type\": \"scatterpolargl\"}], \"scatterternary\": [{\"marker\": {\"colorbar\": {\"outlinewidth\": 0, \"ticks\": \"\"}}, \"type\": \"scatterternary\"}], \"surface\": [{\"colorbar\": {\"outlinewidth\": 0, \"ticks\": \"\"}, \"colorscale\": [[0.0, \"#0d0887\"], [0.1111111111111111, \"#46039f\"], [0.2222222222222222, \"#7201a8\"], [0.3333333333333333, \"#9c179e\"], [0.4444444444444444, \"#bd3786\"], [0.5555555555555556, \"#d8576b\"], [0.6666666666666666, \"#ed7953\"], [0.7777777777777778, \"#fb9f3a\"], [0.8888888888888888, \"#fdca26\"], [1.0, \"#f0f921\"]], \"type\": \"surface\"}], \"table\": [{\"cells\": {\"fill\": {\"color\": \"#EBF0F8\"}, \"line\": {\"color\": \"white\"}}, \"header\": {\"fill\": {\"color\": \"#C8D4E3\"}, \"line\": {\"color\": \"white\"}}, \"type\": \"table\"}]}, \"layout\": {\"annotationdefaults\": {\"arrowcolor\": \"#2a3f5f\", \"arrowhead\": 0, \"arrowwidth\": 1}, \"coloraxis\": {\"colorbar\": {\"outlinewidth\": 0, \"ticks\": \"\"}}, \"colorscale\": {\"diverging\": [[0, \"#8e0152\"], [0.1, \"#c51b7d\"], [0.2, \"#de77ae\"], [0.3, \"#f1b6da\"], [0.4, \"#fde0ef\"], [0.5, \"#f7f7f7\"], [0.6, \"#e6f5d0\"], [0.7, \"#b8e186\"], [0.8, \"#7fbc41\"], [0.9, \"#4d9221\"], [1, \"#276419\"]], \"sequential\": [[0.0, \"#0d0887\"], [0.1111111111111111, \"#46039f\"], [0.2222222222222222, \"#7201a8\"], [0.3333333333333333, \"#9c179e\"], [0.4444444444444444, \"#bd3786\"], [0.5555555555555556, \"#d8576b\"], [0.6666666666666666, \"#ed7953\"], [0.7777777777777778, \"#fb9f3a\"], [0.8888888888888888, \"#fdca26\"], [1.0, \"#f0f921\"]], \"sequentialminus\": [[0.0, \"#0d0887\"], [0.1111111111111111, \"#46039f\"], [0.2222222222222222, \"#7201a8\"], [0.3333333333333333, \"#9c179e\"], [0.4444444444444444, \"#bd3786\"], [0.5555555555555556, \"#d8576b\"], [0.6666666666666666, \"#ed7953\"], [0.7777777777777778, \"#fb9f3a\"], [0.8888888888888888, \"#fdca26\"], [1.0, \"#f0f921\"]]}, \"colorway\": [\"#636efa\", \"#EF553B\", \"#00cc96\", \"#ab63fa\", \"#FFA15A\", \"#19d3f3\", \"#FF6692\", \"#B6E880\", \"#FF97FF\", \"#FECB52\"], \"font\": {\"color\": \"#2a3f5f\"}, \"geo\": {\"bgcolor\": \"white\", \"lakecolor\": \"white\", \"landcolor\": \"#E5ECF6\", \"showlakes\": true, \"showland\": true, \"subunitcolor\": \"white\"}, \"hoverlabel\": {\"align\": \"left\"}, \"hovermode\": \"closest\", \"mapbox\": {\"style\": \"light\"}, \"paper_bgcolor\": \"white\", \"plot_bgcolor\": \"#E5ECF6\", \"polar\": {\"angularaxis\": {\"gridcolor\": \"white\", \"linecolor\": \"white\", \"ticks\": \"\"}, \"bgcolor\": \"#E5ECF6\", \"radialaxis\": {\"gridcolor\": \"white\", \"linecolor\": \"white\", \"ticks\": \"\"}}, \"scene\": {\"xaxis\": {\"backgroundcolor\": \"#E5ECF6\", \"gridcolor\": \"white\", \"gridwidth\": 2, \"linecolor\": \"white\", \"showbackground\": true, \"ticks\": \"\", \"zerolinecolor\": \"white\"}, \"yaxis\": {\"backgroundcolor\": \"#E5ECF6\", \"gridcolor\": \"white\", \"gridwidth\": 2, \"linecolor\": \"white\", \"showbackground\": true, \"ticks\": \"\", \"zerolinecolor\": \"white\"}, \"zaxis\": {\"backgroundcolor\": \"#E5ECF6\", \"gridcolor\": \"white\", \"gridwidth\": 2, \"linecolor\": \"white\", \"showbackground\": true, \"ticks\": \"\", \"zerolinecolor\": \"white\"}}, \"shapedefaults\": {\"line\": {\"color\": \"#2a3f5f\"}}, \"ternary\": {\"aaxis\": {\"gridcolor\": \"white\", \"linecolor\": \"white\", \"ticks\": \"\"}, \"baxis\": {\"gridcolor\": \"white\", \"linecolor\": \"white\", \"ticks\": \"\"}, \"bgcolor\": \"#E5ECF6\", \"caxis\": {\"gridcolor\": \"white\", \"linecolor\": \"white\", \"ticks\": \"\"}}, \"title\": {\"x\": 0.05}, \"xaxis\": {\"automargin\": true, \"gridcolor\": \"white\", \"linecolor\": \"white\", \"ticks\": \"\", \"title\": {\"standoff\": 15}, \"zerolinecolor\": \"white\", \"zerolinewidth\": 2}, \"yaxis\": {\"automargin\": true, \"gridcolor\": \"white\", \"linecolor\": \"white\", \"ticks\": \"\", \"title\": {\"standoff\": 15}, \"zerolinecolor\": \"white\", \"zerolinewidth\": 2}}}, \"title\": {\"text\": \"Adj Close with Range Slider and Selectors\"}, \"xaxis\": {\"anchor\": \"y\", \"domain\": [0.0, 1.0], \"rangeselector\": {\"buttons\": [{\"count\": 1, \"label\": \"1m\", \"step\": \"month\", \"stepmode\": \"backward\"}, {\"count\": 6, \"label\": \"6m\", \"step\": \"month\", \"stepmode\": \"backward\"}, {\"count\": 1, \"label\": \"1y\", \"step\": \"year\", \"stepmode\": \"backward\"}, {\"count\": 2, \"label\": \"2y\", \"step\": \"year\", \"stepmode\": \"backward\"}, {\"step\": \"all\"}]}, \"rangeslider\": {\"visible\": true}, \"title\": {\"text\": \"date\"}}, \"yaxis\": {\"anchor\": \"x\", \"domain\": [0.0, 1.0], \"title\": {\"text\": \"adj_close\"}}},\n",
              "                        {\"responsive\": true}\n",
              "                    ).then(function(){\n",
              "                            \n",
              "var gd = document.getElementById('76c37b5a-8abb-459e-966d-d7b807327b89');\n",
              "var x = new MutationObserver(function (mutations, observer) {{\n",
              "        var display = window.getComputedStyle(gd).display;\n",
              "        if (!display || display === 'none') {{\n",
              "            console.log([gd, 'removed!']);\n",
              "            Plotly.purge(gd);\n",
              "            observer.disconnect();\n",
              "        }}\n",
              "}});\n",
              "\n",
              "// Listen for the removal of the full notebook cells\n",
              "var notebookContainer = gd.closest('#notebook-container');\n",
              "if (notebookContainer) {{\n",
              "    x.observe(notebookContainer, {childList: true});\n",
              "}}\n",
              "\n",
              "// Listen for the clearing of the current output cell\n",
              "var outputEl = gd.closest('.output');\n",
              "if (outputEl) {{\n",
              "    x.observe(outputEl, {childList: true});\n",
              "}}\n",
              "\n",
              "                        })\n",
              "                };\n",
              "                \n",
              "            </script>\n",
              "        </div>\n",
              "</body>\n",
              "</html>"
            ]
          },
          "metadata": {}
        }
      ]
    },
    {
      "cell_type": "markdown",
      "metadata": {
        "papermill": {
          "duration": 0.136296,
          "end_time": "2020-10-02T15:41:03.190818",
          "exception": false,
          "start_time": "2020-10-02T15:41:03.054522",
          "status": "completed"
        },
        "tags": [],
        "id": "ukwyId23J7nc"
      },
      "source": [
        "# Simple Candlestick Graph"
      ]
    },
    {
      "cell_type": "code",
      "metadata": {
        "execution": {
          "iopub.execute_input": "2020-10-02T15:41:03.472882Z",
          "iopub.status.busy": "2020-10-02T15:41:03.472067Z",
          "iopub.status.idle": "2020-10-02T15:41:03.477890Z",
          "shell.execute_reply": "2020-10-02T15:41:03.477284Z"
        },
        "papermill": {
          "duration": 0.149312,
          "end_time": "2020-10-02T15:41:03.478016",
          "exception": false,
          "start_time": "2020-10-02T15:41:03.328704",
          "status": "completed"
        },
        "tags": [],
        "id": "XOfth-2SJ7nc"
      },
      "source": [
        "plot_ = bitstamp_daily.set_index(\"date\")[\"2017-12\"]"
      ],
      "execution_count": null,
      "outputs": []
    },
    {
      "cell_type": "code",
      "metadata": {
        "execution": {
          "iopub.execute_input": "2020-10-02T15:41:03.758817Z",
          "iopub.status.busy": "2020-10-02T15:41:03.757928Z",
          "iopub.status.idle": "2020-10-02T15:41:03.780059Z",
          "shell.execute_reply": "2020-10-02T15:41:03.780815Z"
        },
        "papermill": {
          "duration": 0.166503,
          "end_time": "2020-10-02T15:41:03.780976",
          "exception": false,
          "start_time": "2020-10-02T15:41:03.614473",
          "status": "completed"
        },
        "tags": [],
        "id": "XCrPGh3GJ7nd",
        "colab": {
          "base_uri": "https://localhost:8080/",
          "height": 542
        },
        "outputId": "34f4738f-40a2-4f11-9a73-cd24b283543b"
      },
      "source": [
        "import plotly.graph_objects as go\n",
        "\n",
        "fig = go.Figure(data=go.Candlestick(x= plot_.index,\n",
        "                    open=plot_['open'],\n",
        "                    high=plot_['high'],\n",
        "                    low=plot_['low'],\n",
        "                    close=plot_['close']))\n",
        "fig.show()"
      ],
      "execution_count": null,
      "outputs": [
        {
          "output_type": "display_data",
          "data": {
            "text/html": [
              "<html>\n",
              "<head><meta charset=\"utf-8\" /></head>\n",
              "<body>\n",
              "    <div>\n",
              "            <script src=\"https://cdnjs.cloudflare.com/ajax/libs/mathjax/2.7.5/MathJax.js?config=TeX-AMS-MML_SVG\"></script><script type=\"text/javascript\">if (window.MathJax) {MathJax.Hub.Config({SVG: {font: \"STIX-Web\"}});}</script>\n",
              "                <script type=\"text/javascript\">window.PlotlyConfig = {MathJaxConfig: 'local'};</script>\n",
              "        <script src=\"https://cdn.plot.ly/plotly-latest.min.js\"></script>    \n",
              "            <div id=\"d8f1ce48-2102-4d19-a8b7-fd2f49a2c37f\" class=\"plotly-graph-div\" style=\"height:525px; width:100%;\"></div>\n",
              "            <script type=\"text/javascript\">\n",
              "                \n",
              "                    window.PLOTLYENV=window.PLOTLYENV || {};\n",
              "                    \n",
              "                if (document.getElementById(\"d8f1ce48-2102-4d19-a8b7-fd2f49a2c37f\")) {\n",
              "                    Plotly.newPlot(\n",
              "                        'd8f1ce48-2102-4d19-a8b7-fd2f49a2c37f',\n",
              "                        [{\"close\": [6847.589844, null, null, 6775.370117, 6762.209961, 6776.379883, 6812.839844, 6840.080078, null, null, 6875.080078, 6862.319823999999, 6875.799805, 6856.529785, 6936.580078, null, null, 6994.759765999999, 6963.850098000001, 6960.959961, 6965.359863, 6959.959961, null, null, null, 6936.25, 6939.339844, 6950.160156, 6903.390137, null, null], \"high\": [6872.169922, null, null, 6899.22998, 6836.450195, 6787.419922, 6829.290039, 6870.47998, null, null, 6879.799805, 6884.799805, 6897.620117, 6901.129883, 6945.819823999999, null, null, 7003.890137, 6995.879883, 6991.25, 6992.629883, 6962.259765999999, null, null, null, 6942.140137, 6955.379883, 6954.799805, 6954.97998, null, null], \"low\": [6737.160156, null, null, 6770.689941, 6752.319823999999, 6734.129883, 6778.200195, 6831.609863, null, null, 6844.879883, 6856.299805, 6871.870117, 6851.629883, 6871.450195, null, null, 6975.540039, 6951.490234000001, 6935.419922, 6961.209961, 6944.450195, null, null, null, 6915.560059, 6931.339844, 6936.75, 6903.390137, null, null], \"open\": [6844.040039, null, null, 6897.129883, 6759.140137, 6742.069823999999, 6785.740234000001, 6859.950195, null, null, 6847.640137, 6872.709961, 6880.410156, 6887.379883, 6871.549805, null, null, 6980.399901999999, 6991.25, 6991.25, 6972.879883, 6958.02002, null, null, null, 6928.919922, 6941.450195, 6953.379883, 6952.609863, null, null], \"type\": \"candlestick\", \"x\": [\"2017-12-01T00:00:00\", \"2017-12-02T00:00:00\", \"2017-12-03T00:00:00\", \"2017-12-04T00:00:00\", \"2017-12-05T00:00:00\", \"2017-12-06T00:00:00\", \"2017-12-07T00:00:00\", \"2017-12-08T00:00:00\", \"2017-12-09T00:00:00\", \"2017-12-10T00:00:00\", \"2017-12-11T00:00:00\", \"2017-12-12T00:00:00\", \"2017-12-13T00:00:00\", \"2017-12-14T00:00:00\", \"2017-12-15T00:00:00\", \"2017-12-16T00:00:00\", \"2017-12-17T00:00:00\", \"2017-12-18T00:00:00\", \"2017-12-19T00:00:00\", \"2017-12-20T00:00:00\", \"2017-12-21T00:00:00\", \"2017-12-22T00:00:00\", \"2017-12-23T00:00:00\", \"2017-12-24T00:00:00\", \"2017-12-25T00:00:00\", \"2017-12-26T00:00:00\", \"2017-12-27T00:00:00\", \"2017-12-28T00:00:00\", \"2017-12-29T00:00:00\", \"2017-12-30T00:00:00\", \"2017-12-31T00:00:00\"]}],\n",
              "                        {\"template\": {\"data\": {\"bar\": [{\"error_x\": {\"color\": \"#2a3f5f\"}, \"error_y\": {\"color\": \"#2a3f5f\"}, \"marker\": {\"line\": {\"color\": \"#E5ECF6\", \"width\": 0.5}}, \"type\": \"bar\"}], \"barpolar\": [{\"marker\": {\"line\": {\"color\": \"#E5ECF6\", \"width\": 0.5}}, \"type\": \"barpolar\"}], \"carpet\": [{\"aaxis\": {\"endlinecolor\": \"#2a3f5f\", \"gridcolor\": \"white\", \"linecolor\": \"white\", \"minorgridcolor\": \"white\", \"startlinecolor\": \"#2a3f5f\"}, \"baxis\": {\"endlinecolor\": \"#2a3f5f\", \"gridcolor\": \"white\", \"linecolor\": \"white\", \"minorgridcolor\": \"white\", \"startlinecolor\": \"#2a3f5f\"}, \"type\": \"carpet\"}], \"choropleth\": [{\"colorbar\": {\"outlinewidth\": 0, \"ticks\": \"\"}, \"type\": \"choropleth\"}], \"contour\": [{\"colorbar\": {\"outlinewidth\": 0, \"ticks\": \"\"}, \"colorscale\": [[0.0, \"#0d0887\"], [0.1111111111111111, \"#46039f\"], [0.2222222222222222, \"#7201a8\"], [0.3333333333333333, \"#9c179e\"], [0.4444444444444444, \"#bd3786\"], [0.5555555555555556, \"#d8576b\"], [0.6666666666666666, \"#ed7953\"], [0.7777777777777778, \"#fb9f3a\"], [0.8888888888888888, \"#fdca26\"], [1.0, \"#f0f921\"]], \"type\": \"contour\"}], \"contourcarpet\": [{\"colorbar\": {\"outlinewidth\": 0, \"ticks\": \"\"}, \"type\": \"contourcarpet\"}], \"heatmap\": [{\"colorbar\": {\"outlinewidth\": 0, \"ticks\": \"\"}, \"colorscale\": [[0.0, \"#0d0887\"], [0.1111111111111111, \"#46039f\"], [0.2222222222222222, \"#7201a8\"], [0.3333333333333333, \"#9c179e\"], [0.4444444444444444, \"#bd3786\"], [0.5555555555555556, \"#d8576b\"], [0.6666666666666666, \"#ed7953\"], [0.7777777777777778, \"#fb9f3a\"], [0.8888888888888888, \"#fdca26\"], [1.0, \"#f0f921\"]], \"type\": \"heatmap\"}], \"heatmapgl\": [{\"colorbar\": {\"outlinewidth\": 0, \"ticks\": \"\"}, \"colorscale\": [[0.0, \"#0d0887\"], [0.1111111111111111, \"#46039f\"], [0.2222222222222222, \"#7201a8\"], [0.3333333333333333, \"#9c179e\"], [0.4444444444444444, \"#bd3786\"], [0.5555555555555556, \"#d8576b\"], [0.6666666666666666, \"#ed7953\"], [0.7777777777777778, \"#fb9f3a\"], [0.8888888888888888, \"#fdca26\"], [1.0, \"#f0f921\"]], \"type\": \"heatmapgl\"}], \"histogram\": [{\"marker\": {\"colorbar\": {\"outlinewidth\": 0, \"ticks\": \"\"}}, \"type\": \"histogram\"}], \"histogram2d\": [{\"colorbar\": {\"outlinewidth\": 0, \"ticks\": \"\"}, \"colorscale\": [[0.0, \"#0d0887\"], [0.1111111111111111, \"#46039f\"], [0.2222222222222222, \"#7201a8\"], [0.3333333333333333, \"#9c179e\"], [0.4444444444444444, \"#bd3786\"], [0.5555555555555556, \"#d8576b\"], [0.6666666666666666, \"#ed7953\"], [0.7777777777777778, \"#fb9f3a\"], [0.8888888888888888, \"#fdca26\"], [1.0, \"#f0f921\"]], \"type\": \"histogram2d\"}], \"histogram2dcontour\": [{\"colorbar\": {\"outlinewidth\": 0, \"ticks\": \"\"}, \"colorscale\": [[0.0, \"#0d0887\"], [0.1111111111111111, \"#46039f\"], [0.2222222222222222, \"#7201a8\"], [0.3333333333333333, \"#9c179e\"], [0.4444444444444444, \"#bd3786\"], [0.5555555555555556, \"#d8576b\"], [0.6666666666666666, \"#ed7953\"], [0.7777777777777778, \"#fb9f3a\"], [0.8888888888888888, \"#fdca26\"], [1.0, \"#f0f921\"]], \"type\": \"histogram2dcontour\"}], \"mesh3d\": [{\"colorbar\": {\"outlinewidth\": 0, \"ticks\": \"\"}, \"type\": \"mesh3d\"}], \"parcoords\": [{\"line\": {\"colorbar\": {\"outlinewidth\": 0, \"ticks\": \"\"}}, \"type\": \"parcoords\"}], \"pie\": [{\"automargin\": true, \"type\": \"pie\"}], \"scatter\": [{\"marker\": {\"colorbar\": {\"outlinewidth\": 0, \"ticks\": \"\"}}, \"type\": \"scatter\"}], \"scatter3d\": [{\"line\": {\"colorbar\": {\"outlinewidth\": 0, \"ticks\": \"\"}}, \"marker\": {\"colorbar\": {\"outlinewidth\": 0, \"ticks\": \"\"}}, \"type\": \"scatter3d\"}], \"scattercarpet\": [{\"marker\": {\"colorbar\": {\"outlinewidth\": 0, \"ticks\": \"\"}}, \"type\": \"scattercarpet\"}], \"scattergeo\": [{\"marker\": {\"colorbar\": {\"outlinewidth\": 0, \"ticks\": \"\"}}, \"type\": \"scattergeo\"}], \"scattergl\": [{\"marker\": {\"colorbar\": {\"outlinewidth\": 0, \"ticks\": \"\"}}, \"type\": \"scattergl\"}], \"scattermapbox\": [{\"marker\": {\"colorbar\": {\"outlinewidth\": 0, \"ticks\": \"\"}}, \"type\": \"scattermapbox\"}], \"scatterpolar\": [{\"marker\": {\"colorbar\": {\"outlinewidth\": 0, \"ticks\": \"\"}}, \"type\": \"scatterpolar\"}], \"scatterpolargl\": [{\"marker\": {\"colorbar\": {\"outlinewidth\": 0, \"ticks\": \"\"}}, \"type\": \"scatterpolargl\"}], \"scatterternary\": [{\"marker\": {\"colorbar\": {\"outlinewidth\": 0, \"ticks\": \"\"}}, \"type\": \"scatterternary\"}], \"surface\": [{\"colorbar\": {\"outlinewidth\": 0, \"ticks\": \"\"}, \"colorscale\": [[0.0, \"#0d0887\"], [0.1111111111111111, \"#46039f\"], [0.2222222222222222, \"#7201a8\"], [0.3333333333333333, \"#9c179e\"], [0.4444444444444444, \"#bd3786\"], [0.5555555555555556, \"#d8576b\"], [0.6666666666666666, \"#ed7953\"], [0.7777777777777778, \"#fb9f3a\"], [0.8888888888888888, \"#fdca26\"], [1.0, \"#f0f921\"]], \"type\": \"surface\"}], \"table\": [{\"cells\": {\"fill\": {\"color\": \"#EBF0F8\"}, \"line\": {\"color\": \"white\"}}, \"header\": {\"fill\": {\"color\": \"#C8D4E3\"}, \"line\": {\"color\": \"white\"}}, \"type\": \"table\"}]}, \"layout\": {\"annotationdefaults\": {\"arrowcolor\": \"#2a3f5f\", \"arrowhead\": 0, \"arrowwidth\": 1}, \"coloraxis\": {\"colorbar\": {\"outlinewidth\": 0, \"ticks\": \"\"}}, \"colorscale\": {\"diverging\": [[0, \"#8e0152\"], [0.1, \"#c51b7d\"], [0.2, \"#de77ae\"], [0.3, \"#f1b6da\"], [0.4, \"#fde0ef\"], [0.5, \"#f7f7f7\"], [0.6, \"#e6f5d0\"], [0.7, \"#b8e186\"], [0.8, \"#7fbc41\"], [0.9, \"#4d9221\"], [1, \"#276419\"]], \"sequential\": [[0.0, \"#0d0887\"], [0.1111111111111111, \"#46039f\"], [0.2222222222222222, \"#7201a8\"], [0.3333333333333333, \"#9c179e\"], [0.4444444444444444, \"#bd3786\"], [0.5555555555555556, \"#d8576b\"], [0.6666666666666666, \"#ed7953\"], [0.7777777777777778, \"#fb9f3a\"], [0.8888888888888888, \"#fdca26\"], [1.0, \"#f0f921\"]], \"sequentialminus\": [[0.0, \"#0d0887\"], [0.1111111111111111, \"#46039f\"], [0.2222222222222222, \"#7201a8\"], [0.3333333333333333, \"#9c179e\"], [0.4444444444444444, \"#bd3786\"], [0.5555555555555556, \"#d8576b\"], [0.6666666666666666, \"#ed7953\"], [0.7777777777777778, \"#fb9f3a\"], [0.8888888888888888, \"#fdca26\"], [1.0, \"#f0f921\"]]}, \"colorway\": [\"#636efa\", \"#EF553B\", \"#00cc96\", \"#ab63fa\", \"#FFA15A\", \"#19d3f3\", \"#FF6692\", \"#B6E880\", \"#FF97FF\", \"#FECB52\"], \"font\": {\"color\": \"#2a3f5f\"}, \"geo\": {\"bgcolor\": \"white\", \"lakecolor\": \"white\", \"landcolor\": \"#E5ECF6\", \"showlakes\": true, \"showland\": true, \"subunitcolor\": \"white\"}, \"hoverlabel\": {\"align\": \"left\"}, \"hovermode\": \"closest\", \"mapbox\": {\"style\": \"light\"}, \"paper_bgcolor\": \"white\", \"plot_bgcolor\": \"#E5ECF6\", \"polar\": {\"angularaxis\": {\"gridcolor\": \"white\", \"linecolor\": \"white\", \"ticks\": \"\"}, \"bgcolor\": \"#E5ECF6\", \"radialaxis\": {\"gridcolor\": \"white\", \"linecolor\": \"white\", \"ticks\": \"\"}}, \"scene\": {\"xaxis\": {\"backgroundcolor\": \"#E5ECF6\", \"gridcolor\": \"white\", \"gridwidth\": 2, \"linecolor\": \"white\", \"showbackground\": true, \"ticks\": \"\", \"zerolinecolor\": \"white\"}, \"yaxis\": {\"backgroundcolor\": \"#E5ECF6\", \"gridcolor\": \"white\", \"gridwidth\": 2, \"linecolor\": \"white\", \"showbackground\": true, \"ticks\": \"\", \"zerolinecolor\": \"white\"}, \"zaxis\": {\"backgroundcolor\": \"#E5ECF6\", \"gridcolor\": \"white\", \"gridwidth\": 2, \"linecolor\": \"white\", \"showbackground\": true, \"ticks\": \"\", \"zerolinecolor\": \"white\"}}, \"shapedefaults\": {\"line\": {\"color\": \"#2a3f5f\"}}, \"ternary\": {\"aaxis\": {\"gridcolor\": \"white\", \"linecolor\": \"white\", \"ticks\": \"\"}, \"baxis\": {\"gridcolor\": \"white\", \"linecolor\": \"white\", \"ticks\": \"\"}, \"bgcolor\": \"#E5ECF6\", \"caxis\": {\"gridcolor\": \"white\", \"linecolor\": \"white\", \"ticks\": \"\"}}, \"title\": {\"x\": 0.05}, \"xaxis\": {\"automargin\": true, \"gridcolor\": \"white\", \"linecolor\": \"white\", \"ticks\": \"\", \"title\": {\"standoff\": 15}, \"zerolinecolor\": \"white\", \"zerolinewidth\": 2}, \"yaxis\": {\"automargin\": true, \"gridcolor\": \"white\", \"linecolor\": \"white\", \"ticks\": \"\", \"title\": {\"standoff\": 15}, \"zerolinecolor\": \"white\", \"zerolinewidth\": 2}}}},\n",
              "                        {\"responsive\": true}\n",
              "                    ).then(function(){\n",
              "                            \n",
              "var gd = document.getElementById('d8f1ce48-2102-4d19-a8b7-fd2f49a2c37f');\n",
              "var x = new MutationObserver(function (mutations, observer) {{\n",
              "        var display = window.getComputedStyle(gd).display;\n",
              "        if (!display || display === 'none') {{\n",
              "            console.log([gd, 'removed!']);\n",
              "            Plotly.purge(gd);\n",
              "            observer.disconnect();\n",
              "        }}\n",
              "}});\n",
              "\n",
              "// Listen for the removal of the full notebook cells\n",
              "var notebookContainer = gd.closest('#notebook-container');\n",
              "if (notebookContainer) {{\n",
              "    x.observe(notebookContainer, {childList: true});\n",
              "}}\n",
              "\n",
              "// Listen for the clearing of the current output cell\n",
              "var outputEl = gd.closest('.output');\n",
              "if (outputEl) {{\n",
              "    x.observe(outputEl, {childList: true});\n",
              "}}\n",
              "\n",
              "                        })\n",
              "                };\n",
              "                \n",
              "            </script>\n",
              "        </div>\n",
              "</body>\n",
              "</html>"
            ]
          },
          "metadata": {}
        }
      ]
    },
    {
      "cell_type": "markdown",
      "metadata": {
        "papermill": {
          "duration": 0.137442,
          "end_time": "2020-10-02T15:41:04.056976",
          "exception": false,
          "start_time": "2020-10-02T15:41:03.919534",
          "status": "completed"
        },
        "tags": [],
        "id": "vbbrKGarJ7nd"
      },
      "source": [
        "<a id=\"section-four\"></a>\n",
        "# Time Series Decomposition & Statistical Tests\n",
        "\n",
        "We can decompose a time series into trend, seasonal amd remainder components, as mentioned in the earlier section. The series can be decomposed as an additive or multiplicative combination of the base level, trend, seasonal index and the residual.\n",
        "The seasonal_decompose in statsmodels is used to implements the decomposition.\n",
        "\n",
        "We will then perform some statistical tests like [KPSS](http://en.wikipedia.org/wiki/KPSS_test) and [Augmented Dickey–Fuller](http://en.wikipedia.org/wiki/Augmented_Dickey%E2%80%93Fuller_test) tests to check stationarity. "
      ]
    },
    {
      "cell_type": "code",
      "metadata": {
        "execution": {
          "iopub.execute_input": "2020-10-02T15:41:04.338626Z",
          "iopub.status.busy": "2020-10-02T15:41:04.337808Z",
          "iopub.status.idle": "2020-10-02T15:41:04.341134Z",
          "shell.execute_reply": "2020-10-02T15:41:04.340508Z"
        },
        "papermill": {
          "duration": 0.147025,
          "end_time": "2020-10-02T15:41:04.341249",
          "exception": false,
          "start_time": "2020-10-02T15:41:04.194224",
          "status": "completed"
        },
        "tags": [],
        "id": "-HXwfY4zJ7nd"
      },
      "source": [
        "from statsmodels.tsa.seasonal import seasonal_decompose\n",
        "from statsmodels.tsa.stattools import kpss\n",
        "from statsmodels.tsa.stattools import adfuller\n",
        "from statsmodels.graphics.tsaplots import plot_acf, plot_pacf"
      ],
      "execution_count": null,
      "outputs": []
    },
    {
      "cell_type": "markdown",
      "metadata": {
        "papermill": {
          "duration": 0.140302,
          "end_time": "2020-10-02T15:41:04.620120",
          "exception": false,
          "start_time": "2020-10-02T15:41:04.479818",
          "status": "completed"
        },
        "tags": [],
        "id": "KlS2us_RJ7nd"
      },
      "source": [
        "Let's ensure there are no missing values before you perform statistical tests."
      ]
    },
    {
      "cell_type": "code",
      "metadata": {
        "execution": {
          "iopub.execute_input": "2020-10-02T15:41:04.899926Z",
          "iopub.status.busy": "2020-10-02T15:41:04.899153Z",
          "iopub.status.idle": "2020-10-02T15:41:04.920153Z",
          "shell.execute_reply": "2020-10-02T15:41:04.919485Z"
        },
        "papermill": {
          "duration": 0.163221,
          "end_time": "2020-10-02T15:41:04.920288",
          "exception": false,
          "start_time": "2020-10-02T15:41:04.757067",
          "status": "completed"
        },
        "tags": [],
        "id": "1SLPzMIIJ7nd",
        "colab": {
          "base_uri": "https://localhost:8080/"
        },
        "outputId": "26bb8a67-3603-4059-e1d2-0442554e37d6"
      },
      "source": [
        "fill_missing(bitstamp_daily)"
      ],
      "execution_count": null,
      "outputs": [
        {
          "output_type": "stream",
          "name": "stdout",
          "text": [
            "        date         open         high  ...        close    adj_close        volume\n",
            "0 2014-07-14  4441.390137  4451.600098  ...  4440.419922  4440.419922  1.579660e+09\n",
            "1 2014-07-15  4444.910156  4451.930176  ...  4416.390137  4416.390137  1.772030e+09\n",
            "2 2014-07-16  4446.169922  4448.870117  ...  4425.970215  4425.970215  2.059340e+09\n",
            "3 2014-07-17  4411.520020  4425.379883  ...  4363.450195  4363.450195  2.055240e+09\n",
            "4 2014-07-18  4379.939941  4434.439941  ...  4432.149902  4432.149902  1.823580e+09\n",
            "\n",
            "[5 rows x 7 columns]\n",
            "date           0\n",
            "open           0\n",
            "high           0\n",
            "low            0\n",
            "close          0\n",
            "adj_close      0\n",
            "volume       836\n",
            "dtype: int64\n"
          ]
        }
      ]
    },
    {
      "cell_type": "code",
      "metadata": {
        "execution": {
          "iopub.execute_input": "2020-10-02T15:41:05.208797Z",
          "iopub.status.busy": "2020-10-02T15:41:05.207872Z",
          "iopub.status.idle": "2020-10-02T15:41:06.337047Z",
          "shell.execute_reply": "2020-10-02T15:41:06.336217Z"
        },
        "papermill": {
          "duration": 1.2758,
          "end_time": "2020-10-02T15:41:06.337181",
          "exception": false,
          "start_time": "2020-10-02T15:41:05.061381",
          "status": "completed"
        },
        "tags": [],
        "id": "kdLqP9QmJ7ne",
        "colab": {
          "base_uri": "https://localhost:8080/",
          "height": 594
        },
        "outputId": "f9552dec-29f1-4465-8993-4aee3cd29825"
      },
      "source": [
        "plt.figure(figsize=(15,12))\n",
        "series = bitstamp_daily.adj_close\n",
        "result = seasonal_decompose(series, model='additive', period=1)\n",
        "result.plot()"
      ],
      "execution_count": null,
      "outputs": [
        {
          "output_type": "execute_result",
          "data": {
            "image/png": "[encoded data removed]",
            "text/plain": [
              "<Figure size 432x288 with 4 Axes>"
            ]
          },
          "metadata": {},
          "execution_count": 36
        },
        {
          "output_type": "display_data",
          "data": {
            "text/plain": [
              "<Figure size 1080x864 with 0 Axes>"
            ]
          },
          "metadata": {}
        },
        {
          "output_type": "display_data",
          "data": {
            "image/png": "[encoded data removed]",
            "text/plain": [
              "<Figure size 432x288 with 4 Axes>"
            ]
          },
          "metadata": {}
        }
      ]
    },
    {
      "cell_type": "markdown",
      "metadata": {
        "papermill": {
          "duration": 0.140497,
          "end_time": "2020-10-02T15:41:06.624286",
          "exception": false,
          "start_time": "2020-10-02T15:41:06.483789",
          "status": "completed"
        },
        "tags": [],
        "id": "tosQ_0y_J7ne"
      },
      "source": [
        "Post time series decomposition we don't observe any seasonality. Also, there is no constant mean, variance and covariance, hence the series is **Non Stationary.** \n",
        "We will perform statistical tests like KPSS and ADF to confirm our understanding.\n",
        "\n",
        "But first, let's plot ACF and PACF graphs."
      ]
    },
    {
      "cell_type": "code",
      "metadata": {
        "execution": {
          "iopub.execute_input": "2020-10-02T15:41:06.920087Z",
          "iopub.status.busy": "2020-10-02T15:41:06.917417Z",
          "iopub.status.idle": "2020-10-02T15:41:07.100659Z",
          "shell.execute_reply": "2020-10-02T15:41:07.101225Z"
        },
        "papermill": {
          "duration": 0.336472,
          "end_time": "2020-10-02T15:41:07.101391",
          "exception": false,
          "start_time": "2020-10-02T15:41:06.764919",
          "status": "completed"
        },
        "tags": [],
        "id": "LmXr5PAYJ7ne",
        "colab": {
          "base_uri": "https://localhost:8080/",
          "height": 283
        },
        "outputId": "28605776-95b8-4bb8-f5ac-88d7fc25772c"
      },
      "source": [
        "# plt.figure(figsize=(40,20))\n",
        "acf = plot_acf(series, lags=200, alpha=0.05)\n",
        "plt.title(\"ACF for Adj Price\", fontsize=20)\n",
        "plt.show();"
      ],
      "execution_count": null,
      "outputs": [
        {
          "output_type": "display_data",
          "data": {
            "image/png": "[encoded data removed]",
            "text/plain": [
              "<Figure size 432x288 with 1 Axes>"
            ]
          },
          "metadata": {}
        }
      ]
    },
    {
      "cell_type": "markdown",
      "metadata": {
        "papermill": {
          "duration": 0.141792,
          "end_time": "2020-10-02T15:41:07.387371",
          "exception": false,
          "start_time": "2020-10-02T15:41:07.245579",
          "status": "completed"
        },
        "tags": [],
        "id": "8OtV9JF0J7ne"
      },
      "source": [
        "The above graph shows that effect barely detoriate over time, so past values affect the present ones. The more lags we include, the better our model will fit the dataset, now the risk is coefficients might predict the dataset too well, cause an overfitting.\n",
        "In our model, we always try to include only those lags which have a direct effect on our present value. Hence, let's try PACF."
      ]
    },
    {
      "cell_type": "code",
      "metadata": {
        "execution": {
          "iopub.execute_input": "2020-10-02T15:41:07.686560Z",
          "iopub.status.busy": "2020-10-02T15:41:07.684011Z",
          "iopub.status.idle": "2020-10-02T15:41:08.032585Z",
          "shell.execute_reply": "2020-10-02T15:41:08.031885Z"
        },
        "papermill": {
          "duration": 0.502668,
          "end_time": "2020-10-02T15:41:08.032716",
          "exception": false,
          "start_time": "2020-10-02T15:41:07.530048",
          "status": "completed"
        },
        "tags": [],
        "id": "s4PNlKAGJ7nf",
        "colab": {
          "base_uri": "https://localhost:8080/",
          "height": 283
        },
        "outputId": "21ce9322-f323-4e2a-eaa0-c42a64fcfbf2"
      },
      "source": [
        "plot_pacf(series, lags=100, alpha=0.05, method='ols')\n",
        "plt.title(\"PACF for Adj Price\", size=20)\n",
        "plt.show()"
      ],
      "execution_count": null,
      "outputs": [
        {
          "output_type": "display_data",
          "data": {
            "image/png": "[encoded data removed]",
            "text/plain": [
              "<Figure size 432x288 with 1 Axes>"
            ]
          },
          "metadata": {}
        }
      ]
    },
    {
      "cell_type": "markdown",
      "metadata": {
        "papermill": {
          "duration": 0.14436,
          "end_time": "2020-10-02T15:41:08.335641",
          "exception": false,
          "start_time": "2020-10-02T15:41:08.191281",
          "status": "completed"
        },
        "tags": [],
        "id": "tXr5LD7UJ7nf"
      },
      "source": [
        "Coefficients values for lag>5 are statistically not significant and their impact on the model is minimal, except a few spikes at 8,11,22 and beyond."
      ]
    },
    {
      "cell_type": "markdown",
      "metadata": {
        "papermill": {
          "duration": 0.142931,
          "end_time": "2020-10-02T15:41:08.623025",
          "exception": false,
          "start_time": "2020-10-02T15:41:08.480094",
          "status": "completed"
        },
        "tags": [],
        "id": "KIYZfI_xJ7nf"
      },
      "source": [
        "<a id=\"subsection-four\"></a>\n",
        "# KPSS Test\n",
        "\n",
        "The KPSS test, short for, Kwiatkowski-Phillips-Schmidt-Shin (KPSS), is a type of Unit root test that tests for the stationarity of a given series around a deterministic trend.\n",
        "\n",
        "Here, the null hypothesis is that the series is **stationary**.\n",
        "\n",
        "That is, if p-value is < signif level (say 0.05), then the series is non-stationary and vice versa."
      ]
    },
    {
      "cell_type": "code",
      "metadata": {
        "execution": {
          "iopub.execute_input": "2020-10-02T15:41:08.915333Z",
          "iopub.status.busy": "2020-10-02T15:41:08.914341Z",
          "iopub.status.idle": "2020-10-02T15:41:08.924151Z",
          "shell.execute_reply": "2020-10-02T15:41:08.923339Z"
        },
        "papermill": {
          "duration": 0.15814,
          "end_time": "2020-10-02T15:41:08.924301",
          "exception": false,
          "start_time": "2020-10-02T15:41:08.766161",
          "status": "completed"
        },
        "tags": [],
        "id": "RC20oIPlJ7nf",
        "colab": {
          "base_uri": "https://localhost:8080/"
        },
        "outputId": "d5e594b1-18f5-4830-e4df-0cac7efc048b"
      },
      "source": [
        "stats, p, lags, critical_values = kpss(series, 'ct')"
      ],
      "execution_count": null,
      "outputs": [
        {
          "output_type": "stream",
          "name": "stderr",
          "text": [
            "/usr/local/lib/python3.7/dist-packages/statsmodels/tsa/stattools.py:2012: InterpolationWarning:\n",
            "\n",
            "The test statistic is outside of the range of p-values available in the\n",
            "look-up table. The actual p-value is smaller than the p-value returned.\n",
            "\n",
            "\n"
          ]
        }
      ]
    },
    {
      "cell_type": "code",
      "metadata": {
        "execution": {
          "iopub.execute_input": "2020-10-02T15:41:09.254795Z",
          "iopub.status.busy": "2020-10-02T15:41:09.254002Z",
          "iopub.status.idle": "2020-10-02T15:41:09.258539Z",
          "shell.execute_reply": "2020-10-02T15:41:09.259248Z"
        },
        "papermill": {
          "duration": 0.168755,
          "end_time": "2020-10-02T15:41:09.259398",
          "exception": false,
          "start_time": "2020-10-02T15:41:09.090643",
          "status": "completed"
        },
        "tags": [],
        "id": "Bo69-ZBeJ7ng",
        "colab": {
          "base_uri": "https://localhost:8080/"
        },
        "outputId": "72e7fcb5-d5ba-4c2d-c0fa-98a37fe816cd"
      },
      "source": [
        "print(f'Test Statistics : {stats}')\n",
        "print(f'p-value : {p}')\n",
        "print(f'Critical Values : {critical_values}')\n",
        "\n",
        "if p < 0.05:\n",
        "    print('Series is not Stationary')\n",
        "else:\n",
        "    print('Series is Stationary')"
      ],
      "execution_count": null,
      "outputs": [
        {
          "output_type": "stream",
          "name": "stdout",
          "text": [
            "Test Statistics : 1.4960386140365924\n",
            "p-value : 0.01\n",
            "Critical Values : {'10%': 0.119, '5%': 0.146, '2.5%': 0.176, '1%': 0.216}\n",
            "Series is not Stationary\n"
          ]
        }
      ]
    },
    {
      "cell_type": "markdown",
      "metadata": {
        "papermill": {
          "duration": 0.144171,
          "end_time": "2020-10-02T15:41:09.548177",
          "exception": false,
          "start_time": "2020-10-02T15:41:09.404006",
          "status": "completed"
        },
        "tags": [],
        "id": "PV7LAC1aJ7ng"
      },
      "source": [
        "# Interpreting KPSS test results\n",
        "\n",
        "The output of the KPSS test contains 4 things:\n",
        "\n",
        "* The KPSS statistic\n",
        "* p-value\n",
        "* Number of lags used by the test\n",
        "* Critical values\n",
        "\n",
        "The **p-value** reported by the test is the probability score based on which you can decide whether to reject the null hypothesis or not. If the p-value is less than a predefined alpha level (typically 0.05), we reject the null hypothesis.\n",
        "\n",
        "The **KPSS statistic** is the actual test statistic that is computed while performing the test.\n",
        "\n",
        "The number of **lags** reported is the number of lags of the series that was actually used by the model equation of the kpss test.\n",
        "\n",
        "In order to reject the null hypothesis, the test statistic should be greater than the provided critical values. If it is in fact higher than the target critical value, then that should automatically reflect in a low p-value.\n",
        "That is, if the p-value is less than 0.05, the kpss statistic will be greater than the 5% critical value."
      ]
    },
    {
      "cell_type": "markdown",
      "metadata": {
        "papermill": {
          "duration": 0.143683,
          "end_time": "2020-10-02T15:41:09.838619",
          "exception": false,
          "start_time": "2020-10-02T15:41:09.694936",
          "status": "completed"
        },
        "tags": [],
        "id": "2Ss_QtEHJ7ng"
      },
      "source": [
        "<a id=\"subsection-five\"></a>\n",
        "# ADF Test\n",
        "\n",
        "The only difference here is the Null hypothesis which is just opposite of KPSS.\n",
        "\n",
        "The null hypothesis of the test is the presence of **unit root**, that is, the series is **non-stationary**."
      ]
    },
    {
      "cell_type": "code",
      "metadata": {
        "execution": {
          "iopub.execute_input": "2020-10-02T15:41:10.137711Z",
          "iopub.status.busy": "2020-10-02T15:41:10.136640Z",
          "iopub.status.idle": "2020-10-02T15:41:10.140014Z",
          "shell.execute_reply": "2020-10-02T15:41:10.139278Z"
        },
        "papermill": {
          "duration": 0.157482,
          "end_time": "2020-10-02T15:41:10.140142",
          "exception": false,
          "start_time": "2020-10-02T15:41:09.982660",
          "status": "completed"
        },
        "tags": [],
        "id": "QiHqSa3RJ7ng"
      },
      "source": [
        "def adf_test(timeseries):\n",
        "    print ('Results of Dickey-Fuller Test:')\n",
        "    dftest = adfuller(timeseries, autolag='AIC')\n",
        "    dfoutput = pd.Series(dftest[0:4], index=['Test Statistic','p-value','#Lags Used','Number of Observations Used'])\n",
        "    for key,value in dftest[4].items():\n",
        "       dfoutput['Critical Value (%s)'%key] = value\n",
        "    \n",
        "    print (dfoutput)\n",
        "    \n",
        "    if p > 0.05:\n",
        "        print('Series is not Stationary')\n",
        "    else:\n",
        "        print('Series is Stationary')"
      ],
      "execution_count": null,
      "outputs": []
    },
    {
      "cell_type": "code",
      "metadata": {
        "execution": {
          "iopub.execute_input": "2020-10-02T15:41:10.436805Z",
          "iopub.status.busy": "2020-10-02T15:41:10.436023Z",
          "iopub.status.idle": "2020-10-02T15:41:10.534668Z",
          "shell.execute_reply": "2020-10-02T15:41:10.533966Z"
        },
        "papermill": {
          "duration": 0.247995,
          "end_time": "2020-10-02T15:41:10.534814",
          "exception": false,
          "start_time": "2020-10-02T15:41:10.286819",
          "status": "completed"
        },
        "tags": [],
        "id": "ffz9z_epJ7ng",
        "colab": {
          "base_uri": "https://localhost:8080/"
        },
        "outputId": "b16da464-bab7-49db-925d-bcaf5e6e2258"
      },
      "source": [
        "adf_test(series)"
      ],
      "execution_count": null,
      "outputs": [
        {
          "output_type": "stream",
          "name": "stdout",
          "text": [
            "Results of Dickey-Fuller Test:\n",
            "Test Statistic                    0.983613\n",
            "p-value                           0.994090\n",
            "#Lags Used                       20.000000\n",
            "Number of Observations Used    2679.000000\n",
            "Critical Value (1%)              -3.432793\n",
            "Critical Value (5%)              -2.862619\n",
            "Critical Value (10%)             -2.567345\n",
            "dtype: float64\n",
            "Series is Stationary\n"
          ]
        }
      ]
    },
    {
      "cell_type": "markdown",
      "metadata": {
        "papermill": {
          "duration": 0.146381,
          "end_time": "2020-10-02T15:41:10.831427",
          "exception": false,
          "start_time": "2020-10-02T15:41:10.685046",
          "status": "completed"
        },
        "tags": [],
        "id": "5wHzHl9lJ7nh"
      },
      "source": [
        "# Conclusion\n",
        "\n",
        "\n",
        "KPSS says series is not stationary and ADF says series is stationary. It means series is **difference stationary**, we will use **differencing** to make series stationary."
      ]
    },
    {
      "cell_type": "markdown",
      "metadata": {
        "papermill": {
          "duration": 0.146377,
          "end_time": "2020-10-02T15:41:11.125787",
          "exception": false,
          "start_time": "2020-10-02T15:41:10.979410",
          "status": "completed"
        },
        "tags": [],
        "id": "ssAcIQX3J7nh"
      },
      "source": [
        "<a id=\"section-five\"></a>\n",
        "# Feature Extraction"
      ]
    },
    {
      "cell_type": "markdown",
      "metadata": {
        "papermill": {
          "duration": 0.145109,
          "end_time": "2020-10-02T15:41:11.416807",
          "exception": false,
          "start_time": "2020-10-02T15:41:11.271698",
          "status": "completed"
        },
        "tags": [],
        "id": "i2UYnT5HJ7nh"
      },
      "source": [
        "# Rolling windows\n",
        "\n",
        "Time series data can be noisy due to high fluctuations in the market. As a result, it becomes difficult to gauge a trend or pattern in the data. \n",
        "\n",
        "As we’re looking at daily data, there’s quite a bit of noise present. It would be nice if we could average this out by a week, which is where a rolling mean comes in. \n",
        "\n",
        "A rolling mean, or moving average, is a transformation method which helps average out noise from data. It works by simply splitting and aggregating the data into windows according to function, such as mean(), median(), count(), etc. For this example, we’ll use a rolling mean for 3, 7 and 30 days."
      ]
    },
    {
      "cell_type": "code",
      "metadata": {
        "execution": {
          "iopub.execute_input": "2020-10-02T15:41:11.730108Z",
          "iopub.status.busy": "2020-10-02T15:41:11.728875Z",
          "iopub.status.idle": "2020-10-02T15:41:11.731325Z",
          "shell.execute_reply": "2020-10-02T15:41:11.732302Z"
        },
        "papermill": {
          "duration": 0.171548,
          "end_time": "2020-10-02T15:41:11.732576",
          "exception": false,
          "start_time": "2020-10-02T15:41:11.561028",
          "status": "completed"
        },
        "tags": [],
        "id": "PhUZmoFSJ7ni"
      },
      "source": [
        "df = bitstamp_daily.set_index(\"date\")"
      ],
      "execution_count": null,
      "outputs": []
    },
    {
      "cell_type": "code",
      "metadata": {
        "execution": {
          "iopub.execute_input": "2020-10-02T15:41:12.054211Z",
          "iopub.status.busy": "2020-10-02T15:41:12.053376Z",
          "iopub.status.idle": "2020-10-02T15:41:12.138036Z",
          "shell.execute_reply": "2020-10-02T15:41:12.137327Z"
        },
        "papermill": {
          "duration": 0.251438,
          "end_time": "2020-10-02T15:41:12.138189",
          "exception": false,
          "start_time": "2020-10-02T15:41:11.886751",
          "status": "completed"
        },
        "tags": [],
        "id": "8oEjrmjkJ7ni",
        "colab": {
          "base_uri": "https://localhost:8080/",
          "height": 414
        },
        "outputId": "da3bbaa3-43f5-431a-82d8-b3209f8754b3"
      },
      "source": [
        "df.reset_index(drop=False, inplace=True)\n",
        "\n",
        "lag_features = [\"open\", \"high\", \"low\", \"close\",\"volume\"]\n",
        "window1 = 30\n",
        "window2 = 50\n",
        "window3 = 100\n",
        "\n",
        "df_rolled_30d = df[lag_features].rolling(window=window1, min_periods=0)\n",
        "df_rolled_50d = df[lag_features].rolling(window=window2, min_periods=0)\n",
        "df_rolled_100d = df[lag_features].rolling(window=window3, min_periods=0)\n",
        "\n",
        "df_mean_30d = df_rolled_30d.mean().shift(1).reset_index()\n",
        "df_mean_50d = df_rolled_50d.mean().shift(1).reset_index()\n",
        "df_mean_100d = df_rolled_100d.mean().shift(1).reset_index()\n",
        "\n",
        "df_std_30d = df_rolled_30d.std().shift(1).reset_index()\n",
        "df_std_50d = df_rolled_50d.std().shift(1).reset_index()\n",
        "df_std_100d = df_rolled_100d.std().shift(1).reset_index()\n",
        "\n",
        "for feature in lag_features:\n",
        "    df[f\"{feature}_mean_lag{window1}\"] = df_mean_30d[feature]\n",
        "    df[f\"{feature}_mean_lag{window2}\"] = df_mean_50d[feature]\n",
        "    df[f\"{feature}_mean_lag{window3}\"] = df_mean_100d[feature]\n",
        "    \n",
        "    df[f\"{feature}_std_lag{window1}\"] = df_std_30d[feature]\n",
        "    df[f\"{feature}_std_lag{window2}\"] = df_std_50d[feature]\n",
        "    df[f\"{feature}_std_lag{window3}\"] = df_std_100d[feature]\n",
        "\n",
        "df.fillna(df.mean(), inplace=True)\n",
        "\n",
        "df.set_index(\"date\", drop=False, inplace=True)\n",
        "df.head()"
      ],
      "execution_count": null,
      "outputs": [
        {
          "output_type": "stream",
          "name": "stderr",
          "text": [
            "/usr/local/lib/python3.7/dist-packages/ipykernel_launcher.py:29: FutureWarning:\n",
            "\n",
            "DataFrame.mean and DataFrame.median with numeric_only=None will include datetime64 and datetime64tz columns in a future version.\n",
            "\n"
          ]
        },
        {
          "output_type": "execute_result",
          "data": {
            "text/html": [
              "<div>\n",
              "<style scoped>\n",
              "    .dataframe tbody tr th:only-of-type {\n",
              "        vertical-align: middle;\n",
              "    }\n",
              "\n",
              "    .dataframe tbody tr th {\n",
              "        vertical-align: top;\n",
              "    }\n",
              "\n",
              "    .dataframe thead th {\n",
              "        text-align: right;\n",
              "    }\n",
              "</style>\n",
              "<table border=\"1\" class=\"dataframe\">\n",
              "  <thead>\n",
              "    <tr style=\"text-align: right;\">\n",
              "      <th></th>\n",
              "      <th>date</th>\n",
              "      <th>open</th>\n",
              "      <th>high</th>\n",
              "      <th>low</th>\n",
              "      <th>close</th>\n",
              "      <th>adj_close</th>\n",
              "      <th>volume</th>\n",
              "      <th>open_mean_lag30</th>\n",
              "      <th>open_mean_lag50</th>\n",
              "      <th>open_mean_lag100</th>\n",
              "      <th>open_std_lag30</th>\n",
              "      <th>open_std_lag50</th>\n",
              "      <th>open_std_lag100</th>\n",
              "      <th>high_mean_lag30</th>\n",
              "      <th>high_mean_lag50</th>\n",
              "      <th>high_mean_lag100</th>\n",
              "      <th>high_std_lag30</th>\n",
              "      <th>high_std_lag50</th>\n",
              "      <th>high_std_lag100</th>\n",
              "      <th>low_mean_lag30</th>\n",
              "      <th>low_mean_lag50</th>\n",
              "      <th>low_mean_lag100</th>\n",
              "      <th>low_std_lag30</th>\n",
              "      <th>low_std_lag50</th>\n",
              "      <th>low_std_lag100</th>\n",
              "      <th>close_mean_lag30</th>\n",
              "      <th>close_mean_lag50</th>\n",
              "      <th>close_mean_lag100</th>\n",
              "      <th>close_std_lag30</th>\n",
              "      <th>close_std_lag50</th>\n",
              "      <th>close_std_lag100</th>\n",
              "      <th>volume_mean_lag30</th>\n",
              "      <th>volume_mean_lag50</th>\n",
              "      <th>volume_mean_lag100</th>\n",
              "      <th>volume_std_lag30</th>\n",
              "      <th>volume_std_lag50</th>\n",
              "      <th>volume_std_lag100</th>\n",
              "    </tr>\n",
              "    <tr>\n",
              "      <th>date</th>\n",
              "      <th></th>\n",
              "      <th></th>\n",
              "      <th></th>\n",
              "      <th></th>\n",
              "      <th></th>\n",
              "      <th></th>\n",
              "      <th></th>\n",
              "      <th></th>\n",
              "      <th></th>\n",
              "      <th></th>\n",
              "      <th></th>\n",
              "      <th></th>\n",
              "      <th></th>\n",
              "      <th></th>\n",
              "      <th></th>\n",
              "      <th></th>\n",
              "      <th></th>\n",
              "      <th></th>\n",
              "      <th></th>\n",
              "      <th></th>\n",
              "      <th></th>\n",
              "      <th></th>\n",
              "      <th></th>\n",
              "      <th></th>\n",
              "      <th></th>\n",
              "      <th></th>\n",
              "      <th></th>\n",
              "      <th></th>\n",
              "      <th></th>\n",
              "      <th></th>\n",
              "      <th></th>\n",
              "      <th></th>\n",
              "      <th></th>\n",
              "      <th></th>\n",
              "      <th></th>\n",
              "      <th></th>\n",
              "      <th></th>\n",
              "    </tr>\n",
              "  </thead>\n",
              "  <tbody>\n",
              "    <tr>\n",
              "      <th>2014-07-14</th>\n",
              "      <td>2014-07-14</td>\n",
              "      <td>4441.390137</td>\n",
              "      <td>4451.600098</td>\n",
              "      <td>4432.950195</td>\n",
              "      <td>4440.419922</td>\n",
              "      <td>4440.419922</td>\n",
              "      <td>1.579660e+09</td>\n",
              "      <td>7649.150888</td>\n",
              "      <td>7607.506304</td>\n",
              "      <td>7508.870513</td>\n",
              "      <td>143.578381</td>\n",
              "      <td>186.111774</td>\n",
              "      <td>258.929101</td>\n",
              "      <td>7693.708392</td>\n",
              "      <td>7651.813444</td>\n",
              "      <td>7552.604427</td>\n",
              "      <td>133.404244</td>\n",
              "      <td>175.960990</td>\n",
              "      <td>249.102651</td>\n",
              "      <td>7598.877837</td>\n",
              "      <td>7557.445507</td>\n",
              "      <td>7459.442226</td>\n",
              "      <td>150.437262</td>\n",
              "      <td>193.898077</td>\n",
              "      <td>267.537260</td>\n",
              "      <td>7650.984225</td>\n",
              "      <td>7609.280040</td>\n",
              "      <td>7510.642930</td>\n",
              "      <td>144.370713</td>\n",
              "      <td>187.104617</td>\n",
              "      <td>260.146120</td>\n",
              "      <td>2.638300e+09</td>\n",
              "      <td>2.625938e+09</td>\n",
              "      <td>2.597831e+09</td>\n",
              "      <td>3.885500e+08</td>\n",
              "      <td>4.221601e+08</td>\n",
              "      <td>4.696005e+08</td>\n",
              "    </tr>\n",
              "    <tr>\n",
              "      <th>2014-07-15</th>\n",
              "      <td>2014-07-15</td>\n",
              "      <td>4444.910156</td>\n",
              "      <td>4451.930176</td>\n",
              "      <td>4389.700195</td>\n",
              "      <td>4416.390137</td>\n",
              "      <td>4416.390137</td>\n",
              "      <td>1.772030e+09</td>\n",
              "      <td>4441.390137</td>\n",
              "      <td>4441.390137</td>\n",
              "      <td>4441.390137</td>\n",
              "      <td>143.578381</td>\n",
              "      <td>186.111774</td>\n",
              "      <td>258.929101</td>\n",
              "      <td>4451.600098</td>\n",
              "      <td>4451.600098</td>\n",
              "      <td>4451.600098</td>\n",
              "      <td>133.404244</td>\n",
              "      <td>175.960990</td>\n",
              "      <td>249.102651</td>\n",
              "      <td>4432.950195</td>\n",
              "      <td>4432.950195</td>\n",
              "      <td>4432.950195</td>\n",
              "      <td>150.437262</td>\n",
              "      <td>193.898077</td>\n",
              "      <td>267.537260</td>\n",
              "      <td>4440.419922</td>\n",
              "      <td>4440.419922</td>\n",
              "      <td>4440.419922</td>\n",
              "      <td>144.370713</td>\n",
              "      <td>187.104617</td>\n",
              "      <td>260.146120</td>\n",
              "      <td>1.579660e+09</td>\n",
              "      <td>1.579660e+09</td>\n",
              "      <td>1.579660e+09</td>\n",
              "      <td>3.885500e+08</td>\n",
              "      <td>4.221601e+08</td>\n",
              "      <td>4.696005e+08</td>\n",
              "    </tr>\n",
              "    <tr>\n",
              "      <th>2014-07-16</th>\n",
              "      <td>2014-07-16</td>\n",
              "      <td>4446.169922</td>\n",
              "      <td>4448.870117</td>\n",
              "      <td>4419.709961</td>\n",
              "      <td>4425.970215</td>\n",
              "      <td>4425.970215</td>\n",
              "      <td>2.059340e+09</td>\n",
              "      <td>4443.150147</td>\n",
              "      <td>4443.150147</td>\n",
              "      <td>4443.150147</td>\n",
              "      <td>2.489029</td>\n",
              "      <td>2.489029</td>\n",
              "      <td>2.489029</td>\n",
              "      <td>4451.765137</td>\n",
              "      <td>4451.765137</td>\n",
              "      <td>4451.765137</td>\n",
              "      <td>0.233400</td>\n",
              "      <td>0.233400</td>\n",
              "      <td>0.233400</td>\n",
              "      <td>4411.325195</td>\n",
              "      <td>4411.325195</td>\n",
              "      <td>4411.325195</td>\n",
              "      <td>30.582368</td>\n",
              "      <td>30.582368</td>\n",
              "      <td>30.582368</td>\n",
              "      <td>4428.405029</td>\n",
              "      <td>4428.405029</td>\n",
              "      <td>4428.405029</td>\n",
              "      <td>16.991624</td>\n",
              "      <td>16.991624</td>\n",
              "      <td>16.991624</td>\n",
              "      <td>1.675845e+09</td>\n",
              "      <td>1.675845e+09</td>\n",
              "      <td>1.675845e+09</td>\n",
              "      <td>1.360261e+08</td>\n",
              "      <td>1.360261e+08</td>\n",
              "      <td>1.360261e+08</td>\n",
              "    </tr>\n",
              "    <tr>\n",
              "      <th>2014-07-17</th>\n",
              "      <td>2014-07-17</td>\n",
              "      <td>4411.520020</td>\n",
              "      <td>4425.379883</td>\n",
              "      <td>4352.229980</td>\n",
              "      <td>4363.450195</td>\n",
              "      <td>4363.450195</td>\n",
              "      <td>2.055240e+09</td>\n",
              "      <td>4444.156738</td>\n",
              "      <td>4444.156738</td>\n",
              "      <td>4444.156738</td>\n",
              "      <td>2.477360</td>\n",
              "      <td>2.477360</td>\n",
              "      <td>2.477360</td>\n",
              "      <td>4450.800130</td>\n",
              "      <td>4450.800130</td>\n",
              "      <td>4450.800130</td>\n",
              "      <td>1.679569</td>\n",
              "      <td>1.679569</td>\n",
              "      <td>1.679569</td>\n",
              "      <td>4414.120117</td>\n",
              "      <td>4414.120117</td>\n",
              "      <td>4414.120117</td>\n",
              "      <td>22.160221</td>\n",
              "      <td>22.160221</td>\n",
              "      <td>22.160221</td>\n",
              "      <td>4427.593425</td>\n",
              "      <td>4427.593425</td>\n",
              "      <td>4427.593425</td>\n",
              "      <td>12.096849</td>\n",
              "      <td>12.096849</td>\n",
              "      <td>12.096849</td>\n",
              "      <td>1.803677e+09</td>\n",
              "      <td>1.803677e+09</td>\n",
              "      <td>1.803677e+09</td>\n",
              "      <td>2.414008e+08</td>\n",
              "      <td>2.414008e+08</td>\n",
              "      <td>2.414008e+08</td>\n",
              "    </tr>\n",
              "    <tr>\n",
              "      <th>2014-07-18</th>\n",
              "      <td>2014-07-18</td>\n",
              "      <td>4379.939941</td>\n",
              "      <td>4434.439941</td>\n",
              "      <td>4378.220215</td>\n",
              "      <td>4432.149902</td>\n",
              "      <td>4432.149902</td>\n",
              "      <td>1.823580e+09</td>\n",
              "      <td>4435.997559</td>\n",
              "      <td>4435.997559</td>\n",
              "      <td>4435.997559</td>\n",
              "      <td>16.443248</td>\n",
              "      <td>16.443248</td>\n",
              "      <td>16.443248</td>\n",
              "      <td>4444.445069</td>\n",
              "      <td>4444.445069</td>\n",
              "      <td>4444.445069</td>\n",
              "      <td>12.783891</td>\n",
              "      <td>12.783891</td>\n",
              "      <td>12.783891</td>\n",
              "      <td>4398.647583</td>\n",
              "      <td>4398.647583</td>\n",
              "      <td>4398.647583</td>\n",
              "      <td>35.846630</td>\n",
              "      <td>35.846630</td>\n",
              "      <td>35.846630</td>\n",
              "      <td>4411.557617</td>\n",
              "      <td>4411.557617</td>\n",
              "      <td>4411.557617</td>\n",
              "      <td>33.558074</td>\n",
              "      <td>33.558074</td>\n",
              "      <td>33.558074</td>\n",
              "      <td>1.866568e+09</td>\n",
              "      <td>1.866568e+09</td>\n",
              "      <td>1.866568e+09</td>\n",
              "      <td>2.338175e+08</td>\n",
              "      <td>2.338175e+08</td>\n",
              "      <td>2.338175e+08</td>\n",
              "    </tr>\n",
              "  </tbody>\n",
              "</table>\n",
              "</div>"
            ],
            "text/plain": [
              "                 date         open  ...  volume_std_lag50  volume_std_lag100\n",
              "date                                ...                                     \n",
              "2014-07-14 2014-07-14  4441.390137  ...      4.221601e+08       4.696005e+08\n",
              "2014-07-15 2014-07-15  4444.910156  ...      4.221601e+08       4.696005e+08\n",
              "2014-07-16 2014-07-16  4446.169922  ...      1.360261e+08       1.360261e+08\n",
              "2014-07-17 2014-07-17  4411.520020  ...      2.414008e+08       2.414008e+08\n",
              "2014-07-18 2014-07-18  4379.939941  ...      2.338175e+08       2.338175e+08\n",
              "\n",
              "[5 rows x 37 columns]"
            ]
          },
          "metadata": {},
          "execution_count": 70
        }
      ]
    },
    {
      "cell_type": "markdown",
      "metadata": {
        "papermill": {
          "duration": 0.147162,
          "end_time": "2020-10-02T15:41:12.439555",
          "exception": false,
          "start_time": "2020-10-02T15:41:12.292393",
          "status": "completed"
        },
        "tags": [],
        "id": "eQ0PRFY0J7nj"
      },
      "source": [
        "**Benefits :**\n",
        "\n",
        "So, what are the key benefits of calculating a moving average or using this rolling mean method? Our data becomes a lot less noisy and more reflective of the trend than the data itself."
      ]
    },
    {
      "cell_type": "markdown",
      "metadata": {
        "papermill": {
          "duration": 0.146703,
          "end_time": "2020-10-02T15:41:12.732666",
          "exception": false,
          "start_time": "2020-10-02T15:41:12.585963",
          "status": "completed"
        },
        "tags": [],
        "id": "zQU73DCzJ7nj"
      },
      "source": [
        "Let's extract time and date features from the Date column."
      ]
    },
    {
      "cell_type": "code",
      "metadata": {
        "execution": {
          "iopub.execute_input": "2020-10-02T15:41:13.032172Z",
          "iopub.status.busy": "2020-10-02T15:41:13.031357Z",
          "iopub.status.idle": "2020-10-02T15:41:13.075675Z",
          "shell.execute_reply": "2020-10-02T15:41:13.074956Z"
        },
        "papermill": {
          "duration": 0.197205,
          "end_time": "2020-10-02T15:41:13.075793",
          "exception": false,
          "start_time": "2020-10-02T15:41:12.878588",
          "status": "completed"
        },
        "tags": [],
        "id": "PaE56FzMJ7nj",
        "colab": {
          "base_uri": "https://localhost:8080/",
          "height": 414
        },
        "outputId": "1c891870-f07f-4b30-dc7d-f43f0da13677"
      },
      "source": [
        "df[\"month\"] = df.date.dt.month\n",
        "df[\"week\"] = df.date.dt.week\n",
        "df[\"day\"] = df.date.dt.day\n",
        "df[\"day_of_week\"] = df.date.dt.dayofweek\n",
        "df.head()"
      ],
      "execution_count": null,
      "outputs": [
        {
          "output_type": "stream",
          "name": "stderr",
          "text": [
            "/usr/local/lib/python3.7/dist-packages/ipykernel_launcher.py:2: FutureWarning:\n",
            "\n",
            "Series.dt.weekofyear and Series.dt.week have been deprecated.  Please use Series.dt.isocalendar().week instead.\n",
            "\n"
          ]
        },
        {
          "output_type": "execute_result",
          "data": {
            "text/html": [
              "<div>\n",
              "<style scoped>\n",
              "    .dataframe tbody tr th:only-of-type {\n",
              "        vertical-align: middle;\n",
              "    }\n",
              "\n",
              "    .dataframe tbody tr th {\n",
              "        vertical-align: top;\n",
              "    }\n",
              "\n",
              "    .dataframe thead th {\n",
              "        text-align: right;\n",
              "    }\n",
              "</style>\n",
              "<table border=\"1\" class=\"dataframe\">\n",
              "  <thead>\n",
              "    <tr style=\"text-align: right;\">\n",
              "      <th></th>\n",
              "      <th>date</th>\n",
              "      <th>open</th>\n",
              "      <th>high</th>\n",
              "      <th>low</th>\n",
              "      <th>close</th>\n",
              "      <th>adj_close</th>\n",
              "      <th>volume</th>\n",
              "      <th>open_mean_lag30</th>\n",
              "      <th>open_mean_lag50</th>\n",
              "      <th>open_mean_lag100</th>\n",
              "      <th>open_std_lag30</th>\n",
              "      <th>open_std_lag50</th>\n",
              "      <th>open_std_lag100</th>\n",
              "      <th>high_mean_lag30</th>\n",
              "      <th>high_mean_lag50</th>\n",
              "      <th>high_mean_lag100</th>\n",
              "      <th>high_std_lag30</th>\n",
              "      <th>high_std_lag50</th>\n",
              "      <th>high_std_lag100</th>\n",
              "      <th>low_mean_lag30</th>\n",
              "      <th>low_mean_lag50</th>\n",
              "      <th>low_mean_lag100</th>\n",
              "      <th>low_std_lag30</th>\n",
              "      <th>low_std_lag50</th>\n",
              "      <th>low_std_lag100</th>\n",
              "      <th>close_mean_lag30</th>\n",
              "      <th>close_mean_lag50</th>\n",
              "      <th>close_mean_lag100</th>\n",
              "      <th>close_std_lag30</th>\n",
              "      <th>close_std_lag50</th>\n",
              "      <th>close_std_lag100</th>\n",
              "      <th>volume_mean_lag30</th>\n",
              "      <th>volume_mean_lag50</th>\n",
              "      <th>volume_mean_lag100</th>\n",
              "      <th>volume_std_lag30</th>\n",
              "      <th>volume_std_lag50</th>\n",
              "      <th>volume_std_lag100</th>\n",
              "      <th>month</th>\n",
              "      <th>week</th>\n",
              "      <th>day</th>\n",
              "      <th>day_of_week</th>\n",
              "    </tr>\n",
              "    <tr>\n",
              "      <th>date</th>\n",
              "      <th></th>\n",
              "      <th></th>\n",
              "      <th></th>\n",
              "      <th></th>\n",
              "      <th></th>\n",
              "      <th></th>\n",
              "      <th></th>\n",
              "      <th></th>\n",
              "      <th></th>\n",
              "      <th></th>\n",
              "      <th></th>\n",
              "      <th></th>\n",
              "      <th></th>\n",
              "      <th></th>\n",
              "      <th></th>\n",
              "      <th></th>\n",
              "      <th></th>\n",
              "      <th></th>\n",
              "      <th></th>\n",
              "      <th></th>\n",
              "      <th></th>\n",
              "      <th></th>\n",
              "      <th></th>\n",
              "      <th></th>\n",
              "      <th></th>\n",
              "      <th></th>\n",
              "      <th></th>\n",
              "      <th></th>\n",
              "      <th></th>\n",
              "      <th></th>\n",
              "      <th></th>\n",
              "      <th></th>\n",
              "      <th></th>\n",
              "      <th></th>\n",
              "      <th></th>\n",
              "      <th></th>\n",
              "      <th></th>\n",
              "      <th></th>\n",
              "      <th></th>\n",
              "      <th></th>\n",
              "      <th></th>\n",
              "    </tr>\n",
              "  </thead>\n",
              "  <tbody>\n",
              "    <tr>\n",
              "      <th>2014-07-14</th>\n",
              "      <td>2014-07-14</td>\n",
              "      <td>4441.390137</td>\n",
              "      <td>4451.600098</td>\n",
              "      <td>4432.950195</td>\n",
              "      <td>4440.419922</td>\n",
              "      <td>4440.419922</td>\n",
              "      <td>1.579660e+09</td>\n",
              "      <td>7649.150888</td>\n",
              "      <td>7607.506304</td>\n",
              "      <td>7508.870513</td>\n",
              "      <td>143.578381</td>\n",
              "      <td>186.111774</td>\n",
              "      <td>258.929101</td>\n",
              "      <td>7693.708392</td>\n",
              "      <td>7651.813444</td>\n",
              "      <td>7552.604427</td>\n",
              "      <td>133.404244</td>\n",
              "      <td>175.960990</td>\n",
              "      <td>249.102651</td>\n",
              "      <td>7598.877837</td>\n",
              "      <td>7557.445507</td>\n",
              "      <td>7459.442226</td>\n",
              "      <td>150.437262</td>\n",
              "      <td>193.898077</td>\n",
              "      <td>267.537260</td>\n",
              "      <td>7650.984225</td>\n",
              "      <td>7609.280040</td>\n",
              "      <td>7510.642930</td>\n",
              "      <td>144.370713</td>\n",
              "      <td>187.104617</td>\n",
              "      <td>260.146120</td>\n",
              "      <td>2.638300e+09</td>\n",
              "      <td>2.625938e+09</td>\n",
              "      <td>2.597831e+09</td>\n",
              "      <td>3.885500e+08</td>\n",
              "      <td>4.221601e+08</td>\n",
              "      <td>4.696005e+08</td>\n",
              "      <td>7</td>\n",
              "      <td>29</td>\n",
              "      <td>14</td>\n",
              "      <td>0</td>\n",
              "    </tr>\n",
              "    <tr>\n",
              "      <th>2014-07-15</th>\n",
              "      <td>2014-07-15</td>\n",
              "      <td>4444.910156</td>\n",
              "      <td>4451.930176</td>\n",
              "      <td>4389.700195</td>\n",
              "      <td>4416.390137</td>\n",
              "      <td>4416.390137</td>\n",
              "      <td>1.772030e+09</td>\n",
              "      <td>4441.390137</td>\n",
              "      <td>4441.390137</td>\n",
              "      <td>4441.390137</td>\n",
              "      <td>143.578381</td>\n",
              "      <td>186.111774</td>\n",
              "      <td>258.929101</td>\n",
              "      <td>4451.600098</td>\n",
              "      <td>4451.600098</td>\n",
              "      <td>4451.600098</td>\n",
              "      <td>133.404244</td>\n",
              "      <td>175.960990</td>\n",
              "      <td>249.102651</td>\n",
              "      <td>4432.950195</td>\n",
              "      <td>4432.950195</td>\n",
              "      <td>4432.950195</td>\n",
              "      <td>150.437262</td>\n",
              "      <td>193.898077</td>\n",
              "      <td>267.537260</td>\n",
              "      <td>4440.419922</td>\n",
              "      <td>4440.419922</td>\n",
              "      <td>4440.419922</td>\n",
              "      <td>144.370713</td>\n",
              "      <td>187.104617</td>\n",
              "      <td>260.146120</td>\n",
              "      <td>1.579660e+09</td>\n",
              "      <td>1.579660e+09</td>\n",
              "      <td>1.579660e+09</td>\n",
              "      <td>3.885500e+08</td>\n",
              "      <td>4.221601e+08</td>\n",
              "      <td>4.696005e+08</td>\n",
              "      <td>7</td>\n",
              "      <td>29</td>\n",
              "      <td>15</td>\n",
              "      <td>1</td>\n",
              "    </tr>\n",
              "    <tr>\n",
              "      <th>2014-07-16</th>\n",
              "      <td>2014-07-16</td>\n",
              "      <td>4446.169922</td>\n",
              "      <td>4448.870117</td>\n",
              "      <td>4419.709961</td>\n",
              "      <td>4425.970215</td>\n",
              "      <td>4425.970215</td>\n",
              "      <td>2.059340e+09</td>\n",
              "      <td>4443.150147</td>\n",
              "      <td>4443.150147</td>\n",
              "      <td>4443.150147</td>\n",
              "      <td>2.489029</td>\n",
              "      <td>2.489029</td>\n",
              "      <td>2.489029</td>\n",
              "      <td>4451.765137</td>\n",
              "      <td>4451.765137</td>\n",
              "      <td>4451.765137</td>\n",
              "      <td>0.233400</td>\n",
              "      <td>0.233400</td>\n",
              "      <td>0.233400</td>\n",
              "      <td>4411.325195</td>\n",
              "      <td>4411.325195</td>\n",
              "      <td>4411.325195</td>\n",
              "      <td>30.582368</td>\n",
              "      <td>30.582368</td>\n",
              "      <td>30.582368</td>\n",
              "      <td>4428.405029</td>\n",
              "      <td>4428.405029</td>\n",
              "      <td>4428.405029</td>\n",
              "      <td>16.991624</td>\n",
              "      <td>16.991624</td>\n",
              "      <td>16.991624</td>\n",
              "      <td>1.675845e+09</td>\n",
              "      <td>1.675845e+09</td>\n",
              "      <td>1.675845e+09</td>\n",
              "      <td>1.360261e+08</td>\n",
              "      <td>1.360261e+08</td>\n",
              "      <td>1.360261e+08</td>\n",
              "      <td>7</td>\n",
              "      <td>29</td>\n",
              "      <td>16</td>\n",
              "      <td>2</td>\n",
              "    </tr>\n",
              "    <tr>\n",
              "      <th>2014-07-17</th>\n",
              "      <td>2014-07-17</td>\n",
              "      <td>4411.520020</td>\n",
              "      <td>4425.379883</td>\n",
              "      <td>4352.229980</td>\n",
              "      <td>4363.450195</td>\n",
              "      <td>4363.450195</td>\n",
              "      <td>2.055240e+09</td>\n",
              "      <td>4444.156738</td>\n",
              "      <td>4444.156738</td>\n",
              "      <td>4444.156738</td>\n",
              "      <td>2.477360</td>\n",
              "      <td>2.477360</td>\n",
              "      <td>2.477360</td>\n",
              "      <td>4450.800130</td>\n",
              "      <td>4450.800130</td>\n",
              "      <td>4450.800130</td>\n",
              "      <td>1.679569</td>\n",
              "      <td>1.679569</td>\n",
              "      <td>1.679569</td>\n",
              "      <td>4414.120117</td>\n",
              "      <td>4414.120117</td>\n",
              "      <td>4414.120117</td>\n",
              "      <td>22.160221</td>\n",
              "      <td>22.160221</td>\n",
              "      <td>22.160221</td>\n",
              "      <td>4427.593425</td>\n",
              "      <td>4427.593425</td>\n",
              "      <td>4427.593425</td>\n",
              "      <td>12.096849</td>\n",
              "      <td>12.096849</td>\n",
              "      <td>12.096849</td>\n",
              "      <td>1.803677e+09</td>\n",
              "      <td>1.803677e+09</td>\n",
              "      <td>1.803677e+09</td>\n",
              "      <td>2.414008e+08</td>\n",
              "      <td>2.414008e+08</td>\n",
              "      <td>2.414008e+08</td>\n",
              "      <td>7</td>\n",
              "      <td>29</td>\n",
              "      <td>17</td>\n",
              "      <td>3</td>\n",
              "    </tr>\n",
              "    <tr>\n",
              "      <th>2014-07-18</th>\n",
              "      <td>2014-07-18</td>\n",
              "      <td>4379.939941</td>\n",
              "      <td>4434.439941</td>\n",
              "      <td>4378.220215</td>\n",
              "      <td>4432.149902</td>\n",
              "      <td>4432.149902</td>\n",
              "      <td>1.823580e+09</td>\n",
              "      <td>4435.997559</td>\n",
              "      <td>4435.997559</td>\n",
              "      <td>4435.997559</td>\n",
              "      <td>16.443248</td>\n",
              "      <td>16.443248</td>\n",
              "      <td>16.443248</td>\n",
              "      <td>4444.445069</td>\n",
              "      <td>4444.445069</td>\n",
              "      <td>4444.445069</td>\n",
              "      <td>12.783891</td>\n",
              "      <td>12.783891</td>\n",
              "      <td>12.783891</td>\n",
              "      <td>4398.647583</td>\n",
              "      <td>4398.647583</td>\n",
              "      <td>4398.647583</td>\n",
              "      <td>35.846630</td>\n",
              "      <td>35.846630</td>\n",
              "      <td>35.846630</td>\n",
              "      <td>4411.557617</td>\n",
              "      <td>4411.557617</td>\n",
              "      <td>4411.557617</td>\n",
              "      <td>33.558074</td>\n",
              "      <td>33.558074</td>\n",
              "      <td>33.558074</td>\n",
              "      <td>1.866568e+09</td>\n",
              "      <td>1.866568e+09</td>\n",
              "      <td>1.866568e+09</td>\n",
              "      <td>2.338175e+08</td>\n",
              "      <td>2.338175e+08</td>\n",
              "      <td>2.338175e+08</td>\n",
              "      <td>7</td>\n",
              "      <td>29</td>\n",
              "      <td>18</td>\n",
              "      <td>4</td>\n",
              "    </tr>\n",
              "  </tbody>\n",
              "</table>\n",
              "</div>"
            ],
            "text/plain": [
              "                 date         open         high  ...  week  day  day_of_week\n",
              "date                                             ...                        \n",
              "2014-07-14 2014-07-14  4441.390137  4451.600098  ...    29   14            0\n",
              "2014-07-15 2014-07-15  4444.910156  4451.930176  ...    29   15            1\n",
              "2014-07-16 2014-07-16  4446.169922  4448.870117  ...    29   16            2\n",
              "2014-07-17 2014-07-17  4411.520020  4425.379883  ...    29   17            3\n",
              "2014-07-18 2014-07-18  4379.939941  4434.439941  ...    29   18            4\n",
              "\n",
              "[5 rows x 41 columns]"
            ]
          },
          "metadata": {},
          "execution_count": 71
        }
      ]
    },
    {
      "cell_type": "markdown",
      "metadata": {
        "papermill": {
          "duration": 0.148839,
          "end_time": "2020-10-02T15:41:13.373225",
          "exception": false,
          "start_time": "2020-10-02T15:41:13.224386",
          "status": "completed"
        },
        "tags": [],
        "id": "56nabGbkJ7nk"
      },
      "source": [
        "<a id=\"section-six\"></a>\n",
        "# Model Building"
      ]
    },
    {
      "cell_type": "markdown",
      "metadata": {
        "papermill": {
          "duration": 0.147694,
          "end_time": "2020-10-02T15:41:13.669726",
          "exception": false,
          "start_time": "2020-10-02T15:41:13.522032",
          "status": "completed"
        },
        "tags": [],
        "id": "3ucSt5zWJ7nk"
      },
      "source": [
        "# Important Note on Cross Validation\n",
        "\n",
        "To measure the performance of our forecasting model, We typically want to split the time series into a training period and a validation period. This is called fixed partitioning. \n",
        "\n",
        "* If the time series has some seasonality, you generally want to ensure that each period contains a whole number of seasons. For example, one year, or two years, or three years, if the time series has a yearly seasonality. \n",
        "You generally don't want one year and a half, or else some months will be represented more than others. \n",
        " \n",
        "* We'll train our model on the training period, we'll evaluate it on the validation period. Here's where you can experiment to find the right architecture for training. And work on it and your hyper parameters, until you get the desired performance, measured using the validation set. Often, once you've done that, you can retrain using both the training and validation data.And then test on the test(or forecast) period to see if your model will perform just as well.\n",
        " \n",
        "* And if it does, then you could take the unusual step of retraining again, using also the test data. But why would you do that? Well, it's because the test data is the closest data you have to the current point in time. And as such it's often the strongest signal in determining future values. If your model is not trained using that data, too, then it may not be optimal.\n",
        "\n",
        "Here, we we will opt for a ***hold-out based validation***. \n",
        "\n",
        "Hold-out is used very frequently with time-series data. In this case, we will select all the data for 2020 as a hold-out and train our model on all the data from 2012 to 2019. \n"
      ]
    },
    {
      "cell_type": "code",
      "metadata": {
        "colab": {
          "base_uri": "https://localhost:8080/"
        },
        "id": "1OT-T3OYEDZc",
        "outputId": "aa3b8ed7-21cb-436c-d4c3-b7d0459e553e"
      },
      "source": [
        "df_train = df[df.date < \"2019\"]\n",
        "df_valid = df[df.date >= \"2019\"]\n",
        "\n",
        "print('train shape :', df_train.shape)\n",
        "print('validation shape :', df_valid.shape)"
      ],
      "execution_count": null,
      "outputs": [
        {
          "output_type": "stream",
          "name": "stdout",
          "text": [
            "train shape : (1632, 41)\n",
            "validation shape : (1068, 41)\n"
          ]
        }
      ]
    },
    {
      "cell_type": "code",
      "metadata": {
        "execution": {
          "iopub.execute_input": "2020-10-02T15:41:13.974071Z",
          "iopub.status.busy": "2020-10-02T15:41:13.973313Z",
          "iopub.status.idle": "2020-10-02T15:41:13.984935Z",
          "shell.execute_reply": "2020-10-02T15:41:13.984164Z"
        },
        "papermill": {
          "duration": 0.166415,
          "end_time": "2020-10-02T15:41:13.985061",
          "exception": false,
          "start_time": "2020-10-02T15:41:13.818646",
          "status": "completed"
        },
        "tags": [],
        "id": "BSbbLaegJ7nk",
        "colab": {
          "base_uri": "https://localhost:8080/"
        },
        "outputId": "fdd17dff-4b35-41e0-f83f-9f4f4998d6dd"
      },
      "source": [
        "df_train = df[df.date < \"2020\"]\n",
        "df_valid = df[df.date >= \"2020\"]\n",
        "\n",
        "print('train shape :', df_train.shape)\n",
        "print('validation shape :', df_valid.shape)"
      ],
      "execution_count": null,
      "outputs": [
        {
          "output_type": "stream",
          "name": "stdout",
          "text": [
            "train shape : (1997, 41)\n",
            "validation shape : (703, 41)\n"
          ]
        }
      ]
    },
    {
      "cell_type": "markdown",
      "metadata": {
        "papermill": {
          "duration": 0.149049,
          "end_time": "2020-10-02T15:41:14.283354",
          "exception": false,
          "start_time": "2020-10-02T15:41:14.134305",
          "status": "completed"
        },
        "tags": [],
        "id": "4QgpOIX2J7nk"
      },
      "source": [
        "<a id=\"subsection-six\"></a>\n",
        "# ARIMA Model\n",
        "\n",
        "ARIMA is an acronym that stands for AutoRegressive Integrated Moving Average. It is a class of model that captures a suite of different standard temporal structures in time series data.This acronym is descriptive, capturing the key aspects of the model itself. Briefly, they are:\n",
        "\n",
        "* **AR: Autoregression** A model that uses the dependent relationship between an observation and some number of lagged observations.\n",
        "* **I: Integrated** The use of differencing of raw observations (e.g. subtracting an observation from an observation at the previous time step) in order to make the time series stationary.\n",
        "* **MA: Moving Average** A model that uses the dependency between an observation and a residual error from a moving average model applied to lagged observations.\n",
        "\n",
        "A standard notation is used of ARIMA(p,d,q) where the parameters are substituted with integer values to quickly indicate the speci\n",
        "c ARIMA model being used.\n",
        "\n",
        "* **p**: The number of lag observations included in the model, also called the lag order.\n",
        "* **d**: The number of times that the raw observations are differenced, also called the degree of dfferencing.\n",
        "* **q**: The size of the moving average window, also called the order of moving average.\n",
        "\n",
        "Happy further reading [here](http://en.wikipedia.org/wiki/Autoregressive_integrated_moving_average)"
      ]
    },
    {
      "cell_type": "code",
      "metadata": {
        "execution": {
          "iopub.execute_input": "2020-10-02T15:41:14.588310Z",
          "iopub.status.busy": "2020-10-02T15:41:14.587405Z",
          "iopub.status.idle": "2020-10-02T15:41:44.789783Z",
          "shell.execute_reply": "2020-10-02T15:41:44.788504Z"
        },
        "papermill": {
          "duration": 30.356588,
          "end_time": "2020-10-02T15:41:44.789931",
          "exception": false,
          "start_time": "2020-10-02T15:41:14.433343",
          "status": "completed"
        },
        "tags": [],
        "id": "V-pOsilhJ7nl",
        "colab": {
          "base_uri": "https://localhost:8080/"
        },
        "outputId": "6c8f5021-ef5f-4921-e19c-0bab7bf36f72"
      },
      "source": [
        "!pip install pmdarima"
      ],
      "execution_count": null,
      "outputs": [
        {
          "output_type": "stream",
          "name": "stdout",
          "text": [
            "Requirement already satisfied: pmdarima in /usr/local/lib/python3.7/dist-packages (1.8.4)\n",
            "Requirement already satisfied: pandas>=0.19 in /usr/local/lib/python3.7/dist-packages (from pmdarima) (1.1.5)\n",
            "Requirement already satisfied: numpy>=1.19.3 in /usr/local/lib/python3.7/dist-packages (from pmdarima) (1.19.5)\n",
            "Requirement already satisfied: statsmodels!=0.12.0,>=0.11 in /usr/local/lib/python3.7/dist-packages (from pmdarima) (0.13.1)\n",
            "Requirement already satisfied: Cython!=0.29.18,>=0.29 in /usr/local/lib/python3.7/dist-packages (from pmdarima) (0.29.24)\n",
            "Requirement already satisfied: scikit-learn>=0.22 in /usr/local/lib/python3.7/dist-packages (from pmdarima) (1.0.1)\n",
            "Requirement already satisfied: urllib3 in /usr/local/lib/python3.7/dist-packages (from pmdarima) (1.24.3)\n",
            "Requirement already satisfied: setuptools!=50.0.0,>=38.6.0 in /usr/local/lib/python3.7/dist-packages (from pmdarima) (57.4.0)\n",
            "Requirement already satisfied: scipy>=1.3.2 in /usr/local/lib/python3.7/dist-packages (from pmdarima) (1.4.1)\n",
            "Requirement already satisfied: joblib>=0.11 in /usr/local/lib/python3.7/dist-packages (from pmdarima) (1.1.0)\n",
            "Requirement already satisfied: pytz>=2017.2 in /usr/local/lib/python3.7/dist-packages (from pandas>=0.19->pmdarima) (2018.9)\n",
            "Requirement already satisfied: python-dateutil>=2.7.3 in /usr/local/lib/python3.7/dist-packages (from pandas>=0.19->pmdarima) (2.8.2)\n",
            "Requirement already satisfied: six>=1.5 in /usr/local/lib/python3.7/dist-packages (from python-dateutil>=2.7.3->pandas>=0.19->pmdarima) (1.15.0)\n",
            "Requirement already satisfied: threadpoolctl>=2.0.0 in /usr/local/lib/python3.7/dist-packages (from scikit-learn>=0.22->pmdarima) (3.0.0)\n",
            "Requirement already satisfied: patsy>=0.5.2 in /usr/local/lib/python3.7/dist-packages (from statsmodels!=0.12.0,>=0.11->pmdarima) (0.5.2)\n"
          ]
        }
      ]
    },
    {
      "cell_type": "code",
      "metadata": {
        "execution": {
          "iopub.execute_input": "2020-10-02T15:41:45.152376Z",
          "iopub.status.busy": "2020-10-02T15:41:45.151634Z",
          "iopub.status.idle": "2020-10-02T15:41:45.355912Z",
          "shell.execute_reply": "2020-10-02T15:41:45.355077Z"
        },
        "papermill": {
          "duration": 0.39038,
          "end_time": "2020-10-02T15:41:45.356048",
          "exception": false,
          "start_time": "2020-10-02T15:41:44.965668",
          "status": "completed"
        },
        "tags": [],
        "id": "iid8u0OhJ7nl"
      },
      "source": [
        "import pmdarima as pm"
      ],
      "execution_count": null,
      "outputs": []
    },
    {
      "cell_type": "code",
      "metadata": {
        "execution": {
          "iopub.execute_input": "2020-10-02T15:41:45.709292Z",
          "iopub.status.busy": "2020-10-02T15:41:45.708218Z",
          "iopub.status.idle": "2020-10-02T15:41:45.711905Z",
          "shell.execute_reply": "2020-10-02T15:41:45.711096Z"
        },
        "papermill": {
          "duration": 0.184519,
          "end_time": "2020-10-02T15:41:45.712044",
          "exception": false,
          "start_time": "2020-10-02T15:41:45.527525",
          "status": "completed"
        },
        "tags": [],
        "id": "A5hN2wogJ7nl"
      },
      "source": [
        "exogenous_features = ['open_mean_lag30',\n",
        "       'open_mean_lag50', 'open_mean_lag100', 'open_std_lag30', 'open_std_lag50',\n",
        "       'open_std_lag100', 'high_mean_lag30', 'high_mean_lag50', 'high_mean_lag100',\n",
        "       'high_std_lag30', 'high_std_lag50', 'high_std_lag100', 'low_mean_lag30',\n",
        "       'low_mean_lag50', 'low_mean_lag100', 'low_std_lag30', 'low_std_lag50',\n",
        "       'low_std_lag100', 'close_mean_lag30', 'close_mean_lag50',\n",
        "       'close_mean_lag100', 'close_std_lag30', 'close_std_lag50',\n",
        "       'close_std_lag100', 'volume_mean_lag30', 'volume_mean_lag50',\n",
        "       'volume_mean_lag100', 'volume_std_lag30',\n",
        "       'volume_std_lag50', 'volume_std_lag100', 'month', 'week',\n",
        "       'day', 'day_of_week']"
      ],
      "execution_count": null,
      "outputs": []
    },
    {
      "cell_type": "code",
      "metadata": {
        "execution": {
          "iopub.execute_input": "2020-10-02T15:41:46.069622Z",
          "iopub.status.busy": "2020-10-02T15:41:46.066727Z",
          "iopub.status.idle": "2020-10-02T15:49:46.723166Z",
          "shell.execute_reply": "2020-10-02T15:49:46.722132Z"
        },
        "papermill": {
          "duration": 480.840436,
          "end_time": "2020-10-02T15:49:46.723335",
          "exception": false,
          "start_time": "2020-10-02T15:41:45.882899",
          "status": "completed"
        },
        "tags": [],
        "id": "ak-pIIdoJ7nl",
        "colab": {
          "base_uri": "https://localhost:8080/"
        },
        "outputId": "28e75b0a-060c-4d28-8e62-1a3a42df0398"
      },
      "source": [
        "%%time\n",
        "\n",
        "# NOTE: ~1m\n",
        "\n",
        "model = pm.auto_arima(df_train.adj_close, exogenous=df_train[exogenous_features], trace=True, error_action=\"ignore\", suppress_warnings=True)\n",
        "model.fit(df_train.adj_close, exogenous=df_train[exogenous_features])\n",
        "\n",
        "forecast = model.predict(n_periods=len(df_valid), exogenous=df_valid[exogenous_features])\n",
        "df_valid[\"Forecast_ARIMAX\"] = forecast"
      ],
      "execution_count": null,
      "outputs": [
        {
          "output_type": "stream",
          "name": "stdout",
          "text": [
            "Performing stepwise search to minimize aic\n",
            " ARIMA(2,0,2)(0,0,0)[0] intercept   : AIC=25096.748, Time=16.94 sec\n",
            " ARIMA(0,0,0)(0,0,0)[0] intercept   : AIC=25317.781, Time=4.14 sec\n",
            " ARIMA(1,0,0)(0,0,0)[0] intercept   : AIC=23999.846, Time=10.70 sec\n",
            " ARIMA(0,0,1)(0,0,0)[0] intercept   : AIC=24249.945, Time=6.18 sec\n",
            " ARIMA(0,0,0)(0,0,0)[0]             : AIC=38495.820, Time=4.02 sec\n",
            " ARIMA(2,0,0)(0,0,0)[0] intercept   : AIC=24988.437, Time=15.51 sec\n",
            " ARIMA(1,0,1)(0,0,0)[0] intercept   : AIC=25061.889, Time=15.39 sec\n",
            " ARIMA(2,0,1)(0,0,0)[0] intercept   : AIC=25077.241, Time=17.83 sec\n",
            " ARIMA(1,0,0)(0,0,0)[0]             : AIC=23999.981, Time=4.16 sec\n",
            "\n",
            "Best model:  ARIMA(1,0,0)(0,0,0)[0] intercept\n",
            "Total fit time: 94.897 seconds\n",
            "CPU times: user 1min 44s, sys: 1min 41s, total: 3min 25s\n",
            "Wall time: 1min 45s\n"
          ]
        },
        {
          "output_type": "stream",
          "name": "stderr",
          "text": [
            "/usr/local/lib/python3.7/dist-packages/ipykernel_launcher.py:8: SettingWithCopyWarning:\n",
            "\n",
            "\n",
            "A value is trying to be set on a copy of a slice from a DataFrame.\n",
            "Try using .loc[row_indexer,col_indexer] = value instead\n",
            "\n",
            "See the caveats in the documentation: https://pandas.pydata.org/pandas-docs/stable/user_guide/indexing.html#returning-a-view-versus-a-copy\n",
            "\n"
          ]
        }
      ]
    },
    {
      "cell_type": "code",
      "metadata": {
        "execution": {
          "iopub.execute_input": "2020-10-02T15:49:47.100256Z",
          "iopub.status.busy": "2020-10-02T15:49:47.093407Z",
          "iopub.status.idle": "2020-10-02T15:49:47.459576Z",
          "shell.execute_reply": "2020-10-02T15:49:47.458843Z"
        },
        "papermill": {
          "duration": 0.553931,
          "end_time": "2020-10-02T15:49:47.459699",
          "exception": false,
          "start_time": "2020-10-02T15:49:46.905768",
          "status": "completed"
        },
        "tags": [],
        "id": "IVkIu-3iJ7nl",
        "colab": {
          "base_uri": "https://localhost:8080/",
          "height": 468
        },
        "outputId": "65b99073-abe2-4309-ea88-55740f6a995d"
      },
      "source": [
        "df_valid[[\"adj_close\", \"Forecast_ARIMAX\"]].plot(figsize=(14, 7))"
      ],
      "execution_count": null,
      "outputs": [
        {
          "output_type": "execute_result",
          "data": {
            "text/plain": [
              "<matplotlib.axes._subplots.AxesSubplot at 0x7f1db51f4950>"
            ]
          },
          "metadata": {},
          "execution_count": 68
        },
        {
          "output_type": "display_data",
          "data": {
            "image/png": "[encoded data removed]",
            "text/plain": [
              "<Figure size 1008x504 with 1 Axes>"
            ]
          },
          "metadata": {}
        }
      ]
    },
    {
      "cell_type": "code",
      "metadata": {
        "execution": {
          "iopub.execute_input": "2020-10-02T15:49:47.831130Z",
          "iopub.status.busy": "2020-10-02T15:49:47.830058Z",
          "iopub.status.idle": "2020-10-02T15:49:47.834858Z",
          "shell.execute_reply": "2020-10-02T15:49:47.834133Z"
        },
        "papermill": {
          "duration": 0.194958,
          "end_time": "2020-10-02T15:49:47.834988",
          "exception": false,
          "start_time": "2020-10-02T15:49:47.640030",
          "status": "completed"
        },
        "tags": [],
        "id": "XU-CgegCJ7nm"
      },
      "source": [
        "from sklearn.metrics import mean_squared_error, mean_absolute_error\n",
        "\n",
        "print(\"RMSE of Auto ARIMAX:\", np.sqrt(mean_squared_error(df_valid.adj_close, df_valid.Forecast_ARIMAX)))\n",
        "\n",
        "print(\"\\nMAE of Auto ARIMAX:\", mean_absolute_error(df_valid.adj_close, df_valid.Forecast_ARIMAX))"
      ],
      "execution_count": null,
      "outputs": []
    },
    {
      "cell_type": "code",
      "metadata": {
        "execution": {
          "iopub.execute_input": "2020-10-02T15:49:48.215173Z",
          "iopub.status.busy": "2020-10-02T15:49:48.211927Z",
          "iopub.status.idle": "2020-10-02T15:49:49.378433Z",
          "shell.execute_reply": "2020-10-02T15:49:49.377716Z"
        },
        "papermill": {
          "duration": 1.358802,
          "end_time": "2020-10-02T15:49:49.378576",
          "exception": false,
          "start_time": "2020-10-02T15:49:48.019774",
          "status": "completed"
        },
        "tags": [],
        "id": "A6CHXtSlJ7nm"
      },
      "source": [
        "model.plot_diagnostics()"
      ],
      "execution_count": null,
      "outputs": []
    },
    {
      "cell_type": "markdown",
      "metadata": {
        "papermill": {
          "duration": 0.183736,
          "end_time": "2020-10-02T15:49:49.746874",
          "exception": false,
          "start_time": "2020-10-02T15:49:49.563138",
          "status": "completed"
        },
        "tags": [],
        "id": "cIFAHydUJ7nm"
      },
      "source": [
        "The Auto ARIMAX model seems to do a fairly good job in predicting the bitcoin price given data till the previous day. Can other models beat this benchmark?"
      ]
    },
    {
      "cell_type": "markdown",
      "metadata": {
        "papermill": {
          "duration": 0.182445,
          "end_time": "2020-10-02T15:49:50.111992",
          "exception": false,
          "start_time": "2020-10-02T15:49:49.929547",
          "status": "completed"
        },
        "tags": [],
        "id": "6STtOhX6J7nm"
      },
      "source": [
        "<a id=\"subsection-seven\"></a>\n",
        "# Facebook Prophet\n",
        "\n",
        "![prophet.png](attachment:prophet.png)"
      ]
    },
    {
      "cell_type": "markdown",
      "metadata": {
        "papermill": {
          "duration": 0.183723,
          "end_time": "2020-10-02T15:49:50.479900",
          "exception": false,
          "start_time": "2020-10-02T15:49:50.296177",
          "status": "completed"
        },
        "tags": [],
        "id": "txlhDnE5J7nm"
      },
      "source": [
        "Prophet is a procedure for forecasting time series data based on an additive model where non-linear trends are fit with yearly, weekly, and daily seasonality, plus holiday effects.\n",
        "\n",
        "It works best with time series that have strong seasonal effects and several seasons of historical data. Prophet is robust to missing data and shifts in the trend, and typically handles outliers well. \n",
        "\n",
        "# How does Prophet work?\n",
        "The procedure makes use of a decomposable time series model with three main model components: trend, seasonality, and holidays.\n",
        "\n",
        "**y(t) = g(t) + s(t) + h(t) + e(t)**\n",
        "\n",
        "- **g(t)** trend models non-periodic changes; linear or logistic\n",
        "- **s(t)** seasonality represents periodic changes; i.e. weekly, monthly, yearly\n",
        "- **h(t)** ties in effects of holidays; on potentially irregular schedules ≥ 1 day(s)\n",
        "\n",
        "The error term e(t) represents any idiosyncratic changes which are not accommodated by the model; later we will make the parametric assumption that e(t) is normally distributed. Facebook paper can be referenced for more details [here](http://peerj.com/preprints/3190.pdf#section.1)\n",
        "\n",
        "Let's start modelling!"
      ]
    },
    {
      "cell_type": "code",
      "metadata": {
        "execution": {
          "iopub.execute_input": "2020-10-02T15:49:50.850736Z",
          "iopub.status.busy": "2020-10-02T15:49:50.849938Z",
          "iopub.status.idle": "2020-10-02T15:49:51.020435Z",
          "shell.execute_reply": "2020-10-02T15:49:51.019725Z"
        },
        "papermill": {
          "duration": 0.357913,
          "end_time": "2020-10-02T15:49:51.020594",
          "exception": false,
          "start_time": "2020-10-02T15:49:50.662681",
          "status": "completed"
        },
        "tags": [],
        "id": "OuOEK7DGJ7nn"
      },
      "source": [
        "# Load FB Prophet\n",
        "from fbprophet import Prophet"
      ],
      "execution_count": null,
      "outputs": []
    },
    {
      "cell_type": "code",
      "metadata": {
        "execution": {
          "iopub.execute_input": "2020-10-02T15:49:51.426117Z",
          "iopub.status.busy": "2020-10-02T15:49:51.425313Z",
          "iopub.status.idle": "2020-10-02T15:49:51.505159Z",
          "shell.execute_reply": "2020-10-02T15:49:51.504234Z"
        },
        "papermill": {
          "duration": 0.299484,
          "end_time": "2020-10-02T15:49:51.505360",
          "exception": false,
          "start_time": "2020-10-02T15:49:51.205876",
          "status": "completed"
        },
        "tags": [],
        "id": "Pli6k3B_J7nn"
      },
      "source": [
        "# Resampling originial data to day level and forward fill the missing values\n",
        "daily_data = bitstamp.resample(\"24H\").mean() #daily resampling\n",
        "fill_missing(daily_data)"
      ],
      "execution_count": null,
      "outputs": []
    },
    {
      "cell_type": "code",
      "metadata": {
        "execution": {
          "iopub.execute_input": "2020-10-02T15:49:51.898537Z",
          "iopub.status.busy": "2020-10-02T15:49:51.897387Z",
          "iopub.status.idle": "2020-10-02T15:49:51.901097Z",
          "shell.execute_reply": "2020-10-02T15:49:51.901739Z"
        },
        "papermill": {
          "duration": 0.202439,
          "end_time": "2020-10-02T15:49:51.901911",
          "exception": false,
          "start_time": "2020-10-02T15:49:51.699472",
          "status": "completed"
        },
        "tags": [],
        "id": "MiYeygRKJ7nn"
      },
      "source": [
        "# Renaming the column names accroding to Prophet's requirements\n",
        "\n",
        "daily_data_fb = daily_data.reset_index()[['date','adj_close']].rename({'date':'ds','adj_close':'y'}, axis=1)\n",
        "daily_data_fb.head()"
      ],
      "execution_count": null,
      "outputs": []
    },
    {
      "cell_type": "code",
      "metadata": {
        "execution": {
          "iopub.execute_input": "2020-10-02T15:49:52.285280Z",
          "iopub.status.busy": "2020-10-02T15:49:52.284027Z",
          "iopub.status.idle": "2020-10-02T15:49:52.288491Z",
          "shell.execute_reply": "2020-10-02T15:49:52.287705Z"
        },
        "papermill": {
          "duration": 0.201235,
          "end_time": "2020-10-02T15:49:52.288641",
          "exception": false,
          "start_time": "2020-10-02T15:49:52.087406",
          "status": "completed"
        },
        "tags": [],
        "id": "BP5evPXwJ7nn"
      },
      "source": [
        "split_date = \"2020-01-01\"\n",
        "train_filt = daily_data_fb['ds'] <= split_date\n",
        "test_filt = daily_data_fb['ds'] > split_date\n",
        "\n",
        "train_fb = daily_data_fb[train_filt]\n",
        "test_fb = daily_data_fb[test_filt]"
      ],
      "execution_count": null,
      "outputs": []
    },
    {
      "cell_type": "code",
      "metadata": {
        "execution": {
          "iopub.execute_input": "2020-10-02T15:49:52.665807Z",
          "iopub.status.busy": "2020-10-02T15:49:52.664798Z",
          "iopub.status.idle": "2020-10-02T15:49:52.668193Z",
          "shell.execute_reply": "2020-10-02T15:49:52.668800Z"
        },
        "papermill": {
          "duration": 0.19514,
          "end_time": "2020-10-02T15:49:52.668965",
          "exception": false,
          "start_time": "2020-10-02T15:49:52.473825",
          "status": "completed"
        },
        "tags": [],
        "id": "9UzS1OdtJ7nn"
      },
      "source": [
        "print(\"train data shape :\", train_fb.shape)\n",
        "print(\"test data shape :\", test_fb.shape)"
      ],
      "execution_count": null,
      "outputs": []
    },
    {
      "cell_type": "code",
      "metadata": {
        "execution": {
          "iopub.execute_input": "2020-10-02T15:49:53.049351Z",
          "iopub.status.busy": "2020-10-02T15:49:53.048555Z",
          "iopub.status.idle": "2020-10-02T15:50:14.939928Z",
          "shell.execute_reply": "2020-10-02T15:50:14.939217Z"
        },
        "papermill": {
          "duration": 22.085277,
          "end_time": "2020-10-02T15:50:14.940076",
          "exception": false,
          "start_time": "2020-10-02T15:49:52.854799",
          "status": "completed"
        },
        "tags": [],
        "id": "Bpsi2cmFJ7no"
      },
      "source": [
        "model_fbp = Prophet()\n",
        "for feature in exogenous_features:\n",
        "    model_fbp.add_regressor(feature)\n",
        "\n",
        "model_fbp.fit(df_train[[\"date\", \"adj_close\"] + exogenous_features].rename(columns={\"date\": \"ds\", \"adj_close\": \"y\"}))\n",
        "\n",
        "forecast = model_fbp.predict(df_valid[[\"date\", \"adj_close\"] + exogenous_features].rename(columns={\"date\": \"ds\"}))\n",
        "forecast.head()"
      ],
      "execution_count": null,
      "outputs": []
    },
    {
      "cell_type": "markdown",
      "metadata": {
        "papermill": {
          "duration": 0.188315,
          "end_time": "2020-10-02T15:50:15.318271",
          "exception": false,
          "start_time": "2020-10-02T15:50:15.129956",
          "status": "completed"
        },
        "tags": [],
        "id": "bzZxlQM8J7no"
      },
      "source": [
        "**Narrative**\n",
        "* **yhat** : the predicted forecast\n",
        "* **yhat_lower** : the lower border of the prediction\n",
        "* **yhat_upper**: the upper border of the prediction"
      ]
    },
    {
      "cell_type": "code",
      "metadata": {
        "execution": {
          "iopub.execute_input": "2020-10-02T15:50:15.699833Z",
          "iopub.status.busy": "2020-10-02T15:50:15.698884Z",
          "iopub.status.idle": "2020-10-02T15:50:15.704415Z",
          "shell.execute_reply": "2020-10-02T15:50:15.703445Z"
        },
        "papermill": {
          "duration": 0.198763,
          "end_time": "2020-10-02T15:50:15.704602",
          "exception": false,
          "start_time": "2020-10-02T15:50:15.505839",
          "status": "completed"
        },
        "tags": [],
        "id": "ZqLtIlpuJ7no"
      },
      "source": [
        "df_valid[\"Forecast_Prophet\"] = forecast.yhat.values"
      ],
      "execution_count": null,
      "outputs": []
    },
    {
      "cell_type": "code",
      "metadata": {
        "execution": {
          "iopub.execute_input": "2020-10-02T15:50:16.096309Z",
          "iopub.status.busy": "2020-10-02T15:50:16.095524Z",
          "iopub.status.idle": "2020-10-02T15:50:16.475591Z",
          "shell.execute_reply": "2020-10-02T15:50:16.474821Z"
        },
        "papermill": {
          "duration": 0.582445,
          "end_time": "2020-10-02T15:50:16.475716",
          "exception": false,
          "start_time": "2020-10-02T15:50:15.893271",
          "status": "completed"
        },
        "tags": [],
        "id": "On_7tYKCJ7no"
      },
      "source": [
        "# Plot Our Predictions\n",
        "fig1 = model_fbp.plot(forecast)"
      ],
      "execution_count": null,
      "outputs": []
    },
    {
      "cell_type": "markdown",
      "metadata": {
        "papermill": {
          "duration": 0.188576,
          "end_time": "2020-10-02T15:50:16.855437",
          "exception": false,
          "start_time": "2020-10-02T15:50:16.666861",
          "status": "completed"
        },
        "tags": [],
        "id": "T7_fkQJTJ7np"
      },
      "source": [
        "**Narrative**\n",
        "\n",
        "* **Black dots** : the actual data points in our dataset.\n",
        "* **Deep blue line** : the predicted forecast/the predicted values\n",
        "* **Light blue line** : the boundaries"
      ]
    },
    {
      "cell_type": "code",
      "metadata": {
        "execution": {
          "iopub.execute_input": "2020-10-02T15:50:17.250166Z",
          "iopub.status.busy": "2020-10-02T15:50:17.249273Z",
          "iopub.status.idle": "2020-10-02T15:50:19.032525Z",
          "shell.execute_reply": "2020-10-02T15:50:19.031775Z"
        },
        "papermill": {
          "duration": 1.986996,
          "end_time": "2020-10-02T15:50:19.032656",
          "exception": false,
          "start_time": "2020-10-02T15:50:17.045660",
          "status": "completed"
        },
        "tags": [],
        "id": "4zB7Z8Y7J7np"
      },
      "source": [
        "model_fbp.plot_components(forecast)"
      ],
      "execution_count": null,
      "outputs": []
    },
    {
      "cell_type": "code",
      "metadata": {
        "execution": {
          "iopub.execute_input": "2020-10-02T15:50:19.439168Z",
          "iopub.status.busy": "2020-10-02T15:50:19.436704Z",
          "iopub.status.idle": "2020-10-02T15:50:19.821886Z",
          "shell.execute_reply": "2020-10-02T15:50:19.822552Z"
        },
        "papermill": {
          "duration": 0.594393,
          "end_time": "2020-10-02T15:50:19.822724",
          "exception": false,
          "start_time": "2020-10-02T15:50:19.228331",
          "status": "completed"
        },
        "tags": [],
        "id": "gIjPhF4LJ7np"
      },
      "source": [
        "# Plotting changepoints\n",
        "from fbprophet.plot import add_changepoints_to_plot\n",
        "fig = model_fbp.plot(forecast)\n",
        "a = add_changepoints_to_plot(fig.gca(), model_fbp, forecast)"
      ],
      "execution_count": null,
      "outputs": []
    },
    {
      "cell_type": "code",
      "metadata": {
        "execution": {
          "iopub.execute_input": "2020-10-02T15:50:20.264026Z",
          "iopub.status.busy": "2020-10-02T15:50:20.263182Z",
          "iopub.status.idle": "2020-10-02T15:50:20.636721Z",
          "shell.execute_reply": "2020-10-02T15:50:20.635981Z"
        },
        "papermill": {
          "duration": 0.592655,
          "end_time": "2020-10-02T15:50:20.636843",
          "exception": false,
          "start_time": "2020-10-02T15:50:20.044188",
          "status": "completed"
        },
        "tags": [],
        "id": "__tKux4qJ7np"
      },
      "source": [
        "df_valid[[\"adj_close\", \"Forecast_Prophet\"]].plot(figsize=(14, 7))"
      ],
      "execution_count": null,
      "outputs": []
    },
    {
      "cell_type": "code",
      "metadata": {
        "execution": {
          "iopub.execute_input": "2020-10-02T15:50:21.045842Z",
          "iopub.status.busy": "2020-10-02T15:50:21.044815Z",
          "iopub.status.idle": "2020-10-02T15:50:21.049446Z",
          "shell.execute_reply": "2020-10-02T15:50:21.048495Z"
        },
        "papermill": {
          "duration": 0.212064,
          "end_time": "2020-10-02T15:50:21.049635",
          "exception": false,
          "start_time": "2020-10-02T15:50:20.837571",
          "status": "completed"
        },
        "tags": [],
        "id": "mR4qjK2fJ7np"
      },
      "source": [
        "test_mae = mean_absolute_error(df_valid['adj_close'], df_valid['Forecast_Prophet'])\n",
        "test_rmse = np.sqrt(mean_squared_error(df_valid['adj_close'], df_valid['Forecast_Prophet']))\n",
        "\n",
        "print(f\" Prophet's MAE : {test_mae}\")\n",
        "print(f\"Prophet's RMSE : {test_rmse}\")"
      ],
      "execution_count": null,
      "outputs": []
    },
    {
      "cell_type": "code",
      "metadata": {
        "_kg_hide-input": true,
        "execution": {
          "iopub.execute_input": "2020-10-02T15:50:21.464792Z",
          "iopub.status.busy": "2020-10-02T15:50:21.463834Z",
          "iopub.status.idle": "2020-10-02T15:50:21.467611Z",
          "shell.execute_reply": "2020-10-02T15:50:21.466854Z"
        },
        "papermill": {
          "duration": 0.216617,
          "end_time": "2020-10-02T15:50:21.467742",
          "exception": false,
          "start_time": "2020-10-02T15:50:21.251125",
          "status": "completed"
        },
        "tags": [],
        "id": "OkN9TwVkJ7nx"
      },
      "source": [
        "# #Keeping only relevant columns\n",
        "forecast_df = forecast[['ds','yhat','yhat_lower','yhat_upper' ]]\n",
        "forecast_df\n",
        "\n",
        "# # Plotting the predicted values -> yhat\n",
        "forecast_df.set_index('ds')['yhat'].plot()\n",
        "\n",
        "# # Plotting both actual and the predicted values -> y and yhat\n",
        "pd.concat([daily_data_fb.set_index('ds')['y'],forecast_df.set_index('ds')['yhat']], axis=1).plot()  \n",
        "\n",
        "test = forecast_df[forecast_df['ds']>= \"2020-01-02\"]\n",
        "df_concat = test.merge(test_fb,how='inner',on=\"ds\")\n",
        "df_concat.plot(x=\"ds\", y=[\"y\", \"yhat\"])\n",
        "\n",
        "# # Checking Deltas\n",
        "deltas = model.params['delta'].mean(0)\n",
        "deltas\n",
        "\n",
        "# # Plotting changepoints\n",
        "\n",
        "fig = plt.figure()\n",
        "ax = fig.add_subplot(111)\n",
        "ax.bar(range(len(deltas)), deltas)\n",
        "ax.grid(True, which='major', c='red', ls='-', lw=1, alpha=0.2)\n",
        "ax.set_ylabel('Rate change')\n",
        "ax.set_xlabel('changepoint')\n",
        "fig.tight_layout()\n",
        "\n",
        "# # Checking model changepoints\n",
        "\n",
        "model.changepoints"
      ],
      "execution_count": null,
      "outputs": []
    },
    {
      "cell_type": "markdown",
      "metadata": {
        "papermill": {
          "duration": 0.199035,
          "end_time": "2020-10-02T15:50:21.886937",
          "exception": false,
          "start_time": "2020-10-02T15:50:21.687902",
          "status": "completed"
        },
        "tags": [],
        "id": "BiK_1rOVJ7nx"
      },
      "source": [
        "<a id=\"subsection-eight\"></a>\n",
        "# XG Boost"
      ]
    },
    {
      "cell_type": "code",
      "metadata": {
        "execution": {
          "iopub.execute_input": "2020-10-02T15:50:22.298822Z",
          "iopub.status.busy": "2020-10-02T15:50:22.298002Z",
          "iopub.status.idle": "2020-10-02T15:50:22.686808Z",
          "shell.execute_reply": "2020-10-02T15:50:22.686108Z"
        },
        "papermill": {
          "duration": 0.600586,
          "end_time": "2020-10-02T15:50:22.686947",
          "exception": false,
          "start_time": "2020-10-02T15:50:22.086361",
          "status": "completed"
        },
        "tags": [],
        "id": "9t-tjWKJJ7ny"
      },
      "source": [
        "from sklearn import ensemble\n",
        "from sklearn import metrics\n",
        "from sklearn.model_selection import RandomizedSearchCV\n",
        "import xgboost as xgb\n",
        "from xgboost import plot_importance, plot_tree\n",
        "from sklearn.metrics import mean_squared_error, mean_absolute_error\n",
        "plt.style.use('fivethirtyeight')\n",
        "\n",
        "from datetime import datetime"
      ],
      "execution_count": null,
      "outputs": []
    },
    {
      "cell_type": "markdown",
      "metadata": {
        "papermill": {
          "duration": 0.198412,
          "end_time": "2020-10-02T15:50:23.084209",
          "exception": false,
          "start_time": "2020-10-02T15:50:22.885797",
          "status": "completed"
        },
        "tags": [],
        "id": "tXktWCQoJ7ny"
      },
      "source": [
        "Here, we we will opt for a ***hold-out based validation***. \n",
        "\n",
        "Hold-out is used very frequently with time-series data. In this case, we will select all the data for 2020 as a hold-out and train our model on all the data from 2012 to 2019. "
      ]
    },
    {
      "cell_type": "code",
      "metadata": {
        "execution": {
          "iopub.execute_input": "2020-10-02T15:50:23.506276Z",
          "iopub.status.busy": "2020-10-02T15:50:23.505205Z",
          "iopub.status.idle": "2020-10-02T15:50:23.508477Z",
          "shell.execute_reply": "2020-10-02T15:50:23.509065Z"
        },
        "papermill": {
          "duration": 0.224544,
          "end_time": "2020-10-02T15:50:23.509234",
          "exception": false,
          "start_time": "2020-10-02T15:50:23.284690",
          "status": "completed"
        },
        "tags": [],
        "id": "ZmF5uYHpJ7nz"
      },
      "source": [
        "X_train, y_train = df_train[exogenous_features], df_train.adj_close\n",
        "X_test, y_test = df_valid[exogenous_features], df_valid.adj_close"
      ],
      "execution_count": null,
      "outputs": []
    },
    {
      "cell_type": "code",
      "metadata": {
        "execution": {
          "iopub.execute_input": "2020-10-02T15:50:23.929468Z",
          "iopub.status.busy": "2020-10-02T15:50:23.928343Z",
          "iopub.status.idle": "2020-10-02T15:50:23.931680Z",
          "shell.execute_reply": "2020-10-02T15:50:23.931032Z"
        },
        "papermill": {
          "duration": 0.214538,
          "end_time": "2020-10-02T15:50:23.931816",
          "exception": false,
          "start_time": "2020-10-02T15:50:23.717278",
          "status": "completed"
        },
        "tags": [],
        "id": "gbE5xDKWJ7n0"
      },
      "source": [
        "reg = xgb.XGBRegressor()"
      ],
      "execution_count": null,
      "outputs": []
    },
    {
      "cell_type": "code",
      "metadata": {
        "execution": {
          "iopub.execute_input": "2020-10-02T15:50:24.352671Z",
          "iopub.status.busy": "2020-10-02T15:50:24.351418Z",
          "iopub.status.idle": "2020-10-02T15:50:24.354143Z",
          "shell.execute_reply": "2020-10-02T15:50:24.354693Z"
        },
        "papermill": {
          "duration": 0.216272,
          "end_time": "2020-10-02T15:50:24.354860",
          "exception": false,
          "start_time": "2020-10-02T15:50:24.138588",
          "status": "completed"
        },
        "tags": [],
        "id": "nMSdMzXXJ7n0"
      },
      "source": [
        "## Hyper Parameter Optimization Grid\n",
        "\n",
        "params={\n",
        " \"learning_rate\"    : [0.05, 0.10, 0.15, 0.20, 0.25, 0.30],\n",
        " \"max_depth\"        : [1, 3, 4, 5, 6, 7],\n",
        " \"n_estimators\"     : [int(x) for x in np.linspace(start=100, stop=2000, num=10)],\n",
        " \"min_child_weight\" : [int(x) for x in np.arange(3, 15, 1)],\n",
        " \"gamma\"            : [ 0.0, 0.1, 0.2 , 0.3, 0.4, 0.5, 0.6, 0.7, 0.8, 0.9, 1],\n",
        " \"subsample\"        : [0.1, 0.2, 0.3, 0.4, 0.5, 0.6, 0.7, 0.8, 0.9, 1],\n",
        " \"colsample_bytree\" : [0.5, 0.6, 0.7, 0.8, 0.9, 1],\n",
        " \"colsample_bylevel\": [0.5, 0.6, 0.7, 0.8, 0.9, 1],  \n",
        " \n",
        "}"
      ],
      "execution_count": null,
      "outputs": []
    },
    {
      "cell_type": "code",
      "metadata": {
        "execution": {
          "iopub.execute_input": "2020-10-02T15:50:24.760152Z",
          "iopub.status.busy": "2020-10-02T15:50:24.759379Z",
          "iopub.status.idle": "2020-10-02T15:50:24.762246Z",
          "shell.execute_reply": "2020-10-02T15:50:24.762912Z"
        },
        "papermill": {
          "duration": 0.208329,
          "end_time": "2020-10-02T15:50:24.763078",
          "exception": false,
          "start_time": "2020-10-02T15:50:24.554749",
          "status": "completed"
        },
        "tags": [],
        "id": "z5WvG07UJ7n0"
      },
      "source": [
        "model  = RandomizedSearchCV(    \n",
        "                reg,\n",
        "                param_distributions=params,\n",
        "                n_iter=10,\n",
        "                n_jobs=-1,\n",
        "                cv=5,\n",
        "                verbose=3,\n",
        ")"
      ],
      "execution_count": null,
      "outputs": []
    },
    {
      "cell_type": "code",
      "metadata": {
        "execution": {
          "iopub.execute_input": "2020-10-02T15:50:25.172068Z",
          "iopub.status.busy": "2020-10-02T15:50:25.171172Z",
          "iopub.status.idle": "2020-10-02T15:52:10.734080Z",
          "shell.execute_reply": "2020-10-02T15:52:10.734841Z"
        },
        "papermill": {
          "duration": 105.772473,
          "end_time": "2020-10-02T15:52:10.735035",
          "exception": false,
          "start_time": "2020-10-02T15:50:24.962562",
          "status": "completed"
        },
        "tags": [],
        "id": "qgl7d1HmJ7n1"
      },
      "source": [
        "%%time\n",
        "\n",
        "# NOTE: 1m 20s\n",
        "\n",
        "model.fit(X_train, y_train)"
      ],
      "execution_count": null,
      "outputs": []
    },
    {
      "cell_type": "code",
      "metadata": {
        "execution": {
          "iopub.execute_input": "2020-10-02T15:52:11.175874Z",
          "iopub.status.busy": "2020-10-02T15:52:11.174784Z",
          "iopub.status.idle": "2020-10-02T15:52:11.181534Z",
          "shell.execute_reply": "2020-10-02T15:52:11.182086Z"
        },
        "papermill": {
          "duration": 0.216851,
          "end_time": "2020-10-02T15:52:11.182247",
          "exception": false,
          "start_time": "2020-10-02T15:52:10.965396",
          "status": "completed"
        },
        "tags": [],
        "id": "QxKXkCcmJ7n1"
      },
      "source": [
        "print(f\"Model Best Score : {model.best_score_}\")\n",
        "print(f\"Model Best Parameters : {model.best_estimator_.get_params()}\")"
      ],
      "execution_count": null,
      "outputs": []
    },
    {
      "cell_type": "code",
      "metadata": {
        "execution": {
          "iopub.execute_input": "2020-10-02T15:52:11.595493Z",
          "iopub.status.busy": "2020-10-02T15:52:11.594366Z",
          "iopub.status.idle": "2020-10-02T15:52:11.602315Z",
          "shell.execute_reply": "2020-10-02T15:52:11.601699Z"
        },
        "papermill": {
          "duration": 0.215302,
          "end_time": "2020-10-02T15:52:11.602446",
          "exception": false,
          "start_time": "2020-10-02T15:52:11.387144",
          "status": "completed"
        },
        "tags": [],
        "id": "fOfq3bgoJ7n2"
      },
      "source": [
        "model.best_estimator_"
      ],
      "execution_count": null,
      "outputs": []
    },
    {
      "cell_type": "code",
      "metadata": {
        "execution": {
          "iopub.execute_input": "2020-10-02T15:52:12.089126Z",
          "iopub.status.busy": "2020-10-02T15:52:12.088356Z",
          "iopub.status.idle": "2020-10-02T15:52:12.537025Z",
          "shell.execute_reply": "2020-10-02T15:52:12.536322Z"
        },
        "papermill": {
          "duration": 0.657574,
          "end_time": "2020-10-02T15:52:12.537168",
          "exception": false,
          "start_time": "2020-10-02T15:52:11.879594",
          "status": "completed"
        },
        "tags": [],
        "id": "ZdO7ss7JJ7n2"
      },
      "source": [
        "df_train['Predicted_adj_close'] = model.predict(X_train)\n",
        "\n",
        "df_train[['adj_close','Predicted_adj_close']].plot(figsize=(15, 5))"
      ],
      "execution_count": null,
      "outputs": []
    },
    {
      "cell_type": "code",
      "metadata": {
        "execution": {
          "iopub.execute_input": "2020-10-02T15:52:12.960405Z",
          "iopub.status.busy": "2020-10-02T15:52:12.959482Z",
          "iopub.status.idle": "2020-10-02T15:52:12.976422Z",
          "shell.execute_reply": "2020-10-02T15:52:12.977117Z"
        },
        "papermill": {
          "duration": 0.229529,
          "end_time": "2020-10-02T15:52:12.977306",
          "exception": false,
          "start_time": "2020-10-02T15:52:12.747777",
          "status": "completed"
        },
        "tags": [],
        "id": "DzyV_81YJ7n2"
      },
      "source": [
        "df_valid['Forecast_XGBoost'] = model.predict(X_test)\n",
        "\n",
        "overall_data = pd.concat([df_train, df_valid], sort=False)"
      ],
      "execution_count": null,
      "outputs": []
    },
    {
      "cell_type": "code",
      "metadata": {
        "execution": {
          "iopub.execute_input": "2020-10-02T15:52:13.427916Z",
          "iopub.status.busy": "2020-10-02T15:52:13.426828Z",
          "iopub.status.idle": "2020-10-02T15:52:13.802042Z",
          "shell.execute_reply": "2020-10-02T15:52:13.802651Z"
        },
        "papermill": {
          "duration": 0.589116,
          "end_time": "2020-10-02T15:52:13.802812",
          "exception": false,
          "start_time": "2020-10-02T15:52:13.213696",
          "status": "completed"
        },
        "tags": [],
        "id": "3xeEa_pwJ7n2"
      },
      "source": [
        "overall_data[['adj_close','Forecast_XGBoost']].plot(figsize=(15, 5))"
      ],
      "execution_count": null,
      "outputs": []
    },
    {
      "cell_type": "code",
      "metadata": {
        "execution": {
          "iopub.execute_input": "2020-10-02T15:52:14.246120Z",
          "iopub.status.busy": "2020-10-02T15:52:14.244852Z",
          "iopub.status.idle": "2020-10-02T15:52:14.596207Z",
          "shell.execute_reply": "2020-10-02T15:52:14.595510Z"
        },
        "papermill": {
          "duration": 0.582702,
          "end_time": "2020-10-02T15:52:14.596335",
          "exception": false,
          "start_time": "2020-10-02T15:52:14.013633",
          "status": "completed"
        },
        "tags": [],
        "id": "6r5NhMvFJ7n3"
      },
      "source": [
        "df_valid[['adj_close','Forecast_XGBoost']].plot(figsize=(15, 5))"
      ],
      "execution_count": null,
      "outputs": []
    },
    {
      "cell_type": "markdown",
      "metadata": {
        "papermill": {
          "duration": 0.210688,
          "end_time": "2020-10-02T15:52:15.019750",
          "exception": false,
          "start_time": "2020-10-02T15:52:14.809062",
          "status": "completed"
        },
        "tags": [],
        "id": "bQ5awbkcJ7n3"
      },
      "source": [
        "**Regression metrics**\n",
        "\n",
        "The sklearn.metrics module implements several loss, score, and utility functions to measure regression performance. We will apply some of them:\n",
        "\n",
        "1. **Mean absolute error** : The mean_absolute_error function computes mean absolute error, a risk metric corresponding to the expected value of the absolute error loss or L1-norm loss.\n",
        "\n",
        "2. **Mean squared error** : The mean_squared_error function computes mean square error, a risk metric corresponding to the expected value of the squared error.\n",
        " \n",
        "3. **R² score, the coefficient of determination** : R-squared says how good your model fits the data. R-squared  closer to 1.0 says that the model fits the data quite well, whereas closer 0 means  that model isn’t that good. R-squared can also be negative when the model just  makes absurd predictions. "
      ]
    },
    {
      "cell_type": "code",
      "metadata": {
        "execution": {
          "iopub.execute_input": "2020-10-02T15:52:15.458072Z",
          "iopub.status.busy": "2020-10-02T15:52:15.457270Z",
          "iopub.status.idle": "2020-10-02T15:52:15.460155Z",
          "shell.execute_reply": "2020-10-02T15:52:15.459430Z"
        },
        "papermill": {
          "duration": 0.22757,
          "end_time": "2020-10-02T15:52:15.460279",
          "exception": false,
          "start_time": "2020-10-02T15:52:15.232709",
          "status": "completed"
        },
        "tags": [],
        "id": "fvy_rIRpJ7n3"
      },
      "source": [
        "from sklearn.metrics import mean_absolute_error, mean_squared_error,r2_score"
      ],
      "execution_count": null,
      "outputs": []
    },
    {
      "cell_type": "code",
      "metadata": {
        "execution": {
          "iopub.execute_input": "2020-10-02T15:52:15.895287Z",
          "iopub.status.busy": "2020-10-02T15:52:15.894042Z",
          "iopub.status.idle": "2020-10-02T15:52:15.904147Z",
          "shell.execute_reply": "2020-10-02T15:52:15.900963Z"
        },
        "papermill": {
          "duration": 0.232291,
          "end_time": "2020-10-02T15:52:15.904313",
          "exception": false,
          "start_time": "2020-10-02T15:52:15.672022",
          "status": "completed"
        },
        "tags": [],
        "id": "WMjb_jm5J7n3"
      },
      "source": [
        "train_mae = mean_absolute_error(df_train['adj_close'], df_train['Predicted_adj_close'])\n",
        "train_rmse = np.sqrt(mean_squared_error(df_train['adj_close'], df_train['Predicted_adj_close']))\n",
        "train_r2 = r2_score(df_train['adj_close'], df_train['Predicted_adj_close'])\n",
        "\n",
        "print(f\"train MAE : {train_mae}\")\n",
        "print(f\"train RMSE : {train_rmse}\")\n",
        "print(f\"train R2 : {train_r2}\")"
      ],
      "execution_count": null,
      "outputs": []
    },
    {
      "cell_type": "code",
      "metadata": {
        "execution": {
          "iopub.execute_input": "2020-10-02T15:52:16.348646Z",
          "iopub.status.busy": "2020-10-02T15:52:16.347681Z",
          "iopub.status.idle": "2020-10-02T15:52:16.352336Z",
          "shell.execute_reply": "2020-10-02T15:52:16.351386Z"
        },
        "papermill": {
          "duration": 0.228815,
          "end_time": "2020-10-02T15:52:16.352500",
          "exception": false,
          "start_time": "2020-10-02T15:52:16.123685",
          "status": "completed"
        },
        "tags": [],
        "id": "iA3ziMuFJ7n4"
      },
      "source": [
        "test_mae = mean_absolute_error(df_valid['adj_close'], df_valid['Forecast_XGBoost'])\n",
        "test_rmse = np.sqrt(mean_squared_error(df_valid['adj_close'], df_valid['Forecast_XGBoost']))\n",
        "test_r2 = r2_score(df_valid['adj_close'], df_valid['Forecast_XGBoost'])\n",
        "\n",
        "print(f\"test MAE : {test_mae}\")\n",
        "print(f\"test RMSE : {test_rmse}\")\n",
        "print(f\"test R2 : {test_r2}\")"
      ],
      "execution_count": null,
      "outputs": []
    },
    {
      "cell_type": "markdown",
      "metadata": {
        "papermill": {
          "duration": 0.212682,
          "end_time": "2020-10-02T15:52:16.780102",
          "exception": false,
          "start_time": "2020-10-02T15:52:16.567420",
          "status": "completed"
        },
        "tags": [],
        "id": "4VADqJ0GJ7n4"
      },
      "source": [
        "# Comparing Models"
      ]
    },
    {
      "cell_type": "code",
      "metadata": {
        "execution": {
          "iopub.execute_input": "2020-10-02T15:52:17.267190Z",
          "iopub.status.busy": "2020-10-02T15:52:17.266364Z",
          "iopub.status.idle": "2020-10-02T15:52:17.654278Z",
          "shell.execute_reply": "2020-10-02T15:52:17.653575Z"
        },
        "papermill": {
          "duration": 0.627123,
          "end_time": "2020-10-02T15:52:17.654399",
          "exception": false,
          "start_time": "2020-10-02T15:52:17.027276",
          "status": "completed"
        },
        "tags": [],
        "id": "n750V_U0J7n4"
      },
      "source": [
        "df_valid[[\"adj_close\", \"Forecast_ARIMAX\", \"Forecast_Prophet\", \"Forecast_XGBoost\"]].plot(figsize=(14,7))"
      ],
      "execution_count": null,
      "outputs": []
    },
    {
      "cell_type": "code",
      "metadata": {
        "execution": {
          "iopub.execute_input": "2020-10-02T15:52:18.108953Z",
          "iopub.status.busy": "2020-10-02T15:52:18.108093Z",
          "iopub.status.idle": "2020-10-02T15:52:18.113320Z",
          "shell.execute_reply": "2020-10-02T15:52:18.112432Z"
        },
        "papermill": {
          "duration": 0.236565,
          "end_time": "2020-10-02T15:52:18.113500",
          "exception": false,
          "start_time": "2020-10-02T15:52:17.876935",
          "status": "completed"
        },
        "tags": [],
        "id": "sCl7W-c-J7n4"
      },
      "source": [
        "arimax_rmse = np.sqrt(mean_squared_error(df_valid['adj_close'], df_valid['Forecast_ARIMAX']))\n",
        "fbp_rmse = np.sqrt(mean_squared_error(df_valid['adj_close'], df_valid['Forecast_Prophet']))\n",
        "xgb_rmse = np.sqrt(mean_squared_error(df_valid['adj_close'], df_valid['Forecast_XGBoost']))\n",
        "\n",
        "arimax_mae = mean_absolute_error(df_valid['adj_close'], df_valid['Forecast_ARIMAX'])\n",
        "fbp_mae = mean_absolute_error(df_valid['adj_close'], df_valid['Forecast_Prophet'])\n",
        "xgb_mae = mean_absolute_error(df_valid['adj_close'], df_valid['Forecast_XGBoost'])\n",
        "\n",
        "\n",
        "print(\"ARIMAX RMSE :\", arimax_rmse)\n",
        "print(\"FB Prophet RMSE :\", fbp_rmse)\n",
        "print(\"XGBoost RMSE :\", xgb_rmse)\n",
        "\n",
        "print(\"\\nARIMAX MAE :\", arimax_mae)\n",
        "print(\"FB Prophet MAE :\", fbp_mae)\n",
        "print(\"XGBoost MAE :\", xgb_mae)"
      ],
      "execution_count": null,
      "outputs": []
    },
    {
      "cell_type": "markdown",
      "metadata": {
        "papermill": {
          "duration": 0.217411,
          "end_time": "2020-10-02T15:52:18.554795",
          "exception": false,
          "start_time": "2020-10-02T15:52:18.337384",
          "status": "completed"
        },
        "tags": [],
        "id": "x0KET4QvJ7n4"
      },
      "source": [
        "<a id=\"subsection-nine\"></a>\n",
        "# LSTM\n",
        "![LSTM.JPG](attachment:LSTM.JPG)"
      ]
    },
    {
      "cell_type": "markdown",
      "metadata": {
        "papermill": {
          "duration": 0.216612,
          "end_time": "2020-10-02T15:52:18.988956",
          "exception": false,
          "start_time": "2020-10-02T15:52:18.772344",
          "status": "completed"
        },
        "tags": [],
        "id": "wy5fokgHJ7n5"
      },
      "source": [
        "* **Long Short Term Memory networks** – usually just called “LSTMs” – are a special kind of RNN, capable of learning long-term dependencies. \n",
        "* LSTMs are explicitly designed to avoid the long-term dependency problem. Remembering information for long periods of time is practically their default behavior, not something they struggle to learn like RNNs!\n",
        "* All recurrent neural networks have the form of a chain of repeating modules of neural network. In standard RNNs, this repeating module will have a very simple structure, such as a single tanh layer.\n",
        "* Also, they don't suffer from problems like **vanishing/exploding gradient descent**. \n",
        "\n",
        "To master the theory, refer this amazing article [here](http://colah.github.io/posts/2015-08-Understanding-LSTMs/)"
      ]
    },
    {
      "cell_type": "code",
      "metadata": {
        "execution": {
          "iopub.execute_input": "2020-10-02T15:52:19.439591Z",
          "iopub.status.busy": "2020-10-02T15:52:19.438549Z",
          "iopub.status.idle": "2020-10-02T15:52:19.443212Z",
          "shell.execute_reply": "2020-10-02T15:52:19.442266Z"
        },
        "papermill": {
          "duration": 0.236889,
          "end_time": "2020-10-02T15:52:19.443369",
          "exception": false,
          "start_time": "2020-10-02T15:52:19.206480",
          "status": "completed"
        },
        "tags": [],
        "id": "q2K2ucXjJ7n5"
      },
      "source": [
        "price_series = bitstamp_daily.reset_index().adj_close.values\n",
        "price_series"
      ],
      "execution_count": null,
      "outputs": []
    },
    {
      "cell_type": "code",
      "metadata": {
        "execution": {
          "iopub.execute_input": "2020-10-02T15:52:19.959918Z",
          "iopub.status.busy": "2020-10-02T15:52:19.958816Z",
          "iopub.status.idle": "2020-10-02T15:52:19.963923Z",
          "shell.execute_reply": "2020-10-02T15:52:19.963046Z"
        },
        "papermill": {
          "duration": 0.265442,
          "end_time": "2020-10-02T15:52:19.964068",
          "exception": false,
          "start_time": "2020-10-02T15:52:19.698626",
          "status": "completed"
        },
        "tags": [],
        "id": "JMWoS00lJ7n5"
      },
      "source": [
        "price_series.shape"
      ],
      "execution_count": null,
      "outputs": []
    },
    {
      "cell_type": "code",
      "metadata": {
        "execution": {
          "iopub.execute_input": "2020-10-02T15:52:20.441436Z",
          "iopub.status.busy": "2020-10-02T15:52:20.440402Z",
          "iopub.status.idle": "2020-10-02T15:52:20.444310Z",
          "shell.execute_reply": "2020-10-02T15:52:20.443542Z"
        },
        "papermill": {
          "duration": 0.230796,
          "end_time": "2020-10-02T15:52:20.444439",
          "exception": false,
          "start_time": "2020-10-02T15:52:20.213643",
          "status": "completed"
        },
        "tags": [],
        "id": "o_SboNAqJ7n5"
      },
      "source": [
        "# Feature Scaling\n",
        "from sklearn.preprocessing import MinMaxScaler\n",
        "\n",
        "scaler = MinMaxScaler(feature_range = (0, 1))\n",
        "price_series_scaled = scaler.fit_transform(price_series.reshape(-1,1))"
      ],
      "execution_count": null,
      "outputs": []
    },
    {
      "cell_type": "code",
      "metadata": {
        "execution": {
          "iopub.execute_input": "2020-10-02T15:52:20.891551Z",
          "iopub.status.busy": "2020-10-02T15:52:20.890630Z",
          "iopub.status.idle": "2020-10-02T15:52:20.895328Z",
          "shell.execute_reply": "2020-10-02T15:52:20.894661Z"
        },
        "papermill": {
          "duration": 0.228432,
          "end_time": "2020-10-02T15:52:20.895474",
          "exception": false,
          "start_time": "2020-10-02T15:52:20.667042",
          "status": "completed"
        },
        "tags": [],
        "id": "ILYZgDgXJ7n6"
      },
      "source": [
        "price_series_scaled, price_series_scaled.shape"
      ],
      "execution_count": null,
      "outputs": []
    },
    {
      "cell_type": "code",
      "metadata": {
        "execution": {
          "iopub.execute_input": "2020-10-02T15:52:21.342868Z",
          "iopub.status.busy": "2020-10-02T15:52:21.342044Z",
          "iopub.status.idle": "2020-10-02T15:52:21.345059Z",
          "shell.execute_reply": "2020-10-02T15:52:21.344321Z"
        },
        "papermill": {
          "duration": 0.230368,
          "end_time": "2020-10-02T15:52:21.345184",
          "exception": false,
          "start_time": "2020-10-02T15:52:21.114816",
          "status": "completed"
        },
        "tags": [],
        "id": "KbOB8EUYJ7n6"
      },
      "source": [
        "#train_data, test_data = price_series_scaled[0:2923], price_series_scaled[2923:]"
      ],
      "execution_count": null,
      "outputs": []
    },
    {
      "cell_type": "code",
      "metadata": {
        "id": "F5LKmsIxhVK9"
      },
      "source": [
        "train_data, test_data = price_series_scaled[0:2100], price_series_scaled[2100:]"
      ],
      "execution_count": null,
      "outputs": []
    },
    {
      "cell_type": "code",
      "metadata": {
        "execution": {
          "iopub.execute_input": "2020-10-02T15:52:21.798974Z",
          "iopub.status.busy": "2020-10-02T15:52:21.797830Z",
          "iopub.status.idle": "2020-10-02T15:52:21.803167Z",
          "shell.execute_reply": "2020-10-02T15:52:21.802522Z"
        },
        "papermill": {
          "duration": 0.238198,
          "end_time": "2020-10-02T15:52:21.803300",
          "exception": false,
          "start_time": "2020-10-02T15:52:21.565102",
          "status": "completed"
        },
        "tags": [],
        "id": "v5piiFbjJ7n6"
      },
      "source": [
        "test_data"
      ],
      "execution_count": null,
      "outputs": []
    },
    {
      "cell_type": "code",
      "metadata": {
        "execution": {
          "iopub.execute_input": "2020-10-02T15:52:22.293541Z",
          "iopub.status.busy": "2020-10-02T15:52:22.292481Z",
          "iopub.status.idle": "2020-10-02T15:52:22.295893Z",
          "shell.execute_reply": "2020-10-02T15:52:22.295282Z"
        },
        "papermill": {
          "duration": 0.245843,
          "end_time": "2020-10-02T15:52:22.296011",
          "exception": false,
          "start_time": "2020-10-02T15:52:22.050168",
          "status": "completed"
        },
        "tags": [],
        "id": "h3IV6XdUJ7n6"
      },
      "source": [
        "train_data = train_data.reshape(-1,1)\n",
        "test_data = test_data.reshape(-1,1)"
      ],
      "execution_count": null,
      "outputs": []
    },
    {
      "cell_type": "code",
      "metadata": {
        "execution": {
          "iopub.execute_input": "2020-10-02T15:52:22.774541Z",
          "iopub.status.busy": "2020-10-02T15:52:22.773740Z",
          "iopub.status.idle": "2020-10-02T15:52:22.778260Z",
          "shell.execute_reply": "2020-10-02T15:52:22.777532Z"
        },
        "papermill": {
          "duration": 0.259746,
          "end_time": "2020-10-02T15:52:22.778382",
          "exception": false,
          "start_time": "2020-10-02T15:52:22.518636",
          "status": "completed"
        },
        "tags": [],
        "id": "aH1QL96aJ7n6"
      },
      "source": [
        "train_data.shape, test_data.shape"
      ],
      "execution_count": null,
      "outputs": []
    },
    {
      "cell_type": "code",
      "metadata": {
        "execution": {
          "iopub.execute_input": "2020-10-02T15:52:23.233921Z",
          "iopub.status.busy": "2020-10-02T15:52:23.232847Z",
          "iopub.status.idle": "2020-10-02T15:52:23.236236Z",
          "shell.execute_reply": "2020-10-02T15:52:23.235675Z"
        },
        "papermill": {
          "duration": 0.236017,
          "end_time": "2020-10-02T15:52:23.236357",
          "exception": false,
          "start_time": "2020-10-02T15:52:23.000340",
          "status": "completed"
        },
        "tags": [],
        "id": "r7KIYd3jJ7n7"
      },
      "source": [
        "def windowed_dataset(series, time_step):\n",
        "    dataX, dataY = [], []\n",
        "    for i in range(len(series)- time_step-1):\n",
        "        a = series[i : (i+time_step), 0]\n",
        "        dataX.append(a)\n",
        "        dataY.append(series[i+ time_step, 0])\n",
        "        \n",
        "    return np.array(dataX), np.array(dataY)"
      ],
      "execution_count": null,
      "outputs": []
    },
    {
      "cell_type": "code",
      "metadata": {
        "execution": {
          "iopub.execute_input": "2020-10-02T15:52:23.690671Z",
          "iopub.status.busy": "2020-10-02T15:52:23.689580Z",
          "iopub.status.idle": "2020-10-02T15:52:23.697778Z",
          "shell.execute_reply": "2020-10-02T15:52:23.697148Z"
        },
        "papermill": {
          "duration": 0.238401,
          "end_time": "2020-10-02T15:52:23.697900",
          "exception": false,
          "start_time": "2020-10-02T15:52:23.459499",
          "status": "completed"
        },
        "tags": [],
        "id": "r8wpJVdVJ7n7"
      },
      "source": [
        "X_train, y_train = windowed_dataset(train_data, time_step=100)\n",
        "X_test, y_test = windowed_dataset(test_data, time_step=100)"
      ],
      "execution_count": null,
      "outputs": []
    },
    {
      "cell_type": "code",
      "metadata": {
        "execution": {
          "iopub.execute_input": "2020-10-02T15:52:24.147822Z",
          "iopub.status.busy": "2020-10-02T15:52:24.146978Z",
          "iopub.status.idle": "2020-10-02T15:52:24.151303Z",
          "shell.execute_reply": "2020-10-02T15:52:24.150736Z"
        },
        "papermill": {
          "duration": 0.232343,
          "end_time": "2020-10-02T15:52:24.151427",
          "exception": false,
          "start_time": "2020-10-02T15:52:23.919084",
          "status": "completed"
        },
        "tags": [],
        "id": "c2r1x8QDJ7n7"
      },
      "source": [
        "X_train.shape, y_train.shape, X_test.shape, y_test.shape"
      ],
      "execution_count": null,
      "outputs": []
    },
    {
      "cell_type": "code",
      "metadata": {
        "execution": {
          "iopub.execute_input": "2020-10-02T15:52:24.604711Z",
          "iopub.status.busy": "2020-10-02T15:52:24.603755Z",
          "iopub.status.idle": "2020-10-02T15:52:24.607345Z",
          "shell.execute_reply": "2020-10-02T15:52:24.608126Z"
        },
        "papermill": {
          "duration": 0.234365,
          "end_time": "2020-10-02T15:52:24.608321",
          "exception": false,
          "start_time": "2020-10-02T15:52:24.373956",
          "status": "completed"
        },
        "tags": [],
        "id": "Q68lw72SJ7n7"
      },
      "source": [
        "#reshape inputs to be [samples, timesteps, features] which is requred for LSTM\n",
        "\n",
        "X_train = X_train.reshape(X_train.shape[0], X_train.shape[1], 1)\n",
        "X_test = X_test.reshape(X_test.shape[0], X_test.shape[1], 1)\n",
        "\n",
        "\n",
        "print(X_train.shape) \n",
        "print(X_test.shape)"
      ],
      "execution_count": null,
      "outputs": []
    },
    {
      "cell_type": "code",
      "metadata": {
        "execution": {
          "iopub.execute_input": "2020-10-02T15:52:25.057220Z",
          "iopub.status.busy": "2020-10-02T15:52:25.056512Z",
          "iopub.status.idle": "2020-10-02T15:52:25.059421Z",
          "shell.execute_reply": "2020-10-02T15:52:25.060041Z"
        },
        "papermill": {
          "duration": 0.229414,
          "end_time": "2020-10-02T15:52:25.060190",
          "exception": false,
          "start_time": "2020-10-02T15:52:24.830776",
          "status": "completed"
        },
        "tags": [],
        "id": "1PrxDr90J7n7"
      },
      "source": [
        "print(y_train.shape) \n",
        "print(y_test.shape)"
      ],
      "execution_count": null,
      "outputs": []
    },
    {
      "cell_type": "code",
      "metadata": {
        "execution": {
          "iopub.execute_input": "2020-10-02T15:52:25.514220Z",
          "iopub.status.busy": "2020-10-02T15:52:25.513432Z",
          "iopub.status.idle": "2020-10-02T15:52:30.817910Z",
          "shell.execute_reply": "2020-10-02T15:52:30.817228Z"
        },
        "papermill": {
          "duration": 5.534598,
          "end_time": "2020-10-02T15:52:30.818039",
          "exception": false,
          "start_time": "2020-10-02T15:52:25.283441",
          "status": "completed"
        },
        "tags": [],
        "id": "wdn6XuH6J7n8"
      },
      "source": [
        "#Create Stacked LSTM Model\n",
        "\n",
        "from tensorflow.keras.models import Sequential\n",
        "from tensorflow.keras.layers import Dense\n",
        "from tensorflow.keras.layers import LSTM\n",
        "from tensorflow.keras.layers import Dropout"
      ],
      "execution_count": null,
      "outputs": []
    },
    {
      "cell_type": "code",
      "metadata": {
        "execution": {
          "iopub.execute_input": "2020-10-02T15:52:31.285220Z",
          "iopub.status.busy": "2020-10-02T15:52:31.284281Z",
          "iopub.status.idle": "2020-10-02T15:52:32.480094Z",
          "shell.execute_reply": "2020-10-02T15:52:32.479469Z"
        },
        "papermill": {
          "duration": 1.433494,
          "end_time": "2020-10-02T15:52:32.480228",
          "exception": false,
          "start_time": "2020-10-02T15:52:31.046734",
          "status": "completed"
        },
        "tags": [],
        "id": "y9WFsOQQJ7n8"
      },
      "source": [
        "# Initialising the LSTM\n",
        "regressor = Sequential()\n",
        "\n",
        "# Adding the first LSTM layer and some Dropout regularisation\n",
        "regressor.add(LSTM(units = 50, return_sequences = True, input_shape = (X_train.shape[1], 1)))\n",
        "regressor.add(Dropout(0.2))\n",
        "\n",
        "# Adding a second LSTM layer and some Dropout regularisation\n",
        "regressor.add(LSTM(units = 50, return_sequences = True))\n",
        "regressor.add(Dropout(0.2))\n",
        "\n",
        "# Adding a third LSTM layer and some Dropout regularisation\n",
        "regressor.add(LSTM(units = 50, return_sequences = True))\n",
        "regressor.add(Dropout(0.2))\n",
        "\n",
        "# Adding a fourth LSTM layer and some Dropout regularisation\n",
        "regressor.add(LSTM(units = 50))\n",
        "regressor.add(Dropout(0.2))\n",
        "\n",
        "# Adding the output layer\n",
        "regressor.add(Dense(units = 1))\n",
        "\n",
        "# Compiling the RNN\n",
        "regressor.compile(optimizer = 'adam', loss = 'mean_squared_error')"
      ],
      "execution_count": null,
      "outputs": []
    },
    {
      "cell_type": "code",
      "metadata": {
        "execution": {
          "iopub.execute_input": "2020-10-02T15:52:32.938317Z",
          "iopub.status.busy": "2020-10-02T15:52:32.937582Z",
          "iopub.status.idle": "2020-10-02T15:52:32.944152Z",
          "shell.execute_reply": "2020-10-02T15:52:32.943579Z"
        },
        "papermill": {
          "duration": 0.237908,
          "end_time": "2020-10-02T15:52:32.944275",
          "exception": false,
          "start_time": "2020-10-02T15:52:32.706367",
          "status": "completed"
        },
        "tags": [],
        "id": "0zq8wYqgJ7n8"
      },
      "source": [
        "regressor.summary()"
      ],
      "execution_count": null,
      "outputs": []
    },
    {
      "cell_type": "code",
      "metadata": {
        "execution": {
          "iopub.execute_input": "2020-10-02T15:52:33.405389Z",
          "iopub.status.busy": "2020-10-02T15:52:33.404615Z",
          "iopub.status.idle": "2020-10-02T16:06:08.194155Z",
          "shell.execute_reply": "2020-10-02T16:06:08.194933Z"
        },
        "papermill": {
          "duration": 815.024172,
          "end_time": "2020-10-02T16:06:08.195159",
          "exception": false,
          "start_time": "2020-10-02T15:52:33.170987",
          "status": "completed"
        },
        "tags": [],
        "id": "vgrJ9AtwJ7n8"
      },
      "source": [
        "%time\n",
        "\n",
        "#Note - \n",
        "# Fitting the RNN to the Training set\n",
        "history = regressor.fit(X_train, y_train, validation_split=0.1, epochs = 50, batch_size = 32, verbose=1, shuffle=False)"
      ],
      "execution_count": null,
      "outputs": []
    },
    {
      "cell_type": "code",
      "metadata": {
        "execution": {
          "iopub.execute_input": "2020-10-02T16:06:11.931795Z",
          "iopub.status.busy": "2020-10-02T16:06:11.930696Z",
          "iopub.status.idle": "2020-10-02T16:06:12.163818Z",
          "shell.execute_reply": "2020-10-02T16:06:12.163095Z"
        },
        "papermill": {
          "duration": 2.129914,
          "end_time": "2020-10-02T16:06:12.163950",
          "exception": false,
          "start_time": "2020-10-02T16:06:10.034036",
          "status": "completed"
        },
        "tags": [],
        "id": "7rxdVP7aJ7n9"
      },
      "source": [
        "plt.figure(figsize=(16,7))\n",
        "plt.plot(history.history[\"loss\"], label= \"train loss\")\n",
        "plt.plot(history.history[\"val_loss\"], label= \"validation loss\")\n",
        "plt.legend()"
      ],
      "execution_count": null,
      "outputs": []
    },
    {
      "cell_type": "code",
      "metadata": {
        "execution": {
          "iopub.execute_input": "2020-10-02T16:06:15.854692Z",
          "iopub.status.busy": "2020-10-02T16:06:15.853822Z",
          "iopub.status.idle": "2020-10-02T16:06:21.635410Z",
          "shell.execute_reply": "2020-10-02T16:06:21.634641Z"
        },
        "papermill": {
          "duration": 7.628924,
          "end_time": "2020-10-02T16:06:21.635553",
          "exception": false,
          "start_time": "2020-10-02T16:06:14.006629",
          "status": "completed"
        },
        "tags": [],
        "id": "aQDGB4cNJ7n9"
      },
      "source": [
        "#Lets do the prediction and performance checking\n",
        "\n",
        "train_predict = regressor.predict(X_train)\n",
        "test_predict = regressor.predict(X_test)"
      ],
      "execution_count": null,
      "outputs": []
    },
    {
      "cell_type": "code",
      "metadata": {
        "execution": {
          "iopub.execute_input": "2020-10-02T16:06:25.396555Z",
          "iopub.status.busy": "2020-10-02T16:06:25.395739Z",
          "iopub.status.idle": "2020-10-02T16:06:25.398650Z",
          "shell.execute_reply": "2020-10-02T16:06:25.399175Z"
        },
        "papermill": {
          "duration": 1.922589,
          "end_time": "2020-10-02T16:06:25.399331",
          "exception": false,
          "start_time": "2020-10-02T16:06:23.476742",
          "status": "completed"
        },
        "tags": [],
        "id": "BTBfMUJtJ7n9"
      },
      "source": [
        "#transformation to original form\n",
        "\n",
        "y_train_inv = scaler.inverse_transform(y_train.reshape(-1, 1))\n",
        "y_test_inv = scaler.inverse_transform(y_test.reshape(-1, 1))\n",
        "train_predict_inv = scaler.inverse_transform(train_predict)\n",
        "test_predict_inv = scaler.inverse_transform(test_predict)"
      ],
      "execution_count": null,
      "outputs": []
    },
    {
      "cell_type": "code",
      "metadata": {
        "execution": {
          "iopub.execute_input": "2020-10-02T16:06:29.284530Z",
          "iopub.status.busy": "2020-10-02T16:06:29.283718Z",
          "iopub.status.idle": "2020-10-02T16:06:29.542708Z",
          "shell.execute_reply": "2020-10-02T16:06:29.542107Z"
        },
        "papermill": {
          "duration": 2.185843,
          "end_time": "2020-10-02T16:06:29.542838",
          "exception": false,
          "start_time": "2020-10-02T16:06:27.356995",
          "status": "completed"
        },
        "tags": [],
        "id": "oX48kDiVJ7n9"
      },
      "source": [
        "plt.figure(figsize=(16,7))\n",
        "plt.plot(y_train_inv.flatten(), marker='.', label=\"Actual\")\n",
        "plt.plot(train_predict_inv.flatten(), 'r', marker='.', label=\"Predicted\")\n",
        "plt.legend()"
      ],
      "execution_count": null,
      "outputs": []
    },
    {
      "cell_type": "code",
      "metadata": {
        "execution": {
          "iopub.execute_input": "2020-10-02T16:06:33.306286Z",
          "iopub.status.busy": "2020-10-02T16:06:33.304963Z",
          "iopub.status.idle": "2020-10-02T16:06:33.549481Z",
          "shell.execute_reply": "2020-10-02T16:06:33.550059Z"
        },
        "papermill": {
          "duration": 2.11178,
          "end_time": "2020-10-02T16:06:33.550223",
          "exception": false,
          "start_time": "2020-10-02T16:06:31.438443",
          "status": "completed"
        },
        "tags": [],
        "id": "VqT4a3XJJ7n-"
      },
      "source": [
        "plt.figure(figsize=(16,7))\n",
        "plt.plot(y_test_inv.flatten(), marker='.', label=\"Actual\")\n",
        "plt.plot(test_predict_inv.flatten(), 'r', marker='.', label=\"Predicted\")\n",
        "plt.legend()"
      ],
      "execution_count": null,
      "outputs": []
    },
    {
      "cell_type": "code",
      "metadata": {
        "execution": {
          "iopub.execute_input": "2020-10-02T16:06:37.412899Z",
          "iopub.status.busy": "2020-10-02T16:06:37.411998Z",
          "iopub.status.idle": "2020-10-02T16:06:37.417006Z",
          "shell.execute_reply": "2020-10-02T16:06:37.416086Z"
        },
        "papermill": {
          "duration": 1.949493,
          "end_time": "2020-10-02T16:06:37.417177",
          "exception": false,
          "start_time": "2020-10-02T16:06:35.467684",
          "status": "completed"
        },
        "tags": [],
        "id": "SmXU17_GJ7n-"
      },
      "source": [
        "from sklearn.metrics import mean_absolute_error, mean_squared_error\n",
        "\n",
        "train_RMSE = np.sqrt(mean_squared_error(y_train, train_predict))\n",
        "test_RMSE = np.sqrt(mean_squared_error(y_test, test_predict))\n",
        "train_MAE = np.sqrt(mean_absolute_error(y_train, train_predict))\n",
        "test_MAE = np.sqrt(mean_absolute_error(y_test, test_predict))\n",
        "\n",
        "\n",
        "print(f\"Train RMSE: {train_RMSE}\")\n",
        "print(f\"Train MAE: {train_MAE}\")\n",
        "\n",
        "print(f\"Test RMSE: {test_RMSE}\")\n",
        "print(f\"Test MAE: {test_MAE}\")"
      ],
      "execution_count": null,
      "outputs": []
    },
    {
      "cell_type": "markdown",
      "metadata": {
        "papermill": {
          "duration": 1.953637,
          "end_time": "2020-10-02T16:06:41.274289",
          "exception": false,
          "start_time": "2020-10-02T16:06:39.320652",
          "status": "completed"
        },
        "tags": [],
        "id": "b9HpRTwaJ7n-"
      },
      "source": [
        "<a id=\"section-seven\"></a>\n",
        "# Model Selection and Prediction\n",
        "\n",
        "We observed remarkable results using LSTMs. They really work a lot better for most sequence tasks! \n",
        "\n",
        "Let's predict weighted price for next 30 days. "
      ]
    },
    {
      "cell_type": "code",
      "metadata": {
        "execution": {
          "iopub.execute_input": "2020-10-02T16:06:44.983224Z",
          "iopub.status.busy": "2020-10-02T16:06:44.981910Z",
          "iopub.status.idle": "2020-10-02T16:06:44.987063Z",
          "shell.execute_reply": "2020-10-02T16:06:44.986279Z"
        },
        "papermill": {
          "duration": 1.856967,
          "end_time": "2020-10-02T16:06:44.987192",
          "exception": false,
          "start_time": "2020-10-02T16:06:43.130225",
          "status": "completed"
        },
        "tags": [],
        "id": "l3fyNm7jJ7oA"
      },
      "source": [
        "test_data.shape"
      ],
      "execution_count": null,
      "outputs": []
    },
    {
      "cell_type": "code",
      "metadata": {
        "execution": {
          "iopub.execute_input": "2020-10-02T16:06:48.780095Z",
          "iopub.status.busy": "2020-10-02T16:06:48.779217Z",
          "iopub.status.idle": "2020-10-02T16:06:48.783385Z",
          "shell.execute_reply": "2020-10-02T16:06:48.782806Z"
        },
        "papermill": {
          "duration": 1.855348,
          "end_time": "2020-10-02T16:06:48.783530",
          "exception": false,
          "start_time": "2020-10-02T16:06:46.928182",
          "status": "completed"
        },
        "tags": [],
        "id": "53UzcJtEJ7oA"
      },
      "source": [
        "lookback = len(test_data) - 100\n",
        "x_input=test_data[lookback:].reshape(1,-1)\n",
        "x_input.shape"
      ],
      "execution_count": null,
      "outputs": []
    },
    {
      "cell_type": "code",
      "metadata": {
        "execution": {
          "iopub.execute_input": "2020-10-02T16:06:52.523271Z",
          "iopub.status.busy": "2020-10-02T16:06:52.522329Z",
          "iopub.status.idle": "2020-10-02T16:06:52.527568Z",
          "shell.execute_reply": "2020-10-02T16:06:52.526933Z"
        },
        "papermill": {
          "duration": 1.893687,
          "end_time": "2020-10-02T16:06:52.527709",
          "exception": false,
          "start_time": "2020-10-02T16:06:50.634022",
          "status": "completed"
        },
        "tags": [],
        "id": "Tg4uqfXCJ7oA"
      },
      "source": [
        "x_input"
      ],
      "execution_count": null,
      "outputs": []
    },
    {
      "cell_type": "code",
      "metadata": {
        "execution": {
          "iopub.execute_input": "2020-10-02T16:06:56.312325Z",
          "iopub.status.busy": "2020-10-02T16:06:56.311443Z",
          "iopub.status.idle": "2020-10-02T16:06:56.316297Z",
          "shell.execute_reply": "2020-10-02T16:06:56.315565Z"
        },
        "papermill": {
          "duration": 1.938216,
          "end_time": "2020-10-02T16:06:56.316421",
          "exception": false,
          "start_time": "2020-10-02T16:06:54.378205",
          "status": "completed"
        },
        "tags": [],
        "id": "tdylSO9iJ7oB"
      },
      "source": [
        "lookback, len(test_data)"
      ],
      "execution_count": null,
      "outputs": []
    },
    {
      "cell_type": "code",
      "metadata": {
        "execution": {
          "iopub.execute_input": "2020-10-02T16:07:00.027176Z",
          "iopub.status.busy": "2020-10-02T16:07:00.026259Z",
          "iopub.status.idle": "2020-10-02T16:07:00.030957Z",
          "shell.execute_reply": "2020-10-02T16:07:00.030230Z"
        },
        "papermill": {
          "duration": 1.864023,
          "end_time": "2020-10-02T16:07:00.031084",
          "exception": false,
          "start_time": "2020-10-02T16:06:58.167061",
          "status": "completed"
        },
        "tags": [],
        "id": "P8yYBjlEJ7oB"
      },
      "source": [
        "temp_input=list(x_input)\n",
        "temp_input=temp_input[0].tolist()\n",
        "temp_input"
      ],
      "execution_count": null,
      "outputs": []
    },
    {
      "cell_type": "code",
      "metadata": {
        "execution": {
          "iopub.execute_input": "2020-10-02T16:07:03.787359Z",
          "iopub.status.busy": "2020-10-02T16:07:03.786570Z",
          "iopub.status.idle": "2020-10-02T16:07:03.791239Z",
          "shell.execute_reply": "2020-10-02T16:07:03.790597Z"
        },
        "papermill": {
          "duration": 1.908601,
          "end_time": "2020-10-02T16:07:03.791354",
          "exception": false,
          "start_time": "2020-10-02T16:07:01.882753",
          "status": "completed"
        },
        "tags": [],
        "id": "F9erAhtuJ7oB"
      },
      "source": [
        "len(temp_input)"
      ],
      "execution_count": null,
      "outputs": []
    },
    {
      "cell_type": "code",
      "metadata": {
        "execution": {
          "iopub.execute_input": "2020-10-02T16:07:07.574211Z",
          "iopub.status.busy": "2020-10-02T16:07:07.573127Z",
          "iopub.status.idle": "2020-10-02T16:07:09.545665Z",
          "shell.execute_reply": "2020-10-02T16:07:09.544389Z"
        },
        "papermill": {
          "duration": 3.858336,
          "end_time": "2020-10-02T16:07:09.545847",
          "exception": false,
          "start_time": "2020-10-02T16:07:05.687511",
          "status": "completed"
        },
        "tags": [],
        "id": "m1mcj7v1J7oC"
      },
      "source": [
        "# demonstrate prediction for next 100 days\n",
        "from numpy import array\n",
        "\n",
        "lst_output=[]\n",
        "n_steps=100\n",
        "i=0\n",
        "while(i<30):\n",
        "    \n",
        "    if(len(temp_input)>100):\n",
        "        #print(temp_input)\n",
        "        x_input=np.array(temp_input[1:])\n",
        "        print(\"{} day input {}\".format(i,x_input))\n",
        "        x_input=x_input.reshape(1,-1)\n",
        "        x_input = x_input.reshape((1, n_steps, 1))\n",
        "        #print(x_input)\n",
        "        yhat = regressor.predict(x_input, verbose=0)\n",
        "        print(\"{} day output {}\".format(i,yhat))\n",
        "        temp_input.extend(yhat[0].tolist())\n",
        "        temp_input=temp_input[1:]\n",
        "        #print(temp_input)\n",
        "        lst_output.extend(yhat.tolist())\n",
        "        i=i+1\n",
        "    else:\n",
        "        x_input = x_input.reshape((1, n_steps,1))\n",
        "        yhat = regressor.predict(x_input, verbose=0)\n",
        "        print(yhat[0])\n",
        "        temp_input.extend(yhat[0].tolist())\n",
        "        print(len(temp_input))\n",
        "        lst_output.extend(yhat.tolist())\n",
        "        i=i+1\n",
        "    \n",
        "\n",
        "print(lst_output)"
      ],
      "execution_count": null,
      "outputs": []
    },
    {
      "cell_type": "code",
      "metadata": {
        "execution": {
          "iopub.execute_input": "2020-10-02T16:07:13.355901Z",
          "iopub.status.busy": "2020-10-02T16:07:13.354776Z",
          "iopub.status.idle": "2020-10-02T16:07:13.359101Z",
          "shell.execute_reply": "2020-10-02T16:07:13.358313Z"
        },
        "papermill": {
          "duration": 1.954867,
          "end_time": "2020-10-02T16:07:13.359237",
          "exception": false,
          "start_time": "2020-10-02T16:07:11.404370",
          "status": "completed"
        },
        "tags": [],
        "id": "Rzkc-R2mJ7oC"
      },
      "source": [
        "len(price_series_scaled)"
      ],
      "execution_count": null,
      "outputs": []
    },
    {
      "cell_type": "code",
      "metadata": {
        "execution": {
          "iopub.execute_input": "2020-10-02T16:07:17.137679Z",
          "iopub.status.busy": "2020-10-02T16:07:17.136544Z",
          "iopub.status.idle": "2020-10-02T16:07:17.745477Z",
          "shell.execute_reply": "2020-10-02T16:07:17.744817Z"
        },
        "papermill": {
          "duration": 2.475178,
          "end_time": "2020-10-02T16:07:17.745616",
          "exception": false,
          "start_time": "2020-10-02T16:07:15.270438",
          "status": "completed"
        },
        "tags": [],
        "id": "Dcm1pNrFJ7oC"
      },
      "source": [
        "df_=price_series_scaled.tolist()\n",
        "df_.extend(lst_output)\n",
        "plt.plot(df_)"
      ],
      "execution_count": null,
      "outputs": []
    },
    {
      "cell_type": "code",
      "metadata": {
        "execution": {
          "iopub.execute_input": "2020-10-02T16:07:21.528912Z",
          "iopub.status.busy": "2020-10-02T16:07:21.528136Z",
          "iopub.status.idle": "2020-10-02T16:07:21.747544Z",
          "shell.execute_reply": "2020-10-02T16:07:21.748130Z"
        },
        "papermill": {
          "duration": 2.093206,
          "end_time": "2020-10-02T16:07:21.748287",
          "exception": false,
          "start_time": "2020-10-02T16:07:19.655081",
          "status": "completed"
        },
        "tags": [],
        "id": "-bDwq2nBJ7oD"
      },
      "source": [
        "plt.figure(figsize=(14,7))\n",
        "df_invscaled=scaler.inverse_transform(df_).tolist()\n",
        "plt.plot(df_invscaled)"
      ],
      "execution_count": null,
      "outputs": []
    },
    {
      "cell_type": "markdown",
      "metadata": {
        "papermill": {
          "duration": 1.897028,
          "end_time": "2020-10-02T16:07:25.519685",
          "exception": false,
          "start_time": "2020-10-02T16:07:23.622657",
          "status": "completed"
        },
        "tags": [],
        "id": "YrjHx2y6J7oD"
      },
      "source": [
        "<a id=\"section-eight\"></a>\n",
        "# Next Steps\n",
        "\n",
        "- We can increase the number of epochs to refine our model performance, you can increase epochs to 100 and can the results. Also, number of lag features can be increased beyond 100 to help learning the model. \n",
        "- I will use  LSTM Autoencoders for Anomaly Detection in Time Series.\n",
        "\n",
        "Please keep an eye on this notebook and ***Upvote*** if you learnt something new from this :)"
      ]
    },
    {
      "cell_type": "code",
      "metadata": {
        "id": "olNDhoHg1CWJ"
      },
      "source": [],
      "execution_count": null,
      "outputs": []
    }
  ]
}